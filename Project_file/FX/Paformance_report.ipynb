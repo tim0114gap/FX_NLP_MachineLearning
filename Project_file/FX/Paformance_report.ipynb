{
 "cells": [
  {
   "cell_type": "markdown",
   "metadata": {},
   "source": [
    "### LSTM_MA_5"
   ]
  },
  {
   "cell_type": "markdown",
   "metadata": {},
   "source": [
    "##### (param)\n",
    "* input_shape (5 * 5)\n",
    "* one hot encoding categorical\n",
    "* hidden_layer : 100\n",
    "* Drop_out : 0.25\n",
    "* Layer : LSTM(hidden_layer) , Dense(50)\n",
    "* Activation_function : (sigmoid, softmax)\n",
    "* Optimizer : Adam(lr=0.001)\n",
    "* Loss_function : categorical_crossentropy\n",
    "* batch_size : 16\n",
    "* epoch : 200\n",
    "* validation_split : 0.2\n",
    "\n",
    "===Test accuracy: 0.8060==="
   ]
  },
  {
   "cell_type": "markdown",
   "metadata": {},
   "source": [
    "##### (param).Copy1\n",
    "* input_shape (5 * 5)\n",
    "* (-)one hot encoding categorical\n",
    "* hidden_layer : 100\n",
    "* Drop_out : 0.25\n",
    "* Layer : LSTM(hidden_layer) , Dense(50)\n",
    "* Activation_function : (sigmoid, softmax)\n",
    "* Optimizer : Adam(lr=0.001)\n",
    "* (+)Loss_function : sparse_categorical_crossentropy\n",
    "* batch_size : 16\n",
    "* epoch : 200\n",
    "* validation_split : 0.2\n",
    "\n",
    "===Test accuracy: 0.8507==="
   ]
  },
  {
   "cell_type": "markdown",
   "metadata": {},
   "source": [
    "##### (param).Copy2\n",
    "* input_shape (5 * 5)\n",
    "* (-)one hot encoding categorical\n",
    "* hidden_layer : 100\n",
    "* Drop_out : 0.25\n",
    "* Layer : LSTM(hidden_layer) , Dense(50)\n",
    "* (+)Activation_function : (relu, softmax)\n",
    "* Optimizer : Adam(lr=0.001)\n",
    "* Loss_function : sparse_categorical_crossentropy\n",
    "* batch_size : 16\n",
    "* epoch : 200\n",
    "* validation_split : 0.2\n",
    "\n",
    "===Test accuracy: 0.8284==="
   ]
  },
  {
   "cell_type": "markdown",
   "metadata": {},
   "source": [
    "##### (param).Copy3\n",
    "* input_shape (5 * 5)\n",
    "* (-)one hot encoding categorical\n",
    "* hidden_layer : 100\n",
    "* Drop_out : 0.25\n",
    "* Layer : LSTM(hidden_layer) , Dense(100) ,Dense(50)\n",
    "* (+)Activation_function : (LeakyReLU, softmax)\n",
    "* Optimizer : Adam(lr=0.001)\n",
    "* Loss_function : sparse_categorical_crossentropy\n",
    "* batch_size : 16\n",
    "* epoch : 200\n",
    "* validation_split : 0.2\n",
    "\n",
    "===Test accuracy: 0.8284==="
   ]
  },
  {
   "cell_type": "markdown",
   "metadata": {},
   "source": [
    "##### (param).Copy4\n",
    "* (+)input_shape (5 * 1)\n",
    "* (-)one hot encoding categorical\n",
    "* hidden_layer : 100\n",
    "* Drop_out : 0.25\n",
    "* Layer : LSTM(hidden_layer) , Dense(100) ,Dense(50)\n",
    "* Activation_function : (LeakyReLU, softmax)\n",
    "* Optimizer : Adam(lr=0.001)\n",
    "* Loss_function : sparse_categorical_crossentropy\n",
    "* batch_size : 16\n",
    "* epoch : 200\n",
    "* validation_split : 0.2\n",
    "\n",
    "===Test accuracy: 0.7985==="
   ]
  },
  {
   "cell_type": "markdown",
   "metadata": {},
   "source": [
    "##### (param).Copy5\n",
    "* (+)input_shape (5 * 1)\n",
    "* (+)one hot encoding categorical\n",
    "* hidden_layer : 100\n",
    "* Drop_out : 0.25\n",
    "* Layer : LSTM(hidden_layer) ,Dense(50)\n",
    "* (+)Activation_function : (sigmoid, softmax)\n",
    "* Optimizer : Adam(lr=0.001)\n",
    "* (+)Loss_function : categorical_crossentropy\n",
    "* batch_size : 16\n",
    "* epoch : 200\n",
    "* validation_split : 0.2\n",
    "\n",
    "===Test accuracy: 0.8209==="
   ]
  },
  {
   "cell_type": "markdown",
   "metadata": {},
   "source": [
    "### LSTM_MA_25"
   ]
  },
  {
   "cell_type": "markdown",
   "metadata": {},
   "source": [
    "##### (param)\n",
    "* input_shape (5 * 5)\n",
    "* one hot encoding categorical\n",
    "* hidden_layer : 100\n",
    "* Drop_out : 0.25\n",
    "* Layer : LSTM(hidden_layer) , Dense(50)\n",
    "* Activation_function : (sigmoid, softmax)\n",
    "* Optimizer : Adam(lr=0.001)\n",
    "* Loss_function : categorical_crossentropy\n",
    "* batch_size : 16\n",
    "* epoch : 200\n",
    "* validation_split : 0.2\n",
    "\n",
    "===Test accuracy: 0.7719==="
   ]
  },
  {
   "cell_type": "markdown",
   "metadata": {},
   "source": [
    "##### (param).Copy1\n",
    "* input_shape (5 * 5)\n",
    "* (-)one hot encoding categorical\n",
    "* hidden_layer : 100\n",
    "* Drop_out : 0.25\n",
    "* Layer : LSTM(hidden_layer) , Dense(50)\n",
    "* Activation_function : (sigmoid, softmax)\n",
    "* Optimizer : Adam(lr=0.001)\n",
    "* (+)Loss_function : sparse_categorical_crossentropy\n",
    "* batch_size : 16\n",
    "* epoch : 200\n",
    "* validation_split : 0.2\n",
    "\n",
    "===Test accuracy: 0.8070==="
   ]
  },
  {
   "cell_type": "markdown",
   "metadata": {},
   "source": [
    "### LSTM_MA_100"
   ]
  },
  {
   "cell_type": "markdown",
   "metadata": {},
   "source": [
    "##### (param)\n",
    "* input_shape (5 * 5)\n",
    "* one hot encoding categorical\n",
    "* hidden_layer : 100\n",
    "* Drop_out : 0.25\n",
    "* Layer : LSTM(hidden_layer) , Dense(50)\n",
    "* Activation_function : (sigmoid, softmax)\n",
    "* Optimizer : Adam(lr=0.001)\n",
    "* Loss_function : categorical_crossentropy\n",
    "* batch_size : 16\n",
    "* epoch : 200\n",
    "* validation_split : 0.2\n",
    "\n",
    "===Test accuracy: 0.8718==="
   ]
  },
  {
   "cell_type": "markdown",
   "metadata": {},
   "source": [
    "##### (param).Copy1\n",
    "* input_shape (5 * 5)\n",
    "* (-)one hot encoding categorical\n",
    "* hidden_layer : 100\n",
    "* Drop_out : 0.25\n",
    "* Layer : LSTM(hidden_layer) , Dense(50)\n",
    "* Activation_function : (sigmoid, softmax)\n",
    "* Optimizer : Adam(lr=0.001)\n",
    "* (+)Loss_function : sparse_categorical_crossentropy\n",
    "* batch_size : 16\n",
    "* epoch : 200\n",
    "* validation_split : 0.2\n",
    "\n",
    "===Test accuracy: 0.7949==="
   ]
  },
  {
   "cell_type": "code",
   "execution_count": null,
   "metadata": {},
   "outputs": [],
   "source": []
  }
 ],
 "metadata": {
  "kernelspec": {
   "display_name": "Python 3",
   "language": "python",
   "name": "python3"
  },
  "language_info": {
   "codemirror_mode": {
    "name": "ipython",
    "version": 3
   },
   "file_extension": ".py",
   "mimetype": "text/x-python",
   "name": "python",
   "nbconvert_exporter": "python",
   "pygments_lexer": "ipython3",
   "version": "3.7.3"
  }
 },
 "nbformat": 4,
 "nbformat_minor": 2
}
