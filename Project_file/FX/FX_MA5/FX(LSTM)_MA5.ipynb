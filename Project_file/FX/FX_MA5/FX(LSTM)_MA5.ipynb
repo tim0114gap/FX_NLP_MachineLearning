{
 "cells": [
  {
   "cell_type": "code",
   "execution_count": 1,
   "metadata": {},
   "outputs": [
    {
     "name": "stderr",
     "output_type": "stream",
     "text": [
      "Using TensorFlow backend.\n"
     ]
    }
   ],
   "source": [
    "import numpy as np\n",
    "import pandas as pd\n",
    "from pandas import DataFrame\n",
    "import matplotlib.pyplot as plt\n",
    "import seaborn as sns\n",
    "\n",
    "from sklearn.model_selection import train_test_split\n",
    "from sklearn.preprocessing import MinMaxScaler\n",
    "\n",
    "import keras\n",
    "from keras.layers.recurrent import LSTM\n",
    "from keras.models import Sequential\n",
    "from keras.layers import Dense, Activation\n",
    "from keras.layers.core import Dropout\n",
    "from keras.optimizers import Adam\n",
    "from keras.callbacks import EarlyStopping\n",
    "\n",
    "from keras.utils import plot_model, to_categorical"
   ]
  },
  {
   "cell_type": "code",
   "execution_count": 2,
   "metadata": {},
   "outputs": [
    {
     "data": {
      "text/html": [
       "<div>\n",
       "<style scoped>\n",
       "    .dataframe tbody tr th:only-of-type {\n",
       "        vertical-align: middle;\n",
       "    }\n",
       "\n",
       "    .dataframe tbody tr th {\n",
       "        vertical-align: top;\n",
       "    }\n",
       "\n",
       "    .dataframe thead th {\n",
       "        text-align: right;\n",
       "    }\n",
       "</style>\n",
       "<table border=\"1\" class=\"dataframe\">\n",
       "  <thead>\n",
       "    <tr style=\"text-align: right;\">\n",
       "      <th></th>\n",
       "      <th>time</th>\n",
       "      <th>open</th>\n",
       "      <th>high</th>\n",
       "      <th>low</th>\n",
       "      <th>close</th>\n",
       "      <th>5mean</th>\n",
       "      <th>target</th>\n",
       "    </tr>\n",
       "  </thead>\n",
       "  <tbody>\n",
       "    <tr>\n",
       "      <td>0</td>\n",
       "      <td>2016-11-07 07:00:00</td>\n",
       "      <td>104.101</td>\n",
       "      <td>104.630</td>\n",
       "      <td>103.779</td>\n",
       "      <td>104.476</td>\n",
       "      <td>103.6076</td>\n",
       "      <td>0</td>\n",
       "    </tr>\n",
       "    <tr>\n",
       "      <td>1</td>\n",
       "      <td>2016-11-08 07:00:00</td>\n",
       "      <td>104.462</td>\n",
       "      <td>105.194</td>\n",
       "      <td>104.297</td>\n",
       "      <td>105.176</td>\n",
       "      <td>103.8124</td>\n",
       "      <td>1</td>\n",
       "    </tr>\n",
       "    <tr>\n",
       "      <td>2</td>\n",
       "      <td>2016-11-09 07:00:00</td>\n",
       "      <td>105.178</td>\n",
       "      <td>105.890</td>\n",
       "      <td>101.193</td>\n",
       "      <td>105.658</td>\n",
       "      <td>104.2828</td>\n",
       "      <td>1</td>\n",
       "    </tr>\n",
       "    <tr>\n",
       "      <td>3</td>\n",
       "      <td>2016-11-10 07:00:00</td>\n",
       "      <td>105.685</td>\n",
       "      <td>106.949</td>\n",
       "      <td>104.960</td>\n",
       "      <td>106.816</td>\n",
       "      <td>105.0504</td>\n",
       "      <td>1</td>\n",
       "    </tr>\n",
       "    <tr>\n",
       "      <td>4</td>\n",
       "      <td>2016-11-11 07:00:00</td>\n",
       "      <td>106.796</td>\n",
       "      <td>106.934</td>\n",
       "      <td>106.032</td>\n",
       "      <td>106.683</td>\n",
       "      <td>105.7618</td>\n",
       "      <td>1</td>\n",
       "    </tr>\n",
       "  </tbody>\n",
       "</table>\n",
       "</div>"
      ],
      "text/plain": [
       "                  time     open     high      low    close     5mean  target\n",
       "0  2016-11-07 07:00:00  104.101  104.630  103.779  104.476  103.6076       0\n",
       "1  2016-11-08 07:00:00  104.462  105.194  104.297  105.176  103.8124       1\n",
       "2  2016-11-09 07:00:00  105.178  105.890  101.193  105.658  104.2828       1\n",
       "3  2016-11-10 07:00:00  105.685  106.949  104.960  106.816  105.0504       1\n",
       "4  2016-11-11 07:00:00  106.796  106.934  106.032  106.683  105.7618       1"
      ]
     },
     "execution_count": 2,
     "metadata": {},
     "output_type": "execute_result"
    }
   ],
   "source": [
    "df = pd.read_csv(\"FX_MA_5days.csv\")\n",
    "df.head()"
   ]
  },
  {
   "cell_type": "code",
   "execution_count": 3,
   "metadata": {},
   "outputs": [
    {
     "name": "stdout",
     "output_type": "stream",
     "text": [
      "<class 'pandas.core.frame.DataFrame'>\n",
      "RangeIndex: 789 entries, 0 to 788\n",
      "Data columns (total 7 columns):\n",
      "time      789 non-null object\n",
      "open      789 non-null float64\n",
      "high      789 non-null float64\n",
      "low       789 non-null float64\n",
      "close     789 non-null float64\n",
      "5mean     789 non-null float64\n",
      "target    789 non-null int64\n",
      "dtypes: float64(5), int64(1), object(1)\n",
      "memory usage: 43.3+ KB\n"
     ]
    }
   ],
   "source": [
    "df.info()"
   ]
  },
  {
   "cell_type": "code",
   "execution_count": 4,
   "metadata": {},
   "outputs": [],
   "source": [
    "split_data = '2019-05-06 06:00:00'\n",
    "train, test = df[df['time'] < split_data], df[df['time'] >= split_data]"
   ]
  },
  {
   "cell_type": "code",
   "execution_count": 5,
   "metadata": {},
   "outputs": [],
   "source": [
    "train = train.set_index('time')\n",
    "test = test.set_index('time')"
   ]
  },
  {
   "cell_type": "code",
   "execution_count": 6,
   "metadata": {},
   "outputs": [],
   "source": [
    "X_train = train.iloc[:,:5]\n",
    "Y_train = train['target']\n",
    "\n",
    "X_test = test.iloc[:,:5]\n",
    "Y_test = test['target']"
   ]
  },
  {
   "cell_type": "code",
   "execution_count": 7,
   "metadata": {},
   "outputs": [
    {
     "name": "stdout",
     "output_type": "stream",
     "text": [
      "[[104.101  104.63   103.779  104.476  103.6076]\n",
      " [104.462  105.194  104.297  105.176  103.8124]\n",
      " [105.178  105.89   101.193  105.658  104.2828]\n",
      " ...\n",
      " [111.425  111.613  111.05   111.385  111.5274]\n",
      " [111.382  111.666  111.354  111.51   111.512 ]\n",
      " [111.518  111.695  111.07   111.096  111.413 ]]\n",
      "Data len:  650\n",
      "[[104.101  104.63   103.779  104.476  103.6076]\n",
      " [104.462  105.194  104.297  105.176  103.8124]\n",
      " [105.178  105.89   101.193  105.658  104.2828]\n",
      " ...\n",
      " [111.425  111.613  111.05   111.385  111.5274]\n",
      " [111.382  111.666  111.354  111.51   111.512 ]\n",
      " [111.518  111.695  111.07   111.096  111.413 ]]\n",
      "Data len:  139\n"
     ]
    },
    {
     "name": "stderr",
     "output_type": "stream",
     "text": [
      "/home/tim0114gap/anaconda3/lib/python3.7/site-packages/ipykernel_launcher.py:1: FutureWarning: Method .as_matrix will be removed in a future version. Use .values instead.\n",
      "  \"\"\"Entry point for launching an IPython kernel.\n",
      "/home/tim0114gap/anaconda3/lib/python3.7/site-packages/ipykernel_launcher.py:5: FutureWarning: Method .as_matrix will be removed in a future version. Use .values instead.\n",
      "  \"\"\"\n"
     ]
    }
   ],
   "source": [
    "X_train = X_train.as_matrix()\n",
    "print(X_train)\n",
    "print(\"Data len: \",len(X_train))\n",
    "\n",
    "X_test = X_test.as_matrix()\n",
    "print(X_train)\n",
    "print(\"Data len: \",len(X_test))\n",
    "\n",
    "# 正規化\n",
    "ms = MinMaxScaler()\n",
    "X_train = ms.fit_transform(X_train)\n",
    "\n",
    "ms = MinMaxScaler()\n",
    "X_test = ms.fit_transform(X_test)"
   ]
  },
  {
   "cell_type": "code",
   "execution_count": 8,
   "metadata": {},
   "outputs": [
    {
     "name": "stdout",
     "output_type": "stream",
     "text": [
      "Y_train Target len:  650\n",
      "Y_train Target len:  139\n"
     ]
    }
   ],
   "source": [
    "c = np.array(Y_train)\n",
    "print(\"Y_train Target len: \",len(Y_train))\n",
    "\n",
    "Y_test = np.array(Y_test)\n",
    "print(\"Y_train Target len: \",len(Y_test))"
   ]
  },
  {
   "cell_type": "code",
   "execution_count": 9,
   "metadata": {},
   "outputs": [],
   "source": [
    "maxlen = 5\n",
    "dataTrain = []\n",
    "targetTrain = []\n",
    "for i in range(0, len(X_train) - maxlen):\n",
    "    dataTrain.append(X_train[i: i + maxlen])\n",
    "    targetTrain.append(Y_train[i + maxlen])\n",
    "\n",
    "dataTest = []\n",
    "targetTest = []\n",
    "for i in range(0, len(X_test) - maxlen):\n",
    "    dataTest.append(X_test[i: i + maxlen])\n",
    "    targetTest.append(Y_test[i + maxlen])"
   ]
  },
  {
   "cell_type": "code",
   "execution_count": 10,
   "metadata": {},
   "outputs": [
    {
     "name": "stdout",
     "output_type": "stream",
     "text": [
      "(645, 5, 5)\n",
      "(645,)\n",
      "(134, 5, 5)\n",
      "(134,)\n"
     ]
    }
   ],
   "source": [
    "X_train = np.array(dataTrain)\n",
    "Y_train = np.array(targetTrain)\n",
    "\n",
    "X_test = np.array(dataTest)\n",
    "Y_test = np.array(targetTest)\n",
    "print(X_train.shape)\n",
    "print(Y_train.shape)\n",
    "print(X_test.shape)\n",
    "print(Y_test.shape)"
   ]
  },
  {
   "cell_type": "code",
   "execution_count": 11,
   "metadata": {},
   "outputs": [],
   "source": [
    "# Y_train = Y_train.reshape(len(Y_train), 1)\n",
    "# Y_test = Y_test.reshape(len(Y_test), 1)\n",
    "\n",
    "Y_train = to_categorical(Y_train)\n",
    "Y_test = to_categorical(Y_test)"
   ]
  },
  {
   "cell_type": "code",
   "execution_count": 12,
   "metadata": {},
   "outputs": [
    {
     "name": "stdout",
     "output_type": "stream",
     "text": [
      "(645, 5, 5)\n",
      "(645, 2)\n",
      "(134, 5, 5)\n",
      "(134, 2)\n"
     ]
    }
   ],
   "source": [
    "print(X_train.shape)\n",
    "print(Y_train.shape)\n",
    "print(X_test.shape)\n",
    "print(Y_test.shape)"
   ]
  },
  {
   "cell_type": "code",
   "execution_count": 13,
   "metadata": {},
   "outputs": [
    {
     "name": "stdout",
     "output_type": "stream",
     "text": [
      "WARNING:tensorflow:From /home/tim0114gap/anaconda3/lib/python3.7/site-packages/keras/backend/tensorflow_backend.py:74: The name tf.get_default_graph is deprecated. Please use tf.compat.v1.get_default_graph instead.\n",
      "\n",
      "WARNING:tensorflow:From /home/tim0114gap/anaconda3/lib/python3.7/site-packages/keras/backend/tensorflow_backend.py:517: The name tf.placeholder is deprecated. Please use tf.compat.v1.placeholder instead.\n",
      "\n",
      "WARNING:tensorflow:From /home/tim0114gap/anaconda3/lib/python3.7/site-packages/keras/backend/tensorflow_backend.py:4138: The name tf.random_uniform is deprecated. Please use tf.random.uniform instead.\n",
      "\n",
      "WARNING:tensorflow:From /home/tim0114gap/anaconda3/lib/python3.7/site-packages/keras/backend/tensorflow_backend.py:133: The name tf.placeholder_with_default is deprecated. Please use tf.compat.v1.placeholder_with_default instead.\n",
      "\n",
      "WARNING:tensorflow:From /home/tim0114gap/anaconda3/lib/python3.7/site-packages/keras/backend/tensorflow_backend.py:3445: calling dropout (from tensorflow.python.ops.nn_ops) with keep_prob is deprecated and will be removed in a future version.\n",
      "Instructions for updating:\n",
      "Please use `rate` instead of `keep_prob`. Rate should be set to `rate = 1 - keep_prob`.\n"
     ]
    }
   ],
   "source": [
    "'''\n",
    "モデル設定\n",
    "'''\n",
    "length_of_sequence = X_train.shape[1]  # 入力層 = 5\n",
    "in_out_neurons = 2                     # 出力層 = 2\n",
    "n_hidden = 100                         # 隠れ層 = 100\n",
    "\n",
    "model = Sequential()\n",
    "model.add(LSTM(n_hidden, batch_input_shape=(None, length_of_sequence, 5), return_sequences=False))\n",
    "model.add(Dropout(0.25))\n",
    "model.add(Dense(50))\n",
    "model.add(Activation(\"sigmoid\"))\n",
    "model.add(Dense(in_out_neurons))\n",
    "model.add(Activation(\"softmax\"))"
   ]
  },
  {
   "cell_type": "code",
   "execution_count": 14,
   "metadata": {},
   "outputs": [
    {
     "name": "stdout",
     "output_type": "stream",
     "text": [
      "WARNING:tensorflow:From /home/tim0114gap/anaconda3/lib/python3.7/site-packages/keras/optimizers.py:790: The name tf.train.Optimizer is deprecated. Please use tf.compat.v1.train.Optimizer instead.\n",
      "\n",
      "WARNING:tensorflow:From /home/tim0114gap/anaconda3/lib/python3.7/site-packages/keras/backend/tensorflow_backend.py:3295: The name tf.log is deprecated. Please use tf.math.log instead.\n",
      "\n"
     ]
    }
   ],
   "source": [
    "optimizer = Adam(lr = 0.001, beta_1 = 0.9, beta_2 = 0.999)\n",
    "model.compile(loss=\"categorical_crossentropy\", \n",
    "              optimizer=optimizer, metrics=['acc'])"
   ]
  },
  {
   "cell_type": "code",
   "execution_count": 15,
   "metadata": {},
   "outputs": [
    {
     "name": "stdout",
     "output_type": "stream",
     "text": [
      "_________________________________________________________________\n",
      "Layer (type)                 Output Shape              Param #   \n",
      "=================================================================\n",
      "lstm_1 (LSTM)                (None, 100)               42400     \n",
      "_________________________________________________________________\n",
      "dropout_1 (Dropout)          (None, 100)               0         \n",
      "_________________________________________________________________\n",
      "dense_1 (Dense)              (None, 50)                5050      \n",
      "_________________________________________________________________\n",
      "activation_1 (Activation)    (None, 50)                0         \n",
      "_________________________________________________________________\n",
      "dense_2 (Dense)              (None, 2)                 102       \n",
      "_________________________________________________________________\n",
      "activation_2 (Activation)    (None, 2)                 0         \n",
      "=================================================================\n",
      "Total params: 47,552\n",
      "Trainable params: 47,552\n",
      "Non-trainable params: 0\n",
      "_________________________________________________________________\n"
     ]
    }
   ],
   "source": [
    "#plot_model(model, to_file='model.png')\n",
    "model.summary()"
   ]
  },
  {
   "cell_type": "code",
   "execution_count": 16,
   "metadata": {},
   "outputs": [
    {
     "name": "stdout",
     "output_type": "stream",
     "text": [
      "WARNING:tensorflow:From /home/tim0114gap/anaconda3/lib/python3.7/site-packages/tensorflow/python/ops/math_grad.py:1250: add_dispatch_support.<locals>.wrapper (from tensorflow.python.ops.array_ops) is deprecated and will be removed in a future version.\n",
      "Instructions for updating:\n",
      "Use tf.where in 2.0, which has the same broadcast rule as np.where\n",
      "Train on 516 samples, validate on 129 samples\n",
      "Epoch 1/200\n",
      "516/516 [==============================] - 1s 3ms/step - loss: 0.7007 - acc: 0.5116 - val_loss: 0.6931 - val_acc: 0.4884\n",
      "Epoch 2/200\n",
      "516/516 [==============================] - 0s 551us/step - loss: 0.6964 - acc: 0.4864 - val_loss: 0.6905 - val_acc: 0.5271\n",
      "Epoch 3/200\n",
      "516/516 [==============================] - 0s 547us/step - loss: 0.6897 - acc: 0.5756 - val_loss: 0.6884 - val_acc: 0.5271\n",
      "Epoch 4/200\n",
      "516/516 [==============================] - 0s 543us/step - loss: 0.6891 - acc: 0.5426 - val_loss: 0.6855 - val_acc: 0.5271\n",
      "Epoch 5/200\n",
      "516/516 [==============================] - 0s 543us/step - loss: 0.6817 - acc: 0.5620 - val_loss: 0.6799 - val_acc: 0.6434\n",
      "Epoch 6/200\n",
      "516/516 [==============================] - 0s 543us/step - loss: 0.6782 - acc: 0.5756 - val_loss: 0.6882 - val_acc: 0.5271\n",
      "Epoch 7/200\n",
      "516/516 [==============================] - 0s 545us/step - loss: 0.6794 - acc: 0.5717 - val_loss: 0.6826 - val_acc: 0.5271\n",
      "Epoch 8/200\n",
      "516/516 [==============================] - 0s 544us/step - loss: 0.6757 - acc: 0.5581 - val_loss: 0.6733 - val_acc: 0.5271\n",
      "Epoch 9/200\n",
      "516/516 [==============================] - 0s 550us/step - loss: 0.6645 - acc: 0.6085 - val_loss: 0.6586 - val_acc: 0.5969\n",
      "Epoch 10/200\n",
      "516/516 [==============================] - 0s 541us/step - loss: 0.6605 - acc: 0.5814 - val_loss: 0.6960 - val_acc: 0.5349\n",
      "Epoch 11/200\n",
      "516/516 [==============================] - 0s 547us/step - loss: 0.7070 - acc: 0.5504 - val_loss: 0.6697 - val_acc: 0.6667\n",
      "Epoch 12/200\n",
      "516/516 [==============================] - 0s 552us/step - loss: 0.6650 - acc: 0.6027 - val_loss: 0.6640 - val_acc: 0.6202\n",
      "Epoch 13/200\n",
      "516/516 [==============================] - 0s 543us/step - loss: 0.6605 - acc: 0.5872 - val_loss: 0.6677 - val_acc: 0.5271\n",
      "Epoch 14/200\n",
      "516/516 [==============================] - 0s 541us/step - loss: 0.6484 - acc: 0.6318 - val_loss: 0.6419 - val_acc: 0.7054\n",
      "Epoch 15/200\n",
      "516/516 [==============================] - 0s 538us/step - loss: 0.6361 - acc: 0.6279 - val_loss: 0.6539 - val_acc: 0.5504\n",
      "Epoch 16/200\n",
      "516/516 [==============================] - 0s 547us/step - loss: 0.6387 - acc: 0.6357 - val_loss: 0.6261 - val_acc: 0.7054\n",
      "Epoch 17/200\n",
      "516/516 [==============================] - 0s 542us/step - loss: 0.6388 - acc: 0.6202 - val_loss: 0.6708 - val_acc: 0.5271\n",
      "Epoch 18/200\n",
      "516/516 [==============================] - 0s 541us/step - loss: 0.6333 - acc: 0.6337 - val_loss: 0.6106 - val_acc: 0.6667\n",
      "Epoch 19/200\n",
      "516/516 [==============================] - 0s 541us/step - loss: 0.6217 - acc: 0.6589 - val_loss: 0.6110 - val_acc: 0.7054\n",
      "Epoch 20/200\n",
      "516/516 [==============================] - 0s 540us/step - loss: 0.5909 - acc: 0.6899 - val_loss: 0.5907 - val_acc: 0.6977\n",
      "Epoch 21/200\n",
      "516/516 [==============================] - 0s 542us/step - loss: 0.5842 - acc: 0.6977 - val_loss: 0.5903 - val_acc: 0.6512\n",
      "Epoch 22/200\n",
      "516/516 [==============================] - 0s 542us/step - loss: 0.5715 - acc: 0.6802 - val_loss: 0.5512 - val_acc: 0.7752\n",
      "Epoch 23/200\n",
      "516/516 [==============================] - 0s 548us/step - loss: 0.5425 - acc: 0.7403 - val_loss: 0.5526 - val_acc: 0.7364\n",
      "Epoch 24/200\n",
      "516/516 [==============================] - 0s 539us/step - loss: 0.6212 - acc: 0.6550 - val_loss: 0.6278 - val_acc: 0.5969\n",
      "Epoch 25/200\n",
      "516/516 [==============================] - 0s 547us/step - loss: 0.5671 - acc: 0.7132 - val_loss: 0.6677 - val_acc: 0.5736\n",
      "Epoch 26/200\n",
      "516/516 [==============================] - 0s 540us/step - loss: 0.5533 - acc: 0.7267 - val_loss: 0.5381 - val_acc: 0.7442\n",
      "Epoch 27/200\n",
      "516/516 [==============================] - 0s 544us/step - loss: 0.5784 - acc: 0.7132 - val_loss: 0.5312 - val_acc: 0.7752\n",
      "Epoch 28/200\n",
      "516/516 [==============================] - 0s 541us/step - loss: 0.5168 - acc: 0.7539 - val_loss: 0.5426 - val_acc: 0.7054\n",
      "Epoch 29/200\n",
      "516/516 [==============================] - 0s 543us/step - loss: 0.4993 - acc: 0.7461 - val_loss: 0.5163 - val_acc: 0.7209\n",
      "Epoch 30/200\n",
      "516/516 [==============================] - 0s 546us/step - loss: 0.4854 - acc: 0.7674 - val_loss: 0.5187 - val_acc: 0.7209\n",
      "Epoch 31/200\n",
      "516/516 [==============================] - 0s 543us/step - loss: 0.4772 - acc: 0.7868 - val_loss: 0.4949 - val_acc: 0.7287\n",
      "Epoch 32/200\n",
      "516/516 [==============================] - 0s 540us/step - loss: 0.5034 - acc: 0.7558 - val_loss: 0.5019 - val_acc: 0.7674\n",
      "Epoch 33/200\n",
      "516/516 [==============================] - 0s 543us/step - loss: 0.4854 - acc: 0.7461 - val_loss: 0.4583 - val_acc: 0.8217\n",
      "Epoch 34/200\n",
      "516/516 [==============================] - 0s 551us/step - loss: 0.4866 - acc: 0.7674 - val_loss: 0.4656 - val_acc: 0.7442\n",
      "Epoch 35/200\n",
      "516/516 [==============================] - 0s 546us/step - loss: 0.4864 - acc: 0.7578 - val_loss: 0.4796 - val_acc: 0.7984\n",
      "Epoch 36/200\n",
      "516/516 [==============================] - 0s 540us/step - loss: 0.4955 - acc: 0.7655 - val_loss: 0.4757 - val_acc: 0.7364\n",
      "Epoch 37/200\n",
      "516/516 [==============================] - 0s 545us/step - loss: 0.4911 - acc: 0.7578 - val_loss: 0.4931 - val_acc: 0.7132\n",
      "Epoch 38/200\n",
      "516/516 [==============================] - 0s 552us/step - loss: 0.4818 - acc: 0.7694 - val_loss: 0.5900 - val_acc: 0.6357\n",
      "Epoch 39/200\n",
      "516/516 [==============================] - 0s 554us/step - loss: 0.4668 - acc: 0.7752 - val_loss: 0.4536 - val_acc: 0.8450\n",
      "Epoch 40/200\n",
      "516/516 [==============================] - 0s 554us/step - loss: 0.4499 - acc: 0.7907 - val_loss: 0.4335 - val_acc: 0.8217\n",
      "Epoch 41/200\n",
      "516/516 [==============================] - 0s 550us/step - loss: 0.4518 - acc: 0.7771 - val_loss: 0.4286 - val_acc: 0.8140\n",
      "Epoch 42/200\n",
      "516/516 [==============================] - 0s 560us/step - loss: 0.4489 - acc: 0.7829 - val_loss: 0.4254 - val_acc: 0.7907\n",
      "Epoch 43/200\n",
      "516/516 [==============================] - 0s 542us/step - loss: 0.4450 - acc: 0.7946 - val_loss: 0.5850 - val_acc: 0.6357\n",
      "Epoch 44/200\n",
      "516/516 [==============================] - 0s 562us/step - loss: 0.5240 - acc: 0.7326 - val_loss: 0.4447 - val_acc: 0.8527\n",
      "Epoch 45/200\n",
      "516/516 [==============================] - 0s 548us/step - loss: 0.4827 - acc: 0.7849 - val_loss: 0.4731 - val_acc: 0.7907\n",
      "Epoch 46/200\n",
      "516/516 [==============================] - 0s 543us/step - loss: 0.4777 - acc: 0.7791 - val_loss: 0.4480 - val_acc: 0.8605\n",
      "Epoch 47/200\n",
      "516/516 [==============================] - 0s 542us/step - loss: 0.4615 - acc: 0.7946 - val_loss: 0.5054 - val_acc: 0.7209\n",
      "Epoch 48/200\n",
      "516/516 [==============================] - 0s 549us/step - loss: 0.4498 - acc: 0.7907 - val_loss: 0.4278 - val_acc: 0.7984\n",
      "Epoch 49/200\n",
      "516/516 [==============================] - 0s 543us/step - loss: 0.4361 - acc: 0.7984 - val_loss: 0.4744 - val_acc: 0.7752\n",
      "Epoch 50/200\n",
      "516/516 [==============================] - 0s 541us/step - loss: 0.4689 - acc: 0.7539 - val_loss: 0.4230 - val_acc: 0.8062\n",
      "Epoch 51/200\n",
      "516/516 [==============================] - 0s 545us/step - loss: 0.4381 - acc: 0.8004 - val_loss: 0.4263 - val_acc: 0.7674\n",
      "Epoch 52/200\n",
      "516/516 [==============================] - 0s 548us/step - loss: 0.4577 - acc: 0.7888 - val_loss: 0.4326 - val_acc: 0.8605\n",
      "Epoch 53/200\n",
      "516/516 [==============================] - 0s 551us/step - loss: 0.4697 - acc: 0.7771 - val_loss: 0.4244 - val_acc: 0.8450\n",
      "Epoch 54/200\n",
      "516/516 [==============================] - 0s 537us/step - loss: 0.4429 - acc: 0.8062 - val_loss: 0.4308 - val_acc: 0.7752\n",
      "Epoch 55/200\n",
      "516/516 [==============================] - 0s 553us/step - loss: 0.4226 - acc: 0.8236 - val_loss: 0.4090 - val_acc: 0.8372\n",
      "Epoch 56/200\n",
      "516/516 [==============================] - 0s 561us/step - loss: 0.4339 - acc: 0.7926 - val_loss: 0.4066 - val_acc: 0.8062\n",
      "Epoch 57/200\n",
      "516/516 [==============================] - 0s 573us/step - loss: 0.4320 - acc: 0.8004 - val_loss: 0.4107 - val_acc: 0.7984\n",
      "Epoch 58/200\n"
     ]
    },
    {
     "name": "stdout",
     "output_type": "stream",
     "text": [
      "516/516 [==============================] - 0s 571us/step - loss: 0.4324 - acc: 0.8023 - val_loss: 0.3986 - val_acc: 0.8450\n",
      "Epoch 59/200\n",
      "516/516 [==============================] - 0s 545us/step - loss: 0.4301 - acc: 0.7868 - val_loss: 0.4603 - val_acc: 0.7752\n",
      "Epoch 60/200\n",
      "516/516 [==============================] - 0s 541us/step - loss: 0.5098 - acc: 0.7713 - val_loss: 0.4640 - val_acc: 0.7209\n",
      "Epoch 61/200\n",
      "516/516 [==============================] - 0s 540us/step - loss: 0.4269 - acc: 0.8081 - val_loss: 0.4188 - val_acc: 0.7907\n",
      "Epoch 62/200\n",
      "516/516 [==============================] - 0s 545us/step - loss: 0.4176 - acc: 0.8140 - val_loss: 0.4011 - val_acc: 0.8527\n",
      "Epoch 63/200\n",
      "516/516 [==============================] - 0s 549us/step - loss: 0.4098 - acc: 0.7888 - val_loss: 0.4051 - val_acc: 0.8605\n",
      "Epoch 64/200\n",
      "516/516 [==============================] - 0s 552us/step - loss: 0.3959 - acc: 0.8178 - val_loss: 0.4477 - val_acc: 0.7209\n",
      "Epoch 65/200\n",
      "516/516 [==============================] - 0s 553us/step - loss: 0.4499 - acc: 0.7655 - val_loss: 0.5153 - val_acc: 0.6977\n",
      "Epoch 66/200\n",
      "516/516 [==============================] - 0s 548us/step - loss: 0.5026 - acc: 0.7616 - val_loss: 0.4315 - val_acc: 0.8450\n",
      "Epoch 67/200\n",
      "516/516 [==============================] - 0s 554us/step - loss: 0.4179 - acc: 0.8023 - val_loss: 0.4162 - val_acc: 0.8527\n",
      "Epoch 68/200\n",
      "516/516 [==============================] - 0s 553us/step - loss: 0.4070 - acc: 0.8236 - val_loss: 0.4054 - val_acc: 0.8062\n",
      "Epoch 69/200\n",
      "516/516 [==============================] - 0s 552us/step - loss: 0.4019 - acc: 0.8236 - val_loss: 0.3940 - val_acc: 0.8450\n",
      "Epoch 70/200\n",
      "516/516 [==============================] - 0s 546us/step - loss: 0.4313 - acc: 0.7984 - val_loss: 0.3921 - val_acc: 0.8372\n",
      "Epoch 71/200\n",
      "516/516 [==============================] - 0s 541us/step - loss: 0.4173 - acc: 0.8004 - val_loss: 0.3907 - val_acc: 0.8450\n",
      "Epoch 72/200\n",
      "516/516 [==============================] - 0s 544us/step - loss: 0.4165 - acc: 0.8043 - val_loss: 0.4063 - val_acc: 0.8372\n",
      "Epoch 73/200\n",
      "516/516 [==============================] - 0s 544us/step - loss: 0.4216 - acc: 0.8101 - val_loss: 0.3904 - val_acc: 0.8450\n",
      "Epoch 74/200\n",
      "516/516 [==============================] - 0s 544us/step - loss: 0.4295 - acc: 0.7965 - val_loss: 0.3904 - val_acc: 0.8450\n",
      "Epoch 75/200\n",
      "516/516 [==============================] - 0s 543us/step - loss: 0.3997 - acc: 0.8353 - val_loss: 0.4951 - val_acc: 0.7132\n",
      "Epoch 76/200\n",
      "516/516 [==============================] - 0s 569us/step - loss: 0.4268 - acc: 0.7965 - val_loss: 0.4365 - val_acc: 0.7442\n",
      "Epoch 77/200\n",
      "516/516 [==============================] - 0s 579us/step - loss: 0.4343 - acc: 0.8004 - val_loss: 0.4012 - val_acc: 0.7907\n",
      "Epoch 78/200\n",
      "516/516 [==============================] - 0s 564us/step - loss: 0.3943 - acc: 0.8256 - val_loss: 0.3834 - val_acc: 0.8527\n",
      "Epoch 79/200\n",
      "516/516 [==============================] - 0s 578us/step - loss: 0.3939 - acc: 0.8198 - val_loss: 0.3824 - val_acc: 0.8450\n",
      "Epoch 80/200\n",
      "516/516 [==============================] - 0s 556us/step - loss: 0.4015 - acc: 0.8120 - val_loss: 0.3826 - val_acc: 0.8450\n",
      "Epoch 81/200\n",
      "516/516 [==============================] - 0s 560us/step - loss: 0.3892 - acc: 0.8295 - val_loss: 0.4798 - val_acc: 0.7752\n",
      "Epoch 82/200\n",
      "516/516 [==============================] - 0s 554us/step - loss: 0.4153 - acc: 0.7907 - val_loss: 0.3779 - val_acc: 0.8450\n",
      "Epoch 83/200\n",
      "516/516 [==============================] - 0s 552us/step - loss: 0.4112 - acc: 0.7965 - val_loss: 0.3881 - val_acc: 0.8372\n",
      "Epoch 84/200\n",
      "516/516 [==============================] - 0s 561us/step - loss: 0.4150 - acc: 0.8178 - val_loss: 0.4477 - val_acc: 0.7984\n",
      "Epoch 85/200\n",
      "516/516 [==============================] - 0s 551us/step - loss: 0.4090 - acc: 0.8023 - val_loss: 0.3841 - val_acc: 0.8450\n",
      "Epoch 86/200\n",
      "516/516 [==============================] - 0s 558us/step - loss: 0.4049 - acc: 0.8081 - val_loss: 0.3859 - val_acc: 0.8295\n",
      "Epoch 87/200\n",
      "516/516 [==============================] - 0s 546us/step - loss: 0.3975 - acc: 0.8275 - val_loss: 0.3869 - val_acc: 0.8062\n",
      "Epoch 88/200\n",
      "516/516 [==============================] - 0s 547us/step - loss: 0.4162 - acc: 0.8062 - val_loss: 0.3933 - val_acc: 0.8062\n",
      "Epoch 89/200\n",
      "516/516 [==============================] - 0s 563us/step - loss: 0.4119 - acc: 0.8081 - val_loss: 0.3832 - val_acc: 0.8372\n",
      "Epoch 90/200\n",
      "516/516 [==============================] - 0s 550us/step - loss: 0.4027 - acc: 0.8275 - val_loss: 0.4409 - val_acc: 0.7984\n",
      "Epoch 91/200\n",
      "516/516 [==============================] - 0s 557us/step - loss: 0.4333 - acc: 0.8004 - val_loss: 0.4085 - val_acc: 0.8372\n",
      "Epoch 92/200\n",
      "516/516 [==============================] - 0s 551us/step - loss: 0.4442 - acc: 0.7965 - val_loss: 0.3957 - val_acc: 0.8450\n",
      "Epoch 93/200\n",
      "516/516 [==============================] - 0s 555us/step - loss: 0.4083 - acc: 0.8120 - val_loss: 0.3897 - val_acc: 0.8450\n",
      "Epoch 94/200\n",
      "516/516 [==============================] - 0s 549us/step - loss: 0.4244 - acc: 0.8081 - val_loss: 0.4236 - val_acc: 0.8217\n",
      "Epoch 95/200\n",
      "516/516 [==============================] - 0s 541us/step - loss: 0.3903 - acc: 0.8159 - val_loss: 0.3921 - val_acc: 0.8062\n",
      "Epoch 96/200\n",
      "516/516 [==============================] - 0s 541us/step - loss: 0.4087 - acc: 0.8236 - val_loss: 0.4005 - val_acc: 0.8217\n",
      "Epoch 97/200\n",
      "516/516 [==============================] - 0s 544us/step - loss: 0.3836 - acc: 0.8178 - val_loss: 0.3788 - val_acc: 0.8450\n",
      "Epoch 98/200\n",
      "516/516 [==============================] - 0s 545us/step - loss: 0.3923 - acc: 0.8062 - val_loss: 0.3811 - val_acc: 0.8450\n",
      "Epoch 99/200\n",
      "516/516 [==============================] - 0s 549us/step - loss: 0.4003 - acc: 0.8004 - val_loss: 0.3754 - val_acc: 0.8527\n",
      "Epoch 100/200\n",
      "516/516 [==============================] - 0s 555us/step - loss: 0.4092 - acc: 0.8043 - val_loss: 0.4297 - val_acc: 0.8140\n",
      "Epoch 101/200\n",
      "516/516 [==============================] - 0s 549us/step - loss: 0.4134 - acc: 0.8043 - val_loss: 0.4321 - val_acc: 0.8062\n",
      "Epoch 102/200\n",
      "516/516 [==============================] - 0s 543us/step - loss: 0.4126 - acc: 0.8236 - val_loss: 0.3806 - val_acc: 0.8372\n",
      "Epoch 103/200\n",
      "516/516 [==============================] - 0s 544us/step - loss: 0.3848 - acc: 0.8178 - val_loss: 0.3819 - val_acc: 0.8450\n",
      "Epoch 104/200\n",
      "516/516 [==============================] - 0s 545us/step - loss: 0.3880 - acc: 0.8314 - val_loss: 0.3778 - val_acc: 0.8527\n",
      "Epoch 105/200\n",
      "516/516 [==============================] - 0s 543us/step - loss: 0.3916 - acc: 0.8159 - val_loss: 0.4042 - val_acc: 0.7674\n",
      "Epoch 106/200\n",
      "516/516 [==============================] - 0s 542us/step - loss: 0.3980 - acc: 0.8295 - val_loss: 0.3713 - val_acc: 0.8605\n",
      "Epoch 107/200\n",
      "516/516 [==============================] - 0s 541us/step - loss: 0.3912 - acc: 0.8178 - val_loss: 0.3702 - val_acc: 0.8527\n",
      "Epoch 108/200\n",
      "516/516 [==============================] - 0s 545us/step - loss: 0.3839 - acc: 0.8314 - val_loss: 0.3774 - val_acc: 0.8527\n",
      "Epoch 109/200\n",
      "516/516 [==============================] - 0s 552us/step - loss: 0.3866 - acc: 0.8275 - val_loss: 0.4049 - val_acc: 0.8217\n",
      "Epoch 110/200\n",
      "516/516 [==============================] - 0s 539us/step - loss: 0.3830 - acc: 0.8295 - val_loss: 0.3681 - val_acc: 0.8527\n",
      "Epoch 111/200\n",
      "516/516 [==============================] - 0s 550us/step - loss: 0.3885 - acc: 0.8178 - val_loss: 0.4147 - val_acc: 0.8062\n",
      "Epoch 112/200\n",
      "516/516 [==============================] - 0s 542us/step - loss: 0.4218 - acc: 0.8178 - val_loss: 0.3797 - val_acc: 0.8527\n",
      "Epoch 113/200\n",
      "516/516 [==============================] - 0s 544us/step - loss: 0.3855 - acc: 0.8217 - val_loss: 0.4368 - val_acc: 0.8062\n",
      "Epoch 114/200\n",
      "516/516 [==============================] - 0s 543us/step - loss: 0.3860 - acc: 0.8256 - val_loss: 0.4698 - val_acc: 0.7132\n",
      "Epoch 115/200\n",
      "516/516 [==============================] - 0s 547us/step - loss: 0.3977 - acc: 0.8081 - val_loss: 0.3756 - val_acc: 0.8450\n",
      "Epoch 116/200\n",
      "516/516 [==============================] - 0s 543us/step - loss: 0.3780 - acc: 0.8217 - val_loss: 0.3655 - val_acc: 0.8372\n",
      "Epoch 117/200\n",
      "516/516 [==============================] - 0s 541us/step - loss: 0.3714 - acc: 0.8469 - val_loss: 0.3664 - val_acc: 0.8605\n",
      "Epoch 118/200\n"
     ]
    },
    {
     "name": "stdout",
     "output_type": "stream",
     "text": [
      "516/516 [==============================] - 0s 547us/step - loss: 0.3781 - acc: 0.8198 - val_loss: 0.3671 - val_acc: 0.8527\n",
      "Epoch 119/200\n",
      "516/516 [==============================] - 0s 562us/step - loss: 0.3906 - acc: 0.8217 - val_loss: 0.3719 - val_acc: 0.8372\n",
      "Epoch 120/200\n",
      "516/516 [==============================] - 0s 568us/step - loss: 0.3717 - acc: 0.8295 - val_loss: 0.3702 - val_acc: 0.8450\n",
      "Epoch 121/200\n",
      "516/516 [==============================] - 0s 562us/step - loss: 0.3860 - acc: 0.8256 - val_loss: 0.4057 - val_acc: 0.7674\n",
      "Epoch 122/200\n",
      "516/516 [==============================] - 0s 563us/step - loss: 0.3714 - acc: 0.8256 - val_loss: 0.3651 - val_acc: 0.8372\n",
      "Epoch 123/200\n",
      "516/516 [==============================] - 0s 551us/step - loss: 0.3792 - acc: 0.8159 - val_loss: 0.3997 - val_acc: 0.8140\n",
      "Epoch 124/200\n",
      "516/516 [==============================] - 0s 554us/step - loss: 0.3697 - acc: 0.8159 - val_loss: 0.4024 - val_acc: 0.8450\n",
      "Epoch 125/200\n",
      "516/516 [==============================] - 0s 552us/step - loss: 0.3852 - acc: 0.8333 - val_loss: 0.4330 - val_acc: 0.7519\n",
      "Epoch 126/200\n",
      "516/516 [==============================] - 0s 561us/step - loss: 0.4069 - acc: 0.8120 - val_loss: 0.3653 - val_acc: 0.8527\n",
      "Epoch 127/200\n",
      "516/516 [==============================] - 0s 557us/step - loss: 0.3648 - acc: 0.8430 - val_loss: 0.3643 - val_acc: 0.8450\n",
      "Epoch 128/200\n",
      "516/516 [==============================] - 0s 559us/step - loss: 0.3912 - acc: 0.8217 - val_loss: 0.4195 - val_acc: 0.8140\n",
      "Epoch 129/200\n",
      "516/516 [==============================] - 0s 547us/step - loss: 0.4113 - acc: 0.8236 - val_loss: 0.4025 - val_acc: 0.7752\n",
      "Epoch 130/200\n",
      "516/516 [==============================] - 0s 545us/step - loss: 0.3603 - acc: 0.8275 - val_loss: 0.3906 - val_acc: 0.8372\n",
      "Epoch 131/200\n",
      "516/516 [==============================] - 0s 541us/step - loss: 0.3954 - acc: 0.8120 - val_loss: 0.3731 - val_acc: 0.8372\n",
      "Epoch 132/200\n",
      "516/516 [==============================] - 0s 546us/step - loss: 0.3613 - acc: 0.8333 - val_loss: 0.3649 - val_acc: 0.8527\n",
      "Epoch 133/200\n",
      "516/516 [==============================] - 0s 545us/step - loss: 0.3708 - acc: 0.8295 - val_loss: 0.3614 - val_acc: 0.8450\n",
      "Epoch 134/200\n",
      "516/516 [==============================] - 0s 553us/step - loss: 0.3863 - acc: 0.8275 - val_loss: 0.3650 - val_acc: 0.8527\n",
      "Epoch 135/200\n",
      "516/516 [==============================] - 0s 548us/step - loss: 0.3682 - acc: 0.8275 - val_loss: 0.3719 - val_acc: 0.8450\n",
      "Epoch 136/200\n",
      "516/516 [==============================] - 0s 550us/step - loss: 0.3908 - acc: 0.8023 - val_loss: 0.3616 - val_acc: 0.8527\n",
      "Epoch 137/200\n",
      "516/516 [==============================] - 0s 545us/step - loss: 0.3703 - acc: 0.8314 - val_loss: 0.3967 - val_acc: 0.8217\n",
      "Epoch 138/200\n",
      "516/516 [==============================] - 0s 553us/step - loss: 0.3508 - acc: 0.8372 - val_loss: 0.3639 - val_acc: 0.8372\n",
      "Epoch 139/200\n",
      "516/516 [==============================] - 0s 565us/step - loss: 0.3746 - acc: 0.8372 - val_loss: 0.3589 - val_acc: 0.8450\n",
      "Epoch 140/200\n",
      "516/516 [==============================] - 0s 559us/step - loss: 0.3588 - acc: 0.8430 - val_loss: 0.3934 - val_acc: 0.7752\n",
      "Epoch 141/200\n",
      "516/516 [==============================] - 0s 549us/step - loss: 0.3759 - acc: 0.8411 - val_loss: 0.3907 - val_acc: 0.8295\n",
      "Epoch 142/200\n",
      "516/516 [==============================] - 0s 551us/step - loss: 0.3914 - acc: 0.8236 - val_loss: 0.3722 - val_acc: 0.8527\n",
      "Epoch 143/200\n",
      "516/516 [==============================] - 0s 552us/step - loss: 0.3622 - acc: 0.8256 - val_loss: 0.3687 - val_acc: 0.8450\n",
      "Epoch 144/200\n",
      "516/516 [==============================] - 0s 549us/step - loss: 0.3735 - acc: 0.8372 - val_loss: 0.3837 - val_acc: 0.8140\n",
      "Epoch 145/200\n",
      "516/516 [==============================] - 0s 543us/step - loss: 0.3712 - acc: 0.8333 - val_loss: 0.3624 - val_acc: 0.8450\n",
      "Epoch 146/200\n",
      "516/516 [==============================] - 0s 554us/step - loss: 0.3747 - acc: 0.8372 - val_loss: 0.3644 - val_acc: 0.8372\n",
      "Epoch 147/200\n",
      "516/516 [==============================] - 0s 558us/step - loss: 0.3671 - acc: 0.8256 - val_loss: 0.3925 - val_acc: 0.7907\n",
      "Epoch 148/200\n",
      "516/516 [==============================] - 0s 550us/step - loss: 0.3451 - acc: 0.8469 - val_loss: 0.4337 - val_acc: 0.7907\n",
      "Epoch 149/200\n",
      "516/516 [==============================] - 0s 557us/step - loss: 0.3635 - acc: 0.8333 - val_loss: 0.3716 - val_acc: 0.8372\n",
      "Epoch 150/200\n",
      "516/516 [==============================] - 0s 554us/step - loss: 0.3586 - acc: 0.8275 - val_loss: 0.3673 - val_acc: 0.8450\n",
      "Epoch 151/200\n",
      "516/516 [==============================] - 0s 547us/step - loss: 0.3638 - acc: 0.8295 - val_loss: 0.3726 - val_acc: 0.8295\n",
      "Epoch 152/200\n",
      "516/516 [==============================] - 0s 560us/step - loss: 0.3529 - acc: 0.8333 - val_loss: 0.3663 - val_acc: 0.8450\n",
      "Epoch 153/200\n",
      "516/516 [==============================] - 0s 556us/step - loss: 0.3788 - acc: 0.8430 - val_loss: 0.3738 - val_acc: 0.8295\n",
      "Epoch 154/200\n",
      "516/516 [==============================] - 0s 550us/step - loss: 0.3478 - acc: 0.8450 - val_loss: 0.3596 - val_acc: 0.8295\n",
      "Epoch 155/200\n",
      "516/516 [==============================] - 0s 555us/step - loss: 0.3542 - acc: 0.8547 - val_loss: 0.4563 - val_acc: 0.7752\n",
      "Epoch 156/200\n",
      "516/516 [==============================] - 0s 546us/step - loss: 0.3694 - acc: 0.8372 - val_loss: 0.3596 - val_acc: 0.8527\n",
      "Epoch 157/200\n",
      "516/516 [==============================] - 0s 547us/step - loss: 0.3730 - acc: 0.8314 - val_loss: 0.3664 - val_acc: 0.8372\n",
      "Epoch 158/200\n",
      "516/516 [==============================] - 0s 542us/step - loss: 0.3694 - acc: 0.8314 - val_loss: 0.3744 - val_acc: 0.8295\n",
      "Epoch 159/200\n",
      "516/516 [==============================] - 0s 540us/step - loss: 0.3636 - acc: 0.8411 - val_loss: 0.4394 - val_acc: 0.7442\n"
     ]
    }
   ],
   "source": [
    "# コールバック指定（https://qiita.com/yukiB/items/f45f0f71bc9739830002）\n",
    "early_stopping = EarlyStopping(monitor='val_loss', \n",
    "                               mode='auto', patience=20)\n",
    "history = model.fit(X_train, Y_train,\n",
    "                  batch_size = 16, # 論文で使われるのが1, 32, 128, 256, 512\n",
    "                  epochs=200,\n",
    "                  validation_split=0.2,\n",
    "                  callbacks=[early_stopping])"
   ]
  },
  {
   "cell_type": "code",
   "execution_count": 17,
   "metadata": {},
   "outputs": [
    {
     "data": {
      "image/png": "[encoded data removed]",
      "text/plain": [
       "<Figure size 432x288 with 1 Axes>"
      ]
     },
     "metadata": {
      "needs_background": "light"
     },
     "output_type": "display_data"
    }
   ],
   "source": [
    "epochs = range(1, len(history.history['acc']) + 1)\n",
    "plt.plot(epochs, history.history['loss'])\n",
    "plt.plot(epochs, history.history['val_loss'])\n",
    "plt.title('model loss')\n",
    "plt.ylabel('loss')\n",
    "plt.xlabel('epoch')\n",
    "plt.legend(['train', 'val'], loc='upper left')\n",
    "plt.show()"
   ]
  },
  {
   "cell_type": "code",
   "execution_count": 18,
   "metadata": {},
   "outputs": [
    {
     "data": {
      "text/plain": [
       "<matplotlib.legend.Legend at 0x7fdc005ddcf8>"
      ]
     },
     "execution_count": 18,
     "metadata": {},
     "output_type": "execute_result"
    },
    {
     "data": {
      "image/png": "[encoded data removed]",
      "text/plain": [
       "<Figure size 432x288 with 1 Axes>"
      ]
     },
     "metadata": {
      "needs_background": "light"
     },
     "output_type": "display_data"
    }
   ],
   "source": [
    "#acc, val_accのプロット\n",
    "plt.plot(history.history[\"acc\"], label=\"acc\", ls=\"-\", marker=\"o\")\n",
    "plt.plot(history.history[\"val_acc\"], label=\"val_acc\", ls=\"-\", marker=\"x\")\n",
    "plt.ylabel(\"accuracy\")\n",
    "plt.xlabel(\"epoch\")\n",
    "plt.legend(loc=\"best\")\n",
    "#Final.pngという名前で、結果を保存\n",
    "# plt.savefig('Final.png')\n",
    "# plt.show()"
   ]
  },
  {
   "cell_type": "code",
   "execution_count": 20,
   "metadata": {},
   "outputs": [
    {
     "name": "stdout",
     "output_type": "stream",
     "text": [
      "134/134 [==============================] - 0s 114us/step\n",
      "Test accuracy: 0.8060\n"
     ]
    }
   ],
   "source": [
    "print(\"Test accuracy: %.4f\" % (model.evaluate(X_test, Y_test)[1]))"
   ]
  },
  {
   "cell_type": "code",
   "execution_count": 21,
   "metadata": {},
   "outputs": [],
   "source": [
    "predict_classes = model.predict_classes(X_test)"
   ]
  },
  {
   "cell_type": "code",
   "execution_count": 22,
   "metadata": {},
   "outputs": [],
   "source": [
    "Y_test = np.array([np.argmax(x) for x in Y_test])"
   ]
  },
  {
   "cell_type": "code",
   "execution_count": 23,
   "metadata": {},
   "outputs": [
    {
     "data": {
      "text/html": [
       "<div>\n",
       "<style scoped>\n",
       "    .dataframe tbody tr th:only-of-type {\n",
       "        vertical-align: middle;\n",
       "    }\n",
       "\n",
       "    .dataframe tbody tr th {\n",
       "        vertical-align: top;\n",
       "    }\n",
       "\n",
       "    .dataframe thead th {\n",
       "        text-align: right;\n",
       "    }\n",
       "</style>\n",
       "<table border=\"1\" class=\"dataframe\">\n",
       "  <thead>\n",
       "    <tr style=\"text-align: right;\">\n",
       "      <th>Predicted</th>\n",
       "      <th>0</th>\n",
       "      <th>1</th>\n",
       "      <th>All</th>\n",
       "    </tr>\n",
       "    <tr>\n",
       "      <th>True</th>\n",
       "      <th></th>\n",
       "      <th></th>\n",
       "      <th></th>\n",
       "    </tr>\n",
       "  </thead>\n",
       "  <tbody>\n",
       "    <tr>\n",
       "      <td>0</td>\n",
       "      <td>42</td>\n",
       "      <td>23</td>\n",
       "      <td>65</td>\n",
       "    </tr>\n",
       "    <tr>\n",
       "      <td>1</td>\n",
       "      <td>3</td>\n",
       "      <td>66</td>\n",
       "      <td>69</td>\n",
       "    </tr>\n",
       "    <tr>\n",
       "      <td>All</td>\n",
       "      <td>45</td>\n",
       "      <td>89</td>\n",
       "      <td>134</td>\n",
       "    </tr>\n",
       "  </tbody>\n",
       "</table>\n",
       "</div>"
      ],
      "text/plain": [
       "Predicted   0   1  All\n",
       "True                  \n",
       "0          42  23   65\n",
       "1           3  66   69\n",
       "All        45  89  134"
      ]
     },
     "execution_count": 23,
     "metadata": {},
     "output_type": "execute_result"
    }
   ],
   "source": [
    "pd.crosstab(Y_test, predict_classes, rownames=['True'], colnames=['Predicted'], margins=True)"
   ]
  }
 ],
 "metadata": {
  "kernelspec": {
   "display_name": "Python 3",
   "language": "python",
   "name": "python3"
  },
  "language_info": {
   "codemirror_mode": {
    "name": "ipython",
    "version": 3
   },
   "file_extension": ".py",
   "mimetype": "text/x-python",
   "name": "python",
   "nbconvert_exporter": "python",
   "pygments_lexer": "ipython3",
   "version": "3.7.3"
  }
 },
 "nbformat": 4,
 "nbformat_minor": 2
}
