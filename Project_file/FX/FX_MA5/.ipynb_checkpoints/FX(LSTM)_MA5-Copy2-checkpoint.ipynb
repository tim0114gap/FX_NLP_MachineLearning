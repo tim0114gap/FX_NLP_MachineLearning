{
 "cells": [
  {
   "cell_type": "code",
   "execution_count": 1,
   "metadata": {},
   "outputs": [
    {
     "name": "stderr",
     "output_type": "stream",
     "text": [
      "Using TensorFlow backend.\n"
     ]
    }
   ],
   "source": [
    "import numpy as np\n",
    "import pandas as pd\n",
    "from pandas import DataFrame\n",
    "import matplotlib.pyplot as plt\n",
    "import seaborn as sns\n",
    "\n",
    "from sklearn.model_selection import train_test_split\n",
    "from sklearn.preprocessing import MinMaxScaler\n",
    "\n",
    "import keras\n",
    "from keras.layers.recurrent import LSTM\n",
    "from keras.models import Sequential\n",
    "from keras.layers import Dense, Activation\n",
    "from keras.layers.core import Dropout\n",
    "from keras.optimizers import Adam\n",
    "from keras.callbacks import EarlyStopping\n",
    "\n",
    "from keras.utils import plot_model, to_categorical"
   ]
  },
  {
   "cell_type": "code",
   "execution_count": 2,
   "metadata": {},
   "outputs": [
    {
     "data": {
      "text/html": [
       "<div>\n",
       "<style scoped>\n",
       "    .dataframe tbody tr th:only-of-type {\n",
       "        vertical-align: middle;\n",
       "    }\n",
       "\n",
       "    .dataframe tbody tr th {\n",
       "        vertical-align: top;\n",
       "    }\n",
       "\n",
       "    .dataframe thead th {\n",
       "        text-align: right;\n",
       "    }\n",
       "</style>\n",
       "<table border=\"1\" class=\"dataframe\">\n",
       "  <thead>\n",
       "    <tr style=\"text-align: right;\">\n",
       "      <th></th>\n",
       "      <th>time</th>\n",
       "      <th>open</th>\n",
       "      <th>high</th>\n",
       "      <th>low</th>\n",
       "      <th>close</th>\n",
       "      <th>5mean</th>\n",
       "      <th>target</th>\n",
       "    </tr>\n",
       "  </thead>\n",
       "  <tbody>\n",
       "    <tr>\n",
       "      <td>0</td>\n",
       "      <td>2016-11-07 07:00:00</td>\n",
       "      <td>104.101</td>\n",
       "      <td>104.630</td>\n",
       "      <td>103.779</td>\n",
       "      <td>104.476</td>\n",
       "      <td>103.6076</td>\n",
       "      <td>0</td>\n",
       "    </tr>\n",
       "    <tr>\n",
       "      <td>1</td>\n",
       "      <td>2016-11-08 07:00:00</td>\n",
       "      <td>104.462</td>\n",
       "      <td>105.194</td>\n",
       "      <td>104.297</td>\n",
       "      <td>105.176</td>\n",
       "      <td>103.8124</td>\n",
       "      <td>1</td>\n",
       "    </tr>\n",
       "    <tr>\n",
       "      <td>2</td>\n",
       "      <td>2016-11-09 07:00:00</td>\n",
       "      <td>105.178</td>\n",
       "      <td>105.890</td>\n",
       "      <td>101.193</td>\n",
       "      <td>105.658</td>\n",
       "      <td>104.2828</td>\n",
       "      <td>1</td>\n",
       "    </tr>\n",
       "    <tr>\n",
       "      <td>3</td>\n",
       "      <td>2016-11-10 07:00:00</td>\n",
       "      <td>105.685</td>\n",
       "      <td>106.949</td>\n",
       "      <td>104.960</td>\n",
       "      <td>106.816</td>\n",
       "      <td>105.0504</td>\n",
       "      <td>1</td>\n",
       "    </tr>\n",
       "    <tr>\n",
       "      <td>4</td>\n",
       "      <td>2016-11-11 07:00:00</td>\n",
       "      <td>106.796</td>\n",
       "      <td>106.934</td>\n",
       "      <td>106.032</td>\n",
       "      <td>106.683</td>\n",
       "      <td>105.7618</td>\n",
       "      <td>1</td>\n",
       "    </tr>\n",
       "  </tbody>\n",
       "</table>\n",
       "</div>"
      ],
      "text/plain": [
       "                  time     open     high      low    close     5mean  target\n",
       "0  2016-11-07 07:00:00  104.101  104.630  103.779  104.476  103.6076       0\n",
       "1  2016-11-08 07:00:00  104.462  105.194  104.297  105.176  103.8124       1\n",
       "2  2016-11-09 07:00:00  105.178  105.890  101.193  105.658  104.2828       1\n",
       "3  2016-11-10 07:00:00  105.685  106.949  104.960  106.816  105.0504       1\n",
       "4  2016-11-11 07:00:00  106.796  106.934  106.032  106.683  105.7618       1"
      ]
     },
     "execution_count": 2,
     "metadata": {},
     "output_type": "execute_result"
    }
   ],
   "source": [
    "df = pd.read_csv(\"FX_MA_5days.csv\")\n",
    "df.head()"
   ]
  },
  {
   "cell_type": "code",
   "execution_count": 3,
   "metadata": {},
   "outputs": [
    {
     "name": "stdout",
     "output_type": "stream",
     "text": [
      "<class 'pandas.core.frame.DataFrame'>\n",
      "RangeIndex: 789 entries, 0 to 788\n",
      "Data columns (total 7 columns):\n",
      "time      789 non-null object\n",
      "open      789 non-null float64\n",
      "high      789 non-null float64\n",
      "low       789 non-null float64\n",
      "close     789 non-null float64\n",
      "5mean     789 non-null float64\n",
      "target    789 non-null int64\n",
      "dtypes: float64(5), int64(1), object(1)\n",
      "memory usage: 43.3+ KB\n"
     ]
    }
   ],
   "source": [
    "df.info()"
   ]
  },
  {
   "cell_type": "code",
   "execution_count": 4,
   "metadata": {},
   "outputs": [],
   "source": [
    "split_data = '2019-05-06 06:00:00'\n",
    "train, test = df[df['time'] < split_data], df[df['time'] >= split_data]"
   ]
  },
  {
   "cell_type": "code",
   "execution_count": 5,
   "metadata": {},
   "outputs": [],
   "source": [
    "train = train.set_index('time')\n",
    "test = test.set_index('time')"
   ]
  },
  {
   "cell_type": "code",
   "execution_count": 6,
   "metadata": {},
   "outputs": [],
   "source": [
    "X_train = train.iloc[:,:5]\n",
    "Y_train = train['target']\n",
    "\n",
    "X_test = test.iloc[:,:5]\n",
    "Y_test = test['target']"
   ]
  },
  {
   "cell_type": "code",
   "execution_count": 7,
   "metadata": {},
   "outputs": [
    {
     "name": "stdout",
     "output_type": "stream",
     "text": [
      "[[104.101  104.63   103.779  104.476  103.6076]\n",
      " [104.462  105.194  104.297  105.176  103.8124]\n",
      " [105.178  105.89   101.193  105.658  104.2828]\n",
      " ...\n",
      " [111.425  111.613  111.05   111.385  111.5274]\n",
      " [111.382  111.666  111.354  111.51   111.512 ]\n",
      " [111.518  111.695  111.07   111.096  111.413 ]]\n",
      "Data len:  650\n",
      "[[104.101  104.63   103.779  104.476  103.6076]\n",
      " [104.462  105.194  104.297  105.176  103.8124]\n",
      " [105.178  105.89   101.193  105.658  104.2828]\n",
      " ...\n",
      " [111.425  111.613  111.05   111.385  111.5274]\n",
      " [111.382  111.666  111.354  111.51   111.512 ]\n",
      " [111.518  111.695  111.07   111.096  111.413 ]]\n",
      "Data len:  139\n"
     ]
    },
    {
     "name": "stderr",
     "output_type": "stream",
     "text": [
      "/home/tim0114gap/anaconda3/lib/python3.7/site-packages/ipykernel_launcher.py:1: FutureWarning: Method .as_matrix will be removed in a future version. Use .values instead.\n",
      "  \"\"\"Entry point for launching an IPython kernel.\n",
      "/home/tim0114gap/anaconda3/lib/python3.7/site-packages/ipykernel_launcher.py:5: FutureWarning: Method .as_matrix will be removed in a future version. Use .values instead.\n",
      "  \"\"\"\n"
     ]
    }
   ],
   "source": [
    "X_train = X_train.as_matrix()\n",
    "print(X_train)\n",
    "print(\"Data len: \",len(X_train))\n",
    "\n",
    "X_test = X_test.as_matrix()\n",
    "print(X_train)\n",
    "print(\"Data len: \",len(X_test))\n",
    "\n",
    "# 正規化\n",
    "ms = MinMaxScaler()\n",
    "X_train = ms.fit_transform(X_train)\n",
    "\n",
    "ms = MinMaxScaler()\n",
    "X_test = ms.fit_transform(X_test)"
   ]
  },
  {
   "cell_type": "code",
   "execution_count": 8,
   "metadata": {},
   "outputs": [
    {
     "name": "stdout",
     "output_type": "stream",
     "text": [
      "Y_train Target len:  650\n",
      "Y_train Target len:  139\n"
     ]
    }
   ],
   "source": [
    "c = np.array(Y_train)\n",
    "print(\"Y_train Target len: \",len(Y_train))\n",
    "\n",
    "Y_test = np.array(Y_test)\n",
    "print(\"Y_train Target len: \",len(Y_test))"
   ]
  },
  {
   "cell_type": "code",
   "execution_count": 9,
   "metadata": {},
   "outputs": [],
   "source": [
    "maxlen = 5\n",
    "dataTrain = []\n",
    "targetTrain = []\n",
    "for i in range(0, len(X_train) - maxlen):\n",
    "    dataTrain.append(X_train[i: i + maxlen])\n",
    "    targetTrain.append(Y_train[i + maxlen])\n",
    "\n",
    "dataTest = []\n",
    "targetTest = []\n",
    "for i in range(0, len(X_test) - maxlen):\n",
    "    dataTest.append(X_test[i: i + maxlen])\n",
    "    targetTest.append(Y_test[i + maxlen])"
   ]
  },
  {
   "cell_type": "code",
   "execution_count": 10,
   "metadata": {},
   "outputs": [
    {
     "name": "stdout",
     "output_type": "stream",
     "text": [
      "(645, 5, 5)\n",
      "(645,)\n",
      "(134, 5, 5)\n",
      "(134,)\n"
     ]
    }
   ],
   "source": [
    "X_train = np.array(dataTrain)\n",
    "Y_train = np.array(targetTrain)\n",
    "\n",
    "X_test = np.array(dataTest)\n",
    "Y_test = np.array(targetTest)\n",
    "print(X_train.shape)\n",
    "print(Y_train.shape)\n",
    "print(X_test.shape)\n",
    "print(Y_test.shape)"
   ]
  },
  {
   "cell_type": "code",
   "execution_count": 11,
   "metadata": {},
   "outputs": [],
   "source": [
    "#Y_train = Y_train.reshape(len(Y_train), 1)\n",
    "#Y_test = Y_test.reshape(len(Y_test), 1)\n",
    "\n",
    "#Y_train = to_categorical(Y_train)\n",
    "#Y_test = to_categorical(Y_test)"
   ]
  },
  {
   "cell_type": "code",
   "execution_count": 12,
   "metadata": {},
   "outputs": [
    {
     "name": "stdout",
     "output_type": "stream",
     "text": [
      "(645, 5, 5)\n",
      "(645,)\n",
      "(134, 5, 5)\n",
      "(134,)\n"
     ]
    }
   ],
   "source": [
    "print(X_train.shape)\n",
    "print(Y_train.shape)\n",
    "print(X_test.shape)\n",
    "print(Y_test.shape)"
   ]
  },
  {
   "cell_type": "code",
   "execution_count": 13,
   "metadata": {},
   "outputs": [
    {
     "name": "stdout",
     "output_type": "stream",
     "text": [
      "WARNING:tensorflow:From /home/tim0114gap/anaconda3/lib/python3.7/site-packages/keras/backend/tensorflow_backend.py:74: The name tf.get_default_graph is deprecated. Please use tf.compat.v1.get_default_graph instead.\n",
      "\n",
      "WARNING:tensorflow:From /home/tim0114gap/anaconda3/lib/python3.7/site-packages/keras/backend/tensorflow_backend.py:517: The name tf.placeholder is deprecated. Please use tf.compat.v1.placeholder instead.\n",
      "\n",
      "WARNING:tensorflow:From /home/tim0114gap/anaconda3/lib/python3.7/site-packages/keras/backend/tensorflow_backend.py:4138: The name tf.random_uniform is deprecated. Please use tf.random.uniform instead.\n",
      "\n",
      "WARNING:tensorflow:From /home/tim0114gap/anaconda3/lib/python3.7/site-packages/keras/backend/tensorflow_backend.py:133: The name tf.placeholder_with_default is deprecated. Please use tf.compat.v1.placeholder_with_default instead.\n",
      "\n",
      "WARNING:tensorflow:From /home/tim0114gap/anaconda3/lib/python3.7/site-packages/keras/backend/tensorflow_backend.py:3445: calling dropout (from tensorflow.python.ops.nn_ops) with keep_prob is deprecated and will be removed in a future version.\n",
      "Instructions for updating:\n",
      "Please use `rate` instead of `keep_prob`. Rate should be set to `rate = 1 - keep_prob`.\n"
     ]
    }
   ],
   "source": [
    "'''\n",
    "モデル設定\n",
    "'''\n",
    "length_of_sequence = X_train.shape[1]  # 入力層 = 5\n",
    "in_out_neurons = 2                     # 出力層 = 2\n",
    "n_hidden = 100                         # 隠れ層 = 100\n",
    "\n",
    "model = Sequential()\n",
    "model.add(LSTM(n_hidden, batch_input_shape=(None, length_of_sequence, 5), return_sequences=False))\n",
    "model.add(Dropout(0.25))\n",
    "model.add(Dense(50))\n",
    "model.add(Activation(\"sigmoid\"))\n",
    "model.add(Dense(in_out_neurons))\n",
    "model.add(Activation(\"softmax\"))"
   ]
  },
  {
   "cell_type": "code",
   "execution_count": 14,
   "metadata": {},
   "outputs": [
    {
     "name": "stdout",
     "output_type": "stream",
     "text": [
      "WARNING:tensorflow:From /home/tim0114gap/anaconda3/lib/python3.7/site-packages/keras/optimizers.py:790: The name tf.train.Optimizer is deprecated. Please use tf.compat.v1.train.Optimizer instead.\n",
      "\n",
      "WARNING:tensorflow:From /home/tim0114gap/anaconda3/lib/python3.7/site-packages/keras/backend/tensorflow_backend.py:3341: The name tf.log is deprecated. Please use tf.math.log instead.\n",
      "\n"
     ]
    }
   ],
   "source": [
    "optimizer = Adam(lr = 0.001, beta_1 = 0.9, beta_2 = 0.999)\n",
    "model.compile(loss=\"sparse_categorical_crossentropy\", \n",
    "              optimizer=optimizer, metrics=['acc'])"
   ]
  },
  {
   "cell_type": "code",
   "execution_count": 15,
   "metadata": {},
   "outputs": [
    {
     "name": "stdout",
     "output_type": "stream",
     "text": [
      "_________________________________________________________________\n",
      "Layer (type)                 Output Shape              Param #   \n",
      "=================================================================\n",
      "lstm_1 (LSTM)                (None, 100)               42400     \n",
      "_________________________________________________________________\n",
      "dropout_1 (Dropout)          (None, 100)               0         \n",
      "_________________________________________________________________\n",
      "dense_1 (Dense)              (None, 50)                5050      \n",
      "_________________________________________________________________\n",
      "activation_1 (Activation)    (None, 50)                0         \n",
      "_________________________________________________________________\n",
      "dense_2 (Dense)              (None, 2)                 102       \n",
      "_________________________________________________________________\n",
      "activation_2 (Activation)    (None, 2)                 0         \n",
      "=================================================================\n",
      "Total params: 47,552\n",
      "Trainable params: 47,552\n",
      "Non-trainable params: 0\n",
      "_________________________________________________________________\n"
     ]
    }
   ],
   "source": [
    "#plot_model(model, to_file='model.png')\n",
    "model.summary()"
   ]
  },
  {
   "cell_type": "code",
   "execution_count": 16,
   "metadata": {},
   "outputs": [
    {
     "name": "stdout",
     "output_type": "stream",
     "text": [
      "WARNING:tensorflow:From /home/tim0114gap/anaconda3/lib/python3.7/site-packages/tensorflow/python/ops/math_grad.py:1250: add_dispatch_support.<locals>.wrapper (from tensorflow.python.ops.array_ops) is deprecated and will be removed in a future version.\n",
      "Instructions for updating:\n",
      "Use tf.where in 2.0, which has the same broadcast rule as np.where\n",
      "Train on 516 samples, validate on 129 samples\n",
      "Epoch 1/200\n",
      "516/516 [==============================] - 1s 3ms/step - loss: 0.6964 - acc: 0.5136 - val_loss: 0.6922 - val_acc: 0.5271\n",
      "Epoch 2/200\n",
      "516/516 [==============================] - 0s 557us/step - loss: 0.6953 - acc: 0.4942 - val_loss: 0.6912 - val_acc: 0.5349\n",
      "Epoch 3/200\n",
      "516/516 [==============================] - 0s 554us/step - loss: 0.6955 - acc: 0.5174 - val_loss: 0.6946 - val_acc: 0.5271\n",
      "Epoch 4/200\n",
      "516/516 [==============================] - 0s 546us/step - loss: 0.6907 - acc: 0.5484 - val_loss: 0.6884 - val_acc: 0.5271\n",
      "Epoch 5/200\n",
      "516/516 [==============================] - 0s 554us/step - loss: 0.6862 - acc: 0.5523 - val_loss: 0.6870 - val_acc: 0.5349\n",
      "Epoch 6/200\n",
      "516/516 [==============================] - 0s 556us/step - loss: 0.6830 - acc: 0.5368 - val_loss: 0.6797 - val_acc: 0.6434\n",
      "Epoch 7/200\n",
      "516/516 [==============================] - 0s 549us/step - loss: 0.6832 - acc: 0.5640 - val_loss: 0.6798 - val_acc: 0.5969\n",
      "Epoch 8/200\n",
      "516/516 [==============================] - 0s 551us/step - loss: 0.6746 - acc: 0.5756 - val_loss: 0.7014 - val_acc: 0.5271\n",
      "Epoch 9/200\n",
      "516/516 [==============================] - 0s 554us/step - loss: 0.7036 - acc: 0.5271 - val_loss: 0.6860 - val_acc: 0.5271\n",
      "Epoch 10/200\n",
      "516/516 [==============================] - 0s 553us/step - loss: 0.6791 - acc: 0.5543 - val_loss: 0.6764 - val_acc: 0.6202\n",
      "Epoch 11/200\n",
      "516/516 [==============================] - 0s 551us/step - loss: 0.6782 - acc: 0.5601 - val_loss: 0.6687 - val_acc: 0.5736\n",
      "Epoch 12/200\n",
      "516/516 [==============================] - 0s 548us/step - loss: 0.6732 - acc: 0.6047 - val_loss: 0.6642 - val_acc: 0.6589\n",
      "Epoch 13/200\n",
      "516/516 [==============================] - 0s 553us/step - loss: 0.6612 - acc: 0.5833 - val_loss: 0.6572 - val_acc: 0.6899\n",
      "Epoch 14/200\n",
      "516/516 [==============================] - 0s 553us/step - loss: 0.6570 - acc: 0.5969 - val_loss: 0.6584 - val_acc: 0.6512\n",
      "Epoch 15/200\n",
      "516/516 [==============================] - 0s 549us/step - loss: 0.6478 - acc: 0.6376 - val_loss: 0.6343 - val_acc: 0.6977\n",
      "Epoch 16/200\n",
      "516/516 [==============================] - 0s 551us/step - loss: 0.6374 - acc: 0.6182 - val_loss: 0.6215 - val_acc: 0.7054\n",
      "Epoch 17/200\n",
      "516/516 [==============================] - 0s 556us/step - loss: 0.6554 - acc: 0.5988 - val_loss: 0.6286 - val_acc: 0.6977\n",
      "Epoch 18/200\n",
      "516/516 [==============================] - 0s 552us/step - loss: 0.6415 - acc: 0.6124 - val_loss: 0.6402 - val_acc: 0.6512\n",
      "Epoch 19/200\n",
      "516/516 [==============================] - 0s 544us/step - loss: 0.6515 - acc: 0.5853 - val_loss: 0.6433 - val_acc: 0.6124\n",
      "Epoch 20/200\n",
      "516/516 [==============================] - 0s 552us/step - loss: 0.6167 - acc: 0.6318 - val_loss: 0.6188 - val_acc: 0.7054\n",
      "Epoch 21/200\n",
      "516/516 [==============================] - 0s 548us/step - loss: 0.6012 - acc: 0.6802 - val_loss: 0.5834 - val_acc: 0.7054\n",
      "Epoch 22/200\n",
      "516/516 [==============================] - 0s 546us/step - loss: 0.5722 - acc: 0.7093 - val_loss: 0.5530 - val_acc: 0.7209\n",
      "Epoch 23/200\n",
      "516/516 [==============================] - 0s 547us/step - loss: 0.5657 - acc: 0.7016 - val_loss: 0.5506 - val_acc: 0.7364\n",
      "Epoch 24/200\n",
      "516/516 [==============================] - 0s 554us/step - loss: 0.5762 - acc: 0.7132 - val_loss: 0.5399 - val_acc: 0.7674\n",
      "Epoch 25/200\n",
      "516/516 [==============================] - 0s 546us/step - loss: 0.5443 - acc: 0.7306 - val_loss: 0.5277 - val_acc: 0.7364\n",
      "Epoch 26/200\n",
      "516/516 [==============================] - 0s 546us/step - loss: 0.5862 - acc: 0.6996 - val_loss: 0.5333 - val_acc: 0.7519\n",
      "Epoch 27/200\n",
      "516/516 [==============================] - 0s 550us/step - loss: 0.5613 - acc: 0.7074 - val_loss: 0.5716 - val_acc: 0.7054\n",
      "Epoch 28/200\n",
      "516/516 [==============================] - 0s 541us/step - loss: 0.5374 - acc: 0.7035 - val_loss: 0.5332 - val_acc: 0.7752\n",
      "Epoch 29/200\n",
      "516/516 [==============================] - 0s 555us/step - loss: 0.5089 - acc: 0.7597 - val_loss: 0.5030 - val_acc: 0.7752\n",
      "Epoch 30/200\n",
      "516/516 [==============================] - 0s 544us/step - loss: 0.5052 - acc: 0.7364 - val_loss: 0.5459 - val_acc: 0.6744\n",
      "Epoch 31/200\n",
      "516/516 [==============================] - 0s 549us/step - loss: 0.5155 - acc: 0.7403 - val_loss: 0.5191 - val_acc: 0.6977\n",
      "Epoch 32/200\n",
      "516/516 [==============================] - 0s 545us/step - loss: 0.5234 - acc: 0.7500 - val_loss: 0.5159 - val_acc: 0.7209\n",
      "Epoch 33/200\n",
      "516/516 [==============================] - 0s 552us/step - loss: 0.5207 - acc: 0.7694 - val_loss: 0.5552 - val_acc: 0.6977\n",
      "Epoch 34/200\n",
      "516/516 [==============================] - 0s 556us/step - loss: 0.5100 - acc: 0.7849 - val_loss: 0.4762 - val_acc: 0.8217\n",
      "Epoch 35/200\n",
      "516/516 [==============================] - 0s 549us/step - loss: 0.4790 - acc: 0.7733 - val_loss: 0.5076 - val_acc: 0.6977\n",
      "Epoch 36/200\n",
      "516/516 [==============================] - 0s 550us/step - loss: 0.4864 - acc: 0.7733 - val_loss: 0.4493 - val_acc: 0.8062\n",
      "Epoch 37/200\n",
      "516/516 [==============================] - 0s 553us/step - loss: 0.4714 - acc: 0.7791 - val_loss: 0.4675 - val_acc: 0.8217\n",
      "Epoch 38/200\n",
      "516/516 [==============================] - 0s 546us/step - loss: 0.4594 - acc: 0.7752 - val_loss: 0.4546 - val_acc: 0.8217\n",
      "Epoch 39/200\n",
      "516/516 [==============================] - 0s 552us/step - loss: 0.4734 - acc: 0.7616 - val_loss: 0.4533 - val_acc: 0.7519\n",
      "Epoch 40/200\n",
      "516/516 [==============================] - 0s 553us/step - loss: 0.5447 - acc: 0.7287 - val_loss: 0.5358 - val_acc: 0.6744\n",
      "Epoch 41/200\n",
      "516/516 [==============================] - 0s 549us/step - loss: 0.5005 - acc: 0.7694 - val_loss: 0.4585 - val_acc: 0.7907\n",
      "Epoch 42/200\n",
      "516/516 [==============================] - 0s 550us/step - loss: 0.4610 - acc: 0.7810 - val_loss: 0.4576 - val_acc: 0.8682\n",
      "Epoch 43/200\n",
      "516/516 [==============================] - 0s 548us/step - loss: 0.4538 - acc: 0.7849 - val_loss: 0.4360 - val_acc: 0.7674\n",
      "Epoch 44/200\n",
      "516/516 [==============================] - 0s 550us/step - loss: 0.4609 - acc: 0.7849 - val_loss: 0.4395 - val_acc: 0.7674\n",
      "Epoch 45/200\n",
      "516/516 [==============================] - 0s 554us/step - loss: 0.4268 - acc: 0.8275 - val_loss: 0.4711 - val_acc: 0.7364\n",
      "Epoch 46/200\n",
      "516/516 [==============================] - 0s 542us/step - loss: 0.4693 - acc: 0.7597 - val_loss: 0.4467 - val_acc: 0.7597\n",
      "Epoch 47/200\n",
      "516/516 [==============================] - 0s 544us/step - loss: 0.4346 - acc: 0.8120 - val_loss: 0.4964 - val_acc: 0.7287\n",
      "Epoch 48/200\n",
      "516/516 [==============================] - 0s 551us/step - loss: 0.4740 - acc: 0.7713 - val_loss: 0.5690 - val_acc: 0.6357\n",
      "Epoch 49/200\n",
      "516/516 [==============================] - 0s 553us/step - loss: 0.4856 - acc: 0.7810 - val_loss: 0.4245 - val_acc: 0.8140\n",
      "Epoch 50/200\n",
      "516/516 [==============================] - 0s 551us/step - loss: 0.4504 - acc: 0.7791 - val_loss: 0.4187 - val_acc: 0.7984\n",
      "Epoch 51/200\n",
      "516/516 [==============================] - 0s 549us/step - loss: 0.4327 - acc: 0.7888 - val_loss: 0.4194 - val_acc: 0.8682\n",
      "Epoch 52/200\n",
      "516/516 [==============================] - 0s 541us/step - loss: 0.4438 - acc: 0.7965 - val_loss: 0.4444 - val_acc: 0.7519\n",
      "Epoch 53/200\n",
      "516/516 [==============================] - 0s 546us/step - loss: 0.4548 - acc: 0.7888 - val_loss: 0.5254 - val_acc: 0.6822\n",
      "Epoch 54/200\n",
      "516/516 [==============================] - 0s 541us/step - loss: 0.4925 - acc: 0.7616 - val_loss: 0.4214 - val_acc: 0.8372\n",
      "Epoch 55/200\n",
      "516/516 [==============================] - 0s 538us/step - loss: 0.4533 - acc: 0.7926 - val_loss: 0.4468 - val_acc: 0.8372\n",
      "Epoch 56/200\n",
      "516/516 [==============================] - 0s 544us/step - loss: 0.4335 - acc: 0.7965 - val_loss: 0.4169 - val_acc: 0.7674\n",
      "Epoch 57/200\n",
      "516/516 [==============================] - 0s 554us/step - loss: 0.4463 - acc: 0.7888 - val_loss: 0.4254 - val_acc: 0.7752\n",
      "Epoch 58/200\n"
     ]
    },
    {
     "name": "stdout",
     "output_type": "stream",
     "text": [
      "516/516 [==============================] - 0s 567us/step - loss: 0.4426 - acc: 0.7829 - val_loss: 0.4099 - val_acc: 0.8372\n",
      "Epoch 59/200\n",
      "516/516 [==============================] - 0s 561us/step - loss: 0.4680 - acc: 0.7771 - val_loss: 0.4376 - val_acc: 0.8372\n",
      "Epoch 60/200\n",
      "516/516 [==============================] - 0s 551us/step - loss: 0.4274 - acc: 0.8043 - val_loss: 0.4071 - val_acc: 0.8372\n",
      "Epoch 61/200\n",
      "516/516 [==============================] - 0s 541us/step - loss: 0.4338 - acc: 0.7907 - val_loss: 0.4972 - val_acc: 0.7209\n",
      "Epoch 62/200\n",
      "516/516 [==============================] - 0s 540us/step - loss: 0.4098 - acc: 0.8120 - val_loss: 0.4072 - val_acc: 0.8450\n",
      "Epoch 63/200\n",
      "516/516 [==============================] - 0s 542us/step - loss: 0.4296 - acc: 0.7868 - val_loss: 0.4141 - val_acc: 0.8372\n",
      "Epoch 64/200\n",
      "516/516 [==============================] - 0s 543us/step - loss: 0.4265 - acc: 0.7984 - val_loss: 0.3995 - val_acc: 0.8605\n",
      "Epoch 65/200\n",
      "516/516 [==============================] - 0s 544us/step - loss: 0.4009 - acc: 0.8217 - val_loss: 0.4049 - val_acc: 0.8527\n",
      "Epoch 66/200\n",
      "516/516 [==============================] - 0s 549us/step - loss: 0.4128 - acc: 0.8159 - val_loss: 0.3908 - val_acc: 0.8372\n",
      "Epoch 67/200\n",
      "516/516 [==============================] - 0s 548us/step - loss: 0.4217 - acc: 0.7984 - val_loss: 0.4039 - val_acc: 0.8450\n",
      "Epoch 68/200\n",
      "516/516 [==============================] - 0s 545us/step - loss: 0.4012 - acc: 0.8275 - val_loss: 0.3970 - val_acc: 0.7984\n",
      "Epoch 69/200\n",
      "516/516 [==============================] - 0s 546us/step - loss: 0.4247 - acc: 0.7984 - val_loss: 0.3897 - val_acc: 0.8372\n",
      "Epoch 70/200\n",
      "516/516 [==============================] - 0s 546us/step - loss: 0.4073 - acc: 0.8236 - val_loss: 0.4225 - val_acc: 0.7597\n",
      "Epoch 71/200\n",
      "516/516 [==============================] - 0s 544us/step - loss: 0.4120 - acc: 0.8314 - val_loss: 0.4296 - val_acc: 0.7519\n",
      "Epoch 72/200\n",
      "516/516 [==============================] - 0s 543us/step - loss: 0.4266 - acc: 0.8101 - val_loss: 0.4075 - val_acc: 0.7829\n",
      "Epoch 73/200\n",
      "516/516 [==============================] - 0s 545us/step - loss: 0.4140 - acc: 0.8120 - val_loss: 0.4015 - val_acc: 0.8527\n",
      "Epoch 74/200\n",
      "516/516 [==============================] - 0s 547us/step - loss: 0.4264 - acc: 0.7984 - val_loss: 0.3931 - val_acc: 0.8372\n",
      "Epoch 75/200\n",
      "516/516 [==============================] - 0s 553us/step - loss: 0.3912 - acc: 0.8236 - val_loss: 0.3814 - val_acc: 0.8527\n",
      "Epoch 76/200\n",
      "516/516 [==============================] - 0s 553us/step - loss: 0.4152 - acc: 0.8178 - val_loss: 0.3807 - val_acc: 0.8450\n",
      "Epoch 77/200\n",
      "516/516 [==============================] - 0s 563us/step - loss: 0.3999 - acc: 0.8217 - val_loss: 0.3878 - val_acc: 0.8527\n",
      "Epoch 78/200\n",
      "516/516 [==============================] - 0s 549us/step - loss: 0.4046 - acc: 0.8140 - val_loss: 0.3833 - val_acc: 0.8527\n",
      "Epoch 79/200\n",
      "516/516 [==============================] - 0s 546us/step - loss: 0.3968 - acc: 0.8140 - val_loss: 0.3821 - val_acc: 0.8450\n",
      "Epoch 80/200\n",
      "516/516 [==============================] - 0s 549us/step - loss: 0.3865 - acc: 0.8295 - val_loss: 0.3850 - val_acc: 0.8217\n",
      "Epoch 81/200\n",
      "516/516 [==============================] - 0s 553us/step - loss: 0.3920 - acc: 0.8217 - val_loss: 0.3754 - val_acc: 0.8450\n",
      "Epoch 82/200\n",
      "516/516 [==============================] - 0s 547us/step - loss: 0.4001 - acc: 0.8198 - val_loss: 0.3909 - val_acc: 0.7984\n",
      "Epoch 83/200\n",
      "516/516 [==============================] - 0s 544us/step - loss: 0.3926 - acc: 0.8120 - val_loss: 0.4143 - val_acc: 0.7829\n",
      "Epoch 84/200\n",
      "516/516 [==============================] - 0s 551us/step - loss: 0.4058 - acc: 0.8178 - val_loss: 0.3749 - val_acc: 0.8527\n",
      "Epoch 85/200\n",
      "516/516 [==============================] - 0s 546us/step - loss: 0.4080 - acc: 0.8101 - val_loss: 0.4005 - val_acc: 0.8372\n",
      "Epoch 86/200\n",
      "516/516 [==============================] - 0s 545us/step - loss: 0.4052 - acc: 0.8159 - val_loss: 0.4159 - val_acc: 0.7829\n",
      "Epoch 87/200\n",
      "516/516 [==============================] - 0s 550us/step - loss: 0.4026 - acc: 0.8275 - val_loss: 0.3837 - val_acc: 0.8527\n",
      "Epoch 88/200\n",
      "516/516 [==============================] - 0s 546us/step - loss: 0.3958 - acc: 0.8275 - val_loss: 0.3811 - val_acc: 0.8450\n",
      "Epoch 89/200\n",
      "516/516 [==============================] - 0s 544us/step - loss: 0.3942 - acc: 0.8275 - val_loss: 0.3875 - val_acc: 0.8372\n",
      "Epoch 90/200\n",
      "516/516 [==============================] - 0s 546us/step - loss: 0.4010 - acc: 0.8198 - val_loss: 0.4045 - val_acc: 0.8295\n",
      "Epoch 91/200\n",
      "516/516 [==============================] - 0s 556us/step - loss: 0.4017 - acc: 0.8159 - val_loss: 0.4187 - val_acc: 0.8140\n",
      "Epoch 92/200\n",
      "516/516 [==============================] - 0s 551us/step - loss: 0.4023 - acc: 0.8275 - val_loss: 0.3900 - val_acc: 0.8295\n",
      "Epoch 93/200\n",
      "516/516 [==============================] - 0s 546us/step - loss: 0.4167 - acc: 0.8004 - val_loss: 0.3818 - val_acc: 0.8450\n",
      "Epoch 94/200\n",
      "516/516 [==============================] - 0s 545us/step - loss: 0.4067 - acc: 0.8275 - val_loss: 0.3798 - val_acc: 0.8527\n",
      "Epoch 95/200\n",
      "516/516 [==============================] - 0s 552us/step - loss: 0.3837 - acc: 0.8314 - val_loss: 0.3953 - val_acc: 0.7907\n",
      "Epoch 96/200\n",
      "516/516 [==============================] - 0s 557us/step - loss: 0.3908 - acc: 0.8353 - val_loss: 0.4550 - val_acc: 0.7829\n",
      "Epoch 97/200\n",
      "516/516 [==============================] - 0s 551us/step - loss: 0.4104 - acc: 0.8275 - val_loss: 0.4064 - val_acc: 0.7907\n",
      "Epoch 98/200\n",
      "516/516 [==============================] - 0s 546us/step - loss: 0.3997 - acc: 0.8236 - val_loss: 0.3802 - val_acc: 0.8450\n",
      "Epoch 99/200\n",
      "516/516 [==============================] - 0s 550us/step - loss: 0.3913 - acc: 0.8353 - val_loss: 0.3968 - val_acc: 0.8450\n",
      "Epoch 100/200\n",
      "516/516 [==============================] - 0s 548us/step - loss: 0.4155 - acc: 0.8043 - val_loss: 0.3748 - val_acc: 0.8527\n",
      "Epoch 101/200\n",
      "516/516 [==============================] - 0s 548us/step - loss: 0.3784 - acc: 0.8450 - val_loss: 0.3712 - val_acc: 0.8527\n",
      "Epoch 102/200\n",
      "516/516 [==============================] - 0s 545us/step - loss: 0.3912 - acc: 0.8159 - val_loss: 0.3697 - val_acc: 0.8527\n",
      "Epoch 103/200\n",
      "516/516 [==============================] - 0s 548us/step - loss: 0.3924 - acc: 0.8391 - val_loss: 0.3765 - val_acc: 0.8450\n",
      "Epoch 104/200\n",
      "516/516 [==============================] - 0s 550us/step - loss: 0.3881 - acc: 0.8159 - val_loss: 0.4221 - val_acc: 0.8062\n",
      "Epoch 105/200\n",
      "516/516 [==============================] - 0s 561us/step - loss: 0.3842 - acc: 0.8178 - val_loss: 0.4127 - val_acc: 0.8217\n",
      "Epoch 106/200\n",
      "516/516 [==============================] - 0s 549us/step - loss: 0.3781 - acc: 0.8314 - val_loss: 0.4019 - val_acc: 0.8372\n",
      "Epoch 107/200\n",
      "516/516 [==============================] - 0s 549us/step - loss: 0.3956 - acc: 0.8178 - val_loss: 0.4129 - val_acc: 0.8140\n",
      "Epoch 108/200\n",
      "516/516 [==============================] - 0s 552us/step - loss: 0.3899 - acc: 0.8275 - val_loss: 0.4908 - val_acc: 0.6977\n",
      "Epoch 109/200\n",
      "516/516 [==============================] - 0s 550us/step - loss: 0.3953 - acc: 0.8256 - val_loss: 0.3729 - val_acc: 0.8450\n",
      "Epoch 110/200\n",
      "516/516 [==============================] - 0s 541us/step - loss: 0.3835 - acc: 0.8217 - val_loss: 0.3843 - val_acc: 0.8062\n",
      "Epoch 111/200\n",
      "516/516 [==============================] - 0s 553us/step - loss: 0.4258 - acc: 0.7926 - val_loss: 0.3767 - val_acc: 0.8605\n",
      "Epoch 112/200\n",
      "516/516 [==============================] - 0s 543us/step - loss: 0.4055 - acc: 0.7888 - val_loss: 0.3753 - val_acc: 0.8605\n",
      "Epoch 113/200\n",
      "516/516 [==============================] - 0s 543us/step - loss: 0.3775 - acc: 0.8081 - val_loss: 0.3886 - val_acc: 0.8450\n",
      "Epoch 114/200\n",
      "516/516 [==============================] - 0s 552us/step - loss: 0.3783 - acc: 0.8295 - val_loss: 0.3813 - val_acc: 0.8295\n",
      "Epoch 115/200\n",
      "516/516 [==============================] - 0s 540us/step - loss: 0.4021 - acc: 0.8314 - val_loss: 0.3785 - val_acc: 0.8450\n",
      "Epoch 116/200\n",
      "516/516 [==============================] - 0s 545us/step - loss: 0.3781 - acc: 0.8178 - val_loss: 0.4028 - val_acc: 0.8217\n",
      "Epoch 117/200\n",
      "516/516 [==============================] - 0s 548us/step - loss: 0.3833 - acc: 0.8314 - val_loss: 0.4143 - val_acc: 0.7829\n",
      "Epoch 118/200\n"
     ]
    },
    {
     "name": "stdout",
     "output_type": "stream",
     "text": [
      "516/516 [==============================] - 0s 548us/step - loss: 0.3981 - acc: 0.8140 - val_loss: 0.3790 - val_acc: 0.8372\n",
      "Epoch 119/200\n",
      "516/516 [==============================] - 0s 543us/step - loss: 0.3894 - acc: 0.8236 - val_loss: 0.3977 - val_acc: 0.8295\n",
      "Epoch 120/200\n",
      "516/516 [==============================] - 0s 541us/step - loss: 0.3816 - acc: 0.8333 - val_loss: 0.3632 - val_acc: 0.8527\n",
      "Epoch 121/200\n",
      "516/516 [==============================] - 0s 540us/step - loss: 0.3733 - acc: 0.8314 - val_loss: 0.3630 - val_acc: 0.8450\n",
      "Epoch 122/200\n",
      "516/516 [==============================] - 0s 535us/step - loss: 0.3839 - acc: 0.8275 - val_loss: 0.3732 - val_acc: 0.8372\n",
      "Epoch 123/200\n",
      "516/516 [==============================] - 0s 548us/step - loss: 0.3746 - acc: 0.8275 - val_loss: 0.3756 - val_acc: 0.8450\n",
      "Epoch 124/200\n",
      "516/516 [==============================] - 0s 542us/step - loss: 0.3737 - acc: 0.8275 - val_loss: 0.3705 - val_acc: 0.8450\n",
      "Epoch 125/200\n",
      "516/516 [==============================] - 0s 548us/step - loss: 0.3604 - acc: 0.8508 - val_loss: 0.3580 - val_acc: 0.8527\n",
      "Epoch 126/200\n",
      "516/516 [==============================] - 0s 547us/step - loss: 0.3684 - acc: 0.8353 - val_loss: 0.3598 - val_acc: 0.8372\n",
      "Epoch 127/200\n",
      "516/516 [==============================] - 0s 540us/step - loss: 0.3838 - acc: 0.8159 - val_loss: 0.3735 - val_acc: 0.8372\n",
      "Epoch 128/200\n",
      "516/516 [==============================] - 0s 539us/step - loss: 0.3703 - acc: 0.8353 - val_loss: 0.3633 - val_acc: 0.8450\n",
      "Epoch 129/200\n",
      "516/516 [==============================] - 0s 538us/step - loss: 0.3618 - acc: 0.8469 - val_loss: 0.3644 - val_acc: 0.8527\n",
      "Epoch 130/200\n",
      "516/516 [==============================] - 0s 579us/step - loss: 0.3762 - acc: 0.8353 - val_loss: 0.3784 - val_acc: 0.8372\n",
      "Epoch 131/200\n",
      "516/516 [==============================] - 0s 555us/step - loss: 0.3636 - acc: 0.8314 - val_loss: 0.3595 - val_acc: 0.8605\n",
      "Epoch 132/200\n",
      "516/516 [==============================] - 0s 591us/step - loss: 0.3645 - acc: 0.8295 - val_loss: 0.3586 - val_acc: 0.8527\n",
      "Epoch 133/200\n",
      "516/516 [==============================] - 0s 575us/step - loss: 0.3805 - acc: 0.8314 - val_loss: 0.3962 - val_acc: 0.8217\n",
      "Epoch 134/200\n",
      "516/516 [==============================] - 0s 536us/step - loss: 0.3686 - acc: 0.8372 - val_loss: 0.3706 - val_acc: 0.8450\n",
      "Epoch 135/200\n",
      "516/516 [==============================] - 0s 544us/step - loss: 0.3694 - acc: 0.8295 - val_loss: 0.3813 - val_acc: 0.8372\n",
      "Epoch 136/200\n",
      "516/516 [==============================] - 0s 540us/step - loss: 0.3695 - acc: 0.8372 - val_loss: 0.3687 - val_acc: 0.8372\n",
      "Epoch 137/200\n",
      "516/516 [==============================] - 0s 550us/step - loss: 0.3500 - acc: 0.8411 - val_loss: 0.3584 - val_acc: 0.8605\n",
      "Epoch 138/200\n",
      "516/516 [==============================] - 0s 550us/step - loss: 0.3726 - acc: 0.8353 - val_loss: 0.3650 - val_acc: 0.8527\n",
      "Epoch 139/200\n",
      "516/516 [==============================] - 0s 544us/step - loss: 0.3725 - acc: 0.8295 - val_loss: 0.3587 - val_acc: 0.8527\n",
      "Epoch 140/200\n",
      "516/516 [==============================] - 0s 543us/step - loss: 0.3539 - acc: 0.8488 - val_loss: 0.3620 - val_acc: 0.8605\n",
      "Epoch 141/200\n",
      "516/516 [==============================] - 0s 543us/step - loss: 0.3645 - acc: 0.8353 - val_loss: 0.3987 - val_acc: 0.7907\n",
      "Epoch 142/200\n",
      "516/516 [==============================] - 0s 545us/step - loss: 0.3574 - acc: 0.8488 - val_loss: 0.3601 - val_acc: 0.8527\n",
      "Epoch 143/200\n",
      "516/516 [==============================] - 0s 545us/step - loss: 0.3808 - acc: 0.8314 - val_loss: 0.3667 - val_acc: 0.8372\n",
      "Epoch 144/200\n",
      "516/516 [==============================] - 0s 545us/step - loss: 0.3889 - acc: 0.8198 - val_loss: 0.3650 - val_acc: 0.8372\n",
      "Epoch 145/200\n",
      "516/516 [==============================] - 0s 539us/step - loss: 0.3547 - acc: 0.8527 - val_loss: 0.3568 - val_acc: 0.8527\n",
      "Epoch 146/200\n",
      "516/516 [==============================] - 0s 545us/step - loss: 0.3527 - acc: 0.8430 - val_loss: 0.3557 - val_acc: 0.8450\n",
      "Epoch 147/200\n",
      "516/516 [==============================] - 0s 552us/step - loss: 0.3607 - acc: 0.8430 - val_loss: 0.3554 - val_acc: 0.8372\n",
      "Epoch 148/200\n",
      "516/516 [==============================] - 0s 546us/step - loss: 0.3728 - acc: 0.8450 - val_loss: 0.3605 - val_acc: 0.8682\n",
      "Epoch 149/200\n",
      "516/516 [==============================] - 0s 549us/step - loss: 0.3526 - acc: 0.8411 - val_loss: 0.4006 - val_acc: 0.8140\n",
      "Epoch 150/200\n",
      "516/516 [==============================] - 0s 550us/step - loss: 0.3600 - acc: 0.8450 - val_loss: 0.4985 - val_acc: 0.7054\n",
      "Epoch 151/200\n",
      "516/516 [==============================] - 0s 549us/step - loss: 0.4013 - acc: 0.8120 - val_loss: 0.3917 - val_acc: 0.8217\n",
      "Epoch 152/200\n",
      "516/516 [==============================] - 0s 557us/step - loss: 0.3546 - acc: 0.8430 - val_loss: 0.3573 - val_acc: 0.8372\n",
      "Epoch 153/200\n",
      "516/516 [==============================] - 0s 553us/step - loss: 0.3541 - acc: 0.8430 - val_loss: 0.3636 - val_acc: 0.8682\n",
      "Epoch 154/200\n",
      "516/516 [==============================] - 0s 545us/step - loss: 0.3638 - acc: 0.8450 - val_loss: 0.3589 - val_acc: 0.8450\n",
      "Epoch 155/200\n",
      "516/516 [==============================] - 0s 552us/step - loss: 0.3473 - acc: 0.8391 - val_loss: 0.3654 - val_acc: 0.8295\n",
      "Epoch 156/200\n",
      "516/516 [==============================] - 0s 549us/step - loss: 0.3550 - acc: 0.8333 - val_loss: 0.3598 - val_acc: 0.8605\n",
      "Epoch 157/200\n",
      "516/516 [==============================] - 0s 550us/step - loss: 0.3515 - acc: 0.8198 - val_loss: 0.3720 - val_acc: 0.8295\n",
      "Epoch 158/200\n",
      "516/516 [==============================] - 0s 550us/step - loss: 0.3625 - acc: 0.8353 - val_loss: 0.3579 - val_acc: 0.8450\n",
      "Epoch 159/200\n",
      "516/516 [==============================] - 0s 545us/step - loss: 0.3655 - acc: 0.8391 - val_loss: 0.3493 - val_acc: 0.8450\n",
      "Epoch 160/200\n",
      "516/516 [==============================] - 0s 548us/step - loss: 0.3474 - acc: 0.8372 - val_loss: 0.3590 - val_acc: 0.8372\n",
      "Epoch 161/200\n",
      "516/516 [==============================] - 0s 549us/step - loss: 0.3780 - acc: 0.8372 - val_loss: 0.4544 - val_acc: 0.7752\n",
      "Epoch 162/200\n",
      "516/516 [==============================] - 0s 552us/step - loss: 0.3552 - acc: 0.8411 - val_loss: 0.3529 - val_acc: 0.8450\n",
      "Epoch 163/200\n",
      "516/516 [==============================] - 0s 546us/step - loss: 0.3687 - acc: 0.8333 - val_loss: 0.3773 - val_acc: 0.8140\n",
      "Epoch 164/200\n",
      "516/516 [==============================] - 0s 551us/step - loss: 0.3764 - acc: 0.8314 - val_loss: 0.4241 - val_acc: 0.7984\n",
      "Epoch 165/200\n",
      "516/516 [==============================] - 0s 551us/step - loss: 0.3501 - acc: 0.8488 - val_loss: 0.3609 - val_acc: 0.8450\n",
      "Epoch 166/200\n",
      "516/516 [==============================] - 0s 544us/step - loss: 0.3454 - acc: 0.8585 - val_loss: 0.3516 - val_acc: 0.8527\n",
      "Epoch 167/200\n",
      "516/516 [==============================] - 0s 545us/step - loss: 0.3400 - acc: 0.8508 - val_loss: 0.3660 - val_acc: 0.8217\n",
      "Epoch 168/200\n",
      "516/516 [==============================] - 0s 543us/step - loss: 0.3442 - acc: 0.8314 - val_loss: 0.3841 - val_acc: 0.7907\n",
      "Epoch 169/200\n",
      "516/516 [==============================] - 0s 546us/step - loss: 0.3757 - acc: 0.8256 - val_loss: 0.3623 - val_acc: 0.8527\n",
      "Epoch 170/200\n",
      "516/516 [==============================] - 0s 554us/step - loss: 0.3665 - acc: 0.8353 - val_loss: 0.4049 - val_acc: 0.7752\n",
      "Epoch 171/200\n",
      "516/516 [==============================] - 0s 547us/step - loss: 0.3642 - acc: 0.8333 - val_loss: 0.3819 - val_acc: 0.8062\n",
      "Epoch 172/200\n",
      "516/516 [==============================] - 0s 559us/step - loss: 0.3570 - acc: 0.8450 - val_loss: 0.3574 - val_acc: 0.8527\n",
      "Epoch 173/200\n",
      "516/516 [==============================] - 0s 538us/step - loss: 0.3377 - acc: 0.8372 - val_loss: 0.4164 - val_acc: 0.7597\n",
      "Epoch 174/200\n",
      "516/516 [==============================] - 0s 543us/step - loss: 0.3673 - acc: 0.8353 - val_loss: 0.3807 - val_acc: 0.8527\n",
      "Epoch 175/200\n",
      "516/516 [==============================] - 0s 537us/step - loss: 0.3513 - acc: 0.8469 - val_loss: 0.3686 - val_acc: 0.8217\n",
      "Epoch 176/200\n",
      "516/516 [==============================] - 0s 541us/step - loss: 0.3597 - acc: 0.8372 - val_loss: 0.3516 - val_acc: 0.8605\n",
      "Epoch 177/200\n",
      "516/516 [==============================] - 0s 544us/step - loss: 0.3463 - acc: 0.8411 - val_loss: 0.3470 - val_acc: 0.8450\n"
     ]
    },
    {
     "name": "stdout",
     "output_type": "stream",
     "text": [
      "Epoch 178/200\n",
      "516/516 [==============================] - 0s 540us/step - loss: 0.3365 - acc: 0.8624 - val_loss: 0.3683 - val_acc: 0.8295\n",
      "Epoch 179/200\n",
      "516/516 [==============================] - 0s 548us/step - loss: 0.3543 - acc: 0.8488 - val_loss: 0.3466 - val_acc: 0.8372\n",
      "Epoch 180/200\n",
      "516/516 [==============================] - 0s 549us/step - loss: 0.3408 - acc: 0.8469 - val_loss: 0.3566 - val_acc: 0.8295\n",
      "Epoch 181/200\n",
      "516/516 [==============================] - 0s 547us/step - loss: 0.3377 - acc: 0.8469 - val_loss: 0.3665 - val_acc: 0.8450\n",
      "Epoch 182/200\n",
      "516/516 [==============================] - 0s 547us/step - loss: 0.3361 - acc: 0.8333 - val_loss: 0.3474 - val_acc: 0.8372\n",
      "Epoch 183/200\n",
      "516/516 [==============================] - 0s 564us/step - loss: 0.3317 - acc: 0.8721 - val_loss: 0.3858 - val_acc: 0.8295\n",
      "Epoch 184/200\n",
      "516/516 [==============================] - 0s 546us/step - loss: 0.3808 - acc: 0.8198 - val_loss: 0.3656 - val_acc: 0.8372\n",
      "Epoch 185/200\n",
      "516/516 [==============================] - 0s 544us/step - loss: 0.3543 - acc: 0.8314 - val_loss: 0.3524 - val_acc: 0.8372\n",
      "Epoch 186/200\n",
      "516/516 [==============================] - 0s 550us/step - loss: 0.3307 - acc: 0.8372 - val_loss: 0.3463 - val_acc: 0.8372\n",
      "Epoch 187/200\n",
      "516/516 [==============================] - 0s 551us/step - loss: 0.3392 - acc: 0.8411 - val_loss: 0.3869 - val_acc: 0.8140\n",
      "Epoch 188/200\n",
      "516/516 [==============================] - 0s 547us/step - loss: 0.3384 - acc: 0.8314 - val_loss: 0.3681 - val_acc: 0.8372\n",
      "Epoch 189/200\n",
      "516/516 [==============================] - 0s 554us/step - loss: 0.3387 - acc: 0.8450 - val_loss: 0.3527 - val_acc: 0.8372\n",
      "Epoch 190/200\n",
      "516/516 [==============================] - 0s 549us/step - loss: 0.3331 - acc: 0.8469 - val_loss: 0.3453 - val_acc: 0.8450\n",
      "Epoch 191/200\n",
      "516/516 [==============================] - 0s 545us/step - loss: 0.3341 - acc: 0.8333 - val_loss: 0.4068 - val_acc: 0.8140\n",
      "Epoch 192/200\n",
      "516/516 [==============================] - 0s 546us/step - loss: 0.3760 - acc: 0.8295 - val_loss: 0.3659 - val_acc: 0.8450\n",
      "Epoch 193/200\n",
      "516/516 [==============================] - 0s 553us/step - loss: 0.3410 - acc: 0.8488 - val_loss: 0.3504 - val_acc: 0.8372\n",
      "Epoch 194/200\n",
      "516/516 [==============================] - 0s 543us/step - loss: 0.3318 - acc: 0.8585 - val_loss: 0.3520 - val_acc: 0.8450\n",
      "Epoch 195/200\n",
      "516/516 [==============================] - 0s 554us/step - loss: 0.3274 - acc: 0.8605 - val_loss: 0.3978 - val_acc: 0.7984\n",
      "Epoch 196/200\n",
      "516/516 [==============================] - 0s 549us/step - loss: 0.3329 - acc: 0.8605 - val_loss: 0.3469 - val_acc: 0.8527\n",
      "Epoch 197/200\n",
      "516/516 [==============================] - 0s 548us/step - loss: 0.3242 - acc: 0.8643 - val_loss: 0.3526 - val_acc: 0.8605\n",
      "Epoch 198/200\n",
      "516/516 [==============================] - 0s 546us/step - loss: 0.3390 - acc: 0.8527 - val_loss: 0.3423 - val_acc: 0.8372\n",
      "Epoch 199/200\n",
      "516/516 [==============================] - 0s 552us/step - loss: 0.3439 - acc: 0.8547 - val_loss: 0.3507 - val_acc: 0.8450\n",
      "Epoch 200/200\n",
      "516/516 [==============================] - 0s 557us/step - loss: 0.3267 - acc: 0.8605 - val_loss: 0.3594 - val_acc: 0.8527\n"
     ]
    }
   ],
   "source": [
    "# コールバック指定（https://qiita.com/yukiB/items/f45f0f71bc9739830002）\n",
    "early_stopping = EarlyStopping(monitor='val_loss', \n",
    "                               mode='auto', patience=20)\n",
    "history = model.fit(X_train, Y_train,\n",
    "                  batch_size = 16, # 論文で使われるのが1, 32, 128, 256, 512\n",
    "                  epochs=200,\n",
    "                  validation_split=0.2,\n",
    "                  callbacks=[early_stopping])"
   ]
  },
  {
   "cell_type": "code",
   "execution_count": 17,
   "metadata": {},
   "outputs": [
    {
     "data": {
      "image/png": "[encoded data removed]",
      "text/plain": [
       "<Figure size 432x288 with 1 Axes>"
      ]
     },
     "metadata": {
      "needs_background": "light"
     },
     "output_type": "display_data"
    }
   ],
   "source": [
    "epochs = range(1, len(history.history['acc']) + 1)\n",
    "plt.plot(epochs, history.history['loss'])\n",
    "plt.plot(epochs, history.history['val_loss'])\n",
    "plt.title('model loss')\n",
    "plt.ylabel('loss')\n",
    "plt.xlabel('epoch')\n",
    "plt.legend(['train', 'val'], loc='upper left')\n",
    "plt.show()"
   ]
  },
  {
   "cell_type": "code",
   "execution_count": 18,
   "metadata": {},
   "outputs": [
    {
     "data": {
      "text/plain": [
       "<matplotlib.legend.Legend at 0x7f2c50627c18>"
      ]
     },
     "execution_count": 18,
     "metadata": {},
     "output_type": "execute_result"
    },
    {
     "data": {
      "image/png": "[encoded data removed]",
      "text/plain": [
       "<Figure size 432x288 with 1 Axes>"
      ]
     },
     "metadata": {
      "needs_background": "light"
     },
     "output_type": "display_data"
    }
   ],
   "source": [
    "#acc, val_accのプロット\n",
    "plt.plot(history.history[\"acc\"], label=\"acc\", ls=\"-\", marker=\"o\")\n",
    "plt.plot(history.history[\"val_acc\"], label=\"val_acc\", ls=\"-\", marker=\"x\")\n",
    "plt.ylabel(\"accuracy\")\n",
    "plt.xlabel(\"epoch\")\n",
    "plt.legend(loc=\"best\")\n",
    "#Final.pngという名前で、結果を保存\n",
    "# plt.savefig('Final.png')\n",
    "# plt.show()"
   ]
  },
  {
   "cell_type": "code",
   "execution_count": 19,
   "metadata": {},
   "outputs": [
    {
     "name": "stdout",
     "output_type": "stream",
     "text": [
      "134/134 [==============================] - 0s 106us/step\n",
      "Test accuracy: 0.8507\n"
     ]
    }
   ],
   "source": [
    "print(\"Test accuracy: %.4f\" % (model.evaluate(X_test, Y_test)[1]))"
   ]
  },
  {
   "cell_type": "code",
   "execution_count": 20,
   "metadata": {},
   "outputs": [],
   "source": [
    "predict_classes = model.predict_classes(X_test)"
   ]
  },
  {
   "cell_type": "code",
   "execution_count": 21,
   "metadata": {},
   "outputs": [],
   "source": [
    "#Y_test = np.array([np.argmax(x) for x in Y_test])"
   ]
  },
  {
   "cell_type": "code",
   "execution_count": 22,
   "metadata": {},
   "outputs": [
    {
     "data": {
      "text/html": [
       "<div>\n",
       "<style scoped>\n",
       "    .dataframe tbody tr th:only-of-type {\n",
       "        vertical-align: middle;\n",
       "    }\n",
       "\n",
       "    .dataframe tbody tr th {\n",
       "        vertical-align: top;\n",
       "    }\n",
       "\n",
       "    .dataframe thead th {\n",
       "        text-align: right;\n",
       "    }\n",
       "</style>\n",
       "<table border=\"1\" class=\"dataframe\">\n",
       "  <thead>\n",
       "    <tr style=\"text-align: right;\">\n",
       "      <th>Predicted</th>\n",
       "      <th>0</th>\n",
       "      <th>1</th>\n",
       "      <th>All</th>\n",
       "    </tr>\n",
       "    <tr>\n",
       "      <th>True</th>\n",
       "      <th></th>\n",
       "      <th></th>\n",
       "      <th></th>\n",
       "    </tr>\n",
       "  </thead>\n",
       "  <tbody>\n",
       "    <tr>\n",
       "      <td>0</td>\n",
       "      <td>49</td>\n",
       "      <td>16</td>\n",
       "      <td>65</td>\n",
       "    </tr>\n",
       "    <tr>\n",
       "      <td>1</td>\n",
       "      <td>4</td>\n",
       "      <td>65</td>\n",
       "      <td>69</td>\n",
       "    </tr>\n",
       "    <tr>\n",
       "      <td>All</td>\n",
       "      <td>53</td>\n",
       "      <td>81</td>\n",
       "      <td>134</td>\n",
       "    </tr>\n",
       "  </tbody>\n",
       "</table>\n",
       "</div>"
      ],
      "text/plain": [
       "Predicted   0   1  All\n",
       "True                  \n",
       "0          49  16   65\n",
       "1           4  65   69\n",
       "All        53  81  134"
      ]
     },
     "execution_count": 22,
     "metadata": {},
     "output_type": "execute_result"
    }
   ],
   "source": [
    "pd.crosstab(Y_test, predict_classes, rownames=['True'], colnames=['Predicted'], margins=True)"
   ]
  }
 ],
 "metadata": {
  "kernelspec": {
   "display_name": "Python 3",
   "language": "python",
   "name": "python3"
  },
  "language_info": {
   "codemirror_mode": {
    "name": "ipython",
    "version": 3
   },
   "file_extension": ".py",
   "mimetype": "text/x-python",
   "name": "python",
   "nbconvert_exporter": "python",
   "pygments_lexer": "ipython3",
   "version": "3.7.3"
  }
 },
 "nbformat": 4,
 "nbformat_minor": 2
}
