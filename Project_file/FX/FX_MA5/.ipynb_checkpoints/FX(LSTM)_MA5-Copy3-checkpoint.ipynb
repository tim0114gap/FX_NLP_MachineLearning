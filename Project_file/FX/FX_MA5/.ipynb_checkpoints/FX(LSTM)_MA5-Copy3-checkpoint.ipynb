{
 "cells": [
  {
   "cell_type": "code",
   "execution_count": 1,
   "metadata": {},
   "outputs": [
    {
     "name": "stderr",
     "output_type": "stream",
     "text": [
      "Using TensorFlow backend.\n"
     ]
    }
   ],
   "source": [
    "import numpy as np\n",
    "import pandas as pd\n",
    "from pandas import DataFrame\n",
    "import matplotlib.pyplot as plt\n",
    "import seaborn as sns\n",
    "\n",
    "from sklearn.model_selection import train_test_split\n",
    "from sklearn.preprocessing import MinMaxScaler\n",
    "\n",
    "import keras\n",
    "from keras.layers.recurrent import LSTM\n",
    "from keras.models import Sequential\n",
    "from keras.layers import Dense, Activation\n",
    "from keras.layers.core import Dropout\n",
    "from keras.optimizers import Adam\n",
    "from keras.callbacks import EarlyStopping\n",
    "\n",
    "from keras.utils import plot_model, to_categorical"
   ]
  },
  {
   "cell_type": "code",
   "execution_count": 2,
   "metadata": {},
   "outputs": [
    {
     "data": {
      "text/html": [
       "<div>\n",
       "<style scoped>\n",
       "    .dataframe tbody tr th:only-of-type {\n",
       "        vertical-align: middle;\n",
       "    }\n",
       "\n",
       "    .dataframe tbody tr th {\n",
       "        vertical-align: top;\n",
       "    }\n",
       "\n",
       "    .dataframe thead th {\n",
       "        text-align: right;\n",
       "    }\n",
       "</style>\n",
       "<table border=\"1\" class=\"dataframe\">\n",
       "  <thead>\n",
       "    <tr style=\"text-align: right;\">\n",
       "      <th></th>\n",
       "      <th>time</th>\n",
       "      <th>open</th>\n",
       "      <th>high</th>\n",
       "      <th>low</th>\n",
       "      <th>close</th>\n",
       "      <th>5mean</th>\n",
       "      <th>target</th>\n",
       "    </tr>\n",
       "  </thead>\n",
       "  <tbody>\n",
       "    <tr>\n",
       "      <td>0</td>\n",
       "      <td>2016-11-07 07:00:00</td>\n",
       "      <td>104.101</td>\n",
       "      <td>104.630</td>\n",
       "      <td>103.779</td>\n",
       "      <td>104.476</td>\n",
       "      <td>103.6076</td>\n",
       "      <td>0</td>\n",
       "    </tr>\n",
       "    <tr>\n",
       "      <td>1</td>\n",
       "      <td>2016-11-08 07:00:00</td>\n",
       "      <td>104.462</td>\n",
       "      <td>105.194</td>\n",
       "      <td>104.297</td>\n",
       "      <td>105.176</td>\n",
       "      <td>103.8124</td>\n",
       "      <td>1</td>\n",
       "    </tr>\n",
       "    <tr>\n",
       "      <td>2</td>\n",
       "      <td>2016-11-09 07:00:00</td>\n",
       "      <td>105.178</td>\n",
       "      <td>105.890</td>\n",
       "      <td>101.193</td>\n",
       "      <td>105.658</td>\n",
       "      <td>104.2828</td>\n",
       "      <td>1</td>\n",
       "    </tr>\n",
       "    <tr>\n",
       "      <td>3</td>\n",
       "      <td>2016-11-10 07:00:00</td>\n",
       "      <td>105.685</td>\n",
       "      <td>106.949</td>\n",
       "      <td>104.960</td>\n",
       "      <td>106.816</td>\n",
       "      <td>105.0504</td>\n",
       "      <td>1</td>\n",
       "    </tr>\n",
       "    <tr>\n",
       "      <td>4</td>\n",
       "      <td>2016-11-11 07:00:00</td>\n",
       "      <td>106.796</td>\n",
       "      <td>106.934</td>\n",
       "      <td>106.032</td>\n",
       "      <td>106.683</td>\n",
       "      <td>105.7618</td>\n",
       "      <td>1</td>\n",
       "    </tr>\n",
       "  </tbody>\n",
       "</table>\n",
       "</div>"
      ],
      "text/plain": [
       "                  time     open     high      low    close     5mean  target\n",
       "0  2016-11-07 07:00:00  104.101  104.630  103.779  104.476  103.6076       0\n",
       "1  2016-11-08 07:00:00  104.462  105.194  104.297  105.176  103.8124       1\n",
       "2  2016-11-09 07:00:00  105.178  105.890  101.193  105.658  104.2828       1\n",
       "3  2016-11-10 07:00:00  105.685  106.949  104.960  106.816  105.0504       1\n",
       "4  2016-11-11 07:00:00  106.796  106.934  106.032  106.683  105.7618       1"
      ]
     },
     "execution_count": 2,
     "metadata": {},
     "output_type": "execute_result"
    }
   ],
   "source": [
    "df = pd.read_csv(\"FX_MA_5days.csv\")\n",
    "df.head()"
   ]
  },
  {
   "cell_type": "code",
   "execution_count": 3,
   "metadata": {},
   "outputs": [
    {
     "name": "stdout",
     "output_type": "stream",
     "text": [
      "<class 'pandas.core.frame.DataFrame'>\n",
      "RangeIndex: 789 entries, 0 to 788\n",
      "Data columns (total 7 columns):\n",
      "time      789 non-null object\n",
      "open      789 non-null float64\n",
      "high      789 non-null float64\n",
      "low       789 non-null float64\n",
      "close     789 non-null float64\n",
      "5mean     789 non-null float64\n",
      "target    789 non-null int64\n",
      "dtypes: float64(5), int64(1), object(1)\n",
      "memory usage: 43.3+ KB\n"
     ]
    }
   ],
   "source": [
    "df.info()"
   ]
  },
  {
   "cell_type": "code",
   "execution_count": 4,
   "metadata": {},
   "outputs": [],
   "source": [
    "split_data = '2019-05-06 06:00:00'\n",
    "train, test = df[df['time'] < split_data], df[df['time'] >= split_data]"
   ]
  },
  {
   "cell_type": "code",
   "execution_count": 5,
   "metadata": {},
   "outputs": [],
   "source": [
    "train = train.set_index('time')\n",
    "test = test.set_index('time')"
   ]
  },
  {
   "cell_type": "code",
   "execution_count": 6,
   "metadata": {},
   "outputs": [],
   "source": [
    "X_train = train.iloc[:,:5]\n",
    "Y_train = train['target']\n",
    "\n",
    "X_test = test.iloc[:,:5]\n",
    "Y_test = test['target']"
   ]
  },
  {
   "cell_type": "code",
   "execution_count": 7,
   "metadata": {},
   "outputs": [
    {
     "name": "stdout",
     "output_type": "stream",
     "text": [
      "[[104.101  104.63   103.779  104.476  103.6076]\n",
      " [104.462  105.194  104.297  105.176  103.8124]\n",
      " [105.178  105.89   101.193  105.658  104.2828]\n",
      " ...\n",
      " [111.425  111.613  111.05   111.385  111.5274]\n",
      " [111.382  111.666  111.354  111.51   111.512 ]\n",
      " [111.518  111.695  111.07   111.096  111.413 ]]\n",
      "Data len:  650\n",
      "[[104.101  104.63   103.779  104.476  103.6076]\n",
      " [104.462  105.194  104.297  105.176  103.8124]\n",
      " [105.178  105.89   101.193  105.658  104.2828]\n",
      " ...\n",
      " [111.425  111.613  111.05   111.385  111.5274]\n",
      " [111.382  111.666  111.354  111.51   111.512 ]\n",
      " [111.518  111.695  111.07   111.096  111.413 ]]\n",
      "Data len:  139\n"
     ]
    },
    {
     "name": "stderr",
     "output_type": "stream",
     "text": [
      "/home/tim0114gap/anaconda3/lib/python3.7/site-packages/ipykernel_launcher.py:1: FutureWarning: Method .as_matrix will be removed in a future version. Use .values instead.\n",
      "  \"\"\"Entry point for launching an IPython kernel.\n",
      "/home/tim0114gap/anaconda3/lib/python3.7/site-packages/ipykernel_launcher.py:5: FutureWarning: Method .as_matrix will be removed in a future version. Use .values instead.\n",
      "  \"\"\"\n"
     ]
    }
   ],
   "source": [
    "X_train = X_train.as_matrix()\n",
    "print(X_train)\n",
    "print(\"Data len: \",len(X_train))\n",
    "\n",
    "X_test = X_test.as_matrix()\n",
    "print(X_train)\n",
    "print(\"Data len: \",len(X_test))\n",
    "\n",
    "# 正規化\n",
    "ms = MinMaxScaler()\n",
    "X_train = ms.fit_transform(X_train)\n",
    "\n",
    "ms = MinMaxScaler()\n",
    "X_test = ms.fit_transform(X_test)"
   ]
  },
  {
   "cell_type": "code",
   "execution_count": 8,
   "metadata": {},
   "outputs": [
    {
     "name": "stdout",
     "output_type": "stream",
     "text": [
      "Y_train Target len:  650\n",
      "Y_train Target len:  139\n"
     ]
    }
   ],
   "source": [
    "c = np.array(Y_train)\n",
    "print(\"Y_train Target len: \",len(Y_train))\n",
    "\n",
    "Y_test = np.array(Y_test)\n",
    "print(\"Y_train Target len: \",len(Y_test))"
   ]
  },
  {
   "cell_type": "code",
   "execution_count": 9,
   "metadata": {},
   "outputs": [],
   "source": [
    "maxlen = 5\n",
    "dataTrain = []\n",
    "targetTrain = []\n",
    "for i in range(0, len(X_train) - maxlen):\n",
    "    dataTrain.append(X_train[i: i + maxlen])\n",
    "    targetTrain.append(Y_train[i + maxlen])\n",
    "\n",
    "dataTest = []\n",
    "targetTest = []\n",
    "for i in range(0, len(X_test) - maxlen):\n",
    "    dataTest.append(X_test[i: i + maxlen])\n",
    "    targetTest.append(Y_test[i + maxlen])"
   ]
  },
  {
   "cell_type": "code",
   "execution_count": 10,
   "metadata": {},
   "outputs": [
    {
     "name": "stdout",
     "output_type": "stream",
     "text": [
      "(645, 5, 5)\n",
      "(645,)\n",
      "(134, 5, 5)\n",
      "(134,)\n"
     ]
    }
   ],
   "source": [
    "X_train = np.array(dataTrain)\n",
    "Y_train = np.array(targetTrain)\n",
    "\n",
    "X_test = np.array(dataTest)\n",
    "Y_test = np.array(targetTest)\n",
    "print(X_train.shape)\n",
    "print(Y_train.shape)\n",
    "print(X_test.shape)\n",
    "print(Y_test.shape)"
   ]
  },
  {
   "cell_type": "code",
   "execution_count": 11,
   "metadata": {},
   "outputs": [],
   "source": [
    "#Y_train = Y_train.reshape(len(Y_train), 1)\n",
    "#Y_test = Y_test.reshape(len(Y_test), 1)\n",
    "\n",
    "#Y_train = to_categorical(Y_train)\n",
    "#Y_test = to_categorical(Y_test)"
   ]
  },
  {
   "cell_type": "code",
   "execution_count": 12,
   "metadata": {},
   "outputs": [
    {
     "name": "stdout",
     "output_type": "stream",
     "text": [
      "(645, 5, 5)\n",
      "(645,)\n",
      "(134, 5, 5)\n",
      "(134,)\n"
     ]
    }
   ],
   "source": [
    "print(X_train.shape)\n",
    "print(Y_train.shape)\n",
    "print(X_test.shape)\n",
    "print(Y_test.shape)"
   ]
  },
  {
   "cell_type": "code",
   "execution_count": 13,
   "metadata": {},
   "outputs": [
    {
     "name": "stdout",
     "output_type": "stream",
     "text": [
      "WARNING:tensorflow:From /home/tim0114gap/anaconda3/lib/python3.7/site-packages/keras/backend/tensorflow_backend.py:74: The name tf.get_default_graph is deprecated. Please use tf.compat.v1.get_default_graph instead.\n",
      "\n",
      "WARNING:tensorflow:From /home/tim0114gap/anaconda3/lib/python3.7/site-packages/keras/backend/tensorflow_backend.py:517: The name tf.placeholder is deprecated. Please use tf.compat.v1.placeholder instead.\n",
      "\n",
      "WARNING:tensorflow:From /home/tim0114gap/anaconda3/lib/python3.7/site-packages/keras/backend/tensorflow_backend.py:4138: The name tf.random_uniform is deprecated. Please use tf.random.uniform instead.\n",
      "\n",
      "WARNING:tensorflow:From /home/tim0114gap/anaconda3/lib/python3.7/site-packages/keras/backend/tensorflow_backend.py:133: The name tf.placeholder_with_default is deprecated. Please use tf.compat.v1.placeholder_with_default instead.\n",
      "\n",
      "WARNING:tensorflow:From /home/tim0114gap/anaconda3/lib/python3.7/site-packages/keras/backend/tensorflow_backend.py:3445: calling dropout (from tensorflow.python.ops.nn_ops) with keep_prob is deprecated and will be removed in a future version.\n",
      "Instructions for updating:\n",
      "Please use `rate` instead of `keep_prob`. Rate should be set to `rate = 1 - keep_prob`.\n"
     ]
    }
   ],
   "source": [
    "'''\n",
    "モデル設定\n",
    "'''\n",
    "length_of_sequence = X_train.shape[1]  # 入力層 = 5\n",
    "in_out_neurons = 2                     # 出力層 = 2\n",
    "n_hidden = 100                         # 隠れ層 = 100\n",
    "\n",
    "model = Sequential()\n",
    "model.add(LSTM(n_hidden, batch_input_shape=(None, length_of_sequence, 5), return_sequences=False))\n",
    "model.add(Dropout(0.25))\n",
    "model.add(Dense(50))\n",
    "model.add(Activation(\"relu\"))\n",
    "model.add(Dense(in_out_neurons))\n",
    "model.add(Activation(\"softmax\"))"
   ]
  },
  {
   "cell_type": "code",
   "execution_count": 14,
   "metadata": {},
   "outputs": [
    {
     "name": "stdout",
     "output_type": "stream",
     "text": [
      "WARNING:tensorflow:From /home/tim0114gap/anaconda3/lib/python3.7/site-packages/keras/optimizers.py:790: The name tf.train.Optimizer is deprecated. Please use tf.compat.v1.train.Optimizer instead.\n",
      "\n",
      "WARNING:tensorflow:From /home/tim0114gap/anaconda3/lib/python3.7/site-packages/keras/backend/tensorflow_backend.py:3341: The name tf.log is deprecated. Please use tf.math.log instead.\n",
      "\n"
     ]
    }
   ],
   "source": [
    "optimizer = Adam(lr = 0.001, beta_1 = 0.9, beta_2 = 0.999)\n",
    "model.compile(loss=\"sparse_categorical_crossentropy\", \n",
    "              optimizer=optimizer, metrics=['acc'])"
   ]
  },
  {
   "cell_type": "code",
   "execution_count": 15,
   "metadata": {},
   "outputs": [
    {
     "name": "stdout",
     "output_type": "stream",
     "text": [
      "_________________________________________________________________\n",
      "Layer (type)                 Output Shape              Param #   \n",
      "=================================================================\n",
      "lstm_1 (LSTM)                (None, 100)               42400     \n",
      "_________________________________________________________________\n",
      "dropout_1 (Dropout)          (None, 100)               0         \n",
      "_________________________________________________________________\n",
      "dense_1 (Dense)              (None, 50)                5050      \n",
      "_________________________________________________________________\n",
      "activation_1 (Activation)    (None, 50)                0         \n",
      "_________________________________________________________________\n",
      "dense_2 (Dense)              (None, 2)                 102       \n",
      "_________________________________________________________________\n",
      "activation_2 (Activation)    (None, 2)                 0         \n",
      "=================================================================\n",
      "Total params: 47,552\n",
      "Trainable params: 47,552\n",
      "Non-trainable params: 0\n",
      "_________________________________________________________________\n"
     ]
    }
   ],
   "source": [
    "#plot_model(model, to_file='model.png')\n",
    "model.summary()"
   ]
  },
  {
   "cell_type": "code",
   "execution_count": 16,
   "metadata": {},
   "outputs": [
    {
     "name": "stdout",
     "output_type": "stream",
     "text": [
      "WARNING:tensorflow:From /home/tim0114gap/anaconda3/lib/python3.7/site-packages/tensorflow/python/ops/math_grad.py:1250: add_dispatch_support.<locals>.wrapper (from tensorflow.python.ops.array_ops) is deprecated and will be removed in a future version.\n",
      "Instructions for updating:\n",
      "Use tf.where in 2.0, which has the same broadcast rule as np.where\n",
      "Train on 516 samples, validate on 129 samples\n",
      "Epoch 1/200\n",
      "516/516 [==============================] - 2s 3ms/step - loss: 0.6953 - acc: 0.5000 - val_loss: 0.6942 - val_acc: 0.4729\n",
      "Epoch 2/200\n",
      "516/516 [==============================] - 0s 549us/step - loss: 0.6953 - acc: 0.4981 - val_loss: 0.6881 - val_acc: 0.6589\n",
      "Epoch 3/200\n",
      "516/516 [==============================] - 0s 548us/step - loss: 0.6888 - acc: 0.5562 - val_loss: 0.6861 - val_acc: 0.6589\n",
      "Epoch 4/200\n",
      "516/516 [==============================] - 0s 544us/step - loss: 0.6849 - acc: 0.5543 - val_loss: 0.6813 - val_acc: 0.5659\n",
      "Epoch 5/200\n",
      "516/516 [==============================] - 0s 547us/step - loss: 0.6759 - acc: 0.6240 - val_loss: 0.6775 - val_acc: 0.5271\n",
      "Epoch 6/200\n",
      "516/516 [==============================] - 0s 544us/step - loss: 0.6737 - acc: 0.5736 - val_loss: 0.6843 - val_acc: 0.5271\n",
      "Epoch 7/200\n",
      "516/516 [==============================] - 0s 549us/step - loss: 0.6734 - acc: 0.5853 - val_loss: 0.6791 - val_acc: 0.5349\n",
      "Epoch 8/200\n",
      "516/516 [==============================] - 0s 547us/step - loss: 0.6553 - acc: 0.6221 - val_loss: 0.6565 - val_acc: 0.6667\n",
      "Epoch 9/200\n",
      "516/516 [==============================] - 0s 552us/step - loss: 0.6616 - acc: 0.6182 - val_loss: 0.6658 - val_acc: 0.5736\n",
      "Epoch 10/200\n",
      "516/516 [==============================] - 0s 557us/step - loss: 0.6522 - acc: 0.5950 - val_loss: 0.6331 - val_acc: 0.7054\n",
      "Epoch 11/200\n",
      "516/516 [==============================] - 0s 559us/step - loss: 0.6335 - acc: 0.6318 - val_loss: 0.6157 - val_acc: 0.7054\n",
      "Epoch 12/200\n",
      "516/516 [==============================] - 0s 559us/step - loss: 0.6848 - acc: 0.5523 - val_loss: 0.6398 - val_acc: 0.6899\n",
      "Epoch 13/200\n",
      "516/516 [==============================] - 0s 557us/step - loss: 0.6322 - acc: 0.6628 - val_loss: 0.6188 - val_acc: 0.6822\n",
      "Epoch 14/200\n",
      "516/516 [==============================] - 0s 556us/step - loss: 0.6188 - acc: 0.6647 - val_loss: 0.6094 - val_acc: 0.6899\n",
      "Epoch 15/200\n",
      "516/516 [==============================] - 0s 556us/step - loss: 0.5953 - acc: 0.6783 - val_loss: 0.6473 - val_acc: 0.6202\n",
      "Epoch 16/200\n",
      "516/516 [==============================] - 0s 561us/step - loss: 0.6120 - acc: 0.6628 - val_loss: 0.5821 - val_acc: 0.7132\n",
      "Epoch 17/200\n",
      "516/516 [==============================] - 0s 566us/step - loss: 0.5770 - acc: 0.7074 - val_loss: 0.5681 - val_acc: 0.6977\n",
      "Epoch 18/200\n",
      "516/516 [==============================] - 0s 562us/step - loss: 0.5704 - acc: 0.6996 - val_loss: 0.5617 - val_acc: 0.7364\n",
      "Epoch 19/200\n",
      "516/516 [==============================] - 0s 553us/step - loss: 0.5330 - acc: 0.7306 - val_loss: 0.5114 - val_acc: 0.7829\n",
      "Epoch 20/200\n",
      "516/516 [==============================] - 0s 549us/step - loss: 0.5249 - acc: 0.7519 - val_loss: 0.4998 - val_acc: 0.8217\n",
      "Epoch 21/200\n",
      "516/516 [==============================] - 0s 551us/step - loss: 0.5254 - acc: 0.7597 - val_loss: 0.5293 - val_acc: 0.7364\n",
      "Epoch 22/200\n",
      "516/516 [==============================] - 0s 553us/step - loss: 0.5426 - acc: 0.7171 - val_loss: 0.4966 - val_acc: 0.7829\n",
      "Epoch 23/200\n",
      "516/516 [==============================] - 0s 570us/step - loss: 0.5211 - acc: 0.7326 - val_loss: 0.4871 - val_acc: 0.7984\n",
      "Epoch 24/200\n",
      "516/516 [==============================] - 0s 552us/step - loss: 0.4727 - acc: 0.8043 - val_loss: 0.4818 - val_acc: 0.7287\n",
      "Epoch 25/200\n",
      "516/516 [==============================] - 0s 550us/step - loss: 0.4738 - acc: 0.7733 - val_loss: 0.4443 - val_acc: 0.7752\n",
      "Epoch 26/200\n",
      "516/516 [==============================] - 0s 559us/step - loss: 0.4538 - acc: 0.7810 - val_loss: 0.4514 - val_acc: 0.8605\n",
      "Epoch 27/200\n",
      "516/516 [==============================] - 0s 550us/step - loss: 0.4605 - acc: 0.7888 - val_loss: 0.4619 - val_acc: 0.7287\n",
      "Epoch 28/200\n",
      "516/516 [==============================] - 0s 553us/step - loss: 0.4555 - acc: 0.7849 - val_loss: 0.4270 - val_acc: 0.8062\n",
      "Epoch 29/200\n",
      "516/516 [==============================] - 0s 564us/step - loss: 0.4461 - acc: 0.7926 - val_loss: 0.4180 - val_acc: 0.8527\n",
      "Epoch 30/200\n",
      "516/516 [==============================] - 0s 563us/step - loss: 0.4308 - acc: 0.7984 - val_loss: 0.4910 - val_acc: 0.7442\n",
      "Epoch 31/200\n",
      "516/516 [==============================] - 0s 559us/step - loss: 0.4404 - acc: 0.7926 - val_loss: 0.4117 - val_acc: 0.8140\n",
      "Epoch 32/200\n",
      "516/516 [==============================] - 0s 556us/step - loss: 0.4237 - acc: 0.7868 - val_loss: 0.4030 - val_acc: 0.8527\n",
      "Epoch 33/200\n",
      "516/516 [==============================] - 0s 556us/step - loss: 0.5343 - acc: 0.7481 - val_loss: 0.4991 - val_acc: 0.6899\n",
      "Epoch 34/200\n",
      "516/516 [==============================] - 0s 557us/step - loss: 0.4432 - acc: 0.7888 - val_loss: 0.5007 - val_acc: 0.6977\n",
      "Epoch 35/200\n",
      "516/516 [==============================] - 0s 562us/step - loss: 0.4192 - acc: 0.7926 - val_loss: 0.4201 - val_acc: 0.8527\n",
      "Epoch 36/200\n",
      "516/516 [==============================] - 0s 551us/step - loss: 0.4782 - acc: 0.7500 - val_loss: 0.4842 - val_acc: 0.7752\n",
      "Epoch 37/200\n",
      "516/516 [==============================] - 0s 559us/step - loss: 0.4862 - acc: 0.7539 - val_loss: 0.5169 - val_acc: 0.6977\n",
      "Epoch 38/200\n",
      "516/516 [==============================] - 0s 558us/step - loss: 0.4473 - acc: 0.7926 - val_loss: 0.4302 - val_acc: 0.7752\n",
      "Epoch 39/200\n",
      "516/516 [==============================] - 0s 571us/step - loss: 0.4365 - acc: 0.8004 - val_loss: 0.4133 - val_acc: 0.8527\n",
      "Epoch 40/200\n",
      "516/516 [==============================] - 0s 549us/step - loss: 0.4208 - acc: 0.8081 - val_loss: 0.4021 - val_acc: 0.8217\n",
      "Epoch 41/200\n",
      "516/516 [==============================] - 0s 554us/step - loss: 0.4256 - acc: 0.7926 - val_loss: 0.4028 - val_acc: 0.8372\n",
      "Epoch 42/200\n",
      "516/516 [==============================] - 0s 558us/step - loss: 0.4002 - acc: 0.8178 - val_loss: 0.3801 - val_acc: 0.8527\n",
      "Epoch 43/200\n",
      "516/516 [==============================] - 0s 553us/step - loss: 0.3986 - acc: 0.8023 - val_loss: 0.3810 - val_acc: 0.8527\n",
      "Epoch 44/200\n",
      "516/516 [==============================] - 0s 557us/step - loss: 0.3997 - acc: 0.8236 - val_loss: 0.3873 - val_acc: 0.7984\n",
      "Epoch 45/200\n",
      "516/516 [==============================] - 0s 552us/step - loss: 0.4407 - acc: 0.7810 - val_loss: 0.4096 - val_acc: 0.7597\n",
      "Epoch 46/200\n",
      "516/516 [==============================] - 0s 556us/step - loss: 0.4084 - acc: 0.8101 - val_loss: 0.3890 - val_acc: 0.8527\n",
      "Epoch 47/200\n",
      "516/516 [==============================] - 0s 563us/step - loss: 0.4320 - acc: 0.8004 - val_loss: 0.4268 - val_acc: 0.8217\n",
      "Epoch 48/200\n",
      "516/516 [==============================] - 0s 551us/step - loss: 0.4147 - acc: 0.8004 - val_loss: 0.4135 - val_acc: 0.8372\n",
      "Epoch 49/200\n",
      "516/516 [==============================] - 0s 552us/step - loss: 0.4173 - acc: 0.7965 - val_loss: 0.3980 - val_acc: 0.8062\n",
      "Epoch 50/200\n",
      "516/516 [==============================] - 0s 552us/step - loss: 0.4208 - acc: 0.8004 - val_loss: 0.3847 - val_acc: 0.8527\n",
      "Epoch 51/200\n",
      "516/516 [==============================] - 0s 553us/step - loss: 0.4001 - acc: 0.8081 - val_loss: 0.3964 - val_acc: 0.7519\n",
      "Epoch 52/200\n",
      "516/516 [==============================] - 0s 558us/step - loss: 0.4245 - acc: 0.7965 - val_loss: 0.4288 - val_acc: 0.7597\n",
      "Epoch 53/200\n",
      "516/516 [==============================] - 0s 558us/step - loss: 0.3957 - acc: 0.8217 - val_loss: 0.3824 - val_acc: 0.8527\n",
      "Epoch 54/200\n",
      "516/516 [==============================] - 0s 576us/step - loss: 0.3958 - acc: 0.8062 - val_loss: 0.3879 - val_acc: 0.8062\n",
      "Epoch 55/200\n",
      "516/516 [==============================] - 0s 552us/step - loss: 0.3914 - acc: 0.8353 - val_loss: 0.4058 - val_acc: 0.8372\n",
      "Epoch 56/200\n",
      "516/516 [==============================] - 0s 553us/step - loss: 0.3933 - acc: 0.8256 - val_loss: 0.3692 - val_acc: 0.8605\n",
      "Epoch 57/200\n",
      "516/516 [==============================] - 0s 558us/step - loss: 0.4077 - acc: 0.8043 - val_loss: 0.4004 - val_acc: 0.8450\n",
      "Epoch 58/200\n"
     ]
    },
    {
     "name": "stdout",
     "output_type": "stream",
     "text": [
      "516/516 [==============================] - 0s 566us/step - loss: 0.4259 - acc: 0.7926 - val_loss: 0.4763 - val_acc: 0.7597\n",
      "Epoch 59/200\n",
      "516/516 [==============================] - 0s 547us/step - loss: 0.4185 - acc: 0.8198 - val_loss: 0.4497 - val_acc: 0.7829\n",
      "Epoch 60/200\n",
      "516/516 [==============================] - 0s 556us/step - loss: 0.4060 - acc: 0.8004 - val_loss: 0.3805 - val_acc: 0.8450\n",
      "Epoch 61/200\n",
      "516/516 [==============================] - 0s 557us/step - loss: 0.3984 - acc: 0.8198 - val_loss: 0.4088 - val_acc: 0.8295\n",
      "Epoch 62/200\n",
      "516/516 [==============================] - 0s 547us/step - loss: 0.3920 - acc: 0.8198 - val_loss: 0.3664 - val_acc: 0.8527\n",
      "Epoch 63/200\n",
      "516/516 [==============================] - 0s 551us/step - loss: 0.3948 - acc: 0.8333 - val_loss: 0.3942 - val_acc: 0.8372\n",
      "Epoch 64/200\n",
      "516/516 [==============================] - 0s 558us/step - loss: 0.4003 - acc: 0.8198 - val_loss: 0.3784 - val_acc: 0.8527\n",
      "Epoch 65/200\n",
      "516/516 [==============================] - 0s 551us/step - loss: 0.4001 - acc: 0.8217 - val_loss: 0.3798 - val_acc: 0.7984\n",
      "Epoch 66/200\n",
      "516/516 [==============================] - 0s 549us/step - loss: 0.3912 - acc: 0.8062 - val_loss: 0.3648 - val_acc: 0.8605\n",
      "Epoch 67/200\n",
      "516/516 [==============================] - 0s 552us/step - loss: 0.3809 - acc: 0.8178 - val_loss: 0.3875 - val_acc: 0.7674\n",
      "Epoch 68/200\n",
      "516/516 [==============================] - 0s 554us/step - loss: 0.3786 - acc: 0.8372 - val_loss: 0.3649 - val_acc: 0.8450\n",
      "Epoch 69/200\n",
      "516/516 [==============================] - 0s 567us/step - loss: 0.3950 - acc: 0.8178 - val_loss: 0.3719 - val_acc: 0.8372\n",
      "Epoch 70/200\n",
      "516/516 [==============================] - 0s 579us/step - loss: 0.4042 - acc: 0.8198 - val_loss: 0.3625 - val_acc: 0.8605\n",
      "Epoch 71/200\n",
      "516/516 [==============================] - 0s 569us/step - loss: 0.4043 - acc: 0.8062 - val_loss: 0.3681 - val_acc: 0.8527\n",
      "Epoch 72/200\n",
      "516/516 [==============================] - 0s 565us/step - loss: 0.3956 - acc: 0.8120 - val_loss: 0.3734 - val_acc: 0.8372\n",
      "Epoch 73/200\n",
      "516/516 [==============================] - 0s 559us/step - loss: 0.4162 - acc: 0.8140 - val_loss: 0.3775 - val_acc: 0.8527\n",
      "Epoch 74/200\n",
      "516/516 [==============================] - 0s 553us/step - loss: 0.3838 - acc: 0.8314 - val_loss: 0.3678 - val_acc: 0.8450\n",
      "Epoch 75/200\n",
      "516/516 [==============================] - 0s 561us/step - loss: 0.3894 - acc: 0.8217 - val_loss: 0.3873 - val_acc: 0.7752\n",
      "Epoch 76/200\n",
      "516/516 [==============================] - 0s 556us/step - loss: 0.3897 - acc: 0.8178 - val_loss: 0.3770 - val_acc: 0.8450\n",
      "Epoch 77/200\n",
      "516/516 [==============================] - 0s 563us/step - loss: 0.4076 - acc: 0.8159 - val_loss: 0.3717 - val_acc: 0.8682\n",
      "Epoch 78/200\n",
      "516/516 [==============================] - 0s 555us/step - loss: 0.4032 - acc: 0.8101 - val_loss: 0.3670 - val_acc: 0.8372\n",
      "Epoch 79/200\n",
      "516/516 [==============================] - 0s 550us/step - loss: 0.4432 - acc: 0.7674 - val_loss: 0.4265 - val_acc: 0.8372\n",
      "Epoch 80/200\n",
      "516/516 [==============================] - 0s 557us/step - loss: 0.4035 - acc: 0.8101 - val_loss: 0.4142 - val_acc: 0.7597\n",
      "Epoch 81/200\n",
      "516/516 [==============================] - 0s 560us/step - loss: 0.3821 - acc: 0.8256 - val_loss: 0.3696 - val_acc: 0.8682\n",
      "Epoch 82/200\n",
      "516/516 [==============================] - 0s 554us/step - loss: 0.3748 - acc: 0.8256 - val_loss: 0.3556 - val_acc: 0.8605\n",
      "Epoch 83/200\n",
      "516/516 [==============================] - 0s 557us/step - loss: 0.3835 - acc: 0.8314 - val_loss: 0.3802 - val_acc: 0.7907\n",
      "Epoch 84/200\n",
      "516/516 [==============================] - 0s 558us/step - loss: 0.3705 - acc: 0.8275 - val_loss: 0.3614 - val_acc: 0.8527\n",
      "Epoch 85/200\n",
      "516/516 [==============================] - 0s 550us/step - loss: 0.3991 - acc: 0.8275 - val_loss: 0.3629 - val_acc: 0.8527\n",
      "Epoch 86/200\n",
      "516/516 [==============================] - 0s 556us/step - loss: 0.4001 - acc: 0.8062 - val_loss: 0.3986 - val_acc: 0.8295\n",
      "Epoch 87/200\n",
      "516/516 [==============================] - 0s 555us/step - loss: 0.3775 - acc: 0.8372 - val_loss: 0.4036 - val_acc: 0.7597\n",
      "Epoch 88/200\n",
      "516/516 [==============================] - 0s 589us/step - loss: 0.3777 - acc: 0.8236 - val_loss: 0.4493 - val_acc: 0.7752\n",
      "Epoch 89/200\n",
      "516/516 [==============================] - 0s 592us/step - loss: 0.3725 - acc: 0.8314 - val_loss: 0.4071 - val_acc: 0.7674\n",
      "Epoch 90/200\n",
      "516/516 [==============================] - 0s 603us/step - loss: 0.3715 - acc: 0.8236 - val_loss: 0.3554 - val_acc: 0.8605\n",
      "Epoch 91/200\n",
      "516/516 [==============================] - 0s 555us/step - loss: 0.3956 - acc: 0.8140 - val_loss: 0.3781 - val_acc: 0.8372\n",
      "Epoch 92/200\n",
      "516/516 [==============================] - 0s 560us/step - loss: 0.3697 - acc: 0.8353 - val_loss: 0.4076 - val_acc: 0.7674\n",
      "Epoch 93/200\n",
      "516/516 [==============================] - 0s 552us/step - loss: 0.3740 - acc: 0.8314 - val_loss: 0.3809 - val_acc: 0.8062\n",
      "Epoch 94/200\n",
      "516/516 [==============================] - 0s 553us/step - loss: 0.3742 - acc: 0.8236 - val_loss: 0.3659 - val_acc: 0.8372\n",
      "Epoch 95/200\n",
      "516/516 [==============================] - 0s 554us/step - loss: 0.3707 - acc: 0.8198 - val_loss: 0.3855 - val_acc: 0.7907\n",
      "Epoch 96/200\n",
      "516/516 [==============================] - 0s 557us/step - loss: 0.3811 - acc: 0.8198 - val_loss: 0.3521 - val_acc: 0.8605\n",
      "Epoch 97/200\n",
      "516/516 [==============================] - 0s 561us/step - loss: 0.3564 - acc: 0.8430 - val_loss: 0.4012 - val_acc: 0.8372\n",
      "Epoch 98/200\n",
      "516/516 [==============================] - 0s 552us/step - loss: 0.3670 - acc: 0.8391 - val_loss: 0.3610 - val_acc: 0.8372\n",
      "Epoch 99/200\n",
      "516/516 [==============================] - 0s 555us/step - loss: 0.3790 - acc: 0.8236 - val_loss: 0.3708 - val_acc: 0.8140\n",
      "Epoch 100/200\n",
      "516/516 [==============================] - 0s 546us/step - loss: 0.3892 - acc: 0.8178 - val_loss: 0.4448 - val_acc: 0.7674\n",
      "Epoch 101/200\n",
      "516/516 [==============================] - 0s 545us/step - loss: 0.3915 - acc: 0.8004 - val_loss: 0.3684 - val_acc: 0.8295\n",
      "Epoch 102/200\n",
      "516/516 [==============================] - 0s 546us/step - loss: 0.3669 - acc: 0.8333 - val_loss: 0.3798 - val_acc: 0.8450\n",
      "Epoch 103/200\n",
      "516/516 [==============================] - 0s 546us/step - loss: 0.3739 - acc: 0.8159 - val_loss: 0.5069 - val_acc: 0.6899\n",
      "Epoch 104/200\n",
      "516/516 [==============================] - 0s 548us/step - loss: 0.4091 - acc: 0.8236 - val_loss: 0.3683 - val_acc: 0.8605\n",
      "Epoch 105/200\n",
      "516/516 [==============================] - 0s 553us/step - loss: 0.3659 - acc: 0.8333 - val_loss: 0.3630 - val_acc: 0.8295\n",
      "Epoch 106/200\n",
      "516/516 [==============================] - 0s 549us/step - loss: 0.3783 - acc: 0.8333 - val_loss: 0.3562 - val_acc: 0.8527\n",
      "Epoch 107/200\n",
      "516/516 [==============================] - 0s 561us/step - loss: 0.3674 - acc: 0.8314 - val_loss: 0.3488 - val_acc: 0.8527\n",
      "Epoch 108/200\n",
      "516/516 [==============================] - 0s 542us/step - loss: 0.3662 - acc: 0.8333 - val_loss: 0.3698 - val_acc: 0.8062\n",
      "Epoch 109/200\n",
      "516/516 [==============================] - 0s 545us/step - loss: 0.3869 - acc: 0.8081 - val_loss: 0.4044 - val_acc: 0.8217\n",
      "Epoch 110/200\n",
      "516/516 [==============================] - 0s 550us/step - loss: 0.3738 - acc: 0.8372 - val_loss: 0.3557 - val_acc: 0.8605\n",
      "Epoch 111/200\n",
      "516/516 [==============================] - 0s 550us/step - loss: 0.3623 - acc: 0.8372 - val_loss: 0.3524 - val_acc: 0.8605\n",
      "Epoch 112/200\n",
      "516/516 [==============================] - 0s 545us/step - loss: 0.3719 - acc: 0.8391 - val_loss: 0.3491 - val_acc: 0.8527\n",
      "Epoch 113/200\n",
      "516/516 [==============================] - 0s 554us/step - loss: 0.3789 - acc: 0.8256 - val_loss: 0.3972 - val_acc: 0.7907\n",
      "Epoch 114/200\n",
      "516/516 [==============================] - 0s 550us/step - loss: 0.3765 - acc: 0.8275 - val_loss: 0.3595 - val_acc: 0.8295\n",
      "Epoch 115/200\n",
      "516/516 [==============================] - 0s 547us/step - loss: 0.3663 - acc: 0.8488 - val_loss: 0.3873 - val_acc: 0.8450\n",
      "Epoch 116/200\n",
      "516/516 [==============================] - 0s 539us/step - loss: 0.3690 - acc: 0.8333 - val_loss: 0.3649 - val_acc: 0.8450\n",
      "Epoch 117/200\n",
      "516/516 [==============================] - 0s 546us/step - loss: 0.3832 - acc: 0.8081 - val_loss: 0.4411 - val_acc: 0.7829\n",
      "Epoch 118/200\n"
     ]
    },
    {
     "name": "stdout",
     "output_type": "stream",
     "text": [
      "516/516 [==============================] - 0s 564us/step - loss: 0.3731 - acc: 0.8295 - val_loss: 0.3507 - val_acc: 0.8527\n",
      "Epoch 119/200\n",
      "516/516 [==============================] - 0s 544us/step - loss: 0.3591 - acc: 0.8353 - val_loss: 0.3597 - val_acc: 0.8217\n",
      "Epoch 120/200\n",
      "516/516 [==============================] - 0s 549us/step - loss: 0.3917 - acc: 0.8120 - val_loss: 0.3681 - val_acc: 0.8295\n",
      "Epoch 121/200\n",
      "516/516 [==============================] - 0s 557us/step - loss: 0.3528 - acc: 0.8430 - val_loss: 0.3777 - val_acc: 0.7829\n",
      "Epoch 122/200\n",
      "516/516 [==============================] - 0s 556us/step - loss: 0.3601 - acc: 0.8236 - val_loss: 0.3553 - val_acc: 0.8372\n",
      "Epoch 123/200\n",
      "516/516 [==============================] - 0s 551us/step - loss: 0.3477 - acc: 0.8314 - val_loss: 0.3445 - val_acc: 0.8450\n",
      "Epoch 124/200\n",
      "516/516 [==============================] - 0s 545us/step - loss: 0.3702 - acc: 0.8295 - val_loss: 0.3488 - val_acc: 0.8605\n",
      "Epoch 125/200\n",
      "516/516 [==============================] - 0s 550us/step - loss: 0.3664 - acc: 0.8333 - val_loss: 0.3575 - val_acc: 0.8527\n",
      "Epoch 126/200\n",
      "516/516 [==============================] - 0s 553us/step - loss: 0.3642 - acc: 0.8430 - val_loss: 0.3589 - val_acc: 0.8527\n",
      "Epoch 127/200\n",
      "516/516 [==============================] - 0s 551us/step - loss: 0.3630 - acc: 0.8295 - val_loss: 0.3438 - val_acc: 0.8605\n",
      "Epoch 128/200\n",
      "516/516 [==============================] - 0s 556us/step - loss: 0.3537 - acc: 0.8430 - val_loss: 0.3362 - val_acc: 0.8605\n",
      "Epoch 129/200\n",
      "516/516 [==============================] - 0s 547us/step - loss: 0.3837 - acc: 0.8217 - val_loss: 0.3928 - val_acc: 0.7907\n",
      "Epoch 130/200\n",
      "516/516 [==============================] - 0s 544us/step - loss: 0.3526 - acc: 0.8430 - val_loss: 0.3536 - val_acc: 0.8450\n",
      "Epoch 131/200\n",
      "516/516 [==============================] - 0s 556us/step - loss: 0.3710 - acc: 0.8236 - val_loss: 0.4720 - val_acc: 0.7287\n",
      "Epoch 132/200\n",
      "516/516 [==============================] - 0s 540us/step - loss: 0.3801 - acc: 0.8217 - val_loss: 0.3478 - val_acc: 0.8372\n",
      "Epoch 133/200\n",
      "516/516 [==============================] - 0s 546us/step - loss: 0.3570 - acc: 0.8295 - val_loss: 0.3833 - val_acc: 0.7907\n",
      "Epoch 134/200\n",
      "516/516 [==============================] - 0s 559us/step - loss: 0.3861 - acc: 0.8159 - val_loss: 0.3496 - val_acc: 0.8605\n",
      "Epoch 135/200\n",
      "516/516 [==============================] - 0s 550us/step - loss: 0.3580 - acc: 0.8275 - val_loss: 0.3826 - val_acc: 0.8450\n",
      "Epoch 136/200\n",
      "516/516 [==============================] - 0s 537us/step - loss: 0.3595 - acc: 0.8256 - val_loss: 0.4246 - val_acc: 0.7752\n",
      "Epoch 137/200\n",
      "516/516 [==============================] - 0s 542us/step - loss: 0.3647 - acc: 0.8430 - val_loss: 0.3417 - val_acc: 0.8605\n",
      "Epoch 138/200\n",
      "516/516 [==============================] - 0s 551us/step - loss: 0.3515 - acc: 0.8450 - val_loss: 0.3595 - val_acc: 0.8295\n",
      "Epoch 139/200\n",
      "516/516 [==============================] - 0s 545us/step - loss: 0.3926 - acc: 0.8236 - val_loss: 0.3558 - val_acc: 0.8450\n",
      "Epoch 140/200\n",
      "516/516 [==============================] - 0s 552us/step - loss: 0.3416 - acc: 0.8391 - val_loss: 0.3771 - val_acc: 0.7984\n",
      "Epoch 141/200\n",
      "516/516 [==============================] - 0s 554us/step - loss: 0.3566 - acc: 0.8411 - val_loss: 0.3363 - val_acc: 0.8605\n",
      "Epoch 142/200\n",
      "516/516 [==============================] - 0s 546us/step - loss: 0.3376 - acc: 0.8372 - val_loss: 0.3478 - val_acc: 0.8372\n",
      "Epoch 143/200\n",
      "516/516 [==============================] - 0s 548us/step - loss: 0.3801 - acc: 0.8256 - val_loss: 0.3440 - val_acc: 0.8605\n",
      "Epoch 144/200\n",
      "516/516 [==============================] - 0s 551us/step - loss: 0.3576 - acc: 0.8314 - val_loss: 0.3436 - val_acc: 0.8605\n",
      "Epoch 145/200\n",
      "516/516 [==============================] - 0s 543us/step - loss: 0.3464 - acc: 0.8275 - val_loss: 0.3487 - val_acc: 0.8450\n",
      "Epoch 146/200\n",
      "516/516 [==============================] - 0s 546us/step - loss: 0.3516 - acc: 0.8411 - val_loss: 0.3471 - val_acc: 0.8372\n",
      "Epoch 147/200\n",
      "516/516 [==============================] - 0s 542us/step - loss: 0.3349 - acc: 0.8372 - val_loss: 0.3422 - val_acc: 0.8295\n",
      "Epoch 148/200\n",
      "516/516 [==============================] - 0s 558us/step - loss: 0.3641 - acc: 0.8217 - val_loss: 0.3412 - val_acc: 0.8682\n"
     ]
    }
   ],
   "source": [
    "# コールバック指定（https://qiita.com/yukiB/items/f45f0f71bc9739830002）\n",
    "early_stopping = EarlyStopping(monitor='val_loss', \n",
    "                               mode='auto', patience=20)\n",
    "history = model.fit(X_train, Y_train,\n",
    "                  batch_size = 16, # 論文で使われるのが1, 32, 128, 256, 512\n",
    "                  epochs=200,\n",
    "                  validation_split=0.2,\n",
    "                  callbacks=[early_stopping])"
   ]
  },
  {
   "cell_type": "code",
   "execution_count": 17,
   "metadata": {},
   "outputs": [
    {
     "data": {
      "image/png": "[encoded data removed]",
      "text/plain": [
       "<Figure size 432x288 with 1 Axes>"
      ]
     },
     "metadata": {
      "needs_background": "light"
     },
     "output_type": "display_data"
    }
   ],
   "source": [
    "epochs = range(1, len(history.history['acc']) + 1)\n",
    "plt.plot(epochs, history.history['loss'])\n",
    "plt.plot(epochs, history.history['val_loss'])\n",
    "plt.title('model loss')\n",
    "plt.ylabel('loss')\n",
    "plt.xlabel('epoch')\n",
    "plt.legend(['train', 'val'], loc='upper left')\n",
    "plt.show()"
   ]
  },
  {
   "cell_type": "code",
   "execution_count": 18,
   "metadata": {},
   "outputs": [
    {
     "data": {
      "text/plain": [
       "<matplotlib.legend.Legend at 0x7fec2c165978>"
      ]
     },
     "execution_count": 18,
     "metadata": {},
     "output_type": "execute_result"
    },
    {
     "data": {
      "image/png": "[encoded data removed]",
      "text/plain": [
       "<Figure size 432x288 with 1 Axes>"
      ]
     },
     "metadata": {
      "needs_background": "light"
     },
     "output_type": "display_data"
    }
   ],
   "source": [
    "#acc, val_accのプロット\n",
    "plt.plot(history.history[\"acc\"], label=\"acc\", ls=\"-\", marker=\"o\")\n",
    "plt.plot(history.history[\"val_acc\"], label=\"val_acc\", ls=\"-\", marker=\"x\")\n",
    "plt.ylabel(\"accuracy\")\n",
    "plt.xlabel(\"epoch\")\n",
    "plt.legend(loc=\"best\")\n",
    "#Final.pngという名前で、結果を保存\n",
    "# plt.savefig('Final.png')\n",
    "# plt.show()"
   ]
  },
  {
   "cell_type": "code",
   "execution_count": 19,
   "metadata": {},
   "outputs": [
    {
     "name": "stdout",
     "output_type": "stream",
     "text": [
      "134/134 [==============================] - 0s 118us/step\n",
      "Test accuracy: 0.8284\n"
     ]
    }
   ],
   "source": [
    "print(\"Test accuracy: %.4f\" % (model.evaluate(X_test, Y_test)[1]))"
   ]
  },
  {
   "cell_type": "code",
   "execution_count": 20,
   "metadata": {},
   "outputs": [],
   "source": [
    "predict_classes = model.predict_classes(X_test)"
   ]
  },
  {
   "cell_type": "code",
   "execution_count": 21,
   "metadata": {},
   "outputs": [],
   "source": [
    "#Y_test = np.array([np.argmax(x) for x in Y_test])"
   ]
  },
  {
   "cell_type": "code",
   "execution_count": 22,
   "metadata": {},
   "outputs": [
    {
     "data": {
      "text/html": [
       "<div>\n",
       "<style scoped>\n",
       "    .dataframe tbody tr th:only-of-type {\n",
       "        vertical-align: middle;\n",
       "    }\n",
       "\n",
       "    .dataframe tbody tr th {\n",
       "        vertical-align: top;\n",
       "    }\n",
       "\n",
       "    .dataframe thead th {\n",
       "        text-align: right;\n",
       "    }\n",
       "</style>\n",
       "<table border=\"1\" class=\"dataframe\">\n",
       "  <thead>\n",
       "    <tr style=\"text-align: right;\">\n",
       "      <th>Predicted</th>\n",
       "      <th>0</th>\n",
       "      <th>1</th>\n",
       "      <th>All</th>\n",
       "    </tr>\n",
       "    <tr>\n",
       "      <th>True</th>\n",
       "      <th></th>\n",
       "      <th></th>\n",
       "      <th></th>\n",
       "    </tr>\n",
       "  </thead>\n",
       "  <tbody>\n",
       "    <tr>\n",
       "      <td>0</td>\n",
       "      <td>45</td>\n",
       "      <td>20</td>\n",
       "      <td>65</td>\n",
       "    </tr>\n",
       "    <tr>\n",
       "      <td>1</td>\n",
       "      <td>3</td>\n",
       "      <td>66</td>\n",
       "      <td>69</td>\n",
       "    </tr>\n",
       "    <tr>\n",
       "      <td>All</td>\n",
       "      <td>48</td>\n",
       "      <td>86</td>\n",
       "      <td>134</td>\n",
       "    </tr>\n",
       "  </tbody>\n",
       "</table>\n",
       "</div>"
      ],
      "text/plain": [
       "Predicted   0   1  All\n",
       "True                  \n",
       "0          45  20   65\n",
       "1           3  66   69\n",
       "All        48  86  134"
      ]
     },
     "execution_count": 22,
     "metadata": {},
     "output_type": "execute_result"
    }
   ],
   "source": [
    "pd.crosstab(Y_test, predict_classes, rownames=['True'], colnames=['Predicted'], margins=True)"
   ]
  }
 ],
 "metadata": {
  "kernelspec": {
   "display_name": "Python 3",
   "language": "python",
   "name": "python3"
  },
  "language_info": {
   "codemirror_mode": {
    "name": "ipython",
    "version": 3
   },
   "file_extension": ".py",
   "mimetype": "text/x-python",
   "name": "python",
   "nbconvert_exporter": "python",
   "pygments_lexer": "ipython3",
   "version": "3.7.3"
  }
 },
 "nbformat": 4,
 "nbformat_minor": 2
}
