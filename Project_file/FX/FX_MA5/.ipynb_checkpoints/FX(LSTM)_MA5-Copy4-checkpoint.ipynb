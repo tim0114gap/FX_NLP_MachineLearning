{
 "cells": [
  {
   "cell_type": "code",
   "execution_count": 1,
   "metadata": {},
   "outputs": [
    {
     "name": "stderr",
     "output_type": "stream",
     "text": [
      "Using TensorFlow backend.\n"
     ]
    }
   ],
   "source": [
    "import numpy as np\n",
    "import pandas as pd\n",
    "from pandas import DataFrame\n",
    "import matplotlib.pyplot as plt\n",
    "import seaborn as sns\n",
    "\n",
    "from sklearn.model_selection import train_test_split\n",
    "from sklearn.preprocessing import MinMaxScaler\n",
    "\n",
    "import keras\n",
    "from keras.layers.recurrent import LSTM\n",
    "from keras.models import Sequential\n",
    "from keras.layers import Dense, Activation, LeakyReLU\n",
    "from keras.layers.core import Dropout\n",
    "from keras.optimizers import Adam\n",
    "from keras.callbacks import EarlyStopping\n",
    "\n",
    "from keras.utils import plot_model, to_categorical"
   ]
  },
  {
   "cell_type": "code",
   "execution_count": 2,
   "metadata": {},
   "outputs": [
    {
     "data": {
      "text/html": [
       "<div>\n",
       "<style scoped>\n",
       "    .dataframe tbody tr th:only-of-type {\n",
       "        vertical-align: middle;\n",
       "    }\n",
       "\n",
       "    .dataframe tbody tr th {\n",
       "        vertical-align: top;\n",
       "    }\n",
       "\n",
       "    .dataframe thead th {\n",
       "        text-align: right;\n",
       "    }\n",
       "</style>\n",
       "<table border=\"1\" class=\"dataframe\">\n",
       "  <thead>\n",
       "    <tr style=\"text-align: right;\">\n",
       "      <th></th>\n",
       "      <th>time</th>\n",
       "      <th>open</th>\n",
       "      <th>high</th>\n",
       "      <th>low</th>\n",
       "      <th>close</th>\n",
       "      <th>5mean</th>\n",
       "      <th>target</th>\n",
       "    </tr>\n",
       "  </thead>\n",
       "  <tbody>\n",
       "    <tr>\n",
       "      <td>0</td>\n",
       "      <td>2016-11-07 07:00:00</td>\n",
       "      <td>104.101</td>\n",
       "      <td>104.630</td>\n",
       "      <td>103.779</td>\n",
       "      <td>104.476</td>\n",
       "      <td>103.6076</td>\n",
       "      <td>0</td>\n",
       "    </tr>\n",
       "    <tr>\n",
       "      <td>1</td>\n",
       "      <td>2016-11-08 07:00:00</td>\n",
       "      <td>104.462</td>\n",
       "      <td>105.194</td>\n",
       "      <td>104.297</td>\n",
       "      <td>105.176</td>\n",
       "      <td>103.8124</td>\n",
       "      <td>1</td>\n",
       "    </tr>\n",
       "    <tr>\n",
       "      <td>2</td>\n",
       "      <td>2016-11-09 07:00:00</td>\n",
       "      <td>105.178</td>\n",
       "      <td>105.890</td>\n",
       "      <td>101.193</td>\n",
       "      <td>105.658</td>\n",
       "      <td>104.2828</td>\n",
       "      <td>1</td>\n",
       "    </tr>\n",
       "    <tr>\n",
       "      <td>3</td>\n",
       "      <td>2016-11-10 07:00:00</td>\n",
       "      <td>105.685</td>\n",
       "      <td>106.949</td>\n",
       "      <td>104.960</td>\n",
       "      <td>106.816</td>\n",
       "      <td>105.0504</td>\n",
       "      <td>1</td>\n",
       "    </tr>\n",
       "    <tr>\n",
       "      <td>4</td>\n",
       "      <td>2016-11-11 07:00:00</td>\n",
       "      <td>106.796</td>\n",
       "      <td>106.934</td>\n",
       "      <td>106.032</td>\n",
       "      <td>106.683</td>\n",
       "      <td>105.7618</td>\n",
       "      <td>1</td>\n",
       "    </tr>\n",
       "  </tbody>\n",
       "</table>\n",
       "</div>"
      ],
      "text/plain": [
       "                  time     open     high      low    close     5mean  target\n",
       "0  2016-11-07 07:00:00  104.101  104.630  103.779  104.476  103.6076       0\n",
       "1  2016-11-08 07:00:00  104.462  105.194  104.297  105.176  103.8124       1\n",
       "2  2016-11-09 07:00:00  105.178  105.890  101.193  105.658  104.2828       1\n",
       "3  2016-11-10 07:00:00  105.685  106.949  104.960  106.816  105.0504       1\n",
       "4  2016-11-11 07:00:00  106.796  106.934  106.032  106.683  105.7618       1"
      ]
     },
     "execution_count": 2,
     "metadata": {},
     "output_type": "execute_result"
    }
   ],
   "source": [
    "df = pd.read_csv(\"FX_MA_5days.csv\")\n",
    "df.head()"
   ]
  },
  {
   "cell_type": "code",
   "execution_count": 3,
   "metadata": {},
   "outputs": [
    {
     "name": "stdout",
     "output_type": "stream",
     "text": [
      "<class 'pandas.core.frame.DataFrame'>\n",
      "RangeIndex: 789 entries, 0 to 788\n",
      "Data columns (total 7 columns):\n",
      "time      789 non-null object\n",
      "open      789 non-null float64\n",
      "high      789 non-null float64\n",
      "low       789 non-null float64\n",
      "close     789 non-null float64\n",
      "5mean     789 non-null float64\n",
      "target    789 non-null int64\n",
      "dtypes: float64(5), int64(1), object(1)\n",
      "memory usage: 43.3+ KB\n"
     ]
    }
   ],
   "source": [
    "df.info()"
   ]
  },
  {
   "cell_type": "code",
   "execution_count": 4,
   "metadata": {},
   "outputs": [],
   "source": [
    "split_data = '2019-05-06 06:00:00'\n",
    "train, test = df[df['time'] < split_data], df[df['time'] >= split_data]"
   ]
  },
  {
   "cell_type": "code",
   "execution_count": 5,
   "metadata": {},
   "outputs": [],
   "source": [
    "train = train.set_index('time')\n",
    "test = test.set_index('time')"
   ]
  },
  {
   "cell_type": "code",
   "execution_count": 6,
   "metadata": {},
   "outputs": [],
   "source": [
    "X_train = train.iloc[:,:5]\n",
    "Y_train = train['target']\n",
    "\n",
    "X_test = test.iloc[:,:5]\n",
    "Y_test = test['target']"
   ]
  },
  {
   "cell_type": "code",
   "execution_count": 7,
   "metadata": {},
   "outputs": [
    {
     "name": "stdout",
     "output_type": "stream",
     "text": [
      "[[104.101  104.63   103.779  104.476  103.6076]\n",
      " [104.462  105.194  104.297  105.176  103.8124]\n",
      " [105.178  105.89   101.193  105.658  104.2828]\n",
      " ...\n",
      " [111.425  111.613  111.05   111.385  111.5274]\n",
      " [111.382  111.666  111.354  111.51   111.512 ]\n",
      " [111.518  111.695  111.07   111.096  111.413 ]]\n",
      "Data len:  650\n",
      "[[104.101  104.63   103.779  104.476  103.6076]\n",
      " [104.462  105.194  104.297  105.176  103.8124]\n",
      " [105.178  105.89   101.193  105.658  104.2828]\n",
      " ...\n",
      " [111.425  111.613  111.05   111.385  111.5274]\n",
      " [111.382  111.666  111.354  111.51   111.512 ]\n",
      " [111.518  111.695  111.07   111.096  111.413 ]]\n",
      "Data len:  139\n"
     ]
    },
    {
     "name": "stderr",
     "output_type": "stream",
     "text": [
      "/home/tim0114gap/anaconda3/lib/python3.7/site-packages/ipykernel_launcher.py:1: FutureWarning: Method .as_matrix will be removed in a future version. Use .values instead.\n",
      "  \"\"\"Entry point for launching an IPython kernel.\n",
      "/home/tim0114gap/anaconda3/lib/python3.7/site-packages/ipykernel_launcher.py:5: FutureWarning: Method .as_matrix will be removed in a future version. Use .values instead.\n",
      "  \"\"\"\n"
     ]
    }
   ],
   "source": [
    "X_train = X_train.as_matrix()\n",
    "print(X_train)\n",
    "print(\"Data len: \",len(X_train))\n",
    "\n",
    "X_test = X_test.as_matrix()\n",
    "print(X_train)\n",
    "print(\"Data len: \",len(X_test))\n",
    "\n",
    "# 正規化\n",
    "ms = MinMaxScaler()\n",
    "X_train = ms.fit_transform(X_train)\n",
    "\n",
    "ms = MinMaxScaler()\n",
    "X_test = ms.fit_transform(X_test)"
   ]
  },
  {
   "cell_type": "code",
   "execution_count": 8,
   "metadata": {},
   "outputs": [
    {
     "name": "stdout",
     "output_type": "stream",
     "text": [
      "Y_train Target len:  650\n",
      "Y_train Target len:  139\n"
     ]
    }
   ],
   "source": [
    "c = np.array(Y_train)\n",
    "print(\"Y_train Target len: \",len(Y_train))\n",
    "\n",
    "Y_test = np.array(Y_test)\n",
    "print(\"Y_train Target len: \",len(Y_test))"
   ]
  },
  {
   "cell_type": "code",
   "execution_count": 9,
   "metadata": {},
   "outputs": [],
   "source": [
    "maxlen = 5\n",
    "dataTrain = []\n",
    "targetTrain = []\n",
    "for i in range(0, len(X_train) - maxlen):\n",
    "    dataTrain.append(X_train[i: i + maxlen])\n",
    "    targetTrain.append(Y_train[i + maxlen])\n",
    "\n",
    "dataTest = []\n",
    "targetTest = []\n",
    "for i in range(0, len(X_test) - maxlen):\n",
    "    dataTest.append(X_test[i: i + maxlen])\n",
    "    targetTest.append(Y_test[i + maxlen])"
   ]
  },
  {
   "cell_type": "code",
   "execution_count": 10,
   "metadata": {},
   "outputs": [
    {
     "name": "stdout",
     "output_type": "stream",
     "text": [
      "(645, 5, 5)\n",
      "(645,)\n",
      "(134, 5, 5)\n",
      "(134,)\n"
     ]
    }
   ],
   "source": [
    "X_train = np.array(dataTrain)\n",
    "Y_train = np.array(targetTrain)\n",
    "\n",
    "X_test = np.array(dataTest)\n",
    "Y_test = np.array(targetTest)\n",
    "print(X_train.shape)\n",
    "print(Y_train.shape)\n",
    "print(X_test.shape)\n",
    "print(Y_test.shape)"
   ]
  },
  {
   "cell_type": "code",
   "execution_count": 11,
   "metadata": {},
   "outputs": [],
   "source": [
    "#Y_train = Y_train.reshape(len(Y_train), 1)\n",
    "#Y_test = Y_test.reshape(len(Y_test), 1)\n",
    "\n",
    "#Y_train = to_categorical(Y_train)\n",
    "#Y_test = to_categorical(Y_test)"
   ]
  },
  {
   "cell_type": "code",
   "execution_count": 12,
   "metadata": {},
   "outputs": [
    {
     "name": "stdout",
     "output_type": "stream",
     "text": [
      "(645, 5, 5)\n",
      "(645,)\n",
      "(134, 5, 5)\n",
      "(134,)\n"
     ]
    }
   ],
   "source": [
    "print(X_train.shape)\n",
    "print(Y_train.shape)\n",
    "print(X_test.shape)\n",
    "print(Y_test.shape)"
   ]
  },
  {
   "cell_type": "code",
   "execution_count": 13,
   "metadata": {},
   "outputs": [
    {
     "name": "stdout",
     "output_type": "stream",
     "text": [
      "WARNING:tensorflow:From /home/tim0114gap/anaconda3/lib/python3.7/site-packages/keras/backend/tensorflow_backend.py:74: The name tf.get_default_graph is deprecated. Please use tf.compat.v1.get_default_graph instead.\n",
      "\n",
      "WARNING:tensorflow:From /home/tim0114gap/anaconda3/lib/python3.7/site-packages/keras/backend/tensorflow_backend.py:517: The name tf.placeholder is deprecated. Please use tf.compat.v1.placeholder instead.\n",
      "\n",
      "WARNING:tensorflow:From /home/tim0114gap/anaconda3/lib/python3.7/site-packages/keras/backend/tensorflow_backend.py:4138: The name tf.random_uniform is deprecated. Please use tf.random.uniform instead.\n",
      "\n",
      "WARNING:tensorflow:From /home/tim0114gap/anaconda3/lib/python3.7/site-packages/keras/backend/tensorflow_backend.py:133: The name tf.placeholder_with_default is deprecated. Please use tf.compat.v1.placeholder_with_default instead.\n",
      "\n",
      "WARNING:tensorflow:From /home/tim0114gap/anaconda3/lib/python3.7/site-packages/keras/backend/tensorflow_backend.py:3445: calling dropout (from tensorflow.python.ops.nn_ops) with keep_prob is deprecated and will be removed in a future version.\n",
      "Instructions for updating:\n",
      "Please use `rate` instead of `keep_prob`. Rate should be set to `rate = 1 - keep_prob`.\n"
     ]
    },
    {
     "name": "stderr",
     "output_type": "stream",
     "text": [
      "/home/tim0114gap/anaconda3/lib/python3.7/site-packages/keras/activations.py:211: UserWarning: Do not pass a layer instance (such as LeakyReLU) as the activation argument of another layer. Instead, advanced activation layers should be used just like any other layer in a model.\n",
      "  identifier=identifier.__class__.__name__))\n"
     ]
    }
   ],
   "source": [
    "'''\n",
    "モデル設定\n",
    "'''\n",
    "length_of_sequence = X_train.shape[1]  # 入力層 = 5\n",
    "in_out_neurons = 2                     # 出力層 = 2\n",
    "n_hidden = 100                         # 隠れ層 = 100\n",
    "\n",
    "model = Sequential()\n",
    "model.add(LSTM(n_hidden, batch_input_shape=(None, length_of_sequence, 5), return_sequences=False))\n",
    "model.add(Dropout(0.25))\n",
    "model.add(Dense(n_hidden))\n",
    "model.add(Activation(LeakyReLU(alpha=0.3)))\n",
    "model.add(Dense(50))\n",
    "model.add(Activation(LeakyReLU(alpha=0.3)))\n",
    "model.add(Dense(in_out_neurons))\n",
    "model.add(Activation(\"softmax\"))"
   ]
  },
  {
   "cell_type": "code",
   "execution_count": 14,
   "metadata": {},
   "outputs": [
    {
     "name": "stdout",
     "output_type": "stream",
     "text": [
      "WARNING:tensorflow:From /home/tim0114gap/anaconda3/lib/python3.7/site-packages/keras/optimizers.py:790: The name tf.train.Optimizer is deprecated. Please use tf.compat.v1.train.Optimizer instead.\n",
      "\n",
      "WARNING:tensorflow:From /home/tim0114gap/anaconda3/lib/python3.7/site-packages/keras/backend/tensorflow_backend.py:3341: The name tf.log is deprecated. Please use tf.math.log instead.\n",
      "\n"
     ]
    }
   ],
   "source": [
    "optimizer = Adam(lr = 0.001, beta_1 = 0.9, beta_2 = 0.999)\n",
    "model.compile(loss=\"sparse_categorical_crossentropy\", \n",
    "              optimizer=optimizer, metrics=['acc'])"
   ]
  },
  {
   "cell_type": "code",
   "execution_count": 15,
   "metadata": {},
   "outputs": [
    {
     "name": "stdout",
     "output_type": "stream",
     "text": [
      "_________________________________________________________________\n",
      "Layer (type)                 Output Shape              Param #   \n",
      "=================================================================\n",
      "lstm_1 (LSTM)                (None, 100)               42400     \n",
      "_________________________________________________________________\n",
      "dropout_1 (Dropout)          (None, 100)               0         \n",
      "_________________________________________________________________\n",
      "dense_1 (Dense)              (None, 100)               10100     \n",
      "_________________________________________________________________\n",
      "activation_1 (Activation)    (None, 100)               0         \n",
      "_________________________________________________________________\n",
      "dense_2 (Dense)              (None, 50)                5050      \n",
      "_________________________________________________________________\n",
      "activation_2 (Activation)    (None, 50)                0         \n",
      "_________________________________________________________________\n",
      "dense_3 (Dense)              (None, 2)                 102       \n",
      "_________________________________________________________________\n",
      "activation_3 (Activation)    (None, 2)                 0         \n",
      "=================================================================\n",
      "Total params: 57,652\n",
      "Trainable params: 57,652\n",
      "Non-trainable params: 0\n",
      "_________________________________________________________________\n"
     ]
    }
   ],
   "source": [
    "#plot_model(model, to_file='model.png')\n",
    "model.summary()"
   ]
  },
  {
   "cell_type": "code",
   "execution_count": 16,
   "metadata": {},
   "outputs": [
    {
     "name": "stdout",
     "output_type": "stream",
     "text": [
      "WARNING:tensorflow:From /home/tim0114gap/anaconda3/lib/python3.7/site-packages/tensorflow/python/ops/math_grad.py:1250: add_dispatch_support.<locals>.wrapper (from tensorflow.python.ops.array_ops) is deprecated and will be removed in a future version.\n",
      "Instructions for updating:\n",
      "Use tf.where in 2.0, which has the same broadcast rule as np.where\n",
      "Train on 516 samples, validate on 129 samples\n",
      "Epoch 1/200\n",
      "516/516 [==============================] - 2s 3ms/step - loss: 0.6940 - acc: 0.5388 - val_loss: 0.6926 - val_acc: 0.4729\n",
      "Epoch 2/200\n",
      "516/516 [==============================] - 0s 582us/step - loss: 0.6897 - acc: 0.5349 - val_loss: 0.6871 - val_acc: 0.5271\n",
      "Epoch 3/200\n",
      "516/516 [==============================] - 0s 586us/step - loss: 0.6812 - acc: 0.5562 - val_loss: 0.6936 - val_acc: 0.4729\n",
      "Epoch 4/200\n",
      "516/516 [==============================] - 0s 588us/step - loss: 0.6747 - acc: 0.5911 - val_loss: 0.7118 - val_acc: 0.5271\n",
      "Epoch 5/200\n",
      "516/516 [==============================] - 0s 585us/step - loss: 0.6657 - acc: 0.6047 - val_loss: 0.6526 - val_acc: 0.6047\n",
      "Epoch 6/200\n",
      "516/516 [==============================] - 0s 582us/step - loss: 0.6762 - acc: 0.5640 - val_loss: 0.7232 - val_acc: 0.5271\n",
      "Epoch 7/200\n",
      "516/516 [==============================] - 0s 585us/step - loss: 0.6692 - acc: 0.5736 - val_loss: 0.6806 - val_acc: 0.5271\n",
      "Epoch 8/200\n",
      "516/516 [==============================] - 0s 604us/step - loss: 0.6692 - acc: 0.5988 - val_loss: 0.6454 - val_acc: 0.6434\n",
      "Epoch 9/200\n",
      "516/516 [==============================] - 0s 585us/step - loss: 0.6452 - acc: 0.6027 - val_loss: 0.6245 - val_acc: 0.6434\n",
      "Epoch 10/200\n",
      "516/516 [==============================] - 0s 587us/step - loss: 0.6563 - acc: 0.6047 - val_loss: 0.6549 - val_acc: 0.6512\n",
      "Epoch 11/200\n",
      "516/516 [==============================] - 0s 572us/step - loss: 0.6315 - acc: 0.6337 - val_loss: 0.6036 - val_acc: 0.7054\n",
      "Epoch 12/200\n",
      "516/516 [==============================] - 0s 578us/step - loss: 0.6156 - acc: 0.6783 - val_loss: 0.6336 - val_acc: 0.6124\n",
      "Epoch 13/200\n",
      "516/516 [==============================] - 0s 576us/step - loss: 0.6059 - acc: 0.6744 - val_loss: 0.5819 - val_acc: 0.7597\n",
      "Epoch 14/200\n",
      "516/516 [==============================] - 0s 582us/step - loss: 0.5289 - acc: 0.7481 - val_loss: 0.5324 - val_acc: 0.7132\n",
      "Epoch 15/200\n",
      "516/516 [==============================] - 0s 587us/step - loss: 0.5329 - acc: 0.7326 - val_loss: 0.4790 - val_acc: 0.7907\n",
      "Epoch 16/200\n",
      "516/516 [==============================] - 0s 593us/step - loss: 0.4895 - acc: 0.7597 - val_loss: 0.5570 - val_acc: 0.6899\n",
      "Epoch 17/200\n",
      "516/516 [==============================] - 0s 594us/step - loss: 0.4930 - acc: 0.7461 - val_loss: 0.4502 - val_acc: 0.7674\n",
      "Epoch 18/200\n",
      "516/516 [==============================] - 0s 592us/step - loss: 0.5404 - acc: 0.7345 - val_loss: 0.5055 - val_acc: 0.8217\n",
      "Epoch 19/200\n",
      "516/516 [==============================] - 0s 583us/step - loss: 0.4606 - acc: 0.8023 - val_loss: 0.4258 - val_acc: 0.8372\n",
      "Epoch 20/200\n",
      "516/516 [==============================] - 0s 582us/step - loss: 0.4619 - acc: 0.7791 - val_loss: 0.4200 - val_acc: 0.8295\n",
      "Epoch 21/200\n",
      "516/516 [==============================] - 0s 576us/step - loss: 0.4854 - acc: 0.7597 - val_loss: 0.4728 - val_acc: 0.7287\n",
      "Epoch 22/200\n",
      "516/516 [==============================] - 0s 582us/step - loss: 0.4625 - acc: 0.7733 - val_loss: 0.4103 - val_acc: 0.8372\n",
      "Epoch 23/200\n",
      "516/516 [==============================] - 0s 580us/step - loss: 0.4360 - acc: 0.7907 - val_loss: 0.3986 - val_acc: 0.8450\n",
      "Epoch 24/200\n",
      "516/516 [==============================] - 0s 584us/step - loss: 0.4387 - acc: 0.7965 - val_loss: 0.4380 - val_acc: 0.8062\n",
      "Epoch 25/200\n",
      "516/516 [==============================] - 0s 589us/step - loss: 0.4561 - acc: 0.7946 - val_loss: 0.4185 - val_acc: 0.8295\n",
      "Epoch 26/200\n",
      "516/516 [==============================] - 0s 600us/step - loss: 0.4060 - acc: 0.8275 - val_loss: 0.3916 - val_acc: 0.8527\n",
      "Epoch 27/200\n",
      "516/516 [==============================] - 0s 595us/step - loss: 0.4069 - acc: 0.8275 - val_loss: 0.4152 - val_acc: 0.7597\n",
      "Epoch 28/200\n",
      "516/516 [==============================] - 0s 594us/step - loss: 0.4604 - acc: 0.7791 - val_loss: 0.3994 - val_acc: 0.8372\n",
      "Epoch 29/200\n",
      "516/516 [==============================] - 0s 592us/step - loss: 0.4353 - acc: 0.7868 - val_loss: 0.3900 - val_acc: 0.8527\n",
      "Epoch 30/200\n",
      "516/516 [==============================] - 0s 582us/step - loss: 0.3899 - acc: 0.8140 - val_loss: 0.3717 - val_acc: 0.8372\n",
      "Epoch 31/200\n",
      "516/516 [==============================] - 0s 590us/step - loss: 0.3934 - acc: 0.8159 - val_loss: 0.3889 - val_acc: 0.8372\n",
      "Epoch 32/200\n",
      "516/516 [==============================] - 0s 584us/step - loss: 0.4540 - acc: 0.8140 - val_loss: 0.5033 - val_acc: 0.6977\n",
      "Epoch 33/200\n",
      "516/516 [==============================] - 0s 583us/step - loss: 0.4258 - acc: 0.8043 - val_loss: 0.3866 - val_acc: 0.8450\n",
      "Epoch 34/200\n",
      "516/516 [==============================] - 0s 583us/step - loss: 0.3975 - acc: 0.8178 - val_loss: 0.3932 - val_acc: 0.8450\n",
      "Epoch 35/200\n",
      "516/516 [==============================] - 0s 579us/step - loss: 0.4121 - acc: 0.8159 - val_loss: 0.4333 - val_acc: 0.7984\n",
      "Epoch 36/200\n",
      "516/516 [==============================] - 0s 577us/step - loss: 0.4083 - acc: 0.8120 - val_loss: 0.5139 - val_acc: 0.6822\n",
      "Epoch 37/200\n",
      "516/516 [==============================] - 0s 572us/step - loss: 0.4085 - acc: 0.8178 - val_loss: 0.3697 - val_acc: 0.8605\n",
      "Epoch 38/200\n",
      "516/516 [==============================] - 0s 580us/step - loss: 0.3956 - acc: 0.8275 - val_loss: 0.3677 - val_acc: 0.8605\n",
      "Epoch 39/200\n",
      "516/516 [==============================] - 0s 584us/step - loss: 0.4167 - acc: 0.8062 - val_loss: 0.3746 - val_acc: 0.8372\n",
      "Epoch 40/200\n",
      "516/516 [==============================] - 0s 606us/step - loss: 0.4151 - acc: 0.8023 - val_loss: 0.4070 - val_acc: 0.7674\n",
      "Epoch 41/200\n",
      "516/516 [==============================] - 0s 588us/step - loss: 0.4351 - acc: 0.8004 - val_loss: 0.3911 - val_acc: 0.8605\n",
      "Epoch 42/200\n",
      "516/516 [==============================] - 0s 600us/step - loss: 0.4586 - acc: 0.7733 - val_loss: 0.4344 - val_acc: 0.7519\n",
      "Epoch 43/200\n",
      "516/516 [==============================] - 0s 592us/step - loss: 0.4024 - acc: 0.8217 - val_loss: 0.3757 - val_acc: 0.8295\n",
      "Epoch 44/200\n",
      "516/516 [==============================] - 0s 587us/step - loss: 0.3969 - acc: 0.8217 - val_loss: 0.4540 - val_acc: 0.7364\n",
      "Epoch 45/200\n",
      "516/516 [==============================] - 0s 585us/step - loss: 0.4071 - acc: 0.7868 - val_loss: 0.3792 - val_acc: 0.8682\n",
      "Epoch 46/200\n",
      "516/516 [==============================] - 0s 590us/step - loss: 0.3982 - acc: 0.8178 - val_loss: 0.3902 - val_acc: 0.8372\n",
      "Epoch 47/200\n",
      "516/516 [==============================] - 0s 592us/step - loss: 0.3966 - acc: 0.8353 - val_loss: 0.3831 - val_acc: 0.8450\n",
      "Epoch 48/200\n",
      "516/516 [==============================] - 0s 588us/step - loss: 0.3884 - acc: 0.8043 - val_loss: 0.3835 - val_acc: 0.8062\n",
      "Epoch 49/200\n",
      "516/516 [==============================] - 0s 588us/step - loss: 0.4029 - acc: 0.8004 - val_loss: 0.3847 - val_acc: 0.8605\n",
      "Epoch 50/200\n",
      "516/516 [==============================] - 0s 588us/step - loss: 0.3876 - acc: 0.8295 - val_loss: 0.3797 - val_acc: 0.8140\n",
      "Epoch 51/200\n",
      "516/516 [==============================] - 0s 587us/step - loss: 0.3812 - acc: 0.8217 - val_loss: 0.4435 - val_acc: 0.7829\n",
      "Epoch 52/200\n",
      "516/516 [==============================] - 0s 579us/step - loss: 0.3911 - acc: 0.8178 - val_loss: 0.3757 - val_acc: 0.8217\n",
      "Epoch 53/200\n",
      "516/516 [==============================] - 0s 590us/step - loss: 0.3879 - acc: 0.8178 - val_loss: 0.4641 - val_acc: 0.7209\n",
      "Epoch 54/200\n",
      "516/516 [==============================] - 0s 588us/step - loss: 0.3898 - acc: 0.8159 - val_loss: 0.3820 - val_acc: 0.8527\n",
      "Epoch 55/200\n",
      "516/516 [==============================] - 0s 584us/step - loss: 0.4436 - acc: 0.7810 - val_loss: 0.4049 - val_acc: 0.8295\n",
      "Epoch 56/200\n",
      "516/516 [==============================] - 0s 586us/step - loss: 0.3953 - acc: 0.8333 - val_loss: 0.3680 - val_acc: 0.8372\n",
      "Epoch 57/200\n",
      "516/516 [==============================] - 0s 613us/step - loss: 0.3891 - acc: 0.8256 - val_loss: 0.3690 - val_acc: 0.8682\n",
      "Epoch 58/200\n"
     ]
    },
    {
     "name": "stdout",
     "output_type": "stream",
     "text": [
      "516/516 [==============================] - 0s 597us/step - loss: 0.4017 - acc: 0.8217 - val_loss: 0.3762 - val_acc: 0.8372\n"
     ]
    }
   ],
   "source": [
    "# コールバック指定（https://qiita.com/yukiB/items/f45f0f71bc9739830002）\n",
    "early_stopping = EarlyStopping(monitor='val_loss', \n",
    "                               mode='auto', patience=20)\n",
    "history = model.fit(X_train, Y_train,\n",
    "                  batch_size = 16, # 論文で使われるのが1, 32, 128, 256, 512\n",
    "                  epochs=200,\n",
    "                  validation_split=0.2,\n",
    "                  callbacks=[early_stopping])"
   ]
  },
  {
   "cell_type": "code",
   "execution_count": 17,
   "metadata": {},
   "outputs": [
    {
     "data": {
      "image/png": "[encoded data removed]",
      "text/plain": [
       "<Figure size 432x288 with 1 Axes>"
      ]
     },
     "metadata": {
      "needs_background": "light"
     },
     "output_type": "display_data"
    }
   ],
   "source": [
    "epochs = range(1, len(history.history['acc']) + 1)\n",
    "plt.plot(epochs, history.history['loss'])\n",
    "plt.plot(epochs, history.history['val_loss'])\n",
    "plt.title('model loss')\n",
    "plt.ylabel('loss')\n",
    "plt.xlabel('epoch')\n",
    "plt.legend(['train', 'val'], loc='upper left')\n",
    "plt.show()"
   ]
  },
  {
   "cell_type": "code",
   "execution_count": 18,
   "metadata": {},
   "outputs": [
    {
     "data": {
      "text/plain": [
       "<matplotlib.legend.Legend at 0x7f4bc4615ac8>"
      ]
     },
     "execution_count": 18,
     "metadata": {},
     "output_type": "execute_result"
    },
    {
     "data": {
      "image/png": "[encoded data removed]",
      "text/plain": [
       "<Figure size 432x288 with 1 Axes>"
      ]
     },
     "metadata": {
      "needs_background": "light"
     },
     "output_type": "display_data"
    }
   ],
   "source": [
    "#acc, val_accのプロット\n",
    "plt.plot(history.history[\"acc\"], label=\"acc\", ls=\"-\", marker=\"o\")\n",
    "plt.plot(history.history[\"val_acc\"], label=\"val_acc\", ls=\"-\", marker=\"x\")\n",
    "plt.ylabel(\"accuracy\")\n",
    "plt.xlabel(\"epoch\")\n",
    "plt.legend(loc=\"best\")\n",
    "#Final.pngという名前で、結果を保存\n",
    "# plt.savefig('Final.png')\n",
    "# plt.show()"
   ]
  },
  {
   "cell_type": "code",
   "execution_count": 19,
   "metadata": {},
   "outputs": [
    {
     "name": "stdout",
     "output_type": "stream",
     "text": [
      "134/134 [==============================] - 0s 114us/step\n",
      "Test accuracy: 0.8358\n"
     ]
    }
   ],
   "source": [
    "print(\"Test accuracy: %.4f\" % (model.evaluate(X_test, Y_test)[1]))"
   ]
  },
  {
   "cell_type": "code",
   "execution_count": 20,
   "metadata": {},
   "outputs": [],
   "source": [
    "predict_classes = model.predict_classes(X_test)"
   ]
  },
  {
   "cell_type": "code",
   "execution_count": 21,
   "metadata": {},
   "outputs": [],
   "source": [
    "#Y_test = np.array([np.argmax(x) for x in Y_test])"
   ]
  },
  {
   "cell_type": "code",
   "execution_count": 22,
   "metadata": {},
   "outputs": [
    {
     "data": {
      "text/html": [
       "<div>\n",
       "<style scoped>\n",
       "    .dataframe tbody tr th:only-of-type {\n",
       "        vertical-align: middle;\n",
       "    }\n",
       "\n",
       "    .dataframe tbody tr th {\n",
       "        vertical-align: top;\n",
       "    }\n",
       "\n",
       "    .dataframe thead th {\n",
       "        text-align: right;\n",
       "    }\n",
       "</style>\n",
       "<table border=\"1\" class=\"dataframe\">\n",
       "  <thead>\n",
       "    <tr style=\"text-align: right;\">\n",
       "      <th>Predicted</th>\n",
       "      <th>0</th>\n",
       "      <th>1</th>\n",
       "      <th>All</th>\n",
       "    </tr>\n",
       "    <tr>\n",
       "      <th>True</th>\n",
       "      <th></th>\n",
       "      <th></th>\n",
       "      <th></th>\n",
       "    </tr>\n",
       "  </thead>\n",
       "  <tbody>\n",
       "    <tr>\n",
       "      <td>0</td>\n",
       "      <td>48</td>\n",
       "      <td>17</td>\n",
       "      <td>65</td>\n",
       "    </tr>\n",
       "    <tr>\n",
       "      <td>1</td>\n",
       "      <td>5</td>\n",
       "      <td>64</td>\n",
       "      <td>69</td>\n",
       "    </tr>\n",
       "    <tr>\n",
       "      <td>All</td>\n",
       "      <td>53</td>\n",
       "      <td>81</td>\n",
       "      <td>134</td>\n",
       "    </tr>\n",
       "  </tbody>\n",
       "</table>\n",
       "</div>"
      ],
      "text/plain": [
       "Predicted   0   1  All\n",
       "True                  \n",
       "0          48  17   65\n",
       "1           5  64   69\n",
       "All        53  81  134"
      ]
     },
     "execution_count": 22,
     "metadata": {},
     "output_type": "execute_result"
    }
   ],
   "source": [
    "pd.crosstab(Y_test, predict_classes, rownames=['True'], colnames=['Predicted'], margins=True)"
   ]
  }
 ],
 "metadata": {
  "kernelspec": {
   "display_name": "Python 3",
   "language": "python",
   "name": "python3"
  },
  "language_info": {
   "codemirror_mode": {
    "name": "ipython",
    "version": 3
   },
   "file_extension": ".py",
   "mimetype": "text/x-python",
   "name": "python",
   "nbconvert_exporter": "python",
   "pygments_lexer": "ipython3",
   "version": "3.7.3"
  }
 },
 "nbformat": 4,
 "nbformat_minor": 2
}
