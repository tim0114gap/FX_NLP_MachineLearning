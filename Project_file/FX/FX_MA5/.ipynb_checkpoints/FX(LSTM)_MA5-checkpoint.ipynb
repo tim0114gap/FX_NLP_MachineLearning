{
 "cells": [
  {
   "cell_type": "code",
   "execution_count": 1,
   "metadata": {},
   "outputs": [
    {
     "name": "stderr",
     "output_type": "stream",
     "text": [
      "Using TensorFlow backend.\n"
     ]
    }
   ],
   "source": [
    "import numpy as np\n",
    "import pandas as pd\n",
    "from pandas import DataFrame\n",
    "import seaborn as sns\n",
    "\n",
    "from sklearn.model_selection import train_test_split\n",
    "from sklearn.preprocessing import MinMaxScaler\n",
    "\n",
    "import keras\n",
    "from keras.layers.recurrent import LSTM\n",
    "from keras.models import Sequential\n",
    "from keras.layers import Dense, Activation\n",
    "from keras.layers.core import Dropout\n",
    "from keras.optimizers import Adam\n",
    "from keras.callbacks import EarlyStopping\n",
    "\n",
    "from keras.utils import plot_model, to_categorical"
   ]
  },
  {
   "cell_type": "code",
   "execution_count": 2,
   "metadata": {},
   "outputs": [
    {
     "data": {
      "text/html": [
       "<div>\n",
       "<style scoped>\n",
       "    .dataframe tbody tr th:only-of-type {\n",
       "        vertical-align: middle;\n",
       "    }\n",
       "\n",
       "    .dataframe tbody tr th {\n",
       "        vertical-align: top;\n",
       "    }\n",
       "\n",
       "    .dataframe thead th {\n",
       "        text-align: right;\n",
       "    }\n",
       "</style>\n",
       "<table border=\"1\" class=\"dataframe\">\n",
       "  <thead>\n",
       "    <tr style=\"text-align: right;\">\n",
       "      <th></th>\n",
       "      <th>time</th>\n",
       "      <th>open</th>\n",
       "      <th>high</th>\n",
       "      <th>low</th>\n",
       "      <th>close</th>\n",
       "      <th>5mean</th>\n",
       "      <th>target</th>\n",
       "    </tr>\n",
       "  </thead>\n",
       "  <tbody>\n",
       "    <tr>\n",
       "      <td>0</td>\n",
       "      <td>2016-11-07 07:00:00</td>\n",
       "      <td>104.101</td>\n",
       "      <td>104.630</td>\n",
       "      <td>103.779</td>\n",
       "      <td>104.476</td>\n",
       "      <td>103.6076</td>\n",
       "      <td>0</td>\n",
       "    </tr>\n",
       "    <tr>\n",
       "      <td>1</td>\n",
       "      <td>2016-11-08 07:00:00</td>\n",
       "      <td>104.462</td>\n",
       "      <td>105.194</td>\n",
       "      <td>104.297</td>\n",
       "      <td>105.176</td>\n",
       "      <td>103.8124</td>\n",
       "      <td>1</td>\n",
       "    </tr>\n",
       "    <tr>\n",
       "      <td>2</td>\n",
       "      <td>2016-11-09 07:00:00</td>\n",
       "      <td>105.178</td>\n",
       "      <td>105.890</td>\n",
       "      <td>101.193</td>\n",
       "      <td>105.658</td>\n",
       "      <td>104.2828</td>\n",
       "      <td>1</td>\n",
       "    </tr>\n",
       "    <tr>\n",
       "      <td>3</td>\n",
       "      <td>2016-11-10 07:00:00</td>\n",
       "      <td>105.685</td>\n",
       "      <td>106.949</td>\n",
       "      <td>104.960</td>\n",
       "      <td>106.816</td>\n",
       "      <td>105.0504</td>\n",
       "      <td>1</td>\n",
       "    </tr>\n",
       "    <tr>\n",
       "      <td>4</td>\n",
       "      <td>2016-11-11 07:00:00</td>\n",
       "      <td>106.796</td>\n",
       "      <td>106.934</td>\n",
       "      <td>106.032</td>\n",
       "      <td>106.683</td>\n",
       "      <td>105.7618</td>\n",
       "      <td>1</td>\n",
       "    </tr>\n",
       "  </tbody>\n",
       "</table>\n",
       "</div>"
      ],
      "text/plain": [
       "                  time     open     high      low    close     5mean  target\n",
       "0  2016-11-07 07:00:00  104.101  104.630  103.779  104.476  103.6076       0\n",
       "1  2016-11-08 07:00:00  104.462  105.194  104.297  105.176  103.8124       1\n",
       "2  2016-11-09 07:00:00  105.178  105.890  101.193  105.658  104.2828       1\n",
       "3  2016-11-10 07:00:00  105.685  106.949  104.960  106.816  105.0504       1\n",
       "4  2016-11-11 07:00:00  106.796  106.934  106.032  106.683  105.7618       1"
      ]
     },
     "execution_count": 2,
     "metadata": {},
     "output_type": "execute_result"
    }
   ],
   "source": [
    "df = pd.read_csv(\"FX_MA_5days.csv\")\n",
    "df.head()"
   ]
  },
  {
   "cell_type": "code",
   "execution_count": 3,
   "metadata": {},
   "outputs": [
    {
     "name": "stdout",
     "output_type": "stream",
     "text": [
      "<class 'pandas.core.frame.DataFrame'>\n",
      "RangeIndex: 789 entries, 0 to 788\n",
      "Data columns (total 7 columns):\n",
      "time      789 non-null object\n",
      "open      789 non-null float64\n",
      "high      789 non-null float64\n",
      "low       789 non-null float64\n",
      "close     789 non-null float64\n",
      "5mean     789 non-null float64\n",
      "target    789 non-null int64\n",
      "dtypes: float64(5), int64(1), object(1)\n",
      "memory usage: 43.3+ KB\n"
     ]
    }
   ],
   "source": [
    "df.info()"
   ]
  },
  {
   "cell_type": "code",
   "execution_count": 4,
   "metadata": {},
   "outputs": [],
   "source": [
    "split_data = '2019-05-06 06:00:00'\n",
    "train, test = df[df['time'] < split_data], df[df['time'] >= split_data]"
   ]
  },
  {
   "cell_type": "code",
   "execution_count": 5,
   "metadata": {},
   "outputs": [],
   "source": [
    "train = train.set_index('time')\n",
    "test = test.set_index('time')"
   ]
  },
  {
   "cell_type": "code",
   "execution_count": 6,
   "metadata": {},
   "outputs": [],
   "source": [
    "X_train = train.iloc[:,:5]\n",
    "Y_train = train['target']\n",
    "\n",
    "X_test = test.iloc[:,:5]\n",
    "Y_test = test['target']"
   ]
  },
  {
   "cell_type": "code",
   "execution_count": 7,
   "metadata": {},
   "outputs": [
    {
     "name": "stdout",
     "output_type": "stream",
     "text": [
      "[[104.101  104.63   103.779  104.476  103.6076]\n",
      " [104.462  105.194  104.297  105.176  103.8124]\n",
      " [105.178  105.89   101.193  105.658  104.2828]\n",
      " ...\n",
      " [111.425  111.613  111.05   111.385  111.5274]\n",
      " [111.382  111.666  111.354  111.51   111.512 ]\n",
      " [111.518  111.695  111.07   111.096  111.413 ]]\n",
      "Data len:  650\n",
      "[[104.101  104.63   103.779  104.476  103.6076]\n",
      " [104.462  105.194  104.297  105.176  103.8124]\n",
      " [105.178  105.89   101.193  105.658  104.2828]\n",
      " ...\n",
      " [111.425  111.613  111.05   111.385  111.5274]\n",
      " [111.382  111.666  111.354  111.51   111.512 ]\n",
      " [111.518  111.695  111.07   111.096  111.413 ]]\n",
      "Data len:  139\n"
     ]
    },
    {
     "name": "stderr",
     "output_type": "stream",
     "text": [
      "/home/tim0114gap/anaconda3/lib/python3.7/site-packages/ipykernel_launcher.py:1: FutureWarning: Method .as_matrix will be removed in a future version. Use .values instead.\n",
      "  \"\"\"Entry point for launching an IPython kernel.\n",
      "/home/tim0114gap/anaconda3/lib/python3.7/site-packages/ipykernel_launcher.py:5: FutureWarning: Method .as_matrix will be removed in a future version. Use .values instead.\n",
      "  \"\"\"\n"
     ]
    }
   ],
   "source": [
    "X_train = X_train.as_matrix()\n",
    "print(X_train)\n",
    "print(\"Data len: \",len(X_train))\n",
    "\n",
    "X_test = X_test.as_matrix()\n",
    "print(X_train)\n",
    "print(\"Data len: \",len(X_test))\n",
    "\n",
    "# 正規化\n",
    "ms = MinMaxScaler()\n",
    "X_train = ms.fit_transform(X_train)\n",
    "\n",
    "ms = MinMaxScaler()\n",
    "X_test = ms.fit_transform(X_test)"
   ]
  },
  {
   "cell_type": "code",
   "execution_count": 8,
   "metadata": {},
   "outputs": [
    {
     "name": "stdout",
     "output_type": "stream",
     "text": [
      "Y_train Target len:  650\n",
      "Y_train Target len:  139\n"
     ]
    }
   ],
   "source": [
    "c = np.array(Y_train)\n",
    "print(\"Y_train Target len: \",len(Y_train))\n",
    "\n",
    "Y_test = np.array(Y_test)\n",
    "print(\"Y_train Target len: \",len(Y_test))"
   ]
  },
  {
   "cell_type": "code",
   "execution_count": 9,
   "metadata": {},
   "outputs": [],
   "source": [
    "maxlen = 5\n",
    "dataTrain = []\n",
    "targetTrain = []\n",
    "for i in range(0, len(X_train) - maxlen):\n",
    "    dataTrain.append(X_train[i: i + maxlen])\n",
    "    targetTrain.append(Y_train[i + maxlen])\n",
    "\n",
    "dataTest = []\n",
    "targetTest = []\n",
    "for i in range(0, len(X_test) - maxlen):\n",
    "    dataTest.append(X_test[i: i + maxlen])\n",
    "    targetTest.append(Y_test[i + maxlen])"
   ]
  },
  {
   "cell_type": "code",
   "execution_count": 10,
   "metadata": {},
   "outputs": [
    {
     "name": "stdout",
     "output_type": "stream",
     "text": [
      "(645, 5, 5)\n",
      "(645,)\n",
      "(134, 5, 5)\n",
      "(134,)\n"
     ]
    }
   ],
   "source": [
    "X_train = np.array(dataTrain)\n",
    "Y_train = np.array(targetTrain)\n",
    "\n",
    "X_test = np.array(dataTest)\n",
    "Y_test = np.array(targetTest)\n",
    "print(X_train.shape)\n",
    "print(Y_train.shape)\n",
    "print(X_test.shape)\n",
    "print(Y_test.shape)"
   ]
  },
  {
   "cell_type": "code",
   "execution_count": 11,
   "metadata": {},
   "outputs": [],
   "source": [
    "# Y_train = Y_train.reshape(len(Y_train), 1)\n",
    "# Y_test = Y_test.reshape(len(Y_test), 1)\n",
    "\n",
    "Y_train = to_categorical(Y_train)\n",
    "Y_test = to_categorical(Y_test)"
   ]
  },
  {
   "cell_type": "code",
   "execution_count": 12,
   "metadata": {},
   "outputs": [
    {
     "name": "stdout",
     "output_type": "stream",
     "text": [
      "(645, 5, 5)\n",
      "(645, 2)\n",
      "(134, 5, 5)\n",
      "(134, 2)\n"
     ]
    }
   ],
   "source": [
    "print(X_train.shape)\n",
    "print(Y_train.shape)\n",
    "print(X_test.shape)\n",
    "print(Y_test.shape)"
   ]
  },
  {
   "cell_type": "code",
   "execution_count": 13,
   "metadata": {},
   "outputs": [
    {
     "name": "stdout",
     "output_type": "stream",
     "text": [
      "WARNING:tensorflow:From /home/tim0114gap/anaconda3/lib/python3.7/site-packages/keras/backend/tensorflow_backend.py:74: The name tf.get_default_graph is deprecated. Please use tf.compat.v1.get_default_graph instead.\n",
      "\n",
      "WARNING:tensorflow:From /home/tim0114gap/anaconda3/lib/python3.7/site-packages/keras/backend/tensorflow_backend.py:517: The name tf.placeholder is deprecated. Please use tf.compat.v1.placeholder instead.\n",
      "\n",
      "WARNING:tensorflow:From /home/tim0114gap/anaconda3/lib/python3.7/site-packages/keras/backend/tensorflow_backend.py:4138: The name tf.random_uniform is deprecated. Please use tf.random.uniform instead.\n",
      "\n",
      "WARNING:tensorflow:From /home/tim0114gap/anaconda3/lib/python3.7/site-packages/keras/backend/tensorflow_backend.py:133: The name tf.placeholder_with_default is deprecated. Please use tf.compat.v1.placeholder_with_default instead.\n",
      "\n",
      "WARNING:tensorflow:From /home/tim0114gap/anaconda3/lib/python3.7/site-packages/keras/backend/tensorflow_backend.py:3445: calling dropout (from tensorflow.python.ops.nn_ops) with keep_prob is deprecated and will be removed in a future version.\n",
      "Instructions for updating:\n",
      "Please use `rate` instead of `keep_prob`. Rate should be set to `rate = 1 - keep_prob`.\n"
     ]
    }
   ],
   "source": [
    "'''\n",
    "モデル設定\n",
    "'''\n",
    "length_of_sequence = X_train.shape[1]  # 入力層 = 5\n",
    "in_out_neurons = 2                     # 出力層 = 2\n",
    "n_hidden = 100                         # 隠れ層 = 100\n",
    "\n",
    "model = Sequential()\n",
    "model.add(LSTM(n_hidden, batch_input_shape=(None, length_of_sequence, 5), return_sequences=False))\n",
    "model.add(Dropout(0.25))\n",
    "model.add(Dense(50))\n",
    "model.add(Activation(\"sigmoid\"))\n",
    "model.add(Dense(in_out_neurons))\n",
    "model.add(Activation(\"softmax\"))"
   ]
  },
  {
   "cell_type": "code",
   "execution_count": 14,
   "metadata": {},
   "outputs": [
    {
     "name": "stdout",
     "output_type": "stream",
     "text": [
      "WARNING:tensorflow:From /home/tim0114gap/anaconda3/lib/python3.7/site-packages/keras/optimizers.py:790: The name tf.train.Optimizer is deprecated. Please use tf.compat.v1.train.Optimizer instead.\n",
      "\n",
      "WARNING:tensorflow:From /home/tim0114gap/anaconda3/lib/python3.7/site-packages/keras/backend/tensorflow_backend.py:3295: The name tf.log is deprecated. Please use tf.math.log instead.\n",
      "\n"
     ]
    }
   ],
   "source": [
    "optimizer = Adam(lr = 0.001, beta_1 = 0.9, beta_2 = 0.999)\n",
    "model.compile(loss=\"categorical_crossentropy\", \n",
    "              optimizer=optimizer, metrics=['acc'])"
   ]
  },
  {
   "cell_type": "code",
   "execution_count": 15,
   "metadata": {},
   "outputs": [
    {
     "name": "stdout",
     "output_type": "stream",
     "text": [
      "_________________________________________________________________\n",
      "Layer (type)                 Output Shape              Param #   \n",
      "=================================================================\n",
      "lstm_1 (LSTM)                (None, 100)               42400     \n",
      "_________________________________________________________________\n",
      "dropout_1 (Dropout)          (None, 100)               0         \n",
      "_________________________________________________________________\n",
      "dense_1 (Dense)              (None, 50)                5050      \n",
      "_________________________________________________________________\n",
      "activation_1 (Activation)    (None, 50)                0         \n",
      "_________________________________________________________________\n",
      "dense_2 (Dense)              (None, 2)                 102       \n",
      "_________________________________________________________________\n",
      "activation_2 (Activation)    (None, 2)                 0         \n",
      "=================================================================\n",
      "Total params: 47,552\n",
      "Trainable params: 47,552\n",
      "Non-trainable params: 0\n",
      "_________________________________________________________________\n"
     ]
    }
   ],
   "source": [
    "#plot_model(model, to_file='model.png')\n",
    "model.summary()"
   ]
  },
  {
   "cell_type": "code",
   "execution_count": null,
   "metadata": {},
   "outputs": [
    {
     "name": "stdout",
     "output_type": "stream",
     "text": [
      "WARNING:tensorflow:From /home/tim0114gap/anaconda3/lib/python3.7/site-packages/tensorflow/python/ops/math_grad.py:1250: add_dispatch_support.<locals>.wrapper (from tensorflow.python.ops.array_ops) is deprecated and will be removed in a future version.\n",
      "Instructions for updating:\n",
      "Use tf.where in 2.0, which has the same broadcast rule as np.where\n",
      "Train on 580 samples, validate on 65 samples\n",
      "Epoch 1/100\n",
      "580/580 [==============================] - 2s 3ms/step - loss: 0.6997 - acc: 0.5086 - val_loss: 0.6770 - val_acc: 0.6000\n",
      "Epoch 2/100\n",
      "580/580 [==============================] - 0s 534us/step - loss: 0.6905 - acc: 0.5224 - val_loss: 0.6790 - val_acc: 0.6000\n",
      "Epoch 3/100\n",
      "580/580 [==============================] - 0s 537us/step - loss: 0.6876 - acc: 0.5345 - val_loss: 0.6708 - val_acc: 0.6000\n",
      "Epoch 4/100\n",
      "580/580 [==============================] - 0s 532us/step - loss: 0.6904 - acc: 0.5414 - val_loss: 0.6670 - val_acc: 0.6000\n",
      "Epoch 5/100\n",
      "580/580 [==============================] - 0s 537us/step - loss: 0.6930 - acc: 0.5448 - val_loss: 0.6819 - val_acc: 0.7077\n",
      "Epoch 6/100\n",
      "580/580 [==============================] - 0s 536us/step - loss: 0.6958 - acc: 0.5190 - val_loss: 0.6669 - val_acc: 0.6000\n",
      "Epoch 7/100\n",
      "580/580 [==============================] - 0s 530us/step - loss: 0.6810 - acc: 0.5638 - val_loss: 0.6929 - val_acc: 0.4154\n",
      "Epoch 8/100\n",
      "580/580 [==============================] - 0s 531us/step - loss: 0.6767 - acc: 0.5655 - val_loss: 0.6584 - val_acc: 0.6000\n",
      "Epoch 9/100\n",
      "580/580 [==============================] - 0s 535us/step - loss: 0.6709 - acc: 0.5655 - val_loss: 0.6821 - val_acc: 0.5077\n",
      "Epoch 10/100\n",
      "580/580 [==============================] - 0s 531us/step - loss: 0.6856 - acc: 0.5379 - val_loss: 0.6605 - val_acc: 0.6000\n",
      "Epoch 11/100\n",
      "580/580 [==============================] - 0s 535us/step - loss: 0.6687 - acc: 0.5845 - val_loss: 0.6518 - val_acc: 0.8000\n",
      "Epoch 12/100\n",
      "580/580 [==============================] - 0s 535us/step - loss: 0.6606 - acc: 0.5879 - val_loss: 0.6477 - val_acc: 0.8154\n",
      "Epoch 13/100\n",
      "580/580 [==============================] - 0s 529us/step - loss: 0.6507 - acc: 0.6224 - val_loss: 0.6323 - val_acc: 0.8000\n",
      "Epoch 14/100\n",
      "580/580 [==============================] - 0s 525us/step - loss: 0.6462 - acc: 0.6069 - val_loss: 0.6214 - val_acc: 0.8462\n",
      "Epoch 15/100\n",
      "580/580 [==============================] - 0s 532us/step - loss: 0.6209 - acc: 0.6621 - val_loss: 0.6390 - val_acc: 0.6308\n",
      "Epoch 16/100\n",
      "580/580 [==============================] - 0s 532us/step - loss: 0.6416 - acc: 0.6603 - val_loss: 0.6117 - val_acc: 0.8154\n",
      "Epoch 17/100\n",
      "580/580 [==============================] - 0s 532us/step - loss: 0.6037 - acc: 0.6828 - val_loss: 0.6091 - val_acc: 0.6000\n",
      "Epoch 18/100\n",
      "580/580 [==============================] - 0s 530us/step - loss: 0.5791 - acc: 0.6845 - val_loss: 0.5792 - val_acc: 0.8462\n",
      "Epoch 19/100\n",
      "580/580 [==============================] - 0s 526us/step - loss: 0.5632 - acc: 0.6983 - val_loss: 0.5526 - val_acc: 0.8154\n",
      "Epoch 20/100\n",
      "580/580 [==============================] - 0s 528us/step - loss: 0.5618 - acc: 0.6897 - val_loss: 0.5516 - val_acc: 0.8615\n",
      "Epoch 21/100\n",
      "580/580 [==============================] - 0s 531us/step - loss: 0.5303 - acc: 0.7328 - val_loss: 0.5552 - val_acc: 0.6769\n",
      "Epoch 22/100\n",
      "580/580 [==============================] - 0s 528us/step - loss: 0.5328 - acc: 0.7293 - val_loss: 0.5263 - val_acc: 0.7077\n",
      "Epoch 23/100\n",
      "580/580 [==============================] - 0s 532us/step - loss: 0.5591 - acc: 0.7138 - val_loss: 0.5310 - val_acc: 0.7077\n",
      "Epoch 24/100\n",
      "580/580 [==============================] - 0s 533us/step - loss: 0.5527 - acc: 0.6983 - val_loss: 0.5200 - val_acc: 0.7538\n",
      "Epoch 25/100\n",
      "580/580 [==============================] - 0s 523us/step - loss: 0.5393 - acc: 0.7224 - val_loss: 0.5431 - val_acc: 0.6923\n",
      "Epoch 26/100\n",
      "580/580 [==============================] - 0s 526us/step - loss: 0.5221 - acc: 0.7638 - val_loss: 0.5516 - val_acc: 0.6462\n",
      "Epoch 27/100\n",
      "580/580 [==============================] - 0s 530us/step - loss: 0.5612 - acc: 0.7293 - val_loss: 0.5256 - val_acc: 0.8000\n",
      "Epoch 28/100\n",
      "580/580 [==============================] - 0s 531us/step - loss: 0.5245 - acc: 0.7293 - val_loss: 0.4999 - val_acc: 0.8154\n",
      "Epoch 29/100\n",
      "580/580 [==============================] - 0s 535us/step - loss: 0.4772 - acc: 0.7879 - val_loss: 0.4860 - val_acc: 0.7692\n",
      "Epoch 30/100\n",
      "580/580 [==============================] - 0s 533us/step - loss: 0.4749 - acc: 0.7793 - val_loss: 0.4873 - val_acc: 0.7385\n",
      "Epoch 31/100\n",
      "580/580 [==============================] - 0s 534us/step - loss: 0.4837 - acc: 0.7931 - val_loss: 0.4712 - val_acc: 0.7692\n",
      "Epoch 32/100\n",
      "580/580 [==============================] - 0s 528us/step - loss: 0.4685 - acc: 0.7793 - val_loss: 0.4875 - val_acc: 0.8154\n",
      "Epoch 33/100\n",
      "580/580 [==============================] - 0s 528us/step - loss: 0.4527 - acc: 0.7897 - val_loss: 0.4867 - val_acc: 0.6923\n",
      "Epoch 34/100\n",
      "580/580 [==============================] - 0s 528us/step - loss: 0.4661 - acc: 0.7828 - val_loss: 0.4514 - val_acc: 0.7846\n",
      "Epoch 35/100\n",
      "580/580 [==============================] - 0s 543us/step - loss: 0.4718 - acc: 0.7655 - val_loss: 0.5174 - val_acc: 0.7077\n",
      "Epoch 36/100\n",
      "580/580 [==============================] - 0s 536us/step - loss: 0.4635 - acc: 0.7914 - val_loss: 0.4815 - val_acc: 0.7385\n",
      "Epoch 37/100\n",
      "580/580 [==============================] - 0s 535us/step - loss: 0.4351 - acc: 0.8069 - val_loss: 0.4476 - val_acc: 0.8000\n",
      "Epoch 38/100\n",
      "580/580 [==============================] - 0s 535us/step - loss: 0.4536 - acc: 0.7845 - val_loss: 0.4551 - val_acc: 0.8615\n",
      "Epoch 39/100\n",
      "580/580 [==============================] - 0s 533us/step - loss: 0.4509 - acc: 0.7931 - val_loss: 0.4472 - val_acc: 0.8308\n",
      "Epoch 40/100\n",
      "580/580 [==============================] - 0s 542us/step - loss: 0.4261 - acc: 0.8052 - val_loss: 0.4457 - val_acc: 0.7692\n",
      "Epoch 41/100\n",
      "580/580 [==============================] - 0s 541us/step - loss: 0.4256 - acc: 0.8103 - val_loss: 0.5400 - val_acc: 0.7077\n",
      "Epoch 42/100\n",
      "580/580 [==============================] - 0s 533us/step - loss: 0.4628 - acc: 0.7586 - val_loss: 0.5112 - val_acc: 0.6923\n",
      "Epoch 43/100\n",
      "580/580 [==============================] - 0s 540us/step - loss: 0.4462 - acc: 0.7931 - val_loss: 0.4437 - val_acc: 0.7846\n",
      "Epoch 44/100\n",
      "580/580 [==============================] - 0s 539us/step - loss: 0.4093 - acc: 0.8310 - val_loss: 0.4437 - val_acc: 0.8769\n",
      "Epoch 45/100\n",
      "580/580 [==============================] - 0s 535us/step - loss: 0.4101 - acc: 0.8103 - val_loss: 0.4432 - val_acc: 0.8000\n",
      "Epoch 46/100\n",
      "580/580 [==============================] - 0s 529us/step - loss: 0.4619 - acc: 0.7724 - val_loss: 0.4462 - val_acc: 0.8000\n",
      "Epoch 47/100\n",
      "580/580 [==============================] - 0s 528us/step - loss: 0.4477 - acc: 0.7948 - val_loss: 0.4727 - val_acc: 0.7846\n",
      "Epoch 48/100\n",
      "580/580 [==============================] - 0s 532us/step - loss: 0.4199 - acc: 0.8086 - val_loss: 0.4483 - val_acc: 0.7846\n",
      "Epoch 49/100\n",
      "580/580 [==============================] - 0s 537us/step - loss: 0.4193 - acc: 0.8052 - val_loss: 0.4285 - val_acc: 0.8154\n",
      "Epoch 50/100\n",
      "580/580 [==============================] - 0s 541us/step - loss: 0.4237 - acc: 0.7966 - val_loss: 0.4370 - val_acc: 0.7846\n",
      "Epoch 51/100\n",
      "580/580 [==============================] - 0s 538us/step - loss: 0.4268 - acc: 0.8121 - val_loss: 0.4564 - val_acc: 0.7231\n",
      "Epoch 52/100\n",
      "580/580 [==============================] - 0s 536us/step - loss: 0.4312 - acc: 0.7966 - val_loss: 0.5466 - val_acc: 0.6923\n",
      "Epoch 53/100\n",
      "580/580 [==============================] - 0s 540us/step - loss: 0.4248 - acc: 0.7879 - val_loss: 0.4915 - val_acc: 0.6769\n",
      "Epoch 54/100\n",
      "580/580 [==============================] - 0s 529us/step - loss: 0.4263 - acc: 0.8103 - val_loss: 0.4367 - val_acc: 0.8462\n",
      "Epoch 55/100\n",
      "580/580 [==============================] - 0s 542us/step - loss: 0.4122 - acc: 0.8293 - val_loss: 0.4285 - val_acc: 0.8615\n",
      "Epoch 56/100\n",
      "580/580 [==============================] - 0s 545us/step - loss: 0.4563 - acc: 0.7707 - val_loss: 0.4287 - val_acc: 0.8769\n",
      "Epoch 57/100\n",
      "580/580 [==============================] - 0s 546us/step - loss: 0.4209 - acc: 0.8086 - val_loss: 0.4329 - val_acc: 0.8000\n",
      "Epoch 58/100\n"
     ]
    },
    {
     "name": "stdout",
     "output_type": "stream",
     "text": [
      "580/580 [==============================] - 0s 545us/step - loss: 0.4136 - acc: 0.8138 - val_loss: 0.4502 - val_acc: 0.8154\n",
      "Epoch 59/100\n",
      "580/580 [==============================] - 0s 540us/step - loss: 0.4182 - acc: 0.8086 - val_loss: 0.4362 - val_acc: 0.8462\n",
      "Epoch 60/100\n",
      "580/580 [==============================] - 0s 537us/step - loss: 0.4077 - acc: 0.8052 - val_loss: 0.4294 - val_acc: 0.8000\n",
      "Epoch 61/100\n",
      "580/580 [==============================] - 0s 537us/step - loss: 0.4323 - acc: 0.8034 - val_loss: 0.4382 - val_acc: 0.7538\n",
      "Epoch 62/100\n",
      "580/580 [==============================] - 0s 535us/step - loss: 0.4211 - acc: 0.7983 - val_loss: 0.4452 - val_acc: 0.8462\n",
      "Epoch 63/100\n",
      "580/580 [==============================] - 0s 531us/step - loss: 0.3976 - acc: 0.8276 - val_loss: 0.4605 - val_acc: 0.7846\n",
      "Epoch 64/100\n",
      "580/580 [==============================] - 0s 537us/step - loss: 0.4289 - acc: 0.7931 - val_loss: 0.4418 - val_acc: 0.7385\n",
      "Epoch 65/100\n",
      "580/580 [==============================] - 0s 537us/step - loss: 0.3962 - acc: 0.8328 - val_loss: 0.4204 - val_acc: 0.7692\n",
      "Epoch 66/100\n",
      "580/580 [==============================] - 0s 547us/step - loss: 0.4165 - acc: 0.8103 - val_loss: 0.4270 - val_acc: 0.8308\n",
      "Epoch 67/100\n",
      "580/580 [==============================] - 0s 541us/step - loss: 0.4034 - acc: 0.8224 - val_loss: 0.4310 - val_acc: 0.8462\n",
      "Epoch 68/100\n",
      "580/580 [==============================] - 0s 540us/step - loss: 0.4182 - acc: 0.8155 - val_loss: 0.4135 - val_acc: 0.8462\n",
      "Epoch 69/100\n",
      "580/580 [==============================] - 0s 534us/step - loss: 0.4123 - acc: 0.8000 - val_loss: 0.4759 - val_acc: 0.7846\n",
      "Epoch 70/100\n",
      "580/580 [==============================] - 0s 543us/step - loss: 0.4185 - acc: 0.8121 - val_loss: 0.5058 - val_acc: 0.7385\n",
      "Epoch 71/100\n",
      "580/580 [==============================] - 0s 544us/step - loss: 0.4016 - acc: 0.8190 - val_loss: 0.4097 - val_acc: 0.8462\n",
      "Epoch 72/100\n",
      "580/580 [==============================] - 0s 555us/step - loss: 0.3862 - acc: 0.8241 - val_loss: 0.3984 - val_acc: 0.8462\n",
      "Epoch 73/100\n",
      "580/580 [==============================] - 0s 540us/step - loss: 0.3895 - acc: 0.8276 - val_loss: 0.4227 - val_acc: 0.8462\n",
      "Epoch 74/100\n",
      "580/580 [==============================] - 0s 547us/step - loss: 0.3917 - acc: 0.8121 - val_loss: 0.4451 - val_acc: 0.7385\n",
      "Epoch 75/100\n",
      "580/580 [==============================] - 0s 552us/step - loss: 0.3945 - acc: 0.8293 - val_loss: 0.4306 - val_acc: 0.7846\n",
      "Epoch 76/100\n",
      "580/580 [==============================] - 0s 537us/step - loss: 0.4057 - acc: 0.8052 - val_loss: 0.5049 - val_acc: 0.7385\n",
      "Epoch 77/100\n",
      "580/580 [==============================] - 0s 533us/step - loss: 0.3953 - acc: 0.8138 - val_loss: 0.4420 - val_acc: 0.8308\n",
      "Epoch 78/100\n",
      "580/580 [==============================] - 0s 536us/step - loss: 0.3958 - acc: 0.8224 - val_loss: 0.4225 - val_acc: 0.8462\n",
      "Epoch 79/100\n",
      "580/580 [==============================] - 0s 537us/step - loss: 0.3826 - acc: 0.8224 - val_loss: 0.4232 - val_acc: 0.7692\n",
      "Epoch 80/100\n",
      "580/580 [==============================] - 0s 543us/step - loss: 0.3953 - acc: 0.8190 - val_loss: 0.4430 - val_acc: 0.8154\n",
      "Epoch 81/100\n",
      "580/580 [==============================] - 0s 535us/step - loss: 0.4013 - acc: 0.8086 - val_loss: 0.4137 - val_acc: 0.8308\n",
      "Epoch 82/100\n",
      "580/580 [==============================] - 0s 539us/step - loss: 0.3812 - acc: 0.8155 - val_loss: 0.4088 - val_acc: 0.8000\n",
      "Epoch 83/100\n",
      "580/580 [==============================] - 0s 541us/step - loss: 0.3853 - acc: 0.8155 - val_loss: 0.4180 - val_acc: 0.7538\n",
      "Epoch 84/100\n",
      " 16/580 [..............................] - ETA: 0s - loss: 0.5942 - acc: 0.6875"
     ]
    }
   ],
   "source": [
    "# コールバック指定（https://qiita.com/yukiB/items/f45f0f71bc9739830002）\n",
    "early_stopping = EarlyStopping(monitor='val_loss', \n",
    "                               mode='auto', patience=20)\n",
    "history = model.fit(X_train, Y_train,\n",
    "                  batch_size = 16, # 論文で使われるのが1, 32, 128, 256, 512\n",
    "                  epochs=100,\n",
    "                  validation_split=0.1,\n",
    "                  callbacks=[early_stopping])"
   ]
  },
  {
   "cell_type": "code",
   "execution_count": null,
   "metadata": {},
   "outputs": [],
   "source": [
    "epochs = range(1, len(history.history['acc']) + 1)\n",
    "plt.plot(epochs, history.history['loss'])\n",
    "plt.plot(epochs, history.history['val_loss'])\n",
    "plt.title('model loss')\n",
    "plt.ylabel('loss')\n",
    "plt.xlabel('epoch')\n",
    "plt.legend(['train', 'val'], loc='upper left')\n",
    "plt.show()"
   ]
  },
  {
   "cell_type": "code",
   "execution_count": null,
   "metadata": {},
   "outputs": [],
   "source": [
    "#acc, val_accのプロット\n",
    "plt.plot(history.history[\"acc\"], label=\"acc\", ls=\"-\", marker=\"o\")\n",
    "plt.plot(history.history[\"val_acc\"], label=\"val_acc\", ls=\"-\", marker=\"x\")\n",
    "plt.ylabel(\"accuracy\")\n",
    "plt.xlabel(\"epoch\")\n",
    "plt.legend(loc=\"best\")\n",
    "#Final.pngという名前で、結果を保存\n",
    "# plt.savefig('Final.png')\n",
    "# plt.show()"
   ]
  },
  {
   "cell_type": "code",
   "execution_count": null,
   "metadata": {},
   "outputs": [],
   "source": [
    "predict_classes = model.predict_classes(X_test)\n",
    "predict_classes"
   ]
  },
  {
   "cell_type": "code",
   "execution_count": null,
   "metadata": {},
   "outputs": [],
   "source": [
    "predict_classes.shape, Y_test.shape"
   ]
  },
  {
   "cell_type": "code",
   "execution_count": null,
   "metadata": {},
   "outputs": [],
   "source": [
    "Y_test = np.array([np.argmax(x) for x in Y_test])"
   ]
  },
  {
   "cell_type": "code",
   "execution_count": null,
   "metadata": {},
   "outputs": [],
   "source": [
    "pd.crosstab(Y_test, predict_classes, rownames=['True'], colnames=['Predicted'], margins=True)"
   ]
  }
 ],
 "metadata": {
  "kernelspec": {
   "display_name": "Python 3",
   "language": "python",
   "name": "python3"
  },
  "language_info": {
   "codemirror_mode": {
    "name": "ipython",
    "version": 3
   },
   "file_extension": ".py",
   "mimetype": "text/x-python",
   "name": "python",
   "nbconvert_exporter": "python",
   "pygments_lexer": "ipython3",
   "version": "3.7.3"
  }
 },
 "nbformat": 4,
 "nbformat_minor": 2
}
