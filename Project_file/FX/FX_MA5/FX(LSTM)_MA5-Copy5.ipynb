{
 "cells": [
  {
   "cell_type": "code",
   "execution_count": 1,
   "metadata": {},
   "outputs": [
    {
     "name": "stderr",
     "output_type": "stream",
     "text": [
      "Using TensorFlow backend.\n"
     ]
    }
   ],
   "source": [
    "import numpy as np\n",
    "import pandas as pd\n",
    "from pandas import DataFrame\n",
    "import matplotlib.pyplot as plt\n",
    "import seaborn as sns\n",
    "\n",
    "from sklearn.model_selection import train_test_split\n",
    "from sklearn.preprocessing import MinMaxScaler\n",
    "\n",
    "import keras\n",
    "from keras.layers.recurrent import LSTM\n",
    "from keras.models import Sequential\n",
    "from keras.layers import Dense, Activation, LeakyReLU\n",
    "from keras.layers.core import Dropout\n",
    "from keras.optimizers import Adam\n",
    "from keras.callbacks import EarlyStopping\n",
    "\n",
    "from keras.utils import plot_model, to_categorical"
   ]
  },
  {
   "cell_type": "code",
   "execution_count": 2,
   "metadata": {},
   "outputs": [
    {
     "data": {
      "text/html": [
       "<div>\n",
       "<style scoped>\n",
       "    .dataframe tbody tr th:only-of-type {\n",
       "        vertical-align: middle;\n",
       "    }\n",
       "\n",
       "    .dataframe tbody tr th {\n",
       "        vertical-align: top;\n",
       "    }\n",
       "\n",
       "    .dataframe thead th {\n",
       "        text-align: right;\n",
       "    }\n",
       "</style>\n",
       "<table border=\"1\" class=\"dataframe\">\n",
       "  <thead>\n",
       "    <tr style=\"text-align: right;\">\n",
       "      <th></th>\n",
       "      <th>time</th>\n",
       "      <th>open</th>\n",
       "      <th>high</th>\n",
       "      <th>low</th>\n",
       "      <th>close</th>\n",
       "      <th>5mean</th>\n",
       "      <th>target</th>\n",
       "    </tr>\n",
       "  </thead>\n",
       "  <tbody>\n",
       "    <tr>\n",
       "      <td>0</td>\n",
       "      <td>2016-11-07 07:00:00</td>\n",
       "      <td>104.101</td>\n",
       "      <td>104.630</td>\n",
       "      <td>103.779</td>\n",
       "      <td>104.476</td>\n",
       "      <td>103.6076</td>\n",
       "      <td>0</td>\n",
       "    </tr>\n",
       "    <tr>\n",
       "      <td>1</td>\n",
       "      <td>2016-11-08 07:00:00</td>\n",
       "      <td>104.462</td>\n",
       "      <td>105.194</td>\n",
       "      <td>104.297</td>\n",
       "      <td>105.176</td>\n",
       "      <td>103.8124</td>\n",
       "      <td>1</td>\n",
       "    </tr>\n",
       "    <tr>\n",
       "      <td>2</td>\n",
       "      <td>2016-11-09 07:00:00</td>\n",
       "      <td>105.178</td>\n",
       "      <td>105.890</td>\n",
       "      <td>101.193</td>\n",
       "      <td>105.658</td>\n",
       "      <td>104.2828</td>\n",
       "      <td>1</td>\n",
       "    </tr>\n",
       "    <tr>\n",
       "      <td>3</td>\n",
       "      <td>2016-11-10 07:00:00</td>\n",
       "      <td>105.685</td>\n",
       "      <td>106.949</td>\n",
       "      <td>104.960</td>\n",
       "      <td>106.816</td>\n",
       "      <td>105.0504</td>\n",
       "      <td>1</td>\n",
       "    </tr>\n",
       "    <tr>\n",
       "      <td>4</td>\n",
       "      <td>2016-11-11 07:00:00</td>\n",
       "      <td>106.796</td>\n",
       "      <td>106.934</td>\n",
       "      <td>106.032</td>\n",
       "      <td>106.683</td>\n",
       "      <td>105.7618</td>\n",
       "      <td>1</td>\n",
       "    </tr>\n",
       "  </tbody>\n",
       "</table>\n",
       "</div>"
      ],
      "text/plain": [
       "                  time     open     high      low    close     5mean  target\n",
       "0  2016-11-07 07:00:00  104.101  104.630  103.779  104.476  103.6076       0\n",
       "1  2016-11-08 07:00:00  104.462  105.194  104.297  105.176  103.8124       1\n",
       "2  2016-11-09 07:00:00  105.178  105.890  101.193  105.658  104.2828       1\n",
       "3  2016-11-10 07:00:00  105.685  106.949  104.960  106.816  105.0504       1\n",
       "4  2016-11-11 07:00:00  106.796  106.934  106.032  106.683  105.7618       1"
      ]
     },
     "execution_count": 2,
     "metadata": {},
     "output_type": "execute_result"
    }
   ],
   "source": [
    "df = pd.read_csv(\"FX_MA_5days.csv\")\n",
    "df.head()"
   ]
  },
  {
   "cell_type": "code",
   "execution_count": 3,
   "metadata": {},
   "outputs": [
    {
     "name": "stdout",
     "output_type": "stream",
     "text": [
      "<class 'pandas.core.frame.DataFrame'>\n",
      "RangeIndex: 789 entries, 0 to 788\n",
      "Data columns (total 7 columns):\n",
      "time      789 non-null object\n",
      "open      789 non-null float64\n",
      "high      789 non-null float64\n",
      "low       789 non-null float64\n",
      "close     789 non-null float64\n",
      "5mean     789 non-null float64\n",
      "target    789 non-null int64\n",
      "dtypes: float64(5), int64(1), object(1)\n",
      "memory usage: 43.3+ KB\n"
     ]
    }
   ],
   "source": [
    "df.info()"
   ]
  },
  {
   "cell_type": "code",
   "execution_count": 4,
   "metadata": {},
   "outputs": [],
   "source": [
    "split_data = '2019-05-06 06:00:00'\n",
    "train, test = df[df['time'] < split_data], df[df['time'] >= split_data]"
   ]
  },
  {
   "cell_type": "code",
   "execution_count": 5,
   "metadata": {},
   "outputs": [],
   "source": [
    "train = train.set_index('time')\n",
    "test = test.set_index('time')"
   ]
  },
  {
   "cell_type": "code",
   "execution_count": 6,
   "metadata": {},
   "outputs": [],
   "source": [
    "X_train = train.iloc[:,:5]\n",
    "Y_train = train['target']\n",
    "\n",
    "X_test = test.iloc[:,:5]\n",
    "Y_test = test['target']"
   ]
  },
  {
   "cell_type": "code",
   "execution_count": 7,
   "metadata": {},
   "outputs": [
    {
     "name": "stdout",
     "output_type": "stream",
     "text": [
      "[[104.101  104.63   103.779  104.476  103.6076]\n",
      " [104.462  105.194  104.297  105.176  103.8124]\n",
      " [105.178  105.89   101.193  105.658  104.2828]\n",
      " ...\n",
      " [111.425  111.613  111.05   111.385  111.5274]\n",
      " [111.382  111.666  111.354  111.51   111.512 ]\n",
      " [111.518  111.695  111.07   111.096  111.413 ]]\n",
      "Data len:  650\n",
      "[[104.101  104.63   103.779  104.476  103.6076]\n",
      " [104.462  105.194  104.297  105.176  103.8124]\n",
      " [105.178  105.89   101.193  105.658  104.2828]\n",
      " ...\n",
      " [111.425  111.613  111.05   111.385  111.5274]\n",
      " [111.382  111.666  111.354  111.51   111.512 ]\n",
      " [111.518  111.695  111.07   111.096  111.413 ]]\n",
      "Data len:  139\n"
     ]
    },
    {
     "name": "stderr",
     "output_type": "stream",
     "text": [
      "/home/tim0114gap/anaconda3/lib/python3.7/site-packages/ipykernel_launcher.py:1: FutureWarning: Method .as_matrix will be removed in a future version. Use .values instead.\n",
      "  \"\"\"Entry point for launching an IPython kernel.\n",
      "/home/tim0114gap/anaconda3/lib/python3.7/site-packages/ipykernel_launcher.py:5: FutureWarning: Method .as_matrix will be removed in a future version. Use .values instead.\n",
      "  \"\"\"\n"
     ]
    }
   ],
   "source": [
    "X_train = X_train.as_matrix()\n",
    "print(X_train)\n",
    "print(\"Data len: \",len(X_train))\n",
    "\n",
    "X_test = X_test.as_matrix()\n",
    "print(X_train)\n",
    "print(\"Data len: \",len(X_test))\n",
    "\n",
    "# 正規化\n",
    "ms = MinMaxScaler()\n",
    "X_train = ms.fit_transform(X_train)\n",
    "\n",
    "ms = MinMaxScaler()\n",
    "X_test = ms.fit_transform(X_test)"
   ]
  },
  {
   "cell_type": "code",
   "execution_count": 8,
   "metadata": {},
   "outputs": [],
   "source": [
    "# Closeの値\n",
    "X_train = X_train[:, 3]\n",
    "X_test = X_test[:, 3]"
   ]
  },
  {
   "cell_type": "code",
   "execution_count": 9,
   "metadata": {},
   "outputs": [
    {
     "name": "stdout",
     "output_type": "stream",
     "text": [
      "Y_train Target len:  650\n",
      "Y_train Target len:  139\n"
     ]
    }
   ],
   "source": [
    "Y_train = np.array(Y_train)\n",
    "print(\"Y_train Target len: \",len(Y_train))\n",
    "\n",
    "Y_test = np.array(Y_test)\n",
    "print(\"Y_train Target len: \",len(Y_test))"
   ]
  },
  {
   "cell_type": "code",
   "execution_count": 10,
   "metadata": {},
   "outputs": [],
   "source": [
    "maxlen = 5\n",
    "dataTrain = []\n",
    "targetTrain = []\n",
    "for i in range(0, len(X_train) - maxlen):\n",
    "    dataTrain.append(X_train[i: i + maxlen])\n",
    "    targetTrain.append(Y_train[i + maxlen])\n",
    "\n",
    "dataTest = []\n",
    "targetTest = []\n",
    "for i in range(0, len(X_test) - maxlen):\n",
    "    dataTest.append(X_test[i: i + maxlen])\n",
    "    targetTest.append(Y_test[i + maxlen])"
   ]
  },
  {
   "cell_type": "code",
   "execution_count": 11,
   "metadata": {},
   "outputs": [
    {
     "name": "stdout",
     "output_type": "stream",
     "text": [
      "(645, 5, 1)\n",
      "(645,)\n",
      "(134, 5, 1)\n",
      "(134,)\n"
     ]
    }
   ],
   "source": [
    "X_train = np.array(dataTrain).reshape(len(dataTrain), 5, 1)\n",
    "Y_train = np.array(targetTrain)\n",
    "\n",
    "X_test = np.array(dataTest).reshape(len(dataTest), 5, 1)\n",
    "Y_test = np.array(targetTest)\n",
    "print(X_train.shape)\n",
    "print(Y_train.shape)\n",
    "print(X_test.shape)\n",
    "print(Y_test.shape)"
   ]
  },
  {
   "cell_type": "code",
   "execution_count": 12,
   "metadata": {},
   "outputs": [],
   "source": [
    "#Y_train = Y_train.reshape(len(Y_train), 1)\n",
    "#Y_test = Y_test.reshape(len(Y_test), 1)\n",
    "\n",
    "Y_train = to_categorical(Y_train)\n",
    "Y_test = to_categorical(Y_test)"
   ]
  },
  {
   "cell_type": "code",
   "execution_count": 13,
   "metadata": {},
   "outputs": [
    {
     "name": "stdout",
     "output_type": "stream",
     "text": [
      "(645, 5, 1)\n",
      "(645, 2)\n",
      "(134, 5, 1)\n",
      "(134, 2)\n"
     ]
    }
   ],
   "source": [
    "print(X_train.shape)\n",
    "print(Y_train.shape)\n",
    "print(X_test.shape)\n",
    "print(Y_test.shape)"
   ]
  },
  {
   "cell_type": "code",
   "execution_count": 14,
   "metadata": {},
   "outputs": [
    {
     "name": "stdout",
     "output_type": "stream",
     "text": [
      "WARNING:tensorflow:From /home/tim0114gap/anaconda3/lib/python3.7/site-packages/keras/backend/tensorflow_backend.py:74: The name tf.get_default_graph is deprecated. Please use tf.compat.v1.get_default_graph instead.\n",
      "\n",
      "WARNING:tensorflow:From /home/tim0114gap/anaconda3/lib/python3.7/site-packages/keras/backend/tensorflow_backend.py:517: The name tf.placeholder is deprecated. Please use tf.compat.v1.placeholder instead.\n",
      "\n",
      "WARNING:tensorflow:From /home/tim0114gap/anaconda3/lib/python3.7/site-packages/keras/backend/tensorflow_backend.py:4138: The name tf.random_uniform is deprecated. Please use tf.random.uniform instead.\n",
      "\n",
      "WARNING:tensorflow:From /home/tim0114gap/anaconda3/lib/python3.7/site-packages/keras/backend/tensorflow_backend.py:133: The name tf.placeholder_with_default is deprecated. Please use tf.compat.v1.placeholder_with_default instead.\n",
      "\n",
      "WARNING:tensorflow:From /home/tim0114gap/anaconda3/lib/python3.7/site-packages/keras/backend/tensorflow_backend.py:3445: calling dropout (from tensorflow.python.ops.nn_ops) with keep_prob is deprecated and will be removed in a future version.\n",
      "Instructions for updating:\n",
      "Please use `rate` instead of `keep_prob`. Rate should be set to `rate = 1 - keep_prob`.\n"
     ]
    }
   ],
   "source": [
    "'''\n",
    "モデル設定\n",
    "'''\n",
    "length_of_sequence = X_train.shape[1]  # 入力層 = 5\n",
    "in_out_neurons = 2                     # 出力層 = 2\n",
    "n_hidden = 100                         # 隠れ層 = 100\n",
    "\n",
    "model = Sequential()\n",
    "model.add(LSTM(n_hidden, batch_input_shape=(None, length_of_sequence, 1), return_sequences=False))\n",
    "model.add(Dropout(0.25))\n",
    "model.add(Dense(50))\n",
    "model.add(Activation('sigmoid'))\n",
    "model.add(Dense(in_out_neurons))\n",
    "model.add(Activation(\"softmax\"))"
   ]
  },
  {
   "cell_type": "code",
   "execution_count": 15,
   "metadata": {},
   "outputs": [
    {
     "name": "stdout",
     "output_type": "stream",
     "text": [
      "WARNING:tensorflow:From /home/tim0114gap/anaconda3/lib/python3.7/site-packages/keras/optimizers.py:790: The name tf.train.Optimizer is deprecated. Please use tf.compat.v1.train.Optimizer instead.\n",
      "\n",
      "WARNING:tensorflow:From /home/tim0114gap/anaconda3/lib/python3.7/site-packages/keras/backend/tensorflow_backend.py:3295: The name tf.log is deprecated. Please use tf.math.log instead.\n",
      "\n"
     ]
    }
   ],
   "source": [
    "optimizer = Adam(lr = 0.001, beta_1 = 0.9, beta_2 = 0.999)\n",
    "model.compile(loss=\"categorical_crossentropy\", \n",
    "              optimizer=optimizer, metrics=['acc'])"
   ]
  },
  {
   "cell_type": "code",
   "execution_count": 16,
   "metadata": {},
   "outputs": [
    {
     "name": "stdout",
     "output_type": "stream",
     "text": [
      "_________________________________________________________________\n",
      "Layer (type)                 Output Shape              Param #   \n",
      "=================================================================\n",
      "lstm_1 (LSTM)                (None, 100)               40800     \n",
      "_________________________________________________________________\n",
      "dropout_1 (Dropout)          (None, 100)               0         \n",
      "_________________________________________________________________\n",
      "dense_1 (Dense)              (None, 50)                5050      \n",
      "_________________________________________________________________\n",
      "activation_1 (Activation)    (None, 50)                0         \n",
      "_________________________________________________________________\n",
      "dense_2 (Dense)              (None, 2)                 102       \n",
      "_________________________________________________________________\n",
      "activation_2 (Activation)    (None, 2)                 0         \n",
      "=================================================================\n",
      "Total params: 45,952\n",
      "Trainable params: 45,952\n",
      "Non-trainable params: 0\n",
      "_________________________________________________________________\n"
     ]
    }
   ],
   "source": [
    "#plot_model(model, to_file='model.png')\n",
    "model.summary()"
   ]
  },
  {
   "cell_type": "code",
   "execution_count": 17,
   "metadata": {},
   "outputs": [
    {
     "name": "stdout",
     "output_type": "stream",
     "text": [
      "WARNING:tensorflow:From /home/tim0114gap/anaconda3/lib/python3.7/site-packages/tensorflow/python/ops/math_grad.py:1250: add_dispatch_support.<locals>.wrapper (from tensorflow.python.ops.array_ops) is deprecated and will be removed in a future version.\n",
      "Instructions for updating:\n",
      "Use tf.where in 2.0, which has the same broadcast rule as np.where\n",
      "Train on 516 samples, validate on 129 samples\n",
      "Epoch 1/200\n",
      "516/516 [==============================] - 1s 3ms/step - loss: 0.7078 - acc: 0.5097 - val_loss: 0.6947 - val_acc: 0.5271\n",
      "Epoch 2/200\n",
      "516/516 [==============================] - 0s 501us/step - loss: 0.6947 - acc: 0.4922 - val_loss: 0.6926 - val_acc: 0.5504\n",
      "Epoch 3/200\n",
      "516/516 [==============================] - 0s 488us/step - loss: 0.6939 - acc: 0.5310 - val_loss: 0.6917 - val_acc: 0.5271\n",
      "Epoch 4/200\n",
      "516/516 [==============================] - 0s 497us/step - loss: 0.6930 - acc: 0.5310 - val_loss: 0.6918 - val_acc: 0.5271\n",
      "Epoch 5/200\n",
      "516/516 [==============================] - 0s 507us/step - loss: 0.6931 - acc: 0.4942 - val_loss: 0.6910 - val_acc: 0.5271\n",
      "Epoch 6/200\n",
      "516/516 [==============================] - 0s 499us/step - loss: 0.6920 - acc: 0.5310 - val_loss: 0.6910 - val_acc: 0.5271\n",
      "Epoch 7/200\n",
      "516/516 [==============================] - 0s 499us/step - loss: 0.6915 - acc: 0.5426 - val_loss: 0.6914 - val_acc: 0.5271\n",
      "Epoch 8/200\n",
      "516/516 [==============================] - 0s 496us/step - loss: 0.6917 - acc: 0.5019 - val_loss: 0.6881 - val_acc: 0.5271\n",
      "Epoch 9/200\n",
      "516/516 [==============================] - 0s 499us/step - loss: 0.6919 - acc: 0.5233 - val_loss: 0.6853 - val_acc: 0.5349\n",
      "Epoch 10/200\n",
      "516/516 [==============================] - 0s 510us/step - loss: 0.6828 - acc: 0.5504 - val_loss: 0.6830 - val_acc: 0.5271\n",
      "Epoch 11/200\n",
      "516/516 [==============================] - 0s 489us/step - loss: 0.6725 - acc: 0.5775 - val_loss: 0.6790 - val_acc: 0.5581\n",
      "Epoch 12/200\n",
      "516/516 [==============================] - 0s 502us/step - loss: 0.6651 - acc: 0.5891 - val_loss: 0.6681 - val_acc: 0.6357\n",
      "Epoch 13/200\n",
      "516/516 [==============================] - 0s 498us/step - loss: 0.6660 - acc: 0.6008 - val_loss: 0.6562 - val_acc: 0.6822\n",
      "Epoch 14/200\n",
      "516/516 [==============================] - 0s 498us/step - loss: 0.6525 - acc: 0.5988 - val_loss: 0.6757 - val_acc: 0.5271\n",
      "Epoch 15/200\n",
      "516/516 [==============================] - 0s 507us/step - loss: 0.6469 - acc: 0.6163 - val_loss: 0.6642 - val_acc: 0.5271\n",
      "Epoch 16/200\n",
      "516/516 [==============================] - 0s 501us/step - loss: 0.6571 - acc: 0.6240 - val_loss: 0.6460 - val_acc: 0.6977\n",
      "Epoch 17/200\n",
      "516/516 [==============================] - 0s 504us/step - loss: 0.6489 - acc: 0.6124 - val_loss: 0.6430 - val_acc: 0.6589\n",
      "Epoch 18/200\n",
      "516/516 [==============================] - 0s 504us/step - loss: 0.6574 - acc: 0.5911 - val_loss: 0.6544 - val_acc: 0.6202\n",
      "Epoch 19/200\n",
      "516/516 [==============================] - 0s 501us/step - loss: 0.6491 - acc: 0.5833 - val_loss: 0.6431 - val_acc: 0.6434\n",
      "Epoch 20/200\n",
      "516/516 [==============================] - 0s 502us/step - loss: 0.6206 - acc: 0.6764 - val_loss: 0.6294 - val_acc: 0.6124\n",
      "Epoch 21/200\n",
      "516/516 [==============================] - 0s 502us/step - loss: 0.6033 - acc: 0.6609 - val_loss: 0.6063 - val_acc: 0.6744\n",
      "Epoch 22/200\n",
      "516/516 [==============================] - 0s 500us/step - loss: 0.6292 - acc: 0.6609 - val_loss: 0.6018 - val_acc: 0.7054\n",
      "Epoch 23/200\n",
      "516/516 [==============================] - 0s 498us/step - loss: 0.5851 - acc: 0.6860 - val_loss: 0.5682 - val_acc: 0.7364\n",
      "Epoch 24/200\n",
      "516/516 [==============================] - 0s 507us/step - loss: 0.5688 - acc: 0.7016 - val_loss: 0.6014 - val_acc: 0.6279\n",
      "Epoch 25/200\n",
      "516/516 [==============================] - 0s 499us/step - loss: 0.5616 - acc: 0.7035 - val_loss: 0.5773 - val_acc: 0.6822\n",
      "Epoch 26/200\n",
      "516/516 [==============================] - 0s 499us/step - loss: 0.6180 - acc: 0.6473 - val_loss: 0.6235 - val_acc: 0.6822\n",
      "Epoch 27/200\n",
      "516/516 [==============================] - 0s 497us/step - loss: 0.5862 - acc: 0.6725 - val_loss: 0.5603 - val_acc: 0.7442\n",
      "Epoch 28/200\n",
      "516/516 [==============================] - 0s 499us/step - loss: 0.5864 - acc: 0.6938 - val_loss: 0.5727 - val_acc: 0.7132\n",
      "Epoch 29/200\n",
      "516/516 [==============================] - 0s 501us/step - loss: 0.5552 - acc: 0.7171 - val_loss: 0.5375 - val_acc: 0.7907\n",
      "Epoch 30/200\n",
      "516/516 [==============================] - 0s 501us/step - loss: 0.5501 - acc: 0.7345 - val_loss: 0.5691 - val_acc: 0.6822\n",
      "Epoch 31/200\n",
      "516/516 [==============================] - 0s 514us/step - loss: 0.5593 - acc: 0.7093 - val_loss: 0.5242 - val_acc: 0.7287\n",
      "Epoch 32/200\n",
      "516/516 [==============================] - 0s 497us/step - loss: 0.5288 - acc: 0.7422 - val_loss: 0.5037 - val_acc: 0.7752\n",
      "Epoch 33/200\n",
      "516/516 [==============================] - 0s 501us/step - loss: 0.5988 - acc: 0.7054 - val_loss: 0.6007 - val_acc: 0.6124\n",
      "Epoch 34/200\n",
      "516/516 [==============================] - 0s 504us/step - loss: 0.5426 - acc: 0.7364 - val_loss: 0.5171 - val_acc: 0.7829\n",
      "Epoch 35/200\n",
      "516/516 [==============================] - 0s 503us/step - loss: 0.5304 - acc: 0.7326 - val_loss: 0.5051 - val_acc: 0.8062\n",
      "Epoch 36/200\n",
      "516/516 [==============================] - 0s 503us/step - loss: 0.5014 - acc: 0.7694 - val_loss: 0.4842 - val_acc: 0.8295\n",
      "Epoch 37/200\n",
      "516/516 [==============================] - 0s 502us/step - loss: 0.4867 - acc: 0.7558 - val_loss: 0.4775 - val_acc: 0.7597\n",
      "Epoch 38/200\n",
      "516/516 [==============================] - 0s 503us/step - loss: 0.4904 - acc: 0.7578 - val_loss: 0.5076 - val_acc: 0.7442\n",
      "Epoch 39/200\n",
      "516/516 [==============================] - 0s 500us/step - loss: 0.5012 - acc: 0.7578 - val_loss: 0.4799 - val_acc: 0.7597\n",
      "Epoch 40/200\n",
      "516/516 [==============================] - 0s 504us/step - loss: 0.5135 - acc: 0.7597 - val_loss: 0.5204 - val_acc: 0.6899\n",
      "Epoch 41/200\n",
      "516/516 [==============================] - 0s 501us/step - loss: 0.5265 - acc: 0.7209 - val_loss: 0.5130 - val_acc: 0.7364\n",
      "Epoch 42/200\n",
      "516/516 [==============================] - 0s 507us/step - loss: 0.5423 - acc: 0.7326 - val_loss: 0.5109 - val_acc: 0.6977\n",
      "Epoch 43/200\n",
      "516/516 [==============================] - 0s 510us/step - loss: 0.5018 - acc: 0.7578 - val_loss: 0.4785 - val_acc: 0.7984\n",
      "Epoch 44/200\n",
      "516/516 [==============================] - 0s 506us/step - loss: 0.4759 - acc: 0.7926 - val_loss: 0.4616 - val_acc: 0.7752\n",
      "Epoch 45/200\n",
      "516/516 [==============================] - 0s 503us/step - loss: 0.4740 - acc: 0.7733 - val_loss: 0.4458 - val_acc: 0.7984\n",
      "Epoch 46/200\n",
      "516/516 [==============================] - 0s 504us/step - loss: 0.4635 - acc: 0.7733 - val_loss: 0.5195 - val_acc: 0.7054\n",
      "Epoch 47/200\n",
      "516/516 [==============================] - 0s 501us/step - loss: 0.5856 - acc: 0.7054 - val_loss: 0.4767 - val_acc: 0.8062\n",
      "Epoch 48/200\n",
      "516/516 [==============================] - 0s 503us/step - loss: 0.4791 - acc: 0.7713 - val_loss: 0.4929 - val_acc: 0.7984\n",
      "Epoch 49/200\n",
      "516/516 [==============================] - 0s 505us/step - loss: 0.4688 - acc: 0.7888 - val_loss: 0.4621 - val_acc: 0.7984\n",
      "Epoch 50/200\n",
      "516/516 [==============================] - 0s 510us/step - loss: 0.4601 - acc: 0.7907 - val_loss: 0.5244 - val_acc: 0.6822\n",
      "Epoch 51/200\n",
      "516/516 [==============================] - 0s 499us/step - loss: 0.4807 - acc: 0.7733 - val_loss: 0.4395 - val_acc: 0.8992\n",
      "Epoch 52/200\n",
      "516/516 [==============================] - 0s 492us/step - loss: 0.4654 - acc: 0.7810 - val_loss: 0.5223 - val_acc: 0.7132\n",
      "Epoch 53/200\n",
      "516/516 [==============================] - 0s 508us/step - loss: 0.4781 - acc: 0.7810 - val_loss: 0.4710 - val_acc: 0.7054\n",
      "Epoch 54/200\n",
      "516/516 [==============================] - 0s 502us/step - loss: 0.4620 - acc: 0.7965 - val_loss: 0.4599 - val_acc: 0.7442\n",
      "Epoch 55/200\n",
      "516/516 [==============================] - 0s 502us/step - loss: 0.4496 - acc: 0.8062 - val_loss: 0.4304 - val_acc: 0.8605\n",
      "Epoch 56/200\n",
      "516/516 [==============================] - 0s 495us/step - loss: 0.4958 - acc: 0.7694 - val_loss: 0.5106 - val_acc: 0.7054\n",
      "Epoch 57/200\n",
      "516/516 [==============================] - 0s 497us/step - loss: 0.4663 - acc: 0.7752 - val_loss: 0.4385 - val_acc: 0.8682\n",
      "Epoch 58/200\n"
     ]
    },
    {
     "name": "stdout",
     "output_type": "stream",
     "text": [
      "516/516 [==============================] - 0s 502us/step - loss: 0.4453 - acc: 0.7984 - val_loss: 0.4629 - val_acc: 0.7442\n",
      "Epoch 59/200\n",
      "516/516 [==============================] - 0s 501us/step - loss: 0.4319 - acc: 0.8023 - val_loss: 0.4529 - val_acc: 0.7597\n",
      "Epoch 60/200\n",
      "516/516 [==============================] - 0s 500us/step - loss: 0.4664 - acc: 0.7829 - val_loss: 0.4259 - val_acc: 0.8062\n",
      "Epoch 61/200\n",
      "516/516 [==============================] - 0s 502us/step - loss: 0.4368 - acc: 0.8120 - val_loss: 0.4202 - val_acc: 0.7907\n",
      "Epoch 62/200\n",
      "516/516 [==============================] - 0s 497us/step - loss: 0.4195 - acc: 0.8120 - val_loss: 0.4282 - val_acc: 0.8682\n",
      "Epoch 63/200\n",
      "516/516 [==============================] - 0s 511us/step - loss: 0.4293 - acc: 0.8178 - val_loss: 0.4099 - val_acc: 0.7907\n",
      "Epoch 64/200\n",
      "516/516 [==============================] - 0s 492us/step - loss: 0.4436 - acc: 0.7907 - val_loss: 0.4252 - val_acc: 0.8140\n",
      "Epoch 65/200\n",
      "516/516 [==============================] - 0s 512us/step - loss: 0.4072 - acc: 0.8101 - val_loss: 0.4030 - val_acc: 0.7907\n",
      "Epoch 66/200\n",
      "516/516 [==============================] - 0s 498us/step - loss: 0.4031 - acc: 0.8140 - val_loss: 0.3899 - val_acc: 0.8605\n",
      "Epoch 67/200\n",
      "516/516 [==============================] - 0s 494us/step - loss: 0.4291 - acc: 0.7926 - val_loss: 0.4158 - val_acc: 0.7907\n",
      "Epoch 68/200\n",
      "516/516 [==============================] - 0s 499us/step - loss: 0.4535 - acc: 0.7810 - val_loss: 0.4183 - val_acc: 0.8295\n",
      "Epoch 69/200\n",
      "516/516 [==============================] - 0s 502us/step - loss: 0.4466 - acc: 0.7810 - val_loss: 0.4211 - val_acc: 0.7907\n",
      "Epoch 70/200\n",
      "516/516 [==============================] - 0s 501us/step - loss: 0.4287 - acc: 0.8140 - val_loss: 0.4129 - val_acc: 0.8372\n",
      "Epoch 71/200\n",
      "516/516 [==============================] - 0s 520us/step - loss: 0.4396 - acc: 0.7946 - val_loss: 0.4050 - val_acc: 0.8915\n",
      "Epoch 72/200\n",
      "516/516 [==============================] - 0s 497us/step - loss: 0.4149 - acc: 0.8062 - val_loss: 0.4098 - val_acc: 0.8682\n",
      "Epoch 73/200\n",
      "516/516 [==============================] - 0s 499us/step - loss: 0.4357 - acc: 0.8023 - val_loss: 0.4087 - val_acc: 0.8372\n",
      "Epoch 74/200\n",
      "516/516 [==============================] - 0s 501us/step - loss: 0.4044 - acc: 0.8198 - val_loss: 0.3963 - val_acc: 0.8295\n",
      "Epoch 75/200\n",
      "516/516 [==============================] - 0s 503us/step - loss: 0.4331 - acc: 0.8023 - val_loss: 0.4045 - val_acc: 0.8295\n",
      "Epoch 76/200\n",
      "516/516 [==============================] - 0s 505us/step - loss: 0.4112 - acc: 0.8236 - val_loss: 0.3958 - val_acc: 0.8372\n",
      "Epoch 77/200\n",
      "516/516 [==============================] - 0s 498us/step - loss: 0.4328 - acc: 0.7965 - val_loss: 0.4299 - val_acc: 0.7597\n",
      "Epoch 78/200\n",
      "516/516 [==============================] - 0s 533us/step - loss: 0.4441 - acc: 0.7984 - val_loss: 0.4131 - val_acc: 0.8682\n",
      "Epoch 79/200\n",
      "516/516 [==============================] - 0s 569us/step - loss: 0.4296 - acc: 0.7965 - val_loss: 0.4170 - val_acc: 0.8605\n",
      "Epoch 80/200\n",
      "516/516 [==============================] - 0s 572us/step - loss: 0.4212 - acc: 0.8236 - val_loss: 0.3936 - val_acc: 0.8372\n",
      "Epoch 81/200\n",
      "516/516 [==============================] - 0s 499us/step - loss: 0.4172 - acc: 0.8140 - val_loss: 0.4073 - val_acc: 0.8140\n",
      "Epoch 82/200\n",
      "516/516 [==============================] - 0s 511us/step - loss: 0.4102 - acc: 0.7907 - val_loss: 0.3950 - val_acc: 0.8295\n",
      "Epoch 83/200\n",
      "516/516 [==============================] - 0s 517us/step - loss: 0.4154 - acc: 0.8004 - val_loss: 0.4184 - val_acc: 0.7674\n",
      "Epoch 84/200\n",
      "516/516 [==============================] - 0s 504us/step - loss: 0.4206 - acc: 0.8004 - val_loss: 0.5169 - val_acc: 0.7054\n",
      "Epoch 85/200\n",
      "516/516 [==============================] - 0s 506us/step - loss: 0.4121 - acc: 0.8159 - val_loss: 0.3905 - val_acc: 0.8682\n",
      "Epoch 86/200\n",
      "516/516 [==============================] - 0s 581us/step - loss: 0.4140 - acc: 0.8217 - val_loss: 0.3884 - val_acc: 0.8372\n",
      "Epoch 87/200\n",
      "516/516 [==============================] - 0s 490us/step - loss: 0.4078 - acc: 0.8333 - val_loss: 0.3795 - val_acc: 0.8605\n",
      "Epoch 88/200\n",
      "516/516 [==============================] - 0s 496us/step - loss: 0.4022 - acc: 0.8236 - val_loss: 0.3934 - val_acc: 0.8760\n",
      "Epoch 89/200\n",
      "516/516 [==============================] - 0s 495us/step - loss: 0.4240 - acc: 0.7984 - val_loss: 0.3921 - val_acc: 0.8760\n",
      "Epoch 90/200\n",
      "516/516 [==============================] - 0s 498us/step - loss: 0.4061 - acc: 0.8159 - val_loss: 0.3884 - val_acc: 0.8605\n",
      "Epoch 91/200\n",
      "516/516 [==============================] - 0s 503us/step - loss: 0.4054 - acc: 0.8140 - val_loss: 0.3900 - val_acc: 0.8450\n",
      "Epoch 92/200\n",
      "516/516 [==============================] - 0s 507us/step - loss: 0.4166 - acc: 0.8217 - val_loss: 0.4112 - val_acc: 0.8605\n",
      "Epoch 93/200\n",
      "516/516 [==============================] - 0s 507us/step - loss: 0.4071 - acc: 0.8236 - val_loss: 0.3878 - val_acc: 0.8450\n",
      "Epoch 94/200\n",
      "516/516 [==============================] - 0s 503us/step - loss: 0.3894 - acc: 0.8198 - val_loss: 0.3785 - val_acc: 0.8837\n",
      "Epoch 95/200\n",
      "516/516 [==============================] - 0s 504us/step - loss: 0.3862 - acc: 0.8159 - val_loss: 0.3859 - val_acc: 0.8837\n",
      "Epoch 96/200\n",
      "516/516 [==============================] - 0s 501us/step - loss: 0.3877 - acc: 0.8217 - val_loss: 0.3843 - val_acc: 0.8372\n",
      "Epoch 97/200\n",
      "516/516 [==============================] - 0s 513us/step - loss: 0.4231 - acc: 0.8004 - val_loss: 0.3739 - val_acc: 0.8605\n",
      "Epoch 98/200\n",
      "516/516 [==============================] - 0s 527us/step - loss: 0.4091 - acc: 0.8256 - val_loss: 0.3773 - val_acc: 0.8605\n",
      "Epoch 99/200\n",
      "516/516 [==============================] - 0s 495us/step - loss: 0.3924 - acc: 0.8256 - val_loss: 0.3987 - val_acc: 0.8682\n",
      "Epoch 100/200\n",
      "516/516 [==============================] - 0s 504us/step - loss: 0.3918 - acc: 0.8314 - val_loss: 0.3759 - val_acc: 0.8527\n",
      "Epoch 101/200\n",
      "516/516 [==============================] - 0s 516us/step - loss: 0.3805 - acc: 0.8314 - val_loss: 0.4111 - val_acc: 0.8372\n",
      "Epoch 102/200\n",
      "516/516 [==============================] - 0s 500us/step - loss: 0.3944 - acc: 0.8236 - val_loss: 0.3889 - val_acc: 0.8140\n",
      "Epoch 103/200\n",
      "516/516 [==============================] - 0s 497us/step - loss: 0.4052 - acc: 0.8217 - val_loss: 0.3796 - val_acc: 0.8837\n",
      "Epoch 104/200\n",
      "516/516 [==============================] - 0s 499us/step - loss: 0.3849 - acc: 0.8217 - val_loss: 0.3807 - val_acc: 0.8295\n",
      "Epoch 105/200\n",
      "516/516 [==============================] - 0s 496us/step - loss: 0.3805 - acc: 0.8236 - val_loss: 0.3692 - val_acc: 0.8682\n",
      "Epoch 106/200\n",
      "516/516 [==============================] - 0s 490us/step - loss: 0.3678 - acc: 0.8391 - val_loss: 0.3687 - val_acc: 0.8295\n",
      "Epoch 107/200\n",
      "516/516 [==============================] - 0s 507us/step - loss: 0.4124 - acc: 0.8023 - val_loss: 0.3939 - val_acc: 0.7829\n",
      "Epoch 108/200\n",
      "516/516 [==============================] - 0s 491us/step - loss: 0.4020 - acc: 0.8120 - val_loss: 0.4004 - val_acc: 0.7752\n",
      "Epoch 109/200\n",
      "516/516 [==============================] - 0s 493us/step - loss: 0.3996 - acc: 0.8198 - val_loss: 0.3863 - val_acc: 0.8760\n",
      "Epoch 110/200\n",
      "516/516 [==============================] - 0s 493us/step - loss: 0.3964 - acc: 0.8081 - val_loss: 0.3903 - val_acc: 0.8760\n",
      "Epoch 111/200\n",
      "516/516 [==============================] - 0s 500us/step - loss: 0.3811 - acc: 0.8275 - val_loss: 0.4106 - val_acc: 0.7752\n",
      "Epoch 112/200\n",
      "516/516 [==============================] - 0s 495us/step - loss: 0.3859 - acc: 0.8178 - val_loss: 0.3620 - val_acc: 0.8605\n",
      "Epoch 113/200\n",
      "516/516 [==============================] - 0s 497us/step - loss: 0.3804 - acc: 0.8295 - val_loss: 0.3652 - val_acc: 0.8760\n",
      "Epoch 114/200\n",
      "516/516 [==============================] - 0s 494us/step - loss: 0.3887 - acc: 0.8217 - val_loss: 0.3587 - val_acc: 0.8605\n",
      "Epoch 115/200\n",
      "516/516 [==============================] - 0s 495us/step - loss: 0.3847 - acc: 0.8295 - val_loss: 0.3595 - val_acc: 0.8760\n",
      "Epoch 116/200\n",
      "516/516 [==============================] - 0s 491us/step - loss: 0.3750 - acc: 0.8275 - val_loss: 0.3579 - val_acc: 0.8605\n",
      "Epoch 117/200\n",
      "516/516 [==============================] - 0s 520us/step - loss: 0.3854 - acc: 0.8178 - val_loss: 0.3584 - val_acc: 0.8450\n",
      "Epoch 118/200\n"
     ]
    },
    {
     "name": "stdout",
     "output_type": "stream",
     "text": [
      "516/516 [==============================] - 0s 494us/step - loss: 0.3832 - acc: 0.8217 - val_loss: 0.3890 - val_acc: 0.8527\n",
      "Epoch 119/200\n",
      "516/516 [==============================] - 0s 497us/step - loss: 0.3957 - acc: 0.8236 - val_loss: 0.4016 - val_acc: 0.8527\n",
      "Epoch 120/200\n",
      "516/516 [==============================] - 0s 502us/step - loss: 0.3887 - acc: 0.8178 - val_loss: 0.3682 - val_acc: 0.8450\n",
      "Epoch 121/200\n",
      "516/516 [==============================] - 0s 530us/step - loss: 0.3974 - acc: 0.8295 - val_loss: 0.3946 - val_acc: 0.8605\n",
      "Epoch 122/200\n",
      "516/516 [==============================] - 0s 530us/step - loss: 0.3832 - acc: 0.8236 - val_loss: 0.3680 - val_acc: 0.8605\n",
      "Epoch 123/200\n",
      "516/516 [==============================] - 0s 523us/step - loss: 0.3736 - acc: 0.8333 - val_loss: 0.3554 - val_acc: 0.8605\n",
      "Epoch 124/200\n",
      "516/516 [==============================] - 0s 519us/step - loss: 0.3771 - acc: 0.8411 - val_loss: 0.3879 - val_acc: 0.8527\n",
      "Epoch 125/200\n",
      "516/516 [==============================] - 0s 492us/step - loss: 0.3838 - acc: 0.8062 - val_loss: 0.3960 - val_acc: 0.7907\n",
      "Epoch 126/200\n",
      "516/516 [==============================] - 0s 533us/step - loss: 0.4055 - acc: 0.8043 - val_loss: 0.3719 - val_acc: 0.8760\n",
      "Epoch 127/200\n",
      "516/516 [==============================] - 0s 503us/step - loss: 0.3993 - acc: 0.8159 - val_loss: 0.3630 - val_acc: 0.8682\n",
      "Epoch 128/200\n",
      "516/516 [==============================] - 0s 501us/step - loss: 0.3840 - acc: 0.8140 - val_loss: 0.3785 - val_acc: 0.8760\n",
      "Epoch 129/200\n",
      "516/516 [==============================] - 0s 492us/step - loss: 0.3595 - acc: 0.8353 - val_loss: 0.3532 - val_acc: 0.8760\n",
      "Epoch 130/200\n",
      "516/516 [==============================] - 0s 500us/step - loss: 0.3730 - acc: 0.8275 - val_loss: 0.3840 - val_acc: 0.8062\n",
      "Epoch 131/200\n",
      "516/516 [==============================] - 0s 497us/step - loss: 0.3823 - acc: 0.8217 - val_loss: 0.3876 - val_acc: 0.7829\n",
      "Epoch 132/200\n",
      "516/516 [==============================] - 0s 514us/step - loss: 0.3737 - acc: 0.8295 - val_loss: 0.3689 - val_acc: 0.8760\n",
      "Epoch 133/200\n",
      "516/516 [==============================] - 0s 493us/step - loss: 0.3772 - acc: 0.8256 - val_loss: 0.3562 - val_acc: 0.8450\n",
      "Epoch 134/200\n",
      "516/516 [==============================] - 0s 500us/step - loss: 0.3955 - acc: 0.8198 - val_loss: 0.3690 - val_acc: 0.8295\n",
      "Epoch 135/200\n",
      "516/516 [==============================] - 0s 501us/step - loss: 0.3821 - acc: 0.8101 - val_loss: 0.4030 - val_acc: 0.8372\n",
      "Epoch 136/200\n",
      "516/516 [==============================] - 0s 501us/step - loss: 0.3723 - acc: 0.8295 - val_loss: 0.3984 - val_acc: 0.7752\n",
      "Epoch 137/200\n",
      "516/516 [==============================] - 0s 503us/step - loss: 0.3678 - acc: 0.8159 - val_loss: 0.3576 - val_acc: 0.8682\n",
      "Epoch 138/200\n",
      "516/516 [==============================] - 0s 500us/step - loss: 0.3889 - acc: 0.8236 - val_loss: 0.4206 - val_acc: 0.7597\n",
      "Epoch 139/200\n",
      "516/516 [==============================] - 0s 504us/step - loss: 0.4207 - acc: 0.8004 - val_loss: 0.3847 - val_acc: 0.8217\n",
      "Epoch 140/200\n",
      "516/516 [==============================] - 0s 499us/step - loss: 0.3755 - acc: 0.8256 - val_loss: 0.3857 - val_acc: 0.8450\n",
      "Epoch 141/200\n",
      "516/516 [==============================] - 0s 501us/step - loss: 0.3919 - acc: 0.8217 - val_loss: 0.3993 - val_acc: 0.8372\n",
      "Epoch 142/200\n",
      "516/516 [==============================] - 0s 495us/step - loss: 0.3976 - acc: 0.8081 - val_loss: 0.3844 - val_acc: 0.8217\n",
      "Epoch 143/200\n",
      "516/516 [==============================] - 0s 497us/step - loss: 0.3700 - acc: 0.8372 - val_loss: 0.3602 - val_acc: 0.8450\n",
      "Epoch 144/200\n",
      "516/516 [==============================] - 0s 533us/step - loss: 0.3718 - acc: 0.8353 - val_loss: 0.3551 - val_acc: 0.8605\n",
      "Epoch 145/200\n",
      "516/516 [==============================] - 0s 495us/step - loss: 0.3680 - acc: 0.8295 - val_loss: 0.3595 - val_acc: 0.8760\n",
      "Epoch 146/200\n",
      "516/516 [==============================] - 0s 502us/step - loss: 0.3737 - acc: 0.8159 - val_loss: 0.3544 - val_acc: 0.8450\n",
      "Epoch 147/200\n",
      "516/516 [==============================] - 0s 495us/step - loss: 0.3827 - acc: 0.8256 - val_loss: 0.4193 - val_acc: 0.8062\n",
      "Epoch 148/200\n",
      "516/516 [==============================] - 0s 495us/step - loss: 0.3576 - acc: 0.8372 - val_loss: 0.3763 - val_acc: 0.8217\n",
      "Epoch 149/200\n",
      "516/516 [==============================] - 0s 500us/step - loss: 0.3631 - acc: 0.8333 - val_loss: 0.3513 - val_acc: 0.8760\n",
      "Epoch 150/200\n",
      "516/516 [==============================] - 0s 502us/step - loss: 0.3563 - acc: 0.8391 - val_loss: 0.3675 - val_acc: 0.8217\n",
      "Epoch 151/200\n",
      "516/516 [==============================] - 0s 501us/step - loss: 0.3750 - acc: 0.8333 - val_loss: 0.3434 - val_acc: 0.8760\n",
      "Epoch 152/200\n",
      "516/516 [==============================] - 0s 495us/step - loss: 0.3458 - acc: 0.8624 - val_loss: 0.3694 - val_acc: 0.8605\n",
      "Epoch 153/200\n",
      "516/516 [==============================] - 0s 494us/step - loss: 0.3753 - acc: 0.8275 - val_loss: 0.3573 - val_acc: 0.8760\n",
      "Epoch 154/200\n",
      "516/516 [==============================] - 0s 507us/step - loss: 0.3747 - acc: 0.8333 - val_loss: 0.3758 - val_acc: 0.8605\n",
      "Epoch 155/200\n",
      "516/516 [==============================] - 0s 492us/step - loss: 0.3539 - acc: 0.8488 - val_loss: 0.3510 - val_acc: 0.8605\n",
      "Epoch 156/200\n",
      "516/516 [==============================] - 0s 502us/step - loss: 0.3357 - acc: 0.8643 - val_loss: 0.3620 - val_acc: 0.8140\n",
      "Epoch 157/200\n",
      "516/516 [==============================] - 0s 493us/step - loss: 0.3626 - acc: 0.8450 - val_loss: 0.3830 - val_acc: 0.8372\n",
      "Epoch 158/200\n",
      "516/516 [==============================] - 0s 504us/step - loss: 0.3571 - acc: 0.8333 - val_loss: 0.3413 - val_acc: 0.8682\n",
      "Epoch 159/200\n",
      "516/516 [==============================] - 0s 502us/step - loss: 0.3874 - acc: 0.8295 - val_loss: 0.3690 - val_acc: 0.8527\n",
      "Epoch 160/200\n",
      "516/516 [==============================] - 0s 500us/step - loss: 0.3883 - acc: 0.8275 - val_loss: 0.3679 - val_acc: 0.8527\n",
      "Epoch 161/200\n",
      "516/516 [==============================] - 0s 505us/step - loss: 0.3604 - acc: 0.8450 - val_loss: 0.3457 - val_acc: 0.8760\n",
      "Epoch 162/200\n",
      "516/516 [==============================] - 0s 498us/step - loss: 0.3617 - acc: 0.8430 - val_loss: 0.3443 - val_acc: 0.8760\n",
      "Epoch 163/200\n",
      "516/516 [==============================] - 0s 497us/step - loss: 0.3414 - acc: 0.8469 - val_loss: 0.3397 - val_acc: 0.8760\n",
      "Epoch 164/200\n",
      "516/516 [==============================] - 0s 499us/step - loss: 0.3688 - acc: 0.8333 - val_loss: 0.4096 - val_acc: 0.7984\n",
      "Epoch 165/200\n",
      "516/516 [==============================] - 0s 507us/step - loss: 0.3697 - acc: 0.8275 - val_loss: 0.3476 - val_acc: 0.8760\n",
      "Epoch 166/200\n",
      "516/516 [==============================] - 0s 497us/step - loss: 0.3681 - acc: 0.8411 - val_loss: 0.3605 - val_acc: 0.8140\n",
      "Epoch 167/200\n",
      "516/516 [==============================] - 0s 496us/step - loss: 0.3558 - acc: 0.8450 - val_loss: 0.3437 - val_acc: 0.8682\n",
      "Epoch 168/200\n",
      "516/516 [==============================] - 0s 500us/step - loss: 0.3641 - acc: 0.8198 - val_loss: 0.3453 - val_acc: 0.8527\n",
      "Epoch 169/200\n",
      "516/516 [==============================] - 0s 508us/step - loss: 0.3455 - acc: 0.8450 - val_loss: 0.3581 - val_acc: 0.8450\n",
      "Epoch 170/200\n",
      "516/516 [==============================] - 0s 500us/step - loss: 0.3586 - acc: 0.8314 - val_loss: 0.3369 - val_acc: 0.8760\n",
      "Epoch 171/200\n",
      "516/516 [==============================] - 0s 502us/step - loss: 0.3670 - acc: 0.8236 - val_loss: 0.3382 - val_acc: 0.8682\n",
      "Epoch 172/200\n",
      "516/516 [==============================] - 0s 502us/step - loss: 0.3685 - acc: 0.8411 - val_loss: 0.3570 - val_acc: 0.8682\n",
      "Epoch 173/200\n",
      "516/516 [==============================] - 0s 503us/step - loss: 0.3883 - acc: 0.8159 - val_loss: 0.3623 - val_acc: 0.8527\n",
      "Epoch 174/200\n",
      "516/516 [==============================] - 0s 503us/step - loss: 0.3493 - acc: 0.8353 - val_loss: 0.3455 - val_acc: 0.8682\n",
      "Epoch 175/200\n",
      "516/516 [==============================] - 0s 509us/step - loss: 0.3640 - acc: 0.8236 - val_loss: 0.3429 - val_acc: 0.8682\n",
      "Epoch 176/200\n",
      "516/516 [==============================] - 0s 510us/step - loss: 0.3668 - acc: 0.8333 - val_loss: 0.3455 - val_acc: 0.8605\n",
      "Epoch 177/200\n",
      "516/516 [==============================] - 0s 501us/step - loss: 0.3491 - acc: 0.8488 - val_loss: 0.3419 - val_acc: 0.8682\n"
     ]
    },
    {
     "name": "stdout",
     "output_type": "stream",
     "text": [
      "Epoch 178/200\n",
      "516/516 [==============================] - 0s 504us/step - loss: 0.3511 - acc: 0.8391 - val_loss: 0.3473 - val_acc: 0.8527\n",
      "Epoch 179/200\n",
      "516/516 [==============================] - 0s 518us/step - loss: 0.3396 - acc: 0.8469 - val_loss: 0.3359 - val_acc: 0.8682\n",
      "Epoch 180/200\n",
      "516/516 [==============================] - 0s 496us/step - loss: 0.3457 - acc: 0.8411 - val_loss: 0.3370 - val_acc: 0.8760\n",
      "Epoch 181/200\n",
      "516/516 [==============================] - 0s 499us/step - loss: 0.3446 - acc: 0.8391 - val_loss: 0.3390 - val_acc: 0.8527\n",
      "Epoch 182/200\n",
      "516/516 [==============================] - 0s 496us/step - loss: 0.3754 - acc: 0.8430 - val_loss: 0.3374 - val_acc: 0.8760\n",
      "Epoch 183/200\n",
      "516/516 [==============================] - 0s 538us/step - loss: 0.3378 - acc: 0.8585 - val_loss: 0.3478 - val_acc: 0.8682\n",
      "Epoch 184/200\n",
      "516/516 [==============================] - 0s 497us/step - loss: 0.3552 - acc: 0.8411 - val_loss: 0.3388 - val_acc: 0.8605\n",
      "Epoch 185/200\n",
      "516/516 [==============================] - 0s 496us/step - loss: 0.3422 - acc: 0.8488 - val_loss: 0.3524 - val_acc: 0.8527\n",
      "Epoch 186/200\n",
      "516/516 [==============================] - 0s 497us/step - loss: 0.3513 - acc: 0.8469 - val_loss: 0.3523 - val_acc: 0.8527\n",
      "Epoch 187/200\n",
      "516/516 [==============================] - 0s 499us/step - loss: 0.3764 - acc: 0.8275 - val_loss: 0.3445 - val_acc: 0.8450\n",
      "Epoch 188/200\n",
      "516/516 [==============================] - 0s 499us/step - loss: 0.3525 - acc: 0.8333 - val_loss: 0.3939 - val_acc: 0.8217\n",
      "Epoch 189/200\n",
      "516/516 [==============================] - 0s 497us/step - loss: 0.3709 - acc: 0.8353 - val_loss: 0.3918 - val_acc: 0.8372\n",
      "Epoch 190/200\n",
      "516/516 [==============================] - 0s 500us/step - loss: 0.3732 - acc: 0.8333 - val_loss: 0.3534 - val_acc: 0.8527\n",
      "Epoch 191/200\n",
      "516/516 [==============================] - 0s 495us/step - loss: 0.3573 - acc: 0.8469 - val_loss: 0.3954 - val_acc: 0.8217\n",
      "Epoch 192/200\n",
      "516/516 [==============================] - 0s 499us/step - loss: 0.3959 - acc: 0.8023 - val_loss: 0.3567 - val_acc: 0.8605\n",
      "Epoch 193/200\n",
      "516/516 [==============================] - 0s 501us/step - loss: 0.3431 - acc: 0.8547 - val_loss: 0.3463 - val_acc: 0.8760\n",
      "Epoch 194/200\n",
      "516/516 [==============================] - 0s 497us/step - loss: 0.3417 - acc: 0.8411 - val_loss: 0.3381 - val_acc: 0.8682\n",
      "Epoch 195/200\n",
      "516/516 [==============================] - 0s 492us/step - loss: 0.3423 - acc: 0.8527 - val_loss: 0.3512 - val_acc: 0.8450\n",
      "Epoch 196/200\n",
      "516/516 [==============================] - 0s 501us/step - loss: 0.3582 - acc: 0.8217 - val_loss: 0.4214 - val_acc: 0.7907\n",
      "Epoch 197/200\n",
      "516/516 [==============================] - 0s 526us/step - loss: 0.3665 - acc: 0.8275 - val_loss: 0.3533 - val_acc: 0.8527\n",
      "Epoch 198/200\n",
      "516/516 [==============================] - 0s 496us/step - loss: 0.3428 - acc: 0.8391 - val_loss: 0.3547 - val_acc: 0.8295\n",
      "Epoch 199/200\n",
      "516/516 [==============================] - 0s 499us/step - loss: 0.3491 - acc: 0.8333 - val_loss: 0.3414 - val_acc: 0.8450\n"
     ]
    }
   ],
   "source": [
    "# コールバック指定（https://qiita.com/yukiB/items/f45f0f71bc9739830002）\n",
    "early_stopping = EarlyStopping(monitor='val_loss', \n",
    "                               mode='auto', patience=20)\n",
    "history = model.fit(X_train, Y_train,\n",
    "                  batch_size = 16, # 論文で使われるのが1, 32, 128, 256, 512\n",
    "                  epochs=200,\n",
    "                  validation_split=0.2,\n",
    "                  callbacks=[early_stopping])"
   ]
  },
  {
   "cell_type": "code",
   "execution_count": 18,
   "metadata": {},
   "outputs": [
    {
     "data": {
      "image/png": "[encoded data removed]",
      "text/plain": [
       "<Figure size 432x288 with 1 Axes>"
      ]
     },
     "metadata": {
      "needs_background": "light"
     },
     "output_type": "display_data"
    }
   ],
   "source": [
    "epochs = range(1, len(history.history['acc']) + 1)\n",
    "plt.plot(epochs, history.history['loss'])\n",
    "plt.plot(epochs, history.history['val_loss'])\n",
    "plt.title('model loss')\n",
    "plt.ylabel('loss')\n",
    "plt.xlabel('epoch')\n",
    "plt.legend(['train', 'val'], loc='upper left')\n",
    "plt.show()"
   ]
  },
  {
   "cell_type": "code",
   "execution_count": 19,
   "metadata": {},
   "outputs": [
    {
     "data": {
      "text/plain": [
       "<matplotlib.legend.Legend at 0x7f288c70ed68>"
      ]
     },
     "execution_count": 19,
     "metadata": {},
     "output_type": "execute_result"
    },
    {
     "data": {
      "image/png": "[encoded data removed]",
      "text/plain": [
       "<Figure size 432x288 with 1 Axes>"
      ]
     },
     "metadata": {
      "needs_background": "light"
     },
     "output_type": "display_data"
    }
   ],
   "source": [
    "#acc, val_accのプロット\n",
    "plt.plot(history.history[\"acc\"], label=\"acc\", ls=\"-\", marker=\"o\")\n",
    "plt.plot(history.history[\"val_acc\"], label=\"val_acc\", ls=\"-\", marker=\"x\")\n",
    "plt.ylabel(\"accuracy\")\n",
    "plt.xlabel(\"epoch\")\n",
    "plt.legend(loc=\"best\")\n",
    "#Final.pngという名前で、結果を保存\n",
    "# plt.savefig('Final.png')\n",
    "# plt.show()"
   ]
  },
  {
   "cell_type": "code",
   "execution_count": 20,
   "metadata": {},
   "outputs": [
    {
     "name": "stdout",
     "output_type": "stream",
     "text": [
      "134/134 [==============================] - 0s 114us/step\n",
      "Test accuracy: 0.8209\n"
     ]
    }
   ],
   "source": [
    "print(\"Test accuracy: %.4f\" % (model.evaluate(X_test, Y_test)[1]))"
   ]
  },
  {
   "cell_type": "code",
   "execution_count": 21,
   "metadata": {},
   "outputs": [],
   "source": [
    "predict_classes = model.predict_classes(X_test)"
   ]
  },
  {
   "cell_type": "code",
   "execution_count": 22,
   "metadata": {},
   "outputs": [],
   "source": [
    "Y_test = np.array([np.argmax(x) for x in Y_test])"
   ]
  },
  {
   "cell_type": "code",
   "execution_count": 23,
   "metadata": {},
   "outputs": [
    {
     "data": {
      "text/html": [
       "<div>\n",
       "<style scoped>\n",
       "    .dataframe tbody tr th:only-of-type {\n",
       "        vertical-align: middle;\n",
       "    }\n",
       "\n",
       "    .dataframe tbody tr th {\n",
       "        vertical-align: top;\n",
       "    }\n",
       "\n",
       "    .dataframe thead th {\n",
       "        text-align: right;\n",
       "    }\n",
       "</style>\n",
       "<table border=\"1\" class=\"dataframe\">\n",
       "  <thead>\n",
       "    <tr style=\"text-align: right;\">\n",
       "      <th>Predicted</th>\n",
       "      <th>0</th>\n",
       "      <th>1</th>\n",
       "      <th>All</th>\n",
       "    </tr>\n",
       "    <tr>\n",
       "      <th>True</th>\n",
       "      <th></th>\n",
       "      <th></th>\n",
       "      <th></th>\n",
       "    </tr>\n",
       "  </thead>\n",
       "  <tbody>\n",
       "    <tr>\n",
       "      <td>0</td>\n",
       "      <td>49</td>\n",
       "      <td>16</td>\n",
       "      <td>65</td>\n",
       "    </tr>\n",
       "    <tr>\n",
       "      <td>1</td>\n",
       "      <td>8</td>\n",
       "      <td>61</td>\n",
       "      <td>69</td>\n",
       "    </tr>\n",
       "    <tr>\n",
       "      <td>All</td>\n",
       "      <td>57</td>\n",
       "      <td>77</td>\n",
       "      <td>134</td>\n",
       "    </tr>\n",
       "  </tbody>\n",
       "</table>\n",
       "</div>"
      ],
      "text/plain": [
       "Predicted   0   1  All\n",
       "True                  \n",
       "0          49  16   65\n",
       "1           8  61   69\n",
       "All        57  77  134"
      ]
     },
     "execution_count": 23,
     "metadata": {},
     "output_type": "execute_result"
    }
   ],
   "source": [
    "pd.crosstab(Y_test, predict_classes, rownames=['True'], colnames=['Predicted'], margins=True)"
   ]
  }
 ],
 "metadata": {
  "kernelspec": {
   "display_name": "Python 3",
   "language": "python",
   "name": "python3"
  },
  "language_info": {
   "codemirror_mode": {
    "name": "ipython",
    "version": 3
   },
   "file_extension": ".py",
   "mimetype": "text/x-python",
   "name": "python",
   "nbconvert_exporter": "python",
   "pygments_lexer": "ipython3",
   "version": "3.7.3"
  }
 },
 "nbformat": 4,
 "nbformat_minor": 2
}
