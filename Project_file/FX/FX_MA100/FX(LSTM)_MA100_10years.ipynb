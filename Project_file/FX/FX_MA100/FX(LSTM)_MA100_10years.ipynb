{
 "cells": [
  {
   "cell_type": "code",
   "execution_count": 1,
   "metadata": {},
   "outputs": [
    {
     "name": "stderr",
     "output_type": "stream",
     "text": [
      "Using TensorFlow backend.\n"
     ]
    }
   ],
   "source": [
    "import numpy as np\n",
    "import pandas as pd\n",
    "from pandas import DataFrame\n",
    "import seaborn as sns\n",
    "\n",
    "from sklearn.model_selection import train_test_split\n",
    "from sklearn.preprocessing import MinMaxScaler\n",
    "\n",
    "import keras\n",
    "from keras.layers.recurrent import LSTM\n",
    "from keras.models import Sequential\n",
    "from keras.layers import Dense, Activation\n",
    "from keras.layers.core import Dropout\n",
    "from keras.optimizers import Adam\n",
    "from keras.callbacks import EarlyStopping\n",
    "\n",
    "from keras.utils import plot_model, to_categorical"
   ]
  },
  {
   "cell_type": "code",
   "execution_count": 2,
   "metadata": {},
   "outputs": [
    {
     "data": {
      "text/html": [
       "<div>\n",
       "<style scoped>\n",
       "    .dataframe tbody tr th:only-of-type {\n",
       "        vertical-align: middle;\n",
       "    }\n",
       "\n",
       "    .dataframe tbody tr th {\n",
       "        vertical-align: top;\n",
       "    }\n",
       "\n",
       "    .dataframe thead th {\n",
       "        text-align: right;\n",
       "    }\n",
       "</style>\n",
       "<table border=\"1\" class=\"dataframe\">\n",
       "  <thead>\n",
       "    <tr style=\"text-align: right;\">\n",
       "      <th></th>\n",
       "      <th>time</th>\n",
       "      <th>open</th>\n",
       "      <th>high</th>\n",
       "      <th>low</th>\n",
       "      <th>close</th>\n",
       "      <th>100mean</th>\n",
       "      <th>target</th>\n",
       "    </tr>\n",
       "  </thead>\n",
       "  <tbody>\n",
       "    <tr>\n",
       "      <td>0</td>\n",
       "      <td>2009-04-22 06:00:00</td>\n",
       "      <td>98.730</td>\n",
       "      <td>98.750</td>\n",
       "      <td>97.558</td>\n",
       "      <td>98.016</td>\n",
       "      <td>94.85342</td>\n",
       "      <td>1</td>\n",
       "    </tr>\n",
       "    <tr>\n",
       "      <td>1</td>\n",
       "      <td>2009-04-23 06:00:00</td>\n",
       "      <td>98.016</td>\n",
       "      <td>98.449</td>\n",
       "      <td>97.632</td>\n",
       "      <td>97.948</td>\n",
       "      <td>94.92540</td>\n",
       "      <td>1</td>\n",
       "    </tr>\n",
       "    <tr>\n",
       "      <td>2</td>\n",
       "      <td>2009-04-24 06:00:00</td>\n",
       "      <td>97.948</td>\n",
       "      <td>98.150</td>\n",
       "      <td>96.636</td>\n",
       "      <td>97.168</td>\n",
       "      <td>94.97880</td>\n",
       "      <td>1</td>\n",
       "    </tr>\n",
       "    <tr>\n",
       "      <td>3</td>\n",
       "      <td>2009-04-26 06:00:00</td>\n",
       "      <td>97.102</td>\n",
       "      <td>97.293</td>\n",
       "      <td>96.799</td>\n",
       "      <td>96.809</td>\n",
       "      <td>95.02754</td>\n",
       "      <td>1</td>\n",
       "    </tr>\n",
       "    <tr>\n",
       "      <td>4</td>\n",
       "      <td>2009-04-27 06:00:00</td>\n",
       "      <td>96.808</td>\n",
       "      <td>97.119</td>\n",
       "      <td>96.436</td>\n",
       "      <td>96.772</td>\n",
       "      <td>95.06106</td>\n",
       "      <td>1</td>\n",
       "    </tr>\n",
       "  </tbody>\n",
       "</table>\n",
       "</div>"
      ],
      "text/plain": [
       "                  time    open    high     low   close   100mean  target\n",
       "0  2009-04-22 06:00:00  98.730  98.750  97.558  98.016  94.85342       1\n",
       "1  2009-04-23 06:00:00  98.016  98.449  97.632  97.948  94.92540       1\n",
       "2  2009-04-24 06:00:00  97.948  98.150  96.636  97.168  94.97880       1\n",
       "3  2009-04-26 06:00:00  97.102  97.293  96.799  96.809  95.02754       1\n",
       "4  2009-04-27 06:00:00  96.808  97.119  96.436  96.772  95.06106       1"
      ]
     },
     "execution_count": 2,
     "metadata": {},
     "output_type": "execute_result"
    }
   ],
   "source": [
    "df = pd.read_csv(\"FX_MA_100days_10years.csv\")\n",
    "df.head()"
   ]
  },
  {
   "cell_type": "code",
   "execution_count": 3,
   "metadata": {},
   "outputs": [
    {
     "name": "stdout",
     "output_type": "stream",
     "text": [
      "<class 'pandas.core.frame.DataFrame'>\n",
      "RangeIndex: 3090 entries, 0 to 3089\n",
      "Data columns (total 7 columns):\n",
      "time       3090 non-null object\n",
      "open       3090 non-null float64\n",
      "high       3090 non-null float64\n",
      "low        3090 non-null float64\n",
      "close      3090 non-null float64\n",
      "100mean    3090 non-null float64\n",
      "target     3090 non-null int64\n",
      "dtypes: float64(5), int64(1), object(1)\n",
      "memory usage: 169.1+ KB\n"
     ]
    }
   ],
   "source": [
    "df.info()"
   ]
  },
  {
   "cell_type": "code",
   "execution_count": 4,
   "metadata": {},
   "outputs": [],
   "source": [
    "# df = df.ix[:, ['time','close','100mean','target','open','high','low']]\n",
    "# df.head()"
   ]
  },
  {
   "cell_type": "code",
   "execution_count": 5,
   "metadata": {
    "scrolled": true
   },
   "outputs": [
    {
     "data": {
      "text/plain": [
       "time       2017-10-24 06:00:00\n",
       "open                   113.435\n",
       "high                   114.022\n",
       "low                    113.252\n",
       "close                  113.912\n",
       "100mean                111.356\n",
       "target                       1\n",
       "Name: 2550, dtype: object"
      ]
     },
     "execution_count": 5,
     "metadata": {},
     "output_type": "execute_result"
    }
   ],
   "source": [
    "# 7 : 3\n",
    "df.iloc[2550]"
   ]
  },
  {
   "cell_type": "code",
   "execution_count": 6,
   "metadata": {},
   "outputs": [],
   "source": [
    "split_data = '2017-06-15 06:00:00'\n",
    "train, test = df[df['time'] < split_data], df[df['time'] >= split_data]"
   ]
  },
  {
   "cell_type": "code",
   "execution_count": 7,
   "metadata": {},
   "outputs": [],
   "source": [
    "train = train.set_index('time')\n",
    "test = test.set_index('time')"
   ]
  },
  {
   "cell_type": "code",
   "execution_count": 8,
   "metadata": {},
   "outputs": [],
   "source": [
    "X_train = train.iloc[:,:-1]\n",
    "Y_train = train['target']\n",
    "\n",
    "X_test = test.iloc[:,:-1]\n",
    "Y_test = test['target']"
   ]
  },
  {
   "cell_type": "code",
   "execution_count": 9,
   "metadata": {},
   "outputs": [
    {
     "name": "stdout",
     "output_type": "stream",
     "text": [
      "[[ 98.73     98.75     97.558    98.016    94.85342]\n",
      " [ 98.016    98.449    97.632    97.948    94.9254 ]\n",
      " [ 97.948    98.15     96.636    97.168    94.9788 ]\n",
      " ...\n",
      " [110.342   110.44    109.632   109.941   112.03998]\n",
      " [109.938   110.27    109.815   110.066   112.00282]\n",
      " [110.054   110.342   108.815   109.564   111.96566]]\n",
      "Data len:  2455\n",
      "[[ 98.73     98.75     97.558    98.016    94.85342]\n",
      " [ 98.016    98.449    97.632    97.948    94.9254 ]\n",
      " [ 97.948    98.15     96.636    97.168    94.9788 ]\n",
      " ...\n",
      " [110.342   110.44    109.632   109.941   112.03998]\n",
      " [109.938   110.27    109.815   110.066   112.00282]\n",
      " [110.054   110.342   108.815   109.564   111.96566]]\n",
      "Data len:  635\n"
     ]
    },
    {
     "name": "stderr",
     "output_type": "stream",
     "text": [
      "/home/tim0114gap/anaconda3/lib/python3.7/site-packages/ipykernel_launcher.py:1: FutureWarning: Method .as_matrix will be removed in a future version. Use .values instead.\n",
      "  \"\"\"Entry point for launching an IPython kernel.\n",
      "/home/tim0114gap/anaconda3/lib/python3.7/site-packages/ipykernel_launcher.py:5: FutureWarning: Method .as_matrix will be removed in a future version. Use .values instead.\n",
      "  \"\"\"\n"
     ]
    }
   ],
   "source": [
    "X_train = X_train.as_matrix()\n",
    "print(X_train)\n",
    "print(\"Data len: \",len(X_train))\n",
    "\n",
    "X_test = X_test.as_matrix()\n",
    "print(X_train)\n",
    "print(\"Data len: \",len(X_test))\n",
    "\n",
    "# 正規化\n",
    "ms = MinMaxScaler()\n",
    "X_train = ms.fit_transform(X_train)\n",
    "\n",
    "ms = MinMaxScaler()\n",
    "X_test = ms.fit_transform(X_test)"
   ]
  },
  {
   "cell_type": "code",
   "execution_count": 10,
   "metadata": {},
   "outputs": [
    {
     "name": "stdout",
     "output_type": "stream",
     "text": [
      "Y_train Target len:  2455\n",
      "Y_train Target len:  635\n"
     ]
    }
   ],
   "source": [
    "Y_train = np.array(Y_train)\n",
    "print(\"Y_train Target len: \",len(Y_train))\n",
    "\n",
    "Y_test = np.array(Y_test)\n",
    "print(\"Y_train Target len: \",len(Y_test))"
   ]
  },
  {
   "cell_type": "code",
   "execution_count": 11,
   "metadata": {},
   "outputs": [],
   "source": [
    "maxlen = 100\n",
    "dataTrain = []\n",
    "targetTrain = []\n",
    "for i in range(0, len(X_train) - maxlen):\n",
    "    dataTrain.append(X_train[i: i + maxlen])\n",
    "    targetTrain.append(Y_train[i + maxlen])\n",
    "\n",
    "dataTest = []\n",
    "targetTest = []\n",
    "for i in range(0, len(X_test) - maxlen):\n",
    "    dataTest.append(X_test[i: i + maxlen])\n",
    "    targetTest.append(Y_test[i + maxlen])"
   ]
  },
  {
   "cell_type": "code",
   "execution_count": 12,
   "metadata": {},
   "outputs": [
    {
     "name": "stdout",
     "output_type": "stream",
     "text": [
      "(2355, 100, 5)\n",
      "(2355,)\n",
      "(535, 100, 5)\n",
      "(535,)\n"
     ]
    }
   ],
   "source": [
    "X_train = np.array(dataTrain)\n",
    "Y_train = np.array(targetTrain)\n",
    "\n",
    "X_test = np.array(dataTest)\n",
    "Y_test = np.array(targetTest)\n",
    "print(X_train.shape)\n",
    "print(Y_train.shape)\n",
    "print(X_test.shape)\n",
    "print(Y_test.shape)"
   ]
  },
  {
   "cell_type": "code",
   "execution_count": 13,
   "metadata": {},
   "outputs": [],
   "source": [
    "# Y_train = Y_train.reshape(len(Y_train), 1)\n",
    "# Y_test = Y_test.reshape(len(Y_test), 1)\n",
    "\n",
    "Y_train = to_categorical(Y_train)\n",
    "Y_test = to_categorical(Y_test)"
   ]
  },
  {
   "cell_type": "code",
   "execution_count": 14,
   "metadata": {},
   "outputs": [
    {
     "name": "stdout",
     "output_type": "stream",
     "text": [
      "(2355, 100, 5)\n",
      "(2355, 2)\n",
      "(535, 100, 5)\n",
      "(535, 2)\n"
     ]
    }
   ],
   "source": [
    "print(X_train.shape)\n",
    "print(Y_train.shape)\n",
    "print(X_test.shape)\n",
    "print(Y_test.shape)"
   ]
  },
  {
   "cell_type": "code",
   "execution_count": 15,
   "metadata": {},
   "outputs": [
    {
     "name": "stdout",
     "output_type": "stream",
     "text": [
      "WARNING:tensorflow:From /home/tim0114gap/anaconda3/lib/python3.7/site-packages/keras/backend/tensorflow_backend.py:74: The name tf.get_default_graph is deprecated. Please use tf.compat.v1.get_default_graph instead.\n",
      "\n",
      "WARNING:tensorflow:From /home/tim0114gap/anaconda3/lib/python3.7/site-packages/keras/backend/tensorflow_backend.py:517: The name tf.placeholder is deprecated. Please use tf.compat.v1.placeholder instead.\n",
      "\n",
      "WARNING:tensorflow:From /home/tim0114gap/anaconda3/lib/python3.7/site-packages/keras/backend/tensorflow_backend.py:4138: The name tf.random_uniform is deprecated. Please use tf.random.uniform instead.\n",
      "\n",
      "WARNING:tensorflow:From /home/tim0114gap/anaconda3/lib/python3.7/site-packages/keras/backend/tensorflow_backend.py:133: The name tf.placeholder_with_default is deprecated. Please use tf.compat.v1.placeholder_with_default instead.\n",
      "\n",
      "WARNING:tensorflow:From /home/tim0114gap/anaconda3/lib/python3.7/site-packages/keras/backend/tensorflow_backend.py:3445: calling dropout (from tensorflow.python.ops.nn_ops) with keep_prob is deprecated and will be removed in a future version.\n",
      "Instructions for updating:\n",
      "Please use `rate` instead of `keep_prob`. Rate should be set to `rate = 1 - keep_prob`.\n"
     ]
    }
   ],
   "source": [
    "'''\n",
    "モデル設定\n",
    "'''\n",
    "length_of_sequence = X_train.shape[1]  # 入力層 = 5\n",
    "out_neurons = 2                     # 出力層 = 2\n",
    "n_hidden = 100                         # 隠れ層 = 100\n",
    "column = 5\n",
    "\n",
    "model = Sequential()\n",
    "model.add(LSTM(n_hidden, batch_input_shape=(None, length_of_sequence, column), return_sequences=False))\n",
    "model.add(Dropout(0.25))\n",
    "model.add(Dense(50))\n",
    "model.add(Activation(\"sigmoid\"))\n",
    "model.add(Dropout(0.25))\n",
    "model.add(Dense(25))\n",
    "model.add(Activation(\"sigmoid\"))\n",
    "model.add(Dropout(0.25))\n",
    "model.add(Dense(out_neurons))\n",
    "model.add(Activation(\"softmax\"))"
   ]
  },
  {
   "cell_type": "code",
   "execution_count": 16,
   "metadata": {},
   "outputs": [
    {
     "name": "stdout",
     "output_type": "stream",
     "text": [
      "WARNING:tensorflow:From /home/tim0114gap/anaconda3/lib/python3.7/site-packages/keras/optimizers.py:790: The name tf.train.Optimizer is deprecated. Please use tf.compat.v1.train.Optimizer instead.\n",
      "\n",
      "WARNING:tensorflow:From /home/tim0114gap/anaconda3/lib/python3.7/site-packages/keras/backend/tensorflow_backend.py:3295: The name tf.log is deprecated. Please use tf.math.log instead.\n",
      "\n"
     ]
    }
   ],
   "source": [
    "optimizer = Adam(lr = 0.001, beta_1 = 0.9, beta_2 = 0.999)\n",
    "model.compile(loss=\"categorical_crossentropy\", \n",
    "              optimizer=optimizer, metrics=['acc'])"
   ]
  },
  {
   "cell_type": "code",
   "execution_count": 17,
   "metadata": {},
   "outputs": [
    {
     "name": "stdout",
     "output_type": "stream",
     "text": [
      "_________________________________________________________________\n",
      "Layer (type)                 Output Shape              Param #   \n",
      "=================================================================\n",
      "lstm_1 (LSTM)                (None, 100)               42400     \n",
      "_________________________________________________________________\n",
      "dropout_1 (Dropout)          (None, 100)               0         \n",
      "_________________________________________________________________\n",
      "dense_1 (Dense)              (None, 50)                5050      \n",
      "_________________________________________________________________\n",
      "activation_1 (Activation)    (None, 50)                0         \n",
      "_________________________________________________________________\n",
      "dropout_2 (Dropout)          (None, 50)                0         \n",
      "_________________________________________________________________\n",
      "dense_2 (Dense)              (None, 25)                1275      \n",
      "_________________________________________________________________\n",
      "activation_2 (Activation)    (None, 25)                0         \n",
      "_________________________________________________________________\n",
      "dropout_3 (Dropout)          (None, 25)                0         \n",
      "_________________________________________________________________\n",
      "dense_3 (Dense)              (None, 2)                 52        \n",
      "_________________________________________________________________\n",
      "activation_3 (Activation)    (None, 2)                 0         \n",
      "=================================================================\n",
      "Total params: 48,777\n",
      "Trainable params: 48,777\n",
      "Non-trainable params: 0\n",
      "_________________________________________________________________\n"
     ]
    }
   ],
   "source": [
    "#plot_model(model, to_file='model.png')\n",
    "model.summary()"
   ]
  },
  {
   "cell_type": "code",
   "execution_count": 18,
   "metadata": {},
   "outputs": [
    {
     "name": "stdout",
     "output_type": "stream",
     "text": [
      "WARNING:tensorflow:From /home/tim0114gap/anaconda3/lib/python3.7/site-packages/tensorflow/python/ops/math_grad.py:1250: add_dispatch_support.<locals>.wrapper (from tensorflow.python.ops.array_ops) is deprecated and will be removed in a future version.\n",
      "Instructions for updating:\n",
      "Use tf.where in 2.0, which has the same broadcast rule as np.where\n",
      "Train on 1884 samples, validate on 471 samples\n",
      "Epoch 1/100\n",
      "1884/1884 [==============================] - 17s 9ms/step - loss: 0.7122 - acc: 0.5685 - val_loss: 0.9699 - val_acc: 0.3036\n",
      "Epoch 2/100\n",
      "1884/1884 [==============================] - 16s 8ms/step - loss: 0.6348 - acc: 0.6385 - val_loss: 0.5891 - val_acc: 0.7771\n",
      "Epoch 3/100\n",
      "1884/1884 [==============================] - 16s 8ms/step - loss: 0.6078 - acc: 0.6582 - val_loss: 1.3422 - val_acc: 0.3227\n",
      "Epoch 4/100\n",
      "1884/1884 [==============================] - 16s 8ms/step - loss: 0.5267 - acc: 0.7473 - val_loss: 0.7149 - val_acc: 0.6030\n",
      "Epoch 5/100\n",
      "1884/1884 [==============================] - 16s 8ms/step - loss: 0.5709 - acc: 0.7309 - val_loss: 0.8224 - val_acc: 0.4013\n",
      "Epoch 6/100\n",
      "1884/1884 [==============================] - 16s 8ms/step - loss: 0.4877 - acc: 0.7797 - val_loss: 1.1332 - val_acc: 0.4183\n",
      "Epoch 7/100\n",
      "1884/1884 [==============================] - 16s 8ms/step - loss: 0.4091 - acc: 0.8132 - val_loss: 0.8657 - val_acc: 0.6454\n",
      "Epoch 8/100\n",
      "1884/1884 [==============================] - 16s 8ms/step - loss: 0.4121 - acc: 0.8116 - val_loss: 0.7667 - val_acc: 0.6815\n",
      "Epoch 9/100\n",
      "1884/1884 [==============================] - 16s 8ms/step - loss: 0.3724 - acc: 0.8291 - val_loss: 0.7175 - val_acc: 0.6603\n",
      "Epoch 10/100\n",
      "1884/1884 [==============================] - 16s 8ms/step - loss: 0.3630 - acc: 0.8323 - val_loss: 0.3903 - val_acc: 0.8132\n",
      "Epoch 11/100\n",
      "1884/1884 [==============================] - 16s 8ms/step - loss: 0.3357 - acc: 0.8461 - val_loss: 0.5776 - val_acc: 0.7282\n",
      "Epoch 12/100\n",
      "1884/1884 [==============================] - 16s 8ms/step - loss: 0.3550 - acc: 0.8360 - val_loss: 0.5370 - val_acc: 0.7049\n",
      "Epoch 13/100\n",
      "1884/1884 [==============================] - 16s 8ms/step - loss: 0.3304 - acc: 0.8567 - val_loss: 0.6173 - val_acc: 0.6921\n",
      "Epoch 14/100\n",
      "1884/1884 [==============================] - 16s 8ms/step - loss: 0.3283 - acc: 0.8477 - val_loss: 0.4834 - val_acc: 0.7580\n",
      "Epoch 15/100\n",
      "1884/1884 [==============================] - 16s 8ms/step - loss: 0.3075 - acc: 0.8577 - val_loss: 0.4351 - val_acc: 0.8047\n",
      "Epoch 16/100\n",
      "1884/1884 [==============================] - 16s 8ms/step - loss: 0.3024 - acc: 0.8641 - val_loss: 0.3662 - val_acc: 0.8429\n",
      "Epoch 17/100\n",
      "1884/1884 [==============================] - 16s 9ms/step - loss: 0.3239 - acc: 0.8471 - val_loss: 0.3203 - val_acc: 0.8301\n",
      "Epoch 18/100\n",
      "1884/1884 [==============================] - 16s 8ms/step - loss: 0.2811 - acc: 0.8769 - val_loss: 0.2551 - val_acc: 0.8726\n",
      "Epoch 19/100\n",
      "1884/1884 [==============================] - 16s 8ms/step - loss: 0.3062 - acc: 0.8535 - val_loss: 0.2880 - val_acc: 0.8577\n",
      "Epoch 20/100\n",
      "1884/1884 [==============================] - 16s 8ms/step - loss: 0.3320 - acc: 0.8413 - val_loss: 0.4470 - val_acc: 0.8047\n",
      "Epoch 21/100\n",
      "1884/1884 [==============================] - 16s 9ms/step - loss: 0.3066 - acc: 0.8646 - val_loss: 0.3841 - val_acc: 0.8365\n",
      "Epoch 22/100\n",
      "1884/1884 [==============================] - 16s 8ms/step - loss: 0.2762 - acc: 0.8816 - val_loss: 0.2512 - val_acc: 0.8854\n",
      "Epoch 23/100\n",
      "1884/1884 [==============================] - 16s 8ms/step - loss: 0.2769 - acc: 0.8689 - val_loss: 0.2462 - val_acc: 0.8726\n",
      "Epoch 24/100\n",
      "1884/1884 [==============================] - 16s 8ms/step - loss: 0.2823 - acc: 0.8726 - val_loss: 0.3197 - val_acc: 0.8811\n",
      "Epoch 25/100\n",
      "1884/1884 [==============================] - 16s 8ms/step - loss: 0.2989 - acc: 0.8673 - val_loss: 0.2445 - val_acc: 0.8854\n",
      "Epoch 26/100\n",
      "1884/1884 [==============================] - 16s 8ms/step - loss: 0.2786 - acc: 0.8779 - val_loss: 0.2488 - val_acc: 0.8854\n",
      "Epoch 27/100\n",
      "1884/1884 [==============================] - 16s 9ms/step - loss: 0.2691 - acc: 0.8769 - val_loss: 0.2380 - val_acc: 0.8917\n",
      "Epoch 28/100\n",
      "1884/1884 [==============================] - 16s 8ms/step - loss: 0.2711 - acc: 0.8731 - val_loss: 0.2784 - val_acc: 0.8556\n",
      "Epoch 29/100\n",
      "1884/1884 [==============================] - 16s 8ms/step - loss: 0.2773 - acc: 0.8747 - val_loss: 0.2654 - val_acc: 0.8705\n",
      "Epoch 30/100\n",
      "1884/1884 [==============================] - 16s 8ms/step - loss: 0.2851 - acc: 0.8700 - val_loss: 0.2474 - val_acc: 0.8684\n",
      "Epoch 31/100\n",
      "1884/1884 [==============================] - 16s 8ms/step - loss: 0.2587 - acc: 0.8843 - val_loss: 0.3171 - val_acc: 0.8450\n",
      "Epoch 32/100\n",
      "1884/1884 [==============================] - 16s 8ms/step - loss: 0.2604 - acc: 0.8811 - val_loss: 0.2442 - val_acc: 0.8769\n",
      "Epoch 33/100\n",
      "1884/1884 [==============================] - 16s 8ms/step - loss: 0.2448 - acc: 0.8933 - val_loss: 0.4697 - val_acc: 0.7834\n",
      "Epoch 34/100\n",
      "1884/1884 [==============================] - 16s 8ms/step - loss: 0.2607 - acc: 0.8779 - val_loss: 0.2664 - val_acc: 0.8641\n",
      "Epoch 35/100\n",
      "1884/1884 [==============================] - 16s 8ms/step - loss: 0.2573 - acc: 0.8838 - val_loss: 0.3985 - val_acc: 0.7962\n",
      "Epoch 36/100\n",
      "1884/1884 [==============================] - 16s 8ms/step - loss: 0.2518 - acc: 0.8885 - val_loss: 0.4499 - val_acc: 0.7643\n",
      "Epoch 37/100\n",
      "1884/1884 [==============================] - 16s 8ms/step - loss: 0.2644 - acc: 0.8816 - val_loss: 0.4532 - val_acc: 0.7728\n",
      "Epoch 38/100\n",
      "1884/1884 [==============================] - 16s 8ms/step - loss: 0.2665 - acc: 0.8779 - val_loss: 0.2237 - val_acc: 0.8832\n",
      "Epoch 39/100\n",
      "1884/1884 [==============================] - 16s 8ms/step - loss: 0.2491 - acc: 0.8923 - val_loss: 0.2628 - val_acc: 0.8535\n",
      "Epoch 40/100\n",
      "1884/1884 [==============================] - 17s 9ms/step - loss: 0.2787 - acc: 0.8816 - val_loss: 0.6943 - val_acc: 0.6964\n",
      "Epoch 41/100\n",
      "1884/1884 [==============================] - 16s 8ms/step - loss: 0.2545 - acc: 0.8822 - val_loss: 0.3433 - val_acc: 0.8259\n",
      "Epoch 42/100\n",
      "1884/1884 [==============================] - 16s 8ms/step - loss: 0.2787 - acc: 0.8668 - val_loss: 0.2437 - val_acc: 0.8662\n",
      "Epoch 43/100\n",
      "1884/1884 [==============================] - 16s 8ms/step - loss: 0.2468 - acc: 0.8923 - val_loss: 0.3262 - val_acc: 0.8217\n",
      "Epoch 44/100\n",
      "1884/1884 [==============================] - 16s 8ms/step - loss: 0.2417 - acc: 0.8938 - val_loss: 0.4588 - val_acc: 0.8025\n",
      "Epoch 45/100\n",
      "1884/1884 [==============================] - 16s 8ms/step - loss: 0.2557 - acc: 0.8822 - val_loss: 0.2955 - val_acc: 0.8429\n",
      "Epoch 46/100\n",
      "1884/1884 [==============================] - 16s 9ms/step - loss: 0.2452 - acc: 0.8875 - val_loss: 0.3139 - val_acc: 0.8301\n",
      "Epoch 47/100\n",
      "1884/1884 [==============================] - 16s 8ms/step - loss: 0.2459 - acc: 0.8938 - val_loss: 0.3079 - val_acc: 0.8323\n",
      "Epoch 48/100\n",
      "1884/1884 [==============================] - 16s 8ms/step - loss: 0.3078 - acc: 0.8604 - val_loss: 0.4997 - val_acc: 0.7410\n",
      "Epoch 49/100\n",
      "1884/1884 [==============================] - 16s 9ms/step - loss: 0.2583 - acc: 0.8912 - val_loss: 0.3049 - val_acc: 0.8174\n",
      "Epoch 50/100\n",
      "1884/1884 [==============================] - 16s 8ms/step - loss: 0.2484 - acc: 0.8816 - val_loss: 0.3897 - val_acc: 0.8132\n",
      "Epoch 51/100\n",
      "1884/1884 [==============================] - 16s 8ms/step - loss: 0.2311 - acc: 0.9002 - val_loss: 0.3277 - val_acc: 0.8068\n",
      "Epoch 52/100\n",
      "1884/1884 [==============================] - 16s 8ms/step - loss: 0.2478 - acc: 0.8838 - val_loss: 0.3578 - val_acc: 0.8089\n",
      "Epoch 53/100\n",
      "1884/1884 [==============================] - 16s 8ms/step - loss: 0.2646 - acc: 0.8917 - val_loss: 0.3019 - val_acc: 0.8238\n",
      "Epoch 54/100\n",
      "1884/1884 [==============================] - 16s 8ms/step - loss: 0.2491 - acc: 0.8965 - val_loss: 0.2822 - val_acc: 0.8301\n",
      "Epoch 55/100\n",
      "1884/1884 [==============================] - 16s 9ms/step - loss: 0.2420 - acc: 0.8933 - val_loss: 0.3172 - val_acc: 0.8132\n",
      "Epoch 56/100\n",
      "1884/1884 [==============================] - 16s 8ms/step - loss: 0.2441 - acc: 0.8997 - val_loss: 0.3781 - val_acc: 0.8025\n",
      "Epoch 57/100\n",
      "1884/1884 [==============================] - 16s 8ms/step - loss: 0.2484 - acc: 0.8954 - val_loss: 0.4585 - val_acc: 0.7941\n"
     ]
    },
    {
     "name": "stdout",
     "output_type": "stream",
     "text": [
      "Epoch 58/100\n",
      "1884/1884 [==============================] - 16s 8ms/step - loss: 0.2500 - acc: 0.8848 - val_loss: 0.3359 - val_acc: 0.8004\n"
     ]
    }
   ],
   "source": [
    "# コールバック指定（https://qiita.com/yukiB/items/f45f0f71bc9739830002）\n",
    "early_stopping = EarlyStopping(monitor='val_loss', \n",
    "                               mode='auto', patience=20)\n",
    "history = model.fit(X_train, Y_train,\n",
    "                  batch_size = 16, # 論文で使われるのが1, 32, 128, 256, 512\n",
    "                  epochs=100,\n",
    "                  validation_split=0.2,\n",
    "                  callbacks=[early_stopping])"
   ]
  },
  {
   "cell_type": "code",
   "execution_count": 19,
   "metadata": {},
   "outputs": [
    {
     "name": "stdout",
     "output_type": "stream",
     "text": [
      "535/535 [==============================] - 1s 1ms/step\n",
      "Test accuracy: 0.7439\n"
     ]
    }
   ],
   "source": [
    "print(\"Test accuracy: %.4f\" % (model.evaluate(X_test, Y_test)[1]))"
   ]
  },
  {
   "cell_type": "code",
   "execution_count": 20,
   "metadata": {},
   "outputs": [],
   "source": [
    "predict_classes = model.predict_classes(X_test)"
   ]
  },
  {
   "cell_type": "code",
   "execution_count": 21,
   "metadata": {},
   "outputs": [],
   "source": [
    "Y_test = np.array([np.argmax(x) for x in Y_test])"
   ]
  },
  {
   "cell_type": "code",
   "execution_count": 22,
   "metadata": {},
   "outputs": [
    {
     "data": {
      "text/html": [
       "<div>\n",
       "<style scoped>\n",
       "    .dataframe tbody tr th:only-of-type {\n",
       "        vertical-align: middle;\n",
       "    }\n",
       "\n",
       "    .dataframe tbody tr th {\n",
       "        vertical-align: top;\n",
       "    }\n",
       "\n",
       "    .dataframe thead th {\n",
       "        text-align: right;\n",
       "    }\n",
       "</style>\n",
       "<table border=\"1\" class=\"dataframe\">\n",
       "  <thead>\n",
       "    <tr style=\"text-align: right;\">\n",
       "      <th>Predicted</th>\n",
       "      <th>0</th>\n",
       "      <th>1</th>\n",
       "      <th>All</th>\n",
       "    </tr>\n",
       "    <tr>\n",
       "      <th>True</th>\n",
       "      <th></th>\n",
       "      <th></th>\n",
       "      <th></th>\n",
       "    </tr>\n",
       "  </thead>\n",
       "  <tbody>\n",
       "    <tr>\n",
       "      <td>0</td>\n",
       "      <td>225</td>\n",
       "      <td>97</td>\n",
       "      <td>322</td>\n",
       "    </tr>\n",
       "    <tr>\n",
       "      <td>1</td>\n",
       "      <td>40</td>\n",
       "      <td>173</td>\n",
       "      <td>213</td>\n",
       "    </tr>\n",
       "    <tr>\n",
       "      <td>All</td>\n",
       "      <td>265</td>\n",
       "      <td>270</td>\n",
       "      <td>535</td>\n",
       "    </tr>\n",
       "  </tbody>\n",
       "</table>\n",
       "</div>"
      ],
      "text/plain": [
       "Predicted    0    1  All\n",
       "True                    \n",
       "0          225   97  322\n",
       "1           40  173  213\n",
       "All        265  270  535"
      ]
     },
     "execution_count": 22,
     "metadata": {},
     "output_type": "execute_result"
    }
   ],
   "source": [
    "pd.crosstab(Y_test, predict_classes, rownames=['True'], colnames=['Predicted'], margins=True)"
   ]
  },
  {
   "cell_type": "code",
   "execution_count": 23,
   "metadata": {},
   "outputs": [
    {
     "data": {
      "image/png": "[encoded data removed]",
      "text/plain": [
       "<Figure size 432x288 with 1 Axes>"
      ]
     },
     "metadata": {
      "needs_background": "light"
     },
     "output_type": "display_data"
    }
   ],
   "source": [
    "import matplotlib.pyplot as plt\n",
    "epochs = range(1, len(history.history['acc']) + 1)\n",
    "plt.plot(epochs, history.history['loss'])\n",
    "plt.plot(epochs, history.history['val_loss'])\n",
    "plt.title('model loss')\n",
    "plt.ylabel('loss')\n",
    "plt.xlabel('epoch')\n",
    "plt.legend(['train', 'val'], loc='upper left')\n",
    "plt.savefig('FXMA100loss.png')\n",
    "plt.show()"
   ]
  },
  {
   "cell_type": "code",
   "execution_count": 24,
   "metadata": {},
   "outputs": [
    {
     "data": {
      "image/png": "[encoded data removed]",
      "text/plain": [
       "<Figure size 432x288 with 1 Axes>"
      ]
     },
     "metadata": {
      "needs_background": "light"
     },
     "output_type": "display_data"
    }
   ],
   "source": [
    "plt.plot(history.history[\"acc\"], label=\"acc\", ls=\"-\", marker=\"o\")\n",
    "plt.plot(history.history[\"val_acc\"], label=\"val_acc\", ls=\"-\", marker=\"x\")\n",
    "plt.ylabel(\"accuracy\")\n",
    "plt.xlabel(\"epoch\")\n",
    "plt.legend(loc=\"best\")\n",
    "plt.savefig('FXMA100acc.png')\n",
    "plt.show()"
   ]
  }
 ],
 "metadata": {
  "kernelspec": {
   "display_name": "Python 3",
   "language": "python",
   "name": "python3"
  },
  "language_info": {
   "codemirror_mode": {
    "name": "ipython",
    "version": 3
   },
   "file_extension": ".py",
   "mimetype": "text/x-python",
   "name": "python",
   "nbconvert_exporter": "python",
   "pygments_lexer": "ipython3",
   "version": "3.7.3"
  }
 },
 "nbformat": 4,
 "nbformat_minor": 2
}
