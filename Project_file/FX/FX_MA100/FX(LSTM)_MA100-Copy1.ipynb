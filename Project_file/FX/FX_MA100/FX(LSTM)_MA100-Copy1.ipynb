{
 "cells": [
  {
   "cell_type": "code",
   "execution_count": 1,
   "metadata": {},
   "outputs": [
    {
     "name": "stderr",
     "output_type": "stream",
     "text": [
      "Using TensorFlow backend.\n"
     ]
    }
   ],
   "source": [
    "import numpy as np\n",
    "import pandas as pd\n",
    "from pandas import DataFrame\n",
    "import matplotlib.pyplot as plt\n",
    "import seaborn as sns\n",
    "\n",
    "from sklearn.model_selection import train_test_split\n",
    "from sklearn.preprocessing import MinMaxScaler\n",
    "\n",
    "import keras\n",
    "from keras.layers.recurrent import LSTM\n",
    "from keras.models import Sequential\n",
    "from keras.layers import Dense, Activation\n",
    "from keras.layers.core import Dropout\n",
    "from keras.optimizers import Adam\n",
    "from keras.callbacks import EarlyStopping\n",
    "\n",
    "from keras.utils import plot_model, to_categorical"
   ]
  },
  {
   "cell_type": "code",
   "execution_count": 2,
   "metadata": {},
   "outputs": [
    {
     "data": {
      "text/html": [
       "<div>\n",
       "<style scoped>\n",
       "    .dataframe tbody tr th:only-of-type {\n",
       "        vertical-align: middle;\n",
       "    }\n",
       "\n",
       "    .dataframe tbody tr th {\n",
       "        vertical-align: top;\n",
       "    }\n",
       "\n",
       "    .dataframe thead th {\n",
       "        text-align: right;\n",
       "    }\n",
       "</style>\n",
       "<table border=\"1\" class=\"dataframe\">\n",
       "  <thead>\n",
       "    <tr style=\"text-align: right;\">\n",
       "      <th></th>\n",
       "      <th>time</th>\n",
       "      <th>open</th>\n",
       "      <th>high</th>\n",
       "      <th>low</th>\n",
       "      <th>close</th>\n",
       "      <th>100mean</th>\n",
       "      <th>target</th>\n",
       "    </tr>\n",
       "  </thead>\n",
       "  <tbody>\n",
       "    <tr>\n",
       "      <td>0</td>\n",
       "      <td>2017-03-22 06:00:00</td>\n",
       "      <td>111.725</td>\n",
       "      <td>111.791</td>\n",
       "      <td>110.731</td>\n",
       "      <td>111.155</td>\n",
       "      <td>113.16507</td>\n",
       "      <td>1</td>\n",
       "    </tr>\n",
       "    <tr>\n",
       "      <td>1</td>\n",
       "      <td>2017-03-23 06:00:00</td>\n",
       "      <td>111.150</td>\n",
       "      <td>111.578</td>\n",
       "      <td>110.628</td>\n",
       "      <td>110.930</td>\n",
       "      <td>113.23285</td>\n",
       "      <td>1</td>\n",
       "    </tr>\n",
       "    <tr>\n",
       "      <td>2</td>\n",
       "      <td>2017-03-24 06:00:00</td>\n",
       "      <td>110.934</td>\n",
       "      <td>111.485</td>\n",
       "      <td>110.626</td>\n",
       "      <td>111.321</td>\n",
       "      <td>113.31300</td>\n",
       "      <td>1</td>\n",
       "    </tr>\n",
       "    <tr>\n",
       "      <td>3</td>\n",
       "      <td>2017-03-27 06:00:00</td>\n",
       "      <td>110.926</td>\n",
       "      <td>111.054</td>\n",
       "      <td>110.114</td>\n",
       "      <td>110.669</td>\n",
       "      <td>113.38991</td>\n",
       "      <td>1</td>\n",
       "    </tr>\n",
       "    <tr>\n",
       "      <td>4</td>\n",
       "      <td>2017-03-28 06:00:00</td>\n",
       "      <td>110.652</td>\n",
       "      <td>111.202</td>\n",
       "      <td>110.182</td>\n",
       "      <td>111.140</td>\n",
       "      <td>113.47005</td>\n",
       "      <td>1</td>\n",
       "    </tr>\n",
       "  </tbody>\n",
       "</table>\n",
       "</div>"
      ],
      "text/plain": [
       "                  time     open     high      low    close    100mean  target\n",
       "0  2017-03-22 06:00:00  111.725  111.791  110.731  111.155  113.16507       1\n",
       "1  2017-03-23 06:00:00  111.150  111.578  110.628  110.930  113.23285       1\n",
       "2  2017-03-24 06:00:00  110.934  111.485  110.626  111.321  113.31300       1\n",
       "3  2017-03-27 06:00:00  110.926  111.054  110.114  110.669  113.38991       1\n",
       "4  2017-03-28 06:00:00  110.652  111.202  110.182  111.140  113.47005       1"
      ]
     },
     "execution_count": 2,
     "metadata": {},
     "output_type": "execute_result"
    }
   ],
   "source": [
    "df = pd.read_csv(\"FX_MA_100days.csv\")\n",
    "df.head()"
   ]
  },
  {
   "cell_type": "code",
   "execution_count": 3,
   "metadata": {
    "scrolled": true
   },
   "outputs": [
    {
     "name": "stdout",
     "output_type": "stream",
     "text": [
      "<class 'pandas.core.frame.DataFrame'>\n",
      "RangeIndex: 694 entries, 0 to 693\n",
      "Data columns (total 7 columns):\n",
      "time       694 non-null object\n",
      "open       694 non-null float64\n",
      "high       694 non-null float64\n",
      "low        694 non-null float64\n",
      "close      694 non-null float64\n",
      "100mean    694 non-null float64\n",
      "target     694 non-null int64\n",
      "dtypes: float64(5), int64(1), object(1)\n",
      "memory usage: 38.1+ KB\n"
     ]
    }
   ],
   "source": [
    "df.info()"
   ]
  },
  {
   "cell_type": "code",
   "execution_count": 4,
   "metadata": {},
   "outputs": [],
   "source": [
    "split_data = '2019-05-06 06:00:00'\n",
    "train, test = df[df['time'] < split_data], df[df['time'] >= split_data]"
   ]
  },
  {
   "cell_type": "code",
   "execution_count": 5,
   "metadata": {},
   "outputs": [],
   "source": [
    "train = train.set_index('time')\n",
    "test = test.set_index('time')"
   ]
  },
  {
   "cell_type": "code",
   "execution_count": 6,
   "metadata": {},
   "outputs": [],
   "source": [
    "X_train = train.iloc[:,:5]\n",
    "Y_train = train['target']\n",
    "\n",
    "X_test = test.iloc[:,:5]\n",
    "Y_test = test['target']"
   ]
  },
  {
   "cell_type": "code",
   "execution_count": 7,
   "metadata": {},
   "outputs": [
    {
     "name": "stdout",
     "output_type": "stream",
     "text": [
      "[[111.725   111.791   110.731   111.155   113.16507]\n",
      " [111.15    111.578   110.628   110.93    113.23285]\n",
      " [110.934   111.485   110.626   111.321   113.313  ]\n",
      " ...\n",
      " [111.425   111.613   111.05    111.385   110.681  ]\n",
      " [111.382   111.666   111.354   111.51    110.6622 ]\n",
      " [111.518   111.695   111.07    111.096   110.64482]]\n",
      "Data len:  555\n",
      "[[111.725   111.791   110.731   111.155   113.16507]\n",
      " [111.15    111.578   110.628   110.93    113.23285]\n",
      " [110.934   111.485   110.626   111.321   113.313  ]\n",
      " ...\n",
      " [111.425   111.613   111.05    111.385   110.681  ]\n",
      " [111.382   111.666   111.354   111.51    110.6622 ]\n",
      " [111.518   111.695   111.07    111.096   110.64482]]\n",
      "Data len:  139\n"
     ]
    },
    {
     "name": "stderr",
     "output_type": "stream",
     "text": [
      "/home/tim0114gap/anaconda3/lib/python3.7/site-packages/ipykernel_launcher.py:1: FutureWarning: Method .as_matrix will be removed in a future version. Use .values instead.\n",
      "  \"\"\"Entry point for launching an IPython kernel.\n",
      "/home/tim0114gap/anaconda3/lib/python3.7/site-packages/ipykernel_launcher.py:5: FutureWarning: Method .as_matrix will be removed in a future version. Use .values instead.\n",
      "  \"\"\"\n"
     ]
    }
   ],
   "source": [
    "X_train = X_train.as_matrix()\n",
    "print(X_train)\n",
    "print(\"Data len: \",len(X_train))\n",
    "\n",
    "X_test = X_test.as_matrix()\n",
    "print(X_train)\n",
    "print(\"Data len: \",len(X_test))\n",
    "\n",
    "# 正規化\n",
    "ms = MinMaxScaler()\n",
    "X_train = ms.fit_transform(X_train)\n",
    "\n",
    "ms = MinMaxScaler()\n",
    "X_test = ms.fit_transform(X_test)"
   ]
  },
  {
   "cell_type": "code",
   "execution_count": 8,
   "metadata": {},
   "outputs": [
    {
     "name": "stdout",
     "output_type": "stream",
     "text": [
      "Y_train Target len:  555\n",
      "Y_train Target len:  139\n"
     ]
    }
   ],
   "source": [
    "c = np.array(Y_train)\n",
    "print(\"Y_train Target len: \",len(Y_train))\n",
    "\n",
    "Y_test = np.array(Y_test)\n",
    "print(\"Y_train Target len: \",len(Y_test))"
   ]
  },
  {
   "cell_type": "code",
   "execution_count": 9,
   "metadata": {},
   "outputs": [],
   "source": [
    "maxlen = 100\n",
    "dataTrain = []\n",
    "targetTrain = []\n",
    "for i in range(0, len(X_train) - maxlen):\n",
    "    dataTrain.append(X_train[i: i + maxlen])\n",
    "    targetTrain.append(Y_train[i + maxlen])\n",
    "\n",
    "dataTest = []\n",
    "targetTest = []\n",
    "for i in range(0, len(X_test) - maxlen):\n",
    "    dataTest.append(X_test[i: i + maxlen])\n",
    "    targetTest.append(Y_test[i + maxlen])"
   ]
  },
  {
   "cell_type": "code",
   "execution_count": 10,
   "metadata": {},
   "outputs": [
    {
     "name": "stdout",
     "output_type": "stream",
     "text": [
      "(455, 100, 5)\n",
      "(455,)\n",
      "(39, 100, 5)\n",
      "(39,)\n"
     ]
    }
   ],
   "source": [
    "X_train = np.array(dataTrain)\n",
    "Y_train = np.array(targetTrain)\n",
    "\n",
    "X_test = np.array(dataTest)\n",
    "Y_test = np.array(targetTest)\n",
    "print(X_train.shape)\n",
    "print(Y_train.shape)\n",
    "print(X_test.shape)\n",
    "print(Y_test.shape)"
   ]
  },
  {
   "cell_type": "code",
   "execution_count": 11,
   "metadata": {},
   "outputs": [],
   "source": [
    "# Y_train = Y_train.reshape(len(Y_train), 1)\n",
    "# Y_test = Y_test.reshape(len(Y_test), 1)\n",
    "\n",
    "#Y_train = to_categorical(Y_train)\n",
    "#Y_test = to_categorical(Y_test)"
   ]
  },
  {
   "cell_type": "code",
   "execution_count": 12,
   "metadata": {},
   "outputs": [
    {
     "name": "stdout",
     "output_type": "stream",
     "text": [
      "(455, 100, 5)\n",
      "(455,)\n",
      "(39, 100, 5)\n",
      "(39,)\n"
     ]
    }
   ],
   "source": [
    "print(X_train.shape)\n",
    "print(Y_train.shape)\n",
    "print(X_test.shape)\n",
    "print(Y_test.shape)"
   ]
  },
  {
   "cell_type": "code",
   "execution_count": 13,
   "metadata": {},
   "outputs": [
    {
     "name": "stdout",
     "output_type": "stream",
     "text": [
      "WARNING:tensorflow:From /home/tim0114gap/anaconda3/lib/python3.7/site-packages/keras/backend/tensorflow_backend.py:74: The name tf.get_default_graph is deprecated. Please use tf.compat.v1.get_default_graph instead.\n",
      "\n",
      "WARNING:tensorflow:From /home/tim0114gap/anaconda3/lib/python3.7/site-packages/keras/backend/tensorflow_backend.py:517: The name tf.placeholder is deprecated. Please use tf.compat.v1.placeholder instead.\n",
      "\n",
      "WARNING:tensorflow:From /home/tim0114gap/anaconda3/lib/python3.7/site-packages/keras/backend/tensorflow_backend.py:4138: The name tf.random_uniform is deprecated. Please use tf.random.uniform instead.\n",
      "\n",
      "WARNING:tensorflow:From /home/tim0114gap/anaconda3/lib/python3.7/site-packages/keras/backend/tensorflow_backend.py:133: The name tf.placeholder_with_default is deprecated. Please use tf.compat.v1.placeholder_with_default instead.\n",
      "\n",
      "WARNING:tensorflow:From /home/tim0114gap/anaconda3/lib/python3.7/site-packages/keras/backend/tensorflow_backend.py:3445: calling dropout (from tensorflow.python.ops.nn_ops) with keep_prob is deprecated and will be removed in a future version.\n",
      "Instructions for updating:\n",
      "Please use `rate` instead of `keep_prob`. Rate should be set to `rate = 1 - keep_prob`.\n"
     ]
    }
   ],
   "source": [
    "'''\n",
    "モデル設定\n",
    "'''\n",
    "length_of_sequence = X_train.shape[1]  # 入力層\n",
    "in_out_neurons = 2                     # 出力層 \n",
    "n_hidden = 100                         # 隠れ層 \n",
    "\n",
    "model = Sequential()\n",
    "model.add(LSTM(n_hidden, batch_input_shape=(None, length_of_sequence, 5), return_sequences=False))\n",
    "model.add(Dropout(0.25))\n",
    "model.add(Dense(50))\n",
    "model.add(Activation(\"sigmoid\"))\n",
    "model.add(Dense(in_out_neurons))\n",
    "model.add(Activation(\"softmax\"))"
   ]
  },
  {
   "cell_type": "code",
   "execution_count": 14,
   "metadata": {},
   "outputs": [
    {
     "name": "stdout",
     "output_type": "stream",
     "text": [
      "WARNING:tensorflow:From /home/tim0114gap/anaconda3/lib/python3.7/site-packages/keras/optimizers.py:790: The name tf.train.Optimizer is deprecated. Please use tf.compat.v1.train.Optimizer instead.\n",
      "\n",
      "WARNING:tensorflow:From /home/tim0114gap/anaconda3/lib/python3.7/site-packages/keras/backend/tensorflow_backend.py:3341: The name tf.log is deprecated. Please use tf.math.log instead.\n",
      "\n"
     ]
    }
   ],
   "source": [
    "optimizer = Adam(lr = 0.001, beta_1 = 0.9, beta_2 = 0.999)\n",
    "model.compile(loss=\"sparse_categorical_crossentropy\", \n",
    "              optimizer=optimizer, metrics=['acc'])"
   ]
  },
  {
   "cell_type": "code",
   "execution_count": 15,
   "metadata": {},
   "outputs": [
    {
     "name": "stdout",
     "output_type": "stream",
     "text": [
      "_________________________________________________________________\n",
      "Layer (type)                 Output Shape              Param #   \n",
      "=================================================================\n",
      "lstm_1 (LSTM)                (None, 100)               42400     \n",
      "_________________________________________________________________\n",
      "dropout_1 (Dropout)          (None, 100)               0         \n",
      "_________________________________________________________________\n",
      "dense_1 (Dense)              (None, 50)                5050      \n",
      "_________________________________________________________________\n",
      "activation_1 (Activation)    (None, 50)                0         \n",
      "_________________________________________________________________\n",
      "dense_2 (Dense)              (None, 2)                 102       \n",
      "_________________________________________________________________\n",
      "activation_2 (Activation)    (None, 2)                 0         \n",
      "=================================================================\n",
      "Total params: 47,552\n",
      "Trainable params: 47,552\n",
      "Non-trainable params: 0\n",
      "_________________________________________________________________\n"
     ]
    }
   ],
   "source": [
    "#plot_model(model, to_file='model.png')\n",
    "model.summary()"
   ]
  },
  {
   "cell_type": "code",
   "execution_count": 16,
   "metadata": {},
   "outputs": [
    {
     "name": "stdout",
     "output_type": "stream",
     "text": [
      "WARNING:tensorflow:From /home/tim0114gap/anaconda3/lib/python3.7/site-packages/tensorflow/python/ops/math_grad.py:1250: add_dispatch_support.<locals>.wrapper (from tensorflow.python.ops.array_ops) is deprecated and will be removed in a future version.\n",
      "Instructions for updating:\n",
      "Use tf.where in 2.0, which has the same broadcast rule as np.where\n",
      "Train on 364 samples, validate on 91 samples\n",
      "Epoch 1/200\n",
      "364/364 [==============================] - 4s 12ms/step - loss: 0.6312 - acc: 0.5769 - val_loss: 1.1894 - val_acc: 0.0110\n",
      "Epoch 2/200\n",
      "364/364 [==============================] - 3s 8ms/step - loss: 0.5557 - acc: 0.7555 - val_loss: 0.7067 - val_acc: 0.4396\n",
      "Epoch 3/200\n",
      "364/364 [==============================] - 3s 8ms/step - loss: 0.5063 - acc: 0.8104 - val_loss: 0.6224 - val_acc: 0.5824\n",
      "Epoch 4/200\n",
      "364/364 [==============================] - 3s 8ms/step - loss: 0.4177 - acc: 0.8407 - val_loss: 0.2362 - val_acc: 0.9780\n",
      "Epoch 5/200\n",
      "364/364 [==============================] - 3s 8ms/step - loss: 0.3540 - acc: 0.8599 - val_loss: 0.5172 - val_acc: 0.6923\n",
      "Epoch 6/200\n",
      "364/364 [==============================] - 3s 8ms/step - loss: 0.3452 - acc: 0.8681 - val_loss: 0.5414 - val_acc: 0.6813\n",
      "Epoch 7/200\n",
      "364/364 [==============================] - 3s 9ms/step - loss: 0.3133 - acc: 0.8901 - val_loss: 0.3211 - val_acc: 0.8681\n",
      "Epoch 8/200\n",
      "364/364 [==============================] - 3s 8ms/step - loss: 0.2896 - acc: 0.8901 - val_loss: 0.8534 - val_acc: 0.6264\n",
      "Epoch 9/200\n",
      "364/364 [==============================] - 3s 8ms/step - loss: 0.3048 - acc: 0.8819 - val_loss: 0.7911 - val_acc: 0.5824\n",
      "Epoch 10/200\n",
      "364/364 [==============================] - 3s 8ms/step - loss: 0.2856 - acc: 0.8901 - val_loss: 1.2169 - val_acc: 0.4505\n",
      "Epoch 11/200\n",
      "364/364 [==============================] - 3s 8ms/step - loss: 0.2861 - acc: 0.8846 - val_loss: 0.3296 - val_acc: 0.8462\n",
      "Epoch 12/200\n",
      "364/364 [==============================] - 3s 8ms/step - loss: 0.2796 - acc: 0.8736 - val_loss: 0.4557 - val_acc: 0.8132\n",
      "Epoch 13/200\n",
      "364/364 [==============================] - 3s 8ms/step - loss: 0.2713 - acc: 0.8874 - val_loss: 0.5737 - val_acc: 0.7473\n",
      "Epoch 14/200\n",
      "364/364 [==============================] - 3s 8ms/step - loss: 0.2699 - acc: 0.8929 - val_loss: 0.5228 - val_acc: 0.7692\n",
      "Epoch 15/200\n",
      "364/364 [==============================] - 3s 8ms/step - loss: 0.2840 - acc: 0.8791 - val_loss: 0.6726 - val_acc: 0.7473\n",
      "Epoch 16/200\n",
      "364/364 [==============================] - 3s 8ms/step - loss: 0.2897 - acc: 0.8819 - val_loss: 0.3311 - val_acc: 0.8352\n",
      "Epoch 17/200\n",
      "364/364 [==============================] - 3s 9ms/step - loss: 0.2740 - acc: 0.8901 - val_loss: 0.2210 - val_acc: 0.9011\n",
      "Epoch 18/200\n",
      "364/364 [==============================] - 4s 10ms/step - loss: 0.2625 - acc: 0.8929 - val_loss: 0.4693 - val_acc: 0.8022\n",
      "Epoch 19/200\n",
      "364/364 [==============================] - 3s 8ms/step - loss: 0.2584 - acc: 0.9038 - val_loss: 0.6601 - val_acc: 0.6374\n",
      "Epoch 20/200\n",
      "364/364 [==============================] - 3s 8ms/step - loss: 0.2541 - acc: 0.8984 - val_loss: 0.4779 - val_acc: 0.8022\n",
      "Epoch 21/200\n",
      "364/364 [==============================] - 3s 8ms/step - loss: 0.2350 - acc: 0.9066 - val_loss: 0.6407 - val_acc: 0.7363\n",
      "Epoch 22/200\n",
      "364/364 [==============================] - 3s 8ms/step - loss: 0.3080 - acc: 0.8709 - val_loss: 0.4190 - val_acc: 0.7912\n",
      "Epoch 23/200\n",
      "364/364 [==============================] - 3s 8ms/step - loss: 0.2663 - acc: 0.8984 - val_loss: 0.5057 - val_acc: 0.7582\n",
      "Epoch 24/200\n",
      "364/364 [==============================] - 3s 8ms/step - loss: 0.2983 - acc: 0.8736 - val_loss: 0.2795 - val_acc: 0.8571\n",
      "Epoch 25/200\n",
      "364/364 [==============================] - 3s 8ms/step - loss: 0.2839 - acc: 0.8819 - val_loss: 0.5830 - val_acc: 0.7363\n",
      "Epoch 26/200\n",
      "364/364 [==============================] - 3s 8ms/step - loss: 0.2512 - acc: 0.8984 - val_loss: 0.4909 - val_acc: 0.7582\n",
      "Epoch 27/200\n",
      "364/364 [==============================] - 3s 8ms/step - loss: 0.2387 - acc: 0.9121 - val_loss: 0.6241 - val_acc: 0.7363\n",
      "Epoch 28/200\n",
      "364/364 [==============================] - 3s 8ms/step - loss: 0.2522 - acc: 0.8956 - val_loss: 0.7268 - val_acc: 0.5824\n",
      "Epoch 29/200\n",
      "364/364 [==============================] - 3s 8ms/step - loss: 0.2973 - acc: 0.8736 - val_loss: 0.3427 - val_acc: 0.8352\n",
      "Epoch 30/200\n",
      "364/364 [==============================] - 3s 8ms/step - loss: 0.3189 - acc: 0.8791 - val_loss: 0.6599 - val_acc: 0.6264\n",
      "Epoch 31/200\n",
      "364/364 [==============================] - 3s 8ms/step - loss: 0.2762 - acc: 0.8791 - val_loss: 0.3997 - val_acc: 0.8132\n",
      "Epoch 32/200\n",
      "364/364 [==============================] - 3s 8ms/step - loss: 0.2584 - acc: 0.9011 - val_loss: 0.3544 - val_acc: 0.8242\n",
      "Epoch 33/200\n",
      "364/364 [==============================] - 3s 8ms/step - loss: 0.2528 - acc: 0.9038 - val_loss: 0.1591 - val_acc: 0.9341\n",
      "Epoch 34/200\n",
      "364/364 [==============================] - 3s 8ms/step - loss: 0.2414 - acc: 0.8984 - val_loss: 0.5164 - val_acc: 0.7692\n",
      "Epoch 35/200\n",
      "364/364 [==============================] - 3s 8ms/step - loss: 0.2811 - acc: 0.8984 - val_loss: 0.3794 - val_acc: 0.8022\n",
      "Epoch 36/200\n",
      "364/364 [==============================] - 3s 8ms/step - loss: 0.2677 - acc: 0.9121 - val_loss: 0.4062 - val_acc: 0.8132\n",
      "Epoch 37/200\n",
      "364/364 [==============================] - 4s 11ms/step - loss: 0.2668 - acc: 0.9038 - val_loss: 0.5458 - val_acc: 0.7363\n",
      "Epoch 38/200\n",
      "364/364 [==============================] - 3s 8ms/step - loss: 0.2351 - acc: 0.9066 - val_loss: 0.8744 - val_acc: 0.6154\n",
      "Epoch 39/200\n",
      "364/364 [==============================] - 3s 8ms/step - loss: 0.2761 - acc: 0.8819 - val_loss: 0.2242 - val_acc: 0.8901\n",
      "Epoch 40/200\n",
      "364/364 [==============================] - 3s 8ms/step - loss: 0.3139 - acc: 0.8901 - val_loss: 0.4055 - val_acc: 0.8022\n",
      "Epoch 41/200\n",
      "364/364 [==============================] - 3s 8ms/step - loss: 0.2987 - acc: 0.8874 - val_loss: 0.4319 - val_acc: 0.8022\n",
      "Epoch 42/200\n",
      "364/364 [==============================] - 3s 8ms/step - loss: 0.2429 - acc: 0.9093 - val_loss: 0.4649 - val_acc: 0.8352\n",
      "Epoch 43/200\n",
      "364/364 [==============================] - 3s 8ms/step - loss: 0.2485 - acc: 0.9038 - val_loss: 0.4748 - val_acc: 0.7912\n",
      "Epoch 44/200\n",
      "364/364 [==============================] - 3s 8ms/step - loss: 0.2904 - acc: 0.8654 - val_loss: 0.2020 - val_acc: 0.9341\n",
      "Epoch 45/200\n",
      "364/364 [==============================] - 3s 8ms/step - loss: 0.3128 - acc: 0.8929 - val_loss: 0.5334 - val_acc: 0.7363\n",
      "Epoch 46/200\n",
      "364/364 [==============================] - 3s 8ms/step - loss: 0.2632 - acc: 0.9038 - val_loss: 0.6329 - val_acc: 0.7363\n",
      "Epoch 47/200\n",
      "364/364 [==============================] - 3s 8ms/step - loss: 0.2612 - acc: 0.9011 - val_loss: 0.6774 - val_acc: 0.7143\n",
      "Epoch 48/200\n",
      "364/364 [==============================] - 3s 8ms/step - loss: 0.2625 - acc: 0.8956 - val_loss: 0.5189 - val_acc: 0.7692\n",
      "Epoch 49/200\n",
      "364/364 [==============================] - 3s 8ms/step - loss: 0.2602 - acc: 0.8929 - val_loss: 0.5322 - val_acc: 0.7692\n",
      "Epoch 50/200\n",
      "364/364 [==============================] - 3s 8ms/step - loss: 0.2511 - acc: 0.8956 - val_loss: 0.5271 - val_acc: 0.7582\n",
      "Epoch 51/200\n",
      "364/364 [==============================] - 3s 8ms/step - loss: 0.2627 - acc: 0.8846 - val_loss: 0.3572 - val_acc: 0.8352\n",
      "Epoch 52/200\n",
      "364/364 [==============================] - 3s 8ms/step - loss: 0.2464 - acc: 0.8901 - val_loss: 0.5917 - val_acc: 0.7473\n",
      "Epoch 53/200\n",
      "364/364 [==============================] - 3s 8ms/step - loss: 0.2602 - acc: 0.9011 - val_loss: 0.4781 - val_acc: 0.8022\n"
     ]
    }
   ],
   "source": [
    "# コールバック指定（https://qiita.com/yukiB/items/f45f0f71bc9739830002）\n",
    "early_stopping = EarlyStopping(monitor='val_loss', \n",
    "                               mode='auto', patience=20)\n",
    "history = model.fit(X_train, Y_train,\n",
    "                  batch_size = 16, # 論文で使われるのが1, 32, 128, 256, 512\n",
    "                  epochs=200,\n",
    "                  validation_split=0.2,\n",
    "                  callbacks=[early_stopping])"
   ]
  },
  {
   "cell_type": "code",
   "execution_count": 17,
   "metadata": {},
   "outputs": [
    {
     "data": {
      "image/png": "[encoded data removed]",
      "text/plain": [
       "<Figure size 432x288 with 1 Axes>"
      ]
     },
     "metadata": {
      "needs_background": "light"
     },
     "output_type": "display_data"
    }
   ],
   "source": [
    "epochs = range(1, len(history.history['acc']) + 1)\n",
    "plt.plot(epochs, history.history['loss'])\n",
    "plt.plot(epochs, history.history['val_loss'])\n",
    "plt.title('model loss')\n",
    "plt.ylabel('loss')\n",
    "plt.xlabel('epoch')\n",
    "plt.legend(['train', 'val'], loc='upper left')\n",
    "plt.show()"
   ]
  },
  {
   "cell_type": "code",
   "execution_count": 18,
   "metadata": {},
   "outputs": [
    {
     "data": {
      "text/plain": [
       "<matplotlib.legend.Legend at 0x7fc89c4a1518>"
      ]
     },
     "execution_count": 18,
     "metadata": {},
     "output_type": "execute_result"
    },
    {
     "data": {
      "image/png": "[encoded data removed]",
      "text/plain": [
       "<Figure size 432x288 with 1 Axes>"
      ]
     },
     "metadata": {
      "needs_background": "light"
     },
     "output_type": "display_data"
    }
   ],
   "source": [
    "#acc, val_accのプロット\n",
    "plt.plot(history.history[\"acc\"], label=\"acc\", ls=\"-\", marker=\"o\")\n",
    "plt.plot(history.history[\"val_acc\"], label=\"val_acc\", ls=\"-\", marker=\"x\")\n",
    "plt.ylabel(\"accuracy\")\n",
    "plt.xlabel(\"epoch\")\n",
    "plt.legend(loc=\"best\")\n",
    "#Final.pngという名前で、結果を保存\n",
    "# plt.savefig('Final.png')\n",
    "# plt.show()"
   ]
  },
  {
   "cell_type": "code",
   "execution_count": 19,
   "metadata": {},
   "outputs": [
    {
     "name": "stdout",
     "output_type": "stream",
     "text": [
      "39/39 [==============================] - 0s 2ms/step\n",
      "Test accuracy: 0.7949\n"
     ]
    }
   ],
   "source": [
    "print(\"Test accuracy: %.4f\" % (model.evaluate(X_test, Y_test)[1]))"
   ]
  },
  {
   "cell_type": "code",
   "execution_count": 20,
   "metadata": {
    "scrolled": true
   },
   "outputs": [],
   "source": [
    "predict_classes = model.predict_classes(X_test)"
   ]
  },
  {
   "cell_type": "code",
   "execution_count": 21,
   "metadata": {},
   "outputs": [],
   "source": [
    "#Y_test = np.array([np.argmax(x) for x in Y_test])"
   ]
  },
  {
   "cell_type": "code",
   "execution_count": 22,
   "metadata": {},
   "outputs": [
    {
     "data": {
      "text/html": [
       "<div>\n",
       "<style scoped>\n",
       "    .dataframe tbody tr th:only-of-type {\n",
       "        vertical-align: middle;\n",
       "    }\n",
       "\n",
       "    .dataframe tbody tr th {\n",
       "        vertical-align: top;\n",
       "    }\n",
       "\n",
       "    .dataframe thead th {\n",
       "        text-align: right;\n",
       "    }\n",
       "</style>\n",
       "<table border=\"1\" class=\"dataframe\">\n",
       "  <thead>\n",
       "    <tr style=\"text-align: right;\">\n",
       "      <th>Predicted</th>\n",
       "      <th>0</th>\n",
       "      <th>1</th>\n",
       "      <th>All</th>\n",
       "    </tr>\n",
       "    <tr>\n",
       "      <th>True</th>\n",
       "      <th></th>\n",
       "      <th></th>\n",
       "      <th></th>\n",
       "    </tr>\n",
       "  </thead>\n",
       "  <tbody>\n",
       "    <tr>\n",
       "      <td>0</td>\n",
       "      <td>37</td>\n",
       "      <td>2</td>\n",
       "      <td>39</td>\n",
       "    </tr>\n",
       "    <tr>\n",
       "      <td>All</td>\n",
       "      <td>37</td>\n",
       "      <td>2</td>\n",
       "      <td>39</td>\n",
       "    </tr>\n",
       "  </tbody>\n",
       "</table>\n",
       "</div>"
      ],
      "text/plain": [
       "Predicted   0  1  All\n",
       "True                 \n",
       "0          37  2   39\n",
       "All        37  2   39"
      ]
     },
     "execution_count": 22,
     "metadata": {},
     "output_type": "execute_result"
    }
   ],
   "source": [
    "pd.crosstab(Y_test, predict_classes, rownames=['True'], colnames=['Predicted'], margins=True)"
   ]
  }
 ],
 "metadata": {
  "kernelspec": {
   "display_name": "Python 3",
   "language": "python",
   "name": "python3"
  },
  "language_info": {
   "codemirror_mode": {
    "name": "ipython",
    "version": 3
   },
   "file_extension": ".py",
   "mimetype": "text/x-python",
   "name": "python",
   "nbconvert_exporter": "python",
   "pygments_lexer": "ipython3",
   "version": "3.7.3"
  }
 },
 "nbformat": 4,
 "nbformat_minor": 2
}
