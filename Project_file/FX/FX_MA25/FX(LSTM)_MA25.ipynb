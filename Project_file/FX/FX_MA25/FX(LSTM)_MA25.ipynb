{
 "cells": [
  {
   "cell_type": "code",
   "execution_count": 1,
   "metadata": {},
   "outputs": [
    {
     "name": "stderr",
     "output_type": "stream",
     "text": [
      "Using TensorFlow backend.\n"
     ]
    }
   ],
   "source": [
    "import numpy as np\n",
    "import pandas as pd\n",
    "from pandas import DataFrame\n",
    "import matplotlib.pyplot as plt\n",
    "import seaborn as sns\n",
    "\n",
    "from sklearn.model_selection import train_test_split\n",
    "from sklearn.preprocessing import MinMaxScaler\n",
    "\n",
    "import keras\n",
    "from keras.layers.recurrent import LSTM\n",
    "from keras.models import Sequential\n",
    "from keras.layers import Dense, Activation\n",
    "from keras.layers.core import Dropout\n",
    "from keras.optimizers import Adam\n",
    "from keras.callbacks import EarlyStopping\n",
    "\n",
    "from keras.utils import plot_model, to_categorical"
   ]
  },
  {
   "cell_type": "code",
   "execution_count": 2,
   "metadata": {
    "scrolled": false
   },
   "outputs": [
    {
     "data": {
      "text/html": [
       "<div>\n",
       "<style scoped>\n",
       "    .dataframe tbody tr th:only-of-type {\n",
       "        vertical-align: middle;\n",
       "    }\n",
       "\n",
       "    .dataframe tbody tr th {\n",
       "        vertical-align: top;\n",
       "    }\n",
       "\n",
       "    .dataframe thead th {\n",
       "        text-align: right;\n",
       "    }\n",
       "</style>\n",
       "<table border=\"1\" class=\"dataframe\">\n",
       "  <thead>\n",
       "    <tr style=\"text-align: right;\">\n",
       "      <th></th>\n",
       "      <th>time</th>\n",
       "      <th>open</th>\n",
       "      <th>high</th>\n",
       "      <th>low</th>\n",
       "      <th>close</th>\n",
       "      <th>25mean</th>\n",
       "      <th>target</th>\n",
       "    </tr>\n",
       "  </thead>\n",
       "  <tbody>\n",
       "    <tr>\n",
       "      <td>0</td>\n",
       "      <td>2016-12-05 07:00:00</td>\n",
       "      <td>113.320</td>\n",
       "      <td>114.777</td>\n",
       "      <td>112.876</td>\n",
       "      <td>113.852</td>\n",
       "      <td>109.25760</td>\n",
       "      <td>1</td>\n",
       "    </tr>\n",
       "    <tr>\n",
       "      <td>1</td>\n",
       "      <td>2016-12-06 07:00:00</td>\n",
       "      <td>113.841</td>\n",
       "      <td>114.188</td>\n",
       "      <td>113.504</td>\n",
       "      <td>114.018</td>\n",
       "      <td>109.65224</td>\n",
       "      <td>1</td>\n",
       "    </tr>\n",
       "    <tr>\n",
       "      <td>2</td>\n",
       "      <td>2016-12-07 07:00:00</td>\n",
       "      <td>114.029</td>\n",
       "      <td>114.404</td>\n",
       "      <td>113.416</td>\n",
       "      <td>113.760</td>\n",
       "      <td>110.07040</td>\n",
       "      <td>1</td>\n",
       "    </tr>\n",
       "    <tr>\n",
       "      <td>3</td>\n",
       "      <td>2016-12-08 07:00:00</td>\n",
       "      <td>113.805</td>\n",
       "      <td>114.378</td>\n",
       "      <td>113.120</td>\n",
       "      <td>114.030</td>\n",
       "      <td>110.51248</td>\n",
       "      <td>1</td>\n",
       "    </tr>\n",
       "    <tr>\n",
       "      <td>4</td>\n",
       "      <td>2016-12-09 07:00:00</td>\n",
       "      <td>114.030</td>\n",
       "      <td>115.368</td>\n",
       "      <td>114.012</td>\n",
       "      <td>115.320</td>\n",
       "      <td>111.00024</td>\n",
       "      <td>1</td>\n",
       "    </tr>\n",
       "  </tbody>\n",
       "</table>\n",
       "</div>"
      ],
      "text/plain": [
       "                  time     open     high      low    close     25mean  target\n",
       "0  2016-12-05 07:00:00  113.320  114.777  112.876  113.852  109.25760       1\n",
       "1  2016-12-06 07:00:00  113.841  114.188  113.504  114.018  109.65224       1\n",
       "2  2016-12-07 07:00:00  114.029  114.404  113.416  113.760  110.07040       1\n",
       "3  2016-12-08 07:00:00  113.805  114.378  113.120  114.030  110.51248       1\n",
       "4  2016-12-09 07:00:00  114.030  115.368  114.012  115.320  111.00024       1"
      ]
     },
     "execution_count": 2,
     "metadata": {},
     "output_type": "execute_result"
    }
   ],
   "source": [
    "df = pd.read_csv(\"FX_MA_25days.csv\")\n",
    "df.head()"
   ]
  },
  {
   "cell_type": "code",
   "execution_count": 3,
   "metadata": {},
   "outputs": [
    {
     "name": "stdout",
     "output_type": "stream",
     "text": [
      "<class 'pandas.core.frame.DataFrame'>\n",
      "RangeIndex: 769 entries, 0 to 768\n",
      "Data columns (total 7 columns):\n",
      "time      769 non-null object\n",
      "open      769 non-null float64\n",
      "high      769 non-null float64\n",
      "low       769 non-null float64\n",
      "close     769 non-null float64\n",
      "25mean    769 non-null float64\n",
      "target    769 non-null int64\n",
      "dtypes: float64(5), int64(1), object(1)\n",
      "memory usage: 42.2+ KB\n"
     ]
    }
   ],
   "source": [
    "df.info()"
   ]
  },
  {
   "cell_type": "code",
   "execution_count": 4,
   "metadata": {},
   "outputs": [],
   "source": [
    "split_data = '2019-05-06 06:00:00'\n",
    "train, test = df[df['time'] < split_data], df[df['time'] >= split_data]"
   ]
  },
  {
   "cell_type": "code",
   "execution_count": 5,
   "metadata": {},
   "outputs": [],
   "source": [
    "train = train.set_index('time')\n",
    "test = test.set_index('time')"
   ]
  },
  {
   "cell_type": "code",
   "execution_count": 6,
   "metadata": {},
   "outputs": [],
   "source": [
    "X_train = train.iloc[:,:5]\n",
    "Y_train = train['target']\n",
    "\n",
    "X_test = test.iloc[:,:5]\n",
    "Y_test = test['target']"
   ]
  },
  {
   "cell_type": "code",
   "execution_count": 7,
   "metadata": {},
   "outputs": [
    {
     "name": "stdout",
     "output_type": "stream",
     "text": [
      "[[113.32    114.777   112.876   113.852   109.2576 ]\n",
      " [113.841   114.188   113.504   114.018   109.65224]\n",
      " [114.029   114.404   113.416   113.76    110.0704 ]\n",
      " ...\n",
      " [111.425   111.613   111.05    111.385   111.63984]\n",
      " [111.382   111.666   111.354   111.51    111.66624]\n",
      " [111.518   111.695   111.07    111.096   111.65608]]\n",
      "Data len:  630\n",
      "[[113.32    114.777   112.876   113.852   109.2576 ]\n",
      " [113.841   114.188   113.504   114.018   109.65224]\n",
      " [114.029   114.404   113.416   113.76    110.0704 ]\n",
      " ...\n",
      " [111.425   111.613   111.05    111.385   111.63984]\n",
      " [111.382   111.666   111.354   111.51    111.66624]\n",
      " [111.518   111.695   111.07    111.096   111.65608]]\n",
      "Data len:  139\n"
     ]
    },
    {
     "name": "stderr",
     "output_type": "stream",
     "text": [
      "/home/tim0114gap/anaconda3/lib/python3.7/site-packages/ipykernel_launcher.py:1: FutureWarning: Method .as_matrix will be removed in a future version. Use .values instead.\n",
      "  \"\"\"Entry point for launching an IPython kernel.\n",
      "/home/tim0114gap/anaconda3/lib/python3.7/site-packages/ipykernel_launcher.py:5: FutureWarning: Method .as_matrix will be removed in a future version. Use .values instead.\n",
      "  \"\"\"\n"
     ]
    }
   ],
   "source": [
    "X_train = X_train.as_matrix()\n",
    "print(X_train)\n",
    "print(\"Data len: \",len(X_train))\n",
    "\n",
    "X_test = X_test.as_matrix()\n",
    "print(X_train)\n",
    "print(\"Data len: \",len(X_test))\n",
    "\n",
    "# 正規化\n",
    "ms = MinMaxScaler()\n",
    "X_train = ms.fit_transform(X_train)\n",
    "\n",
    "ms = MinMaxScaler()\n",
    "X_test = ms.fit_transform(X_test)"
   ]
  },
  {
   "cell_type": "code",
   "execution_count": 8,
   "metadata": {},
   "outputs": [
    {
     "name": "stdout",
     "output_type": "stream",
     "text": [
      "Y_train Target len:  630\n",
      "Y_train Target len:  139\n"
     ]
    }
   ],
   "source": [
    "c = np.array(Y_train)\n",
    "print(\"Y_train Target len: \",len(Y_train))\n",
    "\n",
    "Y_test = np.array(Y_test)\n",
    "print(\"Y_train Target len: \",len(Y_test))"
   ]
  },
  {
   "cell_type": "code",
   "execution_count": 9,
   "metadata": {},
   "outputs": [],
   "source": [
    "maxlen = 25\n",
    "dataTrain = []\n",
    "targetTrain = []\n",
    "for i in range(0, len(X_train) - maxlen):\n",
    "    dataTrain.append(X_train[i: i + maxlen])\n",
    "    targetTrain.append(Y_train[i + maxlen])\n",
    "\n",
    "dataTest = []\n",
    "targetTest = []\n",
    "for i in range(0, len(X_test) - maxlen):\n",
    "    dataTest.append(X_test[i: i + maxlen])\n",
    "    targetTest.append(Y_test[i + maxlen])"
   ]
  },
  {
   "cell_type": "code",
   "execution_count": 10,
   "metadata": {},
   "outputs": [
    {
     "name": "stdout",
     "output_type": "stream",
     "text": [
      "(605, 25, 5)\n",
      "(605,)\n",
      "(114, 25, 5)\n",
      "(114,)\n"
     ]
    }
   ],
   "source": [
    "X_train = np.array(dataTrain)\n",
    "Y_train = np.array(targetTrain)\n",
    "\n",
    "X_test = np.array(dataTest)\n",
    "Y_test = np.array(targetTest)\n",
    "print(X_train.shape)\n",
    "print(Y_train.shape)\n",
    "print(X_test.shape)\n",
    "print(Y_test.shape)"
   ]
  },
  {
   "cell_type": "code",
   "execution_count": 11,
   "metadata": {},
   "outputs": [],
   "source": [
    "# Y_train = Y_train.reshape(len(Y_train), 1)\n",
    "# Y_test = Y_test.reshape(len(Y_test), 1)\n",
    "\n",
    "Y_train = to_categorical(Y_train)\n",
    "Y_test = to_categorical(Y_test)"
   ]
  },
  {
   "cell_type": "code",
   "execution_count": 12,
   "metadata": {},
   "outputs": [
    {
     "name": "stdout",
     "output_type": "stream",
     "text": [
      "(605, 25, 5)\n",
      "(605, 2)\n",
      "(114, 25, 5)\n",
      "(114, 2)\n"
     ]
    }
   ],
   "source": [
    "print(X_train.shape)\n",
    "print(Y_train.shape)\n",
    "print(X_test.shape)\n",
    "print(Y_test.shape)"
   ]
  },
  {
   "cell_type": "code",
   "execution_count": 13,
   "metadata": {},
   "outputs": [
    {
     "name": "stdout",
     "output_type": "stream",
     "text": [
      "WARNING:tensorflow:From /home/tim0114gap/anaconda3/lib/python3.7/site-packages/keras/backend/tensorflow_backend.py:74: The name tf.get_default_graph is deprecated. Please use tf.compat.v1.get_default_graph instead.\n",
      "\n",
      "WARNING:tensorflow:From /home/tim0114gap/anaconda3/lib/python3.7/site-packages/keras/backend/tensorflow_backend.py:517: The name tf.placeholder is deprecated. Please use tf.compat.v1.placeholder instead.\n",
      "\n",
      "WARNING:tensorflow:From /home/tim0114gap/anaconda3/lib/python3.7/site-packages/keras/backend/tensorflow_backend.py:4138: The name tf.random_uniform is deprecated. Please use tf.random.uniform instead.\n",
      "\n",
      "WARNING:tensorflow:From /home/tim0114gap/anaconda3/lib/python3.7/site-packages/keras/backend/tensorflow_backend.py:133: The name tf.placeholder_with_default is deprecated. Please use tf.compat.v1.placeholder_with_default instead.\n",
      "\n",
      "WARNING:tensorflow:From /home/tim0114gap/anaconda3/lib/python3.7/site-packages/keras/backend/tensorflow_backend.py:3445: calling dropout (from tensorflow.python.ops.nn_ops) with keep_prob is deprecated and will be removed in a future version.\n",
      "Instructions for updating:\n",
      "Please use `rate` instead of `keep_prob`. Rate should be set to `rate = 1 - keep_prob`.\n"
     ]
    }
   ],
   "source": [
    "'''\n",
    "モデル設定\n",
    "'''\n",
    "length_of_sequence = X_train.shape[1]  # 入力層\n",
    "in_out_neurons = 2                     # 出力層 \n",
    "n_hidden = 100                         # 隠れ層 \n",
    "\n",
    "model = Sequential()\n",
    "model.add(LSTM(n_hidden, batch_input_shape=(None, length_of_sequence, 5), return_sequences=False))\n",
    "model.add(Dropout(0.25))\n",
    "model.add(Dense(50))\n",
    "model.add(Activation(\"sigmoid\"))\n",
    "model.add(Dense(in_out_neurons))\n",
    "model.add(Activation(\"softmax\"))"
   ]
  },
  {
   "cell_type": "code",
   "execution_count": 14,
   "metadata": {},
   "outputs": [
    {
     "name": "stdout",
     "output_type": "stream",
     "text": [
      "WARNING:tensorflow:From /home/tim0114gap/anaconda3/lib/python3.7/site-packages/keras/optimizers.py:790: The name tf.train.Optimizer is deprecated. Please use tf.compat.v1.train.Optimizer instead.\n",
      "\n",
      "WARNING:tensorflow:From /home/tim0114gap/anaconda3/lib/python3.7/site-packages/keras/backend/tensorflow_backend.py:3295: The name tf.log is deprecated. Please use tf.math.log instead.\n",
      "\n"
     ]
    }
   ],
   "source": [
    "optimizer = Adam(lr = 0.001, beta_1 = 0.9, beta_2 = 0.999)\n",
    "model.compile(loss=\"categorical_crossentropy\", \n",
    "              optimizer=optimizer, metrics=['acc'])"
   ]
  },
  {
   "cell_type": "code",
   "execution_count": 15,
   "metadata": {},
   "outputs": [
    {
     "name": "stdout",
     "output_type": "stream",
     "text": [
      "_________________________________________________________________\n",
      "Layer (type)                 Output Shape              Param #   \n",
      "=================================================================\n",
      "lstm_1 (LSTM)                (None, 100)               42400     \n",
      "_________________________________________________________________\n",
      "dropout_1 (Dropout)          (None, 100)               0         \n",
      "_________________________________________________________________\n",
      "dense_1 (Dense)              (None, 50)                5050      \n",
      "_________________________________________________________________\n",
      "activation_1 (Activation)    (None, 50)                0         \n",
      "_________________________________________________________________\n",
      "dense_2 (Dense)              (None, 2)                 102       \n",
      "_________________________________________________________________\n",
      "activation_2 (Activation)    (None, 2)                 0         \n",
      "=================================================================\n",
      "Total params: 47,552\n",
      "Trainable params: 47,552\n",
      "Non-trainable params: 0\n",
      "_________________________________________________________________\n"
     ]
    }
   ],
   "source": [
    "#plot_model(model, to_file='model.png')\n",
    "model.summary()"
   ]
  },
  {
   "cell_type": "code",
   "execution_count": 16,
   "metadata": {},
   "outputs": [
    {
     "name": "stdout",
     "output_type": "stream",
     "text": [
      "WARNING:tensorflow:From /home/tim0114gap/anaconda3/lib/python3.7/site-packages/tensorflow/python/ops/math_grad.py:1250: add_dispatch_support.<locals>.wrapper (from tensorflow.python.ops.array_ops) is deprecated and will be removed in a future version.\n",
      "Instructions for updating:\n",
      "Use tf.where in 2.0, which has the same broadcast rule as np.where\n",
      "Train on 484 samples, validate on 121 samples\n",
      "Epoch 1/200\n",
      "484/484 [==============================] - 2s 5ms/step - loss: 0.6957 - acc: 0.5103 - val_loss: 0.6660 - val_acc: 0.7521\n",
      "Epoch 2/200\n",
      "484/484 [==============================] - 1s 2ms/step - loss: 0.6552 - acc: 0.6054 - val_loss: 0.6536 - val_acc: 0.5289\n",
      "Epoch 3/200\n",
      "484/484 [==============================] - 1s 2ms/step - loss: 0.6621 - acc: 0.5930 - val_loss: 0.6145 - val_acc: 0.7769\n",
      "Epoch 4/200\n",
      "484/484 [==============================] - 1s 2ms/step - loss: 0.5447 - acc: 0.7645 - val_loss: 0.7121 - val_acc: 0.6777\n",
      "Epoch 5/200\n",
      "484/484 [==============================] - 1s 2ms/step - loss: 0.5039 - acc: 0.7831 - val_loss: 0.4591 - val_acc: 0.8678\n",
      "Epoch 6/200\n",
      "484/484 [==============================] - 1s 2ms/step - loss: 0.4196 - acc: 0.8347 - val_loss: 0.3268 - val_acc: 0.8843\n",
      "Epoch 7/200\n",
      "484/484 [==============================] - 1s 2ms/step - loss: 0.4126 - acc: 0.7810 - val_loss: 0.3858 - val_acc: 0.8430\n",
      "Epoch 8/200\n",
      "484/484 [==============================] - 1s 2ms/step - loss: 0.3702 - acc: 0.8306 - val_loss: 0.2950 - val_acc: 0.9174\n",
      "Epoch 9/200\n",
      "484/484 [==============================] - 1s 2ms/step - loss: 0.3670 - acc: 0.8347 - val_loss: 0.4018 - val_acc: 0.7521\n",
      "Epoch 10/200\n",
      "484/484 [==============================] - 1s 2ms/step - loss: 0.3628 - acc: 0.8306 - val_loss: 0.2995 - val_acc: 0.8760\n",
      "Epoch 11/200\n",
      "484/484 [==============================] - 1s 2ms/step - loss: 0.3525 - acc: 0.8471 - val_loss: 0.4604 - val_acc: 0.7273\n",
      "Epoch 12/200\n",
      "484/484 [==============================] - 1s 2ms/step - loss: 0.3884 - acc: 0.8244 - val_loss: 0.3055 - val_acc: 0.9008\n",
      "Epoch 13/200\n",
      "484/484 [==============================] - 1s 2ms/step - loss: 0.3293 - acc: 0.8698 - val_loss: 0.2582 - val_acc: 0.9174\n",
      "Epoch 14/200\n",
      "484/484 [==============================] - 1s 2ms/step - loss: 0.3202 - acc: 0.8595 - val_loss: 0.2934 - val_acc: 0.8843\n",
      "Epoch 15/200\n",
      "484/484 [==============================] - 1s 2ms/step - loss: 0.3300 - acc: 0.8450 - val_loss: 0.3167 - val_acc: 0.8678\n",
      "Epoch 16/200\n",
      "484/484 [==============================] - 1s 2ms/step - loss: 0.3005 - acc: 0.8616 - val_loss: 0.2470 - val_acc: 0.9174\n",
      "Epoch 17/200\n",
      "484/484 [==============================] - 1s 2ms/step - loss: 0.3009 - acc: 0.8554 - val_loss: 0.2784 - val_acc: 0.8760\n",
      "Epoch 18/200\n",
      "484/484 [==============================] - 1s 2ms/step - loss: 0.3145 - acc: 0.8595 - val_loss: 0.2945 - val_acc: 0.8843\n",
      "Epoch 19/200\n",
      "484/484 [==============================] - 1s 2ms/step - loss: 0.3269 - acc: 0.8533 - val_loss: 0.2821 - val_acc: 0.8926\n",
      "Epoch 20/200\n",
      "484/484 [==============================] - 1s 2ms/step - loss: 0.3122 - acc: 0.8616 - val_loss: 0.2534 - val_acc: 0.9008\n",
      "Epoch 21/200\n",
      "484/484 [==============================] - 1s 2ms/step - loss: 0.2952 - acc: 0.8781 - val_loss: 0.2470 - val_acc: 0.9174\n",
      "Epoch 22/200\n",
      "484/484 [==============================] - 1s 2ms/step - loss: 0.2876 - acc: 0.8802 - val_loss: 0.4129 - val_acc: 0.7355\n",
      "Epoch 23/200\n",
      "484/484 [==============================] - 1s 2ms/step - loss: 0.3094 - acc: 0.8595 - val_loss: 0.2414 - val_acc: 0.9091\n",
      "Epoch 24/200\n",
      "484/484 [==============================] - 1s 2ms/step - loss: 0.2763 - acc: 0.8884 - val_loss: 0.2369 - val_acc: 0.9256\n",
      "Epoch 25/200\n",
      "484/484 [==============================] - 1s 2ms/step - loss: 0.2845 - acc: 0.8760 - val_loss: 0.2552 - val_acc: 0.9174\n",
      "Epoch 26/200\n",
      "484/484 [==============================] - 1s 2ms/step - loss: 0.2782 - acc: 0.8822 - val_loss: 0.2946 - val_acc: 0.8347\n",
      "Epoch 27/200\n",
      "484/484 [==============================] - 1s 2ms/step - loss: 0.3070 - acc: 0.8492 - val_loss: 0.3586 - val_acc: 0.7769\n",
      "Epoch 28/200\n",
      "484/484 [==============================] - 1s 2ms/step - loss: 0.3019 - acc: 0.8492 - val_loss: 0.2579 - val_acc: 0.9174\n",
      "Epoch 29/200\n",
      "484/484 [==============================] - 1s 2ms/step - loss: 0.2877 - acc: 0.8719 - val_loss: 0.3915 - val_acc: 0.7521\n",
      "Epoch 30/200\n",
      "484/484 [==============================] - 1s 2ms/step - loss: 0.2841 - acc: 0.8822 - val_loss: 0.2673 - val_acc: 0.8926\n",
      "Epoch 31/200\n",
      "484/484 [==============================] - 1s 2ms/step - loss: 0.2763 - acc: 0.8698 - val_loss: 0.4896 - val_acc: 0.7438\n",
      "Epoch 32/200\n",
      "484/484 [==============================] - 1s 2ms/step - loss: 0.3126 - acc: 0.8636 - val_loss: 0.2873 - val_acc: 0.8678\n",
      "Epoch 33/200\n",
      "484/484 [==============================] - 1s 2ms/step - loss: 0.2876 - acc: 0.8760 - val_loss: 0.2407 - val_acc: 0.9174\n",
      "Epoch 34/200\n",
      "484/484 [==============================] - 1s 2ms/step - loss: 0.3095 - acc: 0.8554 - val_loss: 0.3067 - val_acc: 0.8430\n",
      "Epoch 35/200\n",
      "484/484 [==============================] - 1s 2ms/step - loss: 0.2643 - acc: 0.8657 - val_loss: 0.3079 - val_acc: 0.8099\n",
      "Epoch 36/200\n",
      "484/484 [==============================] - 1s 2ms/step - loss: 0.3085 - acc: 0.8616 - val_loss: 0.2536 - val_acc: 0.9174\n",
      "Epoch 37/200\n",
      "484/484 [==============================] - 1s 2ms/step - loss: 0.2636 - acc: 0.8822 - val_loss: 0.2519 - val_acc: 0.9008\n",
      "Epoch 38/200\n",
      "484/484 [==============================] - 1s 2ms/step - loss: 0.2865 - acc: 0.8760 - val_loss: 0.2916 - val_acc: 0.8512\n",
      "Epoch 39/200\n",
      "484/484 [==============================] - 1s 2ms/step - loss: 0.3029 - acc: 0.8636 - val_loss: 0.2804 - val_acc: 0.8926\n",
      "Epoch 40/200\n",
      "484/484 [==============================] - 1s 2ms/step - loss: 0.2558 - acc: 0.8967 - val_loss: 0.2449 - val_acc: 0.9174\n",
      "Epoch 41/200\n",
      "484/484 [==============================] - 1s 2ms/step - loss: 0.2585 - acc: 0.8822 - val_loss: 0.2270 - val_acc: 0.9256\n",
      "Epoch 42/200\n",
      "484/484 [==============================] - 1s 2ms/step - loss: 0.2473 - acc: 0.9091 - val_loss: 0.2524 - val_acc: 0.9091\n",
      "Epoch 43/200\n",
      "484/484 [==============================] - 1s 2ms/step - loss: 0.2540 - acc: 0.8760 - val_loss: 0.2295 - val_acc: 0.9256\n",
      "Epoch 44/200\n",
      "484/484 [==============================] - 1s 2ms/step - loss: 0.2653 - acc: 0.8719 - val_loss: 0.2427 - val_acc: 0.9174\n",
      "Epoch 45/200\n",
      "484/484 [==============================] - 1s 2ms/step - loss: 0.2460 - acc: 0.8884 - val_loss: 0.2502 - val_acc: 0.9091\n",
      "Epoch 46/200\n",
      "484/484 [==============================] - 1s 2ms/step - loss: 0.2552 - acc: 0.8740 - val_loss: 0.2814 - val_acc: 0.8843\n",
      "Epoch 47/200\n",
      "484/484 [==============================] - 1s 2ms/step - loss: 0.2492 - acc: 0.8946 - val_loss: 0.2720 - val_acc: 0.9421\n",
      "Epoch 48/200\n",
      "484/484 [==============================] - 1s 2ms/step - loss: 0.2627 - acc: 0.8740 - val_loss: 0.2411 - val_acc: 0.8926\n",
      "Epoch 49/200\n",
      "484/484 [==============================] - 1s 2ms/step - loss: 0.2365 - acc: 0.8905 - val_loss: 0.2279 - val_acc: 0.9256\n",
      "Epoch 50/200\n",
      "484/484 [==============================] - 1s 2ms/step - loss: 0.2550 - acc: 0.8822 - val_loss: 0.3494 - val_acc: 0.8182\n",
      "Epoch 51/200\n",
      "484/484 [==============================] - 1s 2ms/step - loss: 0.2136 - acc: 0.9132 - val_loss: 0.3557 - val_acc: 0.8430\n",
      "Epoch 52/200\n",
      "484/484 [==============================] - 1s 2ms/step - loss: 0.2279 - acc: 0.9091 - val_loss: 0.2625 - val_acc: 0.9091\n",
      "Epoch 53/200\n",
      "484/484 [==============================] - 1s 2ms/step - loss: 0.2322 - acc: 0.9029 - val_loss: 0.2947 - val_acc: 0.8430\n",
      "Epoch 54/200\n",
      "484/484 [==============================] - 1s 2ms/step - loss: 0.2162 - acc: 0.9112 - val_loss: 0.2606 - val_acc: 0.8843\n",
      "Epoch 55/200\n",
      "484/484 [==============================] - 1s 2ms/step - loss: 0.2155 - acc: 0.8946 - val_loss: 0.2738 - val_acc: 0.8926\n",
      "Epoch 56/200\n",
      "484/484 [==============================] - 1s 2ms/step - loss: 0.2572 - acc: 0.8616 - val_loss: 0.3041 - val_acc: 0.8347\n",
      "Epoch 57/200\n",
      "484/484 [==============================] - 1s 2ms/step - loss: 0.2193 - acc: 0.9008 - val_loss: 0.3133 - val_acc: 0.8347\n",
      "Epoch 58/200\n",
      "484/484 [==============================] - 1s 2ms/step - loss: 0.2100 - acc: 0.9132 - val_loss: 0.2409 - val_acc: 0.9008\n",
      "Epoch 59/200\n"
     ]
    },
    {
     "name": "stdout",
     "output_type": "stream",
     "text": [
      "484/484 [==============================] - 1s 2ms/step - loss: 0.2408 - acc: 0.8946 - val_loss: 0.3277 - val_acc: 0.8347\n",
      "Epoch 60/200\n",
      "484/484 [==============================] - 1s 2ms/step - loss: 0.2149 - acc: 0.9029 - val_loss: 0.3347 - val_acc: 0.8760\n",
      "Epoch 61/200\n",
      "484/484 [==============================] - 1s 2ms/step - loss: 0.2288 - acc: 0.9008 - val_loss: 0.3658 - val_acc: 0.7934\n"
     ]
    }
   ],
   "source": [
    "# コールバック指定（https://qiita.com/yukiB/items/f45f0f71bc9739830002）\n",
    "early_stopping = EarlyStopping(monitor='val_loss', \n",
    "                               mode='auto', patience=20)\n",
    "history = model.fit(X_train, Y_train,\n",
    "                  batch_size = 16, # 論文で使われるのが1, 32, 128, 256, 512\n",
    "                  epochs=200,\n",
    "                  validation_split=0.2,\n",
    "                  callbacks=[early_stopping])"
   ]
  },
  {
   "cell_type": "code",
   "execution_count": 17,
   "metadata": {},
   "outputs": [
    {
     "data": {
      "image/png": "[encoded data removed]",
      "text/plain": [
       "<Figure size 432x288 with 1 Axes>"
      ]
     },
     "metadata": {
      "needs_background": "light"
     },
     "output_type": "display_data"
    }
   ],
   "source": [
    "epochs = range(1, len(history.history['acc']) + 1)\n",
    "plt.plot(epochs, history.history['loss'])\n",
    "plt.plot(epochs, history.history['val_loss'])\n",
    "plt.title('model loss')\n",
    "plt.ylabel('loss')\n",
    "plt.xlabel('epoch')\n",
    "plt.legend(['train', 'val'], loc='upper left')\n",
    "plt.show()"
   ]
  },
  {
   "cell_type": "code",
   "execution_count": 18,
   "metadata": {},
   "outputs": [
    {
     "data": {
      "text/plain": [
       "<matplotlib.legend.Legend at 0x7f3bc0113588>"
      ]
     },
     "execution_count": 18,
     "metadata": {},
     "output_type": "execute_result"
    },
    {
     "data": {
      "image/png": "[encoded data removed]",
      "text/plain": [
       "<Figure size 432x288 with 1 Axes>"
      ]
     },
     "metadata": {
      "needs_background": "light"
     },
     "output_type": "display_data"
    }
   ],
   "source": [
    "#acc, val_accのプロット\n",
    "plt.plot(history.history[\"acc\"], label=\"acc\", ls=\"-\", marker=\"o\")\n",
    "plt.plot(history.history[\"val_acc\"], label=\"val_acc\", ls=\"-\", marker=\"x\")\n",
    "plt.ylabel(\"accuracy\")\n",
    "plt.xlabel(\"epoch\")\n",
    "plt.legend(loc=\"best\")\n",
    "#Final.pngという名前で、結果を保存\n",
    "# plt.savefig('Final.png')\n",
    "# plt.show()"
   ]
  },
  {
   "cell_type": "code",
   "execution_count": 19,
   "metadata": {},
   "outputs": [
    {
     "name": "stdout",
     "output_type": "stream",
     "text": [
      "114/114 [==============================] - 0s 357us/step\n",
      "Test accuracy: 0.7719\n"
     ]
    }
   ],
   "source": [
    "print(\"Test accuracy: %.4f\" % (model.evaluate(X_test, Y_test)[1]))"
   ]
  },
  {
   "cell_type": "code",
   "execution_count": 20,
   "metadata": {},
   "outputs": [],
   "source": [
    "predict_classes = model.predict_classes(X_test)"
   ]
  },
  {
   "cell_type": "code",
   "execution_count": 21,
   "metadata": {},
   "outputs": [],
   "source": [
    "Y_test = np.array([np.argmax(x) for x in Y_test])"
   ]
  },
  {
   "cell_type": "code",
   "execution_count": 22,
   "metadata": {},
   "outputs": [
    {
     "data": {
      "text/html": [
       "<div>\n",
       "<style scoped>\n",
       "    .dataframe tbody tr th:only-of-type {\n",
       "        vertical-align: middle;\n",
       "    }\n",
       "\n",
       "    .dataframe tbody tr th {\n",
       "        vertical-align: top;\n",
       "    }\n",
       "\n",
       "    .dataframe thead th {\n",
       "        text-align: right;\n",
       "    }\n",
       "</style>\n",
       "<table border=\"1\" class=\"dataframe\">\n",
       "  <thead>\n",
       "    <tr style=\"text-align: right;\">\n",
       "      <th>Predicted</th>\n",
       "      <th>0</th>\n",
       "      <th>1</th>\n",
       "      <th>All</th>\n",
       "    </tr>\n",
       "    <tr>\n",
       "      <th>True</th>\n",
       "      <th></th>\n",
       "      <th></th>\n",
       "      <th></th>\n",
       "    </tr>\n",
       "  </thead>\n",
       "  <tbody>\n",
       "    <tr>\n",
       "      <td>0</td>\n",
       "      <td>33</td>\n",
       "      <td>26</td>\n",
       "      <td>59</td>\n",
       "    </tr>\n",
       "    <tr>\n",
       "      <td>1</td>\n",
       "      <td>0</td>\n",
       "      <td>55</td>\n",
       "      <td>55</td>\n",
       "    </tr>\n",
       "    <tr>\n",
       "      <td>All</td>\n",
       "      <td>33</td>\n",
       "      <td>81</td>\n",
       "      <td>114</td>\n",
       "    </tr>\n",
       "  </tbody>\n",
       "</table>\n",
       "</div>"
      ],
      "text/plain": [
       "Predicted   0   1  All\n",
       "True                  \n",
       "0          33  26   59\n",
       "1           0  55   55\n",
       "All        33  81  114"
      ]
     },
     "execution_count": 22,
     "metadata": {},
     "output_type": "execute_result"
    }
   ],
   "source": [
    "pd.crosstab(Y_test, predict_classes, rownames=['True'], colnames=['Predicted'], margins=True)"
   ]
  }
 ],
 "metadata": {
  "kernelspec": {
   "display_name": "Python 3",
   "language": "python",
   "name": "python3"
  },
  "language_info": {
   "codemirror_mode": {
    "name": "ipython",
    "version": 3
   },
   "file_extension": ".py",
   "mimetype": "text/x-python",
   "name": "python",
   "nbconvert_exporter": "python",
   "pygments_lexer": "ipython3",
   "version": "3.7.3"
  }
 },
 "nbformat": 4,
 "nbformat_minor": 2
}
