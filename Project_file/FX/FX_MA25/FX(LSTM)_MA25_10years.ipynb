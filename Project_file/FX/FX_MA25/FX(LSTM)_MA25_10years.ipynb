{
 "cells": [
  {
   "cell_type": "code",
   "execution_count": 2,
   "metadata": {},
   "outputs": [],
   "source": [
    "import numpy as np\n",
    "import pandas as pd\n",
    "from pandas import DataFrame\n",
    "import seaborn as sns\n",
    "\n",
    "from sklearn.model_selection import train_test_split\n",
    "from sklearn.preprocessing import MinMaxScaler\n",
    "\n",
    "import keras\n",
    "from keras.layers.recurrent import LSTM\n",
    "from keras.models import Sequential\n",
    "from keras.layers import Dense, Activation\n",
    "from keras.layers.core import Dropout\n",
    "from keras.optimizers import Adam\n",
    "from keras.callbacks import EarlyStopping\n",
    "\n",
    "from keras.utils import plot_model, to_categorical"
   ]
  },
  {
   "cell_type": "code",
   "execution_count": 3,
   "metadata": {},
   "outputs": [
    {
     "data": {
      "text/html": [
       "<div>\n",
       "<style scoped>\n",
       "    .dataframe tbody tr th:only-of-type {\n",
       "        vertical-align: middle;\n",
       "    }\n",
       "\n",
       "    .dataframe tbody tr th {\n",
       "        vertical-align: top;\n",
       "    }\n",
       "\n",
       "    .dataframe thead th {\n",
       "        text-align: right;\n",
       "    }\n",
       "</style>\n",
       "<table border=\"1\" class=\"dataframe\">\n",
       "  <thead>\n",
       "    <tr style=\"text-align: right;\">\n",
       "      <th></th>\n",
       "      <th>time</th>\n",
       "      <th>open</th>\n",
       "      <th>high</th>\n",
       "      <th>low</th>\n",
       "      <th>close</th>\n",
       "      <th>25mean</th>\n",
       "      <th>target</th>\n",
       "    </tr>\n",
       "  </thead>\n",
       "  <tbody>\n",
       "    <tr>\n",
       "      <td>0</td>\n",
       "      <td>2009-01-28 07:00:00</td>\n",
       "      <td>88.974</td>\n",
       "      <td>90.772</td>\n",
       "      <td>88.890</td>\n",
       "      <td>90.294</td>\n",
       "      <td>90.40976</td>\n",
       "      <td>0</td>\n",
       "    </tr>\n",
       "    <tr>\n",
       "      <td>1</td>\n",
       "      <td>2009-01-29 07:00:00</td>\n",
       "      <td>90.294</td>\n",
       "      <td>90.656</td>\n",
       "      <td>89.470</td>\n",
       "      <td>90.036</td>\n",
       "      <td>90.38120</td>\n",
       "      <td>0</td>\n",
       "    </tr>\n",
       "    <tr>\n",
       "      <td>2</td>\n",
       "      <td>2009-01-30 07:00:00</td>\n",
       "      <td>90.036</td>\n",
       "      <td>90.155</td>\n",
       "      <td>89.180</td>\n",
       "      <td>89.932</td>\n",
       "      <td>90.30536</td>\n",
       "      <td>0</td>\n",
       "    </tr>\n",
       "    <tr>\n",
       "      <td>3</td>\n",
       "      <td>2009-02-01 07:00:00</td>\n",
       "      <td>89.936</td>\n",
       "      <td>90.065</td>\n",
       "      <td>89.733</td>\n",
       "      <td>90.019</td>\n",
       "      <td>90.22872</td>\n",
       "      <td>0</td>\n",
       "    </tr>\n",
       "    <tr>\n",
       "      <td>4</td>\n",
       "      <td>2009-02-02 07:00:00</td>\n",
       "      <td>90.009</td>\n",
       "      <td>90.019</td>\n",
       "      <td>88.802</td>\n",
       "      <td>89.447</td>\n",
       "      <td>90.06980</td>\n",
       "      <td>0</td>\n",
       "    </tr>\n",
       "  </tbody>\n",
       "</table>\n",
       "</div>"
      ],
      "text/plain": [
       "                  time    open    high     low   close    25mean  target\n",
       "0  2009-01-28 07:00:00  88.974  90.772  88.890  90.294  90.40976       0\n",
       "1  2009-01-29 07:00:00  90.294  90.656  89.470  90.036  90.38120       0\n",
       "2  2009-01-30 07:00:00  90.036  90.155  89.180  89.932  90.30536       0\n",
       "3  2009-02-01 07:00:00  89.936  90.065  89.733  90.019  90.22872       0\n",
       "4  2009-02-02 07:00:00  90.009  90.019  88.802  89.447  90.06980       0"
      ]
     },
     "execution_count": 3,
     "metadata": {},
     "output_type": "execute_result"
    }
   ],
   "source": [
    "df = pd.read_csv(\"FX_MA_25days_10years.csv\")\n",
    "df.head()"
   ]
  },
  {
   "cell_type": "code",
   "execution_count": 4,
   "metadata": {},
   "outputs": [
    {
     "name": "stdout",
     "output_type": "stream",
     "text": [
      "<class 'pandas.core.frame.DataFrame'>\n",
      "RangeIndex: 3165 entries, 0 to 3164\n",
      "Data columns (total 7 columns):\n",
      "time      3165 non-null object\n",
      "open      3165 non-null float64\n",
      "high      3165 non-null float64\n",
      "low       3165 non-null float64\n",
      "close     3165 non-null float64\n",
      "25mean    3165 non-null float64\n",
      "target    3165 non-null int64\n",
      "dtypes: float64(5), int64(1), object(1)\n",
      "memory usage: 173.2+ KB\n"
     ]
    }
   ],
   "source": [
    "df.info()"
   ]
  },
  {
   "cell_type": "code",
   "execution_count": 5,
   "metadata": {},
   "outputs": [
    {
     "data": {
      "text/plain": [
       "time      2017-07-13 06:00:00\n",
       "open                  113.154\n",
       "high                  113.532\n",
       "low                   112.862\n",
       "close                  113.28\n",
       "25mean                 112.05\n",
       "target                      1\n",
       "Name: 2550, dtype: object"
      ]
     },
     "execution_count": 5,
     "metadata": {},
     "output_type": "execute_result"
    }
   ],
   "source": [
    "# 7 : 3\n",
    "df.iloc[2550]"
   ]
  },
  {
   "cell_type": "code",
   "execution_count": 6,
   "metadata": {},
   "outputs": [],
   "source": [
    "split_data = '2017-06-15 06:00:00'\n",
    "train, test = df[df['time'] < split_data], df[df['time'] >= split_data]"
   ]
  },
  {
   "cell_type": "code",
   "execution_count": 7,
   "metadata": {},
   "outputs": [],
   "source": [
    "train = train.set_index('time')\n",
    "test = test.set_index('time')"
   ]
  },
  {
   "cell_type": "code",
   "execution_count": 8,
   "metadata": {},
   "outputs": [],
   "source": [
    "X_train = train.iloc[:,:5]\n",
    "Y_train = train['target']\n",
    "\n",
    "X_test = test.iloc[:,:5]\n",
    "Y_test = test['target']"
   ]
  },
  {
   "cell_type": "code",
   "execution_count": 9,
   "metadata": {},
   "outputs": [
    {
     "name": "stdout",
     "output_type": "stream",
     "text": [
      "[[ 88.974    90.772    88.89     90.294    90.40976]\n",
      " [ 90.294    90.656    89.47     90.036    90.3812 ]\n",
      " [ 90.036    90.155    89.18     89.932    90.30536]\n",
      " ...\n",
      " [110.342   110.44    109.632   109.941   111.52976]\n",
      " [109.938   110.27    109.815   110.066   111.37212]\n",
      " [110.054   110.342   108.815   109.564   111.1836 ]]\n",
      "Data len:  2530\n",
      "[[ 88.974    90.772    88.89     90.294    90.40976]\n",
      " [ 90.294    90.656    89.47     90.036    90.3812 ]\n",
      " [ 90.036    90.155    89.18     89.932    90.30536]\n",
      " ...\n",
      " [110.342   110.44    109.632   109.941   111.52976]\n",
      " [109.938   110.27    109.815   110.066   111.37212]\n",
      " [110.054   110.342   108.815   109.564   111.1836 ]]\n",
      "Data len:  635\n"
     ]
    },
    {
     "name": "stderr",
     "output_type": "stream",
     "text": [
      "/home/tim0114gap/anaconda3/lib/python3.7/site-packages/ipykernel_launcher.py:1: FutureWarning: Method .as_matrix will be removed in a future version. Use .values instead.\n",
      "  \"\"\"Entry point for launching an IPython kernel.\n",
      "/home/tim0114gap/anaconda3/lib/python3.7/site-packages/ipykernel_launcher.py:5: FutureWarning: Method .as_matrix will be removed in a future version. Use .values instead.\n",
      "  \"\"\"\n"
     ]
    }
   ],
   "source": [
    "X_train = X_train.as_matrix()\n",
    "print(X_train)\n",
    "print(\"Data len: \",len(X_train))\n",
    "\n",
    "X_test = X_test.as_matrix()\n",
    "print(X_train)\n",
    "print(\"Data len: \",len(X_test))\n",
    "\n",
    "# 正規化\n",
    "ms = MinMaxScaler()\n",
    "X_train = ms.fit_transform(X_train)\n",
    "\n",
    "ms = MinMaxScaler()\n",
    "X_test = ms.fit_transform(X_test)"
   ]
  },
  {
   "cell_type": "code",
   "execution_count": 10,
   "metadata": {},
   "outputs": [
    {
     "name": "stdout",
     "output_type": "stream",
     "text": [
      "Y_train Target len:  2530\n",
      "Y_train Target len:  635\n"
     ]
    }
   ],
   "source": [
    "c = np.array(Y_train)\n",
    "print(\"Y_train Target len: \",len(Y_train))\n",
    "\n",
    "Y_test = np.array(Y_test)\n",
    "print(\"Y_train Target len: \",len(Y_test))"
   ]
  },
  {
   "cell_type": "code",
   "execution_count": 11,
   "metadata": {},
   "outputs": [],
   "source": [
    "maxlen = 25\n",
    "dataTrain = []\n",
    "targetTrain = []\n",
    "for i in range(0, len(X_train) - maxlen):\n",
    "    dataTrain.append(X_train[i: i + maxlen])\n",
    "    targetTrain.append(Y_train[i + maxlen])\n",
    "\n",
    "dataTest = []\n",
    "targetTest = []\n",
    "for i in range(0, len(X_test) - maxlen):\n",
    "    dataTest.append(X_test[i: i + maxlen])\n",
    "    targetTest.append(Y_test[i + maxlen])"
   ]
  },
  {
   "cell_type": "code",
   "execution_count": 12,
   "metadata": {},
   "outputs": [
    {
     "name": "stdout",
     "output_type": "stream",
     "text": [
      "(2505, 25, 5)\n",
      "(2505,)\n",
      "(610, 25, 5)\n",
      "(610,)\n"
     ]
    }
   ],
   "source": [
    "X_train = np.array(dataTrain)\n",
    "Y_train = np.array(targetTrain)\n",
    "\n",
    "X_test = np.array(dataTest)\n",
    "Y_test = np.array(targetTest)\n",
    "print(X_train.shape)\n",
    "print(Y_train.shape)\n",
    "print(X_test.shape)\n",
    "print(Y_test.shape)"
   ]
  },
  {
   "cell_type": "code",
   "execution_count": 13,
   "metadata": {},
   "outputs": [],
   "source": [
    "# Y_train = Y_train.reshape(len(Y_train), 1)\n",
    "# Y_test = Y_test.reshape(len(Y_test), 1)\n",
    "\n",
    "Y_train = to_categorical(Y_train)\n",
    "Y_test = to_categorical(Y_test)"
   ]
  },
  {
   "cell_type": "code",
   "execution_count": 14,
   "metadata": {},
   "outputs": [
    {
     "name": "stdout",
     "output_type": "stream",
     "text": [
      "(2505, 25, 5)\n",
      "(2505, 2)\n",
      "(610, 25, 5)\n",
      "(610, 2)\n"
     ]
    }
   ],
   "source": [
    "print(X_train.shape)\n",
    "print(Y_train.shape)\n",
    "print(X_test.shape)\n",
    "print(Y_test.shape)"
   ]
  },
  {
   "cell_type": "code",
   "execution_count": 15,
   "metadata": {},
   "outputs": [
    {
     "name": "stdout",
     "output_type": "stream",
     "text": [
      "WARNING:tensorflow:From /home/tim0114gap/anaconda3/lib/python3.7/site-packages/keras/backend/tensorflow_backend.py:74: The name tf.get_default_graph is deprecated. Please use tf.compat.v1.get_default_graph instead.\n",
      "\n",
      "WARNING:tensorflow:From /home/tim0114gap/anaconda3/lib/python3.7/site-packages/keras/backend/tensorflow_backend.py:517: The name tf.placeholder is deprecated. Please use tf.compat.v1.placeholder instead.\n",
      "\n",
      "WARNING:tensorflow:From /home/tim0114gap/anaconda3/lib/python3.7/site-packages/keras/backend/tensorflow_backend.py:4138: The name tf.random_uniform is deprecated. Please use tf.random.uniform instead.\n",
      "\n",
      "WARNING:tensorflow:From /home/tim0114gap/anaconda3/lib/python3.7/site-packages/keras/backend/tensorflow_backend.py:133: The name tf.placeholder_with_default is deprecated. Please use tf.compat.v1.placeholder_with_default instead.\n",
      "\n",
      "WARNING:tensorflow:From /home/tim0114gap/anaconda3/lib/python3.7/site-packages/keras/backend/tensorflow_backend.py:3445: calling dropout (from tensorflow.python.ops.nn_ops) with keep_prob is deprecated and will be removed in a future version.\n",
      "Instructions for updating:\n",
      "Please use `rate` instead of `keep_prob`. Rate should be set to `rate = 1 - keep_prob`.\n"
     ]
    }
   ],
   "source": [
    "'''\n",
    "モデル設定\n",
    "'''\n",
    "length_of_sequence = X_train.shape[1]  # 入力層 = 5\n",
    "in_out_neurons = 2                     # 出力層 = 2\n",
    "n_hidden = 100                         # 隠れ層 = 100\n",
    "\n",
    "model = Sequential()\n",
    "model.add(LSTM(n_hidden, batch_input_shape=(None, length_of_sequence, 5), return_sequences=False))\n",
    "model.add(Dropout(0.25))\n",
    "model.add(Dense(50))\n",
    "model.add(Activation(\"sigmoid\"))\n",
    "model.add(Dense(in_out_neurons))\n",
    "model.add(Activation(\"softmax\"))"
   ]
  },
  {
   "cell_type": "code",
   "execution_count": 16,
   "metadata": {},
   "outputs": [
    {
     "name": "stdout",
     "output_type": "stream",
     "text": [
      "WARNING:tensorflow:From /home/tim0114gap/anaconda3/lib/python3.7/site-packages/keras/optimizers.py:790: The name tf.train.Optimizer is deprecated. Please use tf.compat.v1.train.Optimizer instead.\n",
      "\n",
      "WARNING:tensorflow:From /home/tim0114gap/anaconda3/lib/python3.7/site-packages/keras/backend/tensorflow_backend.py:3295: The name tf.log is deprecated. Please use tf.math.log instead.\n",
      "\n"
     ]
    }
   ],
   "source": [
    "optimizer = Adam(lr = 0.001, beta_1 = 0.9, beta_2 = 0.999)\n",
    "model.compile(loss=\"categorical_crossentropy\", \n",
    "              optimizer=optimizer, metrics=['acc'])"
   ]
  },
  {
   "cell_type": "code",
   "execution_count": 17,
   "metadata": {},
   "outputs": [
    {
     "name": "stdout",
     "output_type": "stream",
     "text": [
      "_________________________________________________________________\n",
      "Layer (type)                 Output Shape              Param #   \n",
      "=================================================================\n",
      "lstm_1 (LSTM)                (None, 100)               42400     \n",
      "_________________________________________________________________\n",
      "dropout_1 (Dropout)          (None, 100)               0         \n",
      "_________________________________________________________________\n",
      "dense_1 (Dense)              (None, 50)                5050      \n",
      "_________________________________________________________________\n",
      "activation_1 (Activation)    (None, 50)                0         \n",
      "_________________________________________________________________\n",
      "dense_2 (Dense)              (None, 2)                 102       \n",
      "_________________________________________________________________\n",
      "activation_2 (Activation)    (None, 2)                 0         \n",
      "=================================================================\n",
      "Total params: 47,552\n",
      "Trainable params: 47,552\n",
      "Non-trainable params: 0\n",
      "_________________________________________________________________\n"
     ]
    }
   ],
   "source": [
    "#plot_model(model, to_file='model.png')\n",
    "model.summary()"
   ]
  },
  {
   "cell_type": "code",
   "execution_count": 18,
   "metadata": {},
   "outputs": [
    {
     "name": "stdout",
     "output_type": "stream",
     "text": [
      "WARNING:tensorflow:From /home/tim0114gap/anaconda3/lib/python3.7/site-packages/tensorflow/python/ops/math_grad.py:1250: add_dispatch_support.<locals>.wrapper (from tensorflow.python.ops.array_ops) is deprecated and will be removed in a future version.\n",
      "Instructions for updating:\n",
      "Use tf.where in 2.0, which has the same broadcast rule as np.where\n",
      "Train on 2254 samples, validate on 251 samples\n",
      "Epoch 1/100\n",
      "2254/2254 [==============================] - 6s 3ms/step - loss: 0.7150 - acc: 0.4871 - val_loss: 0.6923 - val_acc: 0.5179\n",
      "Epoch 2/100\n",
      "2254/2254 [==============================] - 5s 2ms/step - loss: 0.6944 - acc: 0.5213 - val_loss: 0.6892 - val_acc: 0.5936\n",
      "Epoch 3/100\n",
      "2254/2254 [==============================] - 5s 2ms/step - loss: 0.6885 - acc: 0.5368 - val_loss: 0.6837 - val_acc: 0.6375\n",
      "Epoch 4/100\n",
      "2254/2254 [==============================] - 5s 2ms/step - loss: 0.6802 - acc: 0.5776 - val_loss: 0.6773 - val_acc: 0.5378\n",
      "Epoch 5/100\n",
      "2254/2254 [==============================] - 5s 2ms/step - loss: 0.6620 - acc: 0.6171 - val_loss: 0.6530 - val_acc: 0.6096\n",
      "Epoch 6/100\n",
      "2254/2254 [==============================] - 5s 2ms/step - loss: 0.6305 - acc: 0.6424 - val_loss: 0.6414 - val_acc: 0.6175\n",
      "Epoch 7/100\n",
      "2254/2254 [==============================] - 5s 2ms/step - loss: 0.5629 - acc: 0.7280 - val_loss: 0.5367 - val_acc: 0.7171\n",
      "Epoch 8/100\n",
      "2254/2254 [==============================] - 6s 3ms/step - loss: 0.5149 - acc: 0.7484 - val_loss: 0.6809 - val_acc: 0.6653\n",
      "Epoch 9/100\n",
      "2254/2254 [==============================] - 5s 2ms/step - loss: 0.4745 - acc: 0.7773 - val_loss: 0.6556 - val_acc: 0.6295\n",
      "Epoch 10/100\n",
      "2254/2254 [==============================] - 5s 2ms/step - loss: 0.4806 - acc: 0.7689 - val_loss: 0.4338 - val_acc: 0.8008\n",
      "Epoch 11/100\n",
      "2254/2254 [==============================] - 5s 2ms/step - loss: 0.4305 - acc: 0.8004 - val_loss: 0.4233 - val_acc: 0.8167\n",
      "Epoch 12/100\n",
      "2254/2254 [==============================] - 5s 2ms/step - loss: 0.4639 - acc: 0.7751 - val_loss: 0.3897 - val_acc: 0.8446\n",
      "Epoch 13/100\n",
      "2254/2254 [==============================] - 8s 4ms/step - loss: 0.4206 - acc: 0.7928 - val_loss: 0.4191 - val_acc: 0.8088\n",
      "Epoch 14/100\n",
      "2254/2254 [==============================] - 9s 4ms/step - loss: 0.4159 - acc: 0.8039 - val_loss: 0.4767 - val_acc: 0.7928\n",
      "Epoch 15/100\n",
      "2254/2254 [==============================] - 9s 4ms/step - loss: 0.4118 - acc: 0.8097 - val_loss: 0.3518 - val_acc: 0.8526\n",
      "Epoch 16/100\n",
      "2254/2254 [==============================] - 9s 4ms/step - loss: 0.3905 - acc: 0.8230 - val_loss: 0.3709 - val_acc: 0.8526\n",
      "Epoch 17/100\n",
      "2254/2254 [==============================] - 9s 4ms/step - loss: 0.3934 - acc: 0.8154 - val_loss: 0.3299 - val_acc: 0.8645\n",
      "Epoch 18/100\n",
      "2254/2254 [==============================] - 9s 4ms/step - loss: 0.3886 - acc: 0.8217 - val_loss: 0.3251 - val_acc: 0.8566\n",
      "Epoch 19/100\n",
      "2254/2254 [==============================] - 9s 4ms/step - loss: 0.4070 - acc: 0.8061 - val_loss: 0.3266 - val_acc: 0.8685\n",
      "Epoch 20/100\n",
      "2254/2254 [==============================] - 9s 4ms/step - loss: 0.3785 - acc: 0.8234 - val_loss: 0.4370 - val_acc: 0.7849\n",
      "Epoch 21/100\n",
      "2254/2254 [==============================] - 9s 4ms/step - loss: 0.3643 - acc: 0.8336 - val_loss: 0.3295 - val_acc: 0.8685\n",
      "Epoch 22/100\n",
      "2254/2254 [==============================] - 9s 4ms/step - loss: 0.3711 - acc: 0.8283 - val_loss: 0.2872 - val_acc: 0.8884\n",
      "Epoch 23/100\n",
      "2254/2254 [==============================] - 9s 4ms/step - loss: 0.3421 - acc: 0.8461 - val_loss: 0.2745 - val_acc: 0.8765\n",
      "Epoch 24/100\n",
      "2254/2254 [==============================] - 9s 4ms/step - loss: 0.3413 - acc: 0.8416 - val_loss: 0.2726 - val_acc: 0.8845\n",
      "Epoch 25/100\n",
      "2254/2254 [==============================] - 9s 4ms/step - loss: 0.3306 - acc: 0.8554 - val_loss: 0.2800 - val_acc: 0.8725\n",
      "Epoch 26/100\n",
      "2254/2254 [==============================] - 9s 4ms/step - loss: 0.3303 - acc: 0.8500 - val_loss: 0.3108 - val_acc: 0.8924\n",
      "Epoch 27/100\n",
      "2254/2254 [==============================] - 9s 4ms/step - loss: 0.3405 - acc: 0.8447 - val_loss: 0.2561 - val_acc: 0.8964\n",
      "Epoch 28/100\n",
      "2254/2254 [==============================] - 8s 4ms/step - loss: 0.3456 - acc: 0.8403 - val_loss: 0.2469 - val_acc: 0.8964\n",
      "Epoch 29/100\n",
      "2254/2254 [==============================] - 9s 4ms/step - loss: 0.3192 - acc: 0.8594 - val_loss: 0.5375 - val_acc: 0.7291\n",
      "Epoch 30/100\n",
      "2254/2254 [==============================] - 9s 4ms/step - loss: 0.3316 - acc: 0.8545 - val_loss: 0.2768 - val_acc: 0.8645\n",
      "Epoch 31/100\n",
      "2254/2254 [==============================] - 9s 4ms/step - loss: 0.3196 - acc: 0.8571 - val_loss: 0.2787 - val_acc: 0.8884\n",
      "Epoch 32/100\n",
      "2254/2254 [==============================] - 8s 4ms/step - loss: 0.3134 - acc: 0.8580 - val_loss: 0.2701 - val_acc: 0.8964\n",
      "Epoch 33/100\n",
      "2254/2254 [==============================] - 8s 4ms/step - loss: 0.3225 - acc: 0.8518 - val_loss: 0.3857 - val_acc: 0.8247\n",
      "Epoch 34/100\n",
      "2254/2254 [==============================] - 9s 4ms/step - loss: 0.3247 - acc: 0.8567 - val_loss: 0.2453 - val_acc: 0.9124\n",
      "Epoch 35/100\n",
      "2254/2254 [==============================] - 9s 4ms/step - loss: 0.3097 - acc: 0.8682 - val_loss: 0.2497 - val_acc: 0.8924\n",
      "Epoch 36/100\n",
      "2254/2254 [==============================] - 9s 4ms/step - loss: 0.3261 - acc: 0.8527 - val_loss: 0.3222 - val_acc: 0.8566\n",
      "Epoch 37/100\n",
      "2254/2254 [==============================] - 9s 4ms/step - loss: 0.3181 - acc: 0.8585 - val_loss: 0.2469 - val_acc: 0.9004\n",
      "Epoch 38/100\n",
      "2254/2254 [==============================] - 9s 4ms/step - loss: 0.3058 - acc: 0.8651 - val_loss: 0.2330 - val_acc: 0.8924\n",
      "Epoch 39/100\n",
      "2254/2254 [==============================] - 9s 4ms/step - loss: 0.3044 - acc: 0.8594 - val_loss: 0.2265 - val_acc: 0.9004\n",
      "Epoch 40/100\n",
      "2254/2254 [==============================] - 9s 4ms/step - loss: 0.3168 - acc: 0.8660 - val_loss: 0.2373 - val_acc: 0.9044\n",
      "Epoch 41/100\n",
      "2254/2254 [==============================] - 9s 4ms/step - loss: 0.2942 - acc: 0.8736 - val_loss: 0.2744 - val_acc: 0.8845\n",
      "Epoch 42/100\n",
      "2254/2254 [==============================] - 9s 4ms/step - loss: 0.3061 - acc: 0.8660 - val_loss: 0.2374 - val_acc: 0.9084\n",
      "Epoch 43/100\n",
      "2254/2254 [==============================] - 9s 4ms/step - loss: 0.2960 - acc: 0.8705 - val_loss: 0.2625 - val_acc: 0.8566\n",
      "Epoch 44/100\n",
      "2254/2254 [==============================] - 9s 4ms/step - loss: 0.3131 - acc: 0.8545 - val_loss: 0.2238 - val_acc: 0.9084\n",
      "Epoch 45/100\n",
      "2254/2254 [==============================] - 9s 4ms/step - loss: 0.3038 - acc: 0.8731 - val_loss: 0.3293 - val_acc: 0.8486\n",
      "Epoch 46/100\n",
      "2254/2254 [==============================] - 9s 4ms/step - loss: 0.2907 - acc: 0.8687 - val_loss: 0.2239 - val_acc: 0.9004\n",
      "Epoch 47/100\n",
      "2254/2254 [==============================] - 9s 4ms/step - loss: 0.3158 - acc: 0.8576 - val_loss: 0.2209 - val_acc: 0.9004\n",
      "Epoch 48/100\n",
      "2254/2254 [==============================] - 9s 4ms/step - loss: 0.2895 - acc: 0.8762 - val_loss: 0.2424 - val_acc: 0.9124\n",
      "Epoch 49/100\n",
      "2254/2254 [==============================] - 9s 4ms/step - loss: 0.2931 - acc: 0.8722 - val_loss: 0.2818 - val_acc: 0.8725\n",
      "Epoch 50/100\n",
      "2254/2254 [==============================] - 9s 4ms/step - loss: 0.2846 - acc: 0.8718 - val_loss: 0.2680 - val_acc: 0.9044\n",
      "Epoch 51/100\n",
      "2254/2254 [==============================] - 9s 4ms/step - loss: 0.2981 - acc: 0.8713 - val_loss: 0.2290 - val_acc: 0.9044\n",
      "Epoch 52/100\n",
      "2254/2254 [==============================] - 9s 4ms/step - loss: 0.2812 - acc: 0.8789 - val_loss: 0.2090 - val_acc: 0.9163\n",
      "Epoch 53/100\n",
      "2254/2254 [==============================] - 9s 4ms/step - loss: 0.2792 - acc: 0.8815 - val_loss: 0.2045 - val_acc: 0.9243\n",
      "Epoch 54/100\n",
      "2254/2254 [==============================] - 9s 4ms/step - loss: 0.2899 - acc: 0.8700 - val_loss: 0.2239 - val_acc: 0.9044\n",
      "Epoch 55/100\n",
      "2254/2254 [==============================] - 9s 4ms/step - loss: 0.2796 - acc: 0.8758 - val_loss: 0.2302 - val_acc: 0.8884\n",
      "Epoch 56/100\n",
      "2254/2254 [==============================] - 9s 4ms/step - loss: 0.2882 - acc: 0.8749 - val_loss: 0.2469 - val_acc: 0.9084\n",
      "Epoch 57/100\n",
      "2254/2254 [==============================] - 9s 4ms/step - loss: 0.2676 - acc: 0.8869 - val_loss: 0.2234 - val_acc: 0.9084\n",
      "Epoch 58/100\n"
     ]
    },
    {
     "name": "stdout",
     "output_type": "stream",
     "text": [
      "2254/2254 [==============================] - 9s 4ms/step - loss: 0.2713 - acc: 0.8882 - val_loss: 0.1981 - val_acc: 0.9163\n",
      "Epoch 59/100\n",
      "2254/2254 [==============================] - 9s 4ms/step - loss: 0.2718 - acc: 0.8842 - val_loss: 0.2976 - val_acc: 0.8805\n",
      "Epoch 60/100\n",
      "2254/2254 [==============================] - 9s 4ms/step - loss: 0.2999 - acc: 0.8687 - val_loss: 0.2769 - val_acc: 0.8685\n",
      "Epoch 61/100\n",
      "2254/2254 [==============================] - 9s 4ms/step - loss: 0.2661 - acc: 0.8846 - val_loss: 0.2165 - val_acc: 0.9163\n",
      "Epoch 62/100\n",
      "2254/2254 [==============================] - 9s 4ms/step - loss: 0.2640 - acc: 0.8864 - val_loss: 0.2237 - val_acc: 0.9004\n",
      "Epoch 63/100\n",
      "2254/2254 [==============================] - 9s 4ms/step - loss: 0.2643 - acc: 0.8913 - val_loss: 0.3570 - val_acc: 0.8486\n",
      "Epoch 64/100\n",
      "2254/2254 [==============================] - 9s 4ms/step - loss: 0.2820 - acc: 0.8833 - val_loss: 0.2855 - val_acc: 0.8725\n",
      "Epoch 65/100\n",
      "2254/2254 [==============================] - 9s 4ms/step - loss: 0.2751 - acc: 0.8784 - val_loss: 0.2292 - val_acc: 0.8924\n",
      "Epoch 66/100\n",
      "2254/2254 [==============================] - 9s 4ms/step - loss: 0.2761 - acc: 0.8838 - val_loss: 0.2084 - val_acc: 0.9084\n",
      "Epoch 67/100\n",
      "2254/2254 [==============================] - 9s 4ms/step - loss: 0.2795 - acc: 0.8824 - val_loss: 0.2637 - val_acc: 0.9084\n",
      "Epoch 68/100\n",
      "2254/2254 [==============================] - 9s 4ms/step - loss: 0.2738 - acc: 0.8807 - val_loss: 0.2157 - val_acc: 0.9124\n",
      "Epoch 69/100\n",
      "2254/2254 [==============================] - 9s 4ms/step - loss: 0.2627 - acc: 0.8922 - val_loss: 0.2615 - val_acc: 0.9084\n",
      "Epoch 70/100\n",
      "2254/2254 [==============================] - 9s 4ms/step - loss: 0.2628 - acc: 0.8900 - val_loss: 0.2917 - val_acc: 0.8884\n",
      "Epoch 71/100\n",
      "2254/2254 [==============================] - 9s 4ms/step - loss: 0.2663 - acc: 0.8869 - val_loss: 0.2100 - val_acc: 0.9084\n",
      "Epoch 72/100\n",
      "2254/2254 [==============================] - 9s 4ms/step - loss: 0.2598 - acc: 0.8846 - val_loss: 0.3028 - val_acc: 0.8805\n",
      "Epoch 73/100\n",
      "2254/2254 [==============================] - 9s 4ms/step - loss: 0.2615 - acc: 0.8869 - val_loss: 0.2605 - val_acc: 0.9124\n",
      "Epoch 74/100\n",
      "2254/2254 [==============================] - 9s 4ms/step - loss: 0.2898 - acc: 0.8607 - val_loss: 0.2213 - val_acc: 0.8964\n",
      "Epoch 75/100\n",
      "2254/2254 [==============================] - 9s 4ms/step - loss: 0.2570 - acc: 0.8878 - val_loss: 0.1907 - val_acc: 0.9163\n",
      "Epoch 76/100\n",
      "2254/2254 [==============================] - 9s 4ms/step - loss: 0.2680 - acc: 0.8855 - val_loss: 0.2018 - val_acc: 0.9124\n",
      "Epoch 77/100\n",
      "2254/2254 [==============================] - 9s 4ms/step - loss: 0.2633 - acc: 0.8833 - val_loss: 0.2597 - val_acc: 0.9004\n",
      "Epoch 78/100\n",
      "2254/2254 [==============================] - 9s 4ms/step - loss: 0.2686 - acc: 0.8820 - val_loss: 0.2053 - val_acc: 0.9084\n",
      "Epoch 79/100\n",
      "2254/2254 [==============================] - 9s 4ms/step - loss: 0.2555 - acc: 0.8838 - val_loss: 0.2207 - val_acc: 0.8884\n",
      "Epoch 80/100\n",
      "2254/2254 [==============================] - 9s 4ms/step - loss: 0.2569 - acc: 0.8882 - val_loss: 0.2077 - val_acc: 0.8964\n",
      "Epoch 81/100\n",
      "2254/2254 [==============================] - 9s 4ms/step - loss: 0.2564 - acc: 0.8855 - val_loss: 0.1977 - val_acc: 0.9044\n",
      "Epoch 82/100\n",
      "2254/2254 [==============================] - 9s 4ms/step - loss: 0.2570 - acc: 0.8811 - val_loss: 0.2480 - val_acc: 0.8924\n",
      "Epoch 83/100\n",
      "2254/2254 [==============================] - 9s 4ms/step - loss: 0.2609 - acc: 0.8873 - val_loss: 0.2218 - val_acc: 0.9044\n",
      "Epoch 84/100\n",
      "2254/2254 [==============================] - 9s 4ms/step - loss: 0.2630 - acc: 0.8824 - val_loss: 0.2151 - val_acc: 0.8964\n",
      "Epoch 85/100\n",
      "2254/2254 [==============================] - 9s 4ms/step - loss: 0.2571 - acc: 0.8900 - val_loss: 0.2415 - val_acc: 0.8924\n",
      "Epoch 86/100\n",
      "2254/2254 [==============================] - 9s 4ms/step - loss: 0.2534 - acc: 0.8917 - val_loss: 0.2514 - val_acc: 0.8884\n",
      "Epoch 87/100\n",
      "2254/2254 [==============================] - 9s 4ms/step - loss: 0.2596 - acc: 0.8869 - val_loss: 0.2400 - val_acc: 0.9044\n",
      "Epoch 88/100\n",
      "2254/2254 [==============================] - 9s 4ms/step - loss: 0.2661 - acc: 0.8846 - val_loss: 0.2276 - val_acc: 0.9004\n",
      "Epoch 89/100\n",
      "2254/2254 [==============================] - 9s 4ms/step - loss: 0.2534 - acc: 0.8882 - val_loss: 0.1915 - val_acc: 0.9124\n",
      "Epoch 90/100\n",
      "2254/2254 [==============================] - 9s 4ms/step - loss: 0.2399 - acc: 0.8988 - val_loss: 0.3513 - val_acc: 0.8486\n",
      "Epoch 91/100\n",
      "2254/2254 [==============================] - 9s 4ms/step - loss: 0.2583 - acc: 0.8949 - val_loss: 0.2386 - val_acc: 0.8685\n",
      "Epoch 92/100\n",
      "2254/2254 [==============================] - 9s 4ms/step - loss: 0.2521 - acc: 0.8869 - val_loss: 0.2298 - val_acc: 0.9004\n",
      "Epoch 93/100\n",
      "2254/2254 [==============================] - 9s 4ms/step - loss: 0.2416 - acc: 0.8980 - val_loss: 0.1965 - val_acc: 0.9163\n",
      "Epoch 94/100\n",
      "2254/2254 [==============================] - 9s 4ms/step - loss: 0.2442 - acc: 0.8940 - val_loss: 0.2009 - val_acc: 0.9203\n",
      "Epoch 95/100\n",
      "2254/2254 [==============================] - 9s 4ms/step - loss: 0.2330 - acc: 0.8993 - val_loss: 0.1939 - val_acc: 0.9243\n"
     ]
    }
   ],
   "source": [
    "# コールバック指定（https://qiita.com/yukiB/items/f45f0f71bc9739830002）\n",
    "early_stopping = EarlyStopping(monitor='val_loss', \n",
    "                               mode='auto', patience=20)\n",
    "history = model.fit(X_train, Y_train,\n",
    "                  batch_size = 16, # 論文で使われるのが1, 32, 128, 256, 512\n",
    "                  epochs=100,\n",
    "                  validation_split=0.1,\n",
    "                  callbacks=[early_stopping])"
   ]
  },
  {
   "cell_type": "code",
   "execution_count": 19,
   "metadata": {},
   "outputs": [
    {
     "data": {
      "text/plain": [
       "array([1, 1, 1, 1, 1, 1, 1, 0, 0, 0, 0, 0, 0, 0, 0, 0, 0, 0, 0, 0, 0, 0,\n",
       "       0, 0, 0, 0, 0, 0, 0, 0, 1, 0, 0, 0, 0, 0, 0, 0, 0, 0, 0, 1, 1, 1,\n",
       "       1, 1, 1, 1, 1, 1, 1, 1, 1, 1, 1, 1, 1, 1, 1, 1, 1, 1, 1, 1, 1, 1,\n",
       "       1, 1, 1, 1, 1, 1, 1, 1, 1, 1, 1, 1, 1, 1, 1, 1, 1, 0, 0, 0, 0, 0,\n",
       "       0, 0, 0, 0, 0, 0, 0, 0, 0, 0, 0, 0, 0, 0, 0, 0, 1, 1, 0, 0, 0, 0,\n",
       "       0, 1, 1, 1, 0, 0, 1, 1, 1, 0, 0, 0, 0, 0, 0, 0, 0, 0, 0, 0, 0, 0,\n",
       "       0, 0, 0, 0, 0, 0, 0, 0, 0, 0, 0, 0, 0, 0, 0, 0, 0, 0, 0, 0, 0, 0,\n",
       "       0, 0, 0, 0, 0, 0, 0, 0, 0, 0, 0, 0, 0, 0, 0, 0, 0, 0, 0, 0, 0, 0,\n",
       "       0, 0, 0, 0, 1, 1, 1, 1, 1, 1, 1, 1, 1, 1, 1, 1, 1, 1, 1, 1, 1, 1,\n",
       "       1, 1, 1, 1, 1, 1, 1, 1, 1, 1, 1, 1, 1, 1, 1, 1, 1, 1, 1, 1, 1, 1,\n",
       "       1, 1, 1, 1, 1, 1, 1, 1, 1, 1, 1, 1, 1, 1, 1, 1, 1, 1, 1, 1, 1, 1,\n",
       "       1, 1, 1, 1, 1, 1, 1, 1, 1, 1, 1, 1, 1, 1, 1, 1, 1, 1, 1, 1, 1, 1,\n",
       "       1, 1, 1, 1, 1, 1, 1, 1, 1, 1, 1, 0, 0, 0, 0, 0, 0, 0, 0, 0, 0, 0,\n",
       "       0, 0, 0, 0, 1, 0, 0, 0, 0, 0, 0, 0, 0, 1, 1, 1, 1, 1, 1, 1, 1, 1,\n",
       "       1, 1, 1, 1, 1, 1, 1, 1, 1, 1, 1, 1, 1, 1, 1, 1, 1, 1, 0, 0, 0, 0,\n",
       "       0, 0, 0, 0, 1, 0, 0, 0, 1, 0, 0, 1, 0, 0, 1, 1, 1, 0, 0, 0, 0, 0,\n",
       "       0, 0, 1, 1, 1, 1, 1, 0, 0, 0, 0, 0, 0, 0, 0, 0, 0, 0, 0, 0, 0, 0,\n",
       "       0, 0, 0, 0, 0, 0, 0, 0, 0, 0, 0, 0, 0, 0, 0, 0, 0, 0, 0, 0, 0, 0,\n",
       "       0, 0, 0, 0, 0, 0, 0, 0, 0, 0, 0, 0, 1, 1, 1, 1, 1, 1, 1, 1, 1, 1,\n",
       "       1, 1, 1, 1, 1, 1, 1, 1, 1, 1, 1, 1, 1, 1, 1, 1, 1, 1, 1, 1, 0, 0,\n",
       "       0, 0, 0, 0, 0, 0, 0, 0, 1, 1, 1, 1, 1, 1, 1, 1, 1, 1, 1, 1, 1, 1,\n",
       "       1, 1, 1, 1, 1, 0, 0, 0, 0, 0, 0, 0, 0, 0, 0, 0, 0, 0, 0, 0, 0, 0,\n",
       "       0, 0, 0, 0, 0, 0, 0, 0, 0, 0, 0, 0, 0, 0, 0, 0, 0, 0, 0, 0, 0, 0,\n",
       "       0, 0, 0, 0, 0, 0, 0, 0, 1, 1, 1, 1, 1, 1, 1, 1, 1, 1, 1, 1, 1, 1,\n",
       "       1, 1, 1, 1, 1, 1, 1, 1, 1, 1, 1, 1, 1, 1, 1, 1, 1, 1, 0, 0, 0, 0,\n",
       "       0, 0, 0, 0, 0, 0, 0, 0, 0, 0, 0, 0, 1, 1, 1, 1, 1, 1, 1, 1, 1, 1,\n",
       "       1, 1, 1, 1, 1, 1, 1, 1, 1, 1, 1, 1, 1, 1, 1, 1, 1, 1, 1, 1, 1, 1,\n",
       "       1, 1, 1, 1, 1, 1, 1, 1, 1, 1, 1, 1, 1, 1, 1, 1])"
      ]
     },
     "execution_count": 19,
     "metadata": {},
     "output_type": "execute_result"
    }
   ],
   "source": [
    "predict_classes = model.predict_classes(X_test)\n",
    "predict_classes"
   ]
  },
  {
   "cell_type": "code",
   "execution_count": 20,
   "metadata": {},
   "outputs": [
    {
     "data": {
      "text/plain": [
       "((610,), (610, 2))"
      ]
     },
     "execution_count": 20,
     "metadata": {},
     "output_type": "execute_result"
    }
   ],
   "source": [
    "predict_classes.shape, Y_test.shape"
   ]
  },
  {
   "cell_type": "code",
   "execution_count": 21,
   "metadata": {},
   "outputs": [],
   "source": [
    "Y_test = np.array([np.argmax(x) for x in Y_test])"
   ]
  },
  {
   "cell_type": "code",
   "execution_count": 22,
   "metadata": {},
   "outputs": [
    {
     "data": {
      "text/html": [
       "<div>\n",
       "<style scoped>\n",
       "    .dataframe tbody tr th:only-of-type {\n",
       "        vertical-align: middle;\n",
       "    }\n",
       "\n",
       "    .dataframe tbody tr th {\n",
       "        vertical-align: top;\n",
       "    }\n",
       "\n",
       "    .dataframe thead th {\n",
       "        text-align: right;\n",
       "    }\n",
       "</style>\n",
       "<table border=\"1\" class=\"dataframe\">\n",
       "  <thead>\n",
       "    <tr style=\"text-align: right;\">\n",
       "      <th>Predicted</th>\n",
       "      <th>0</th>\n",
       "      <th>1</th>\n",
       "      <th>All</th>\n",
       "    </tr>\n",
       "    <tr>\n",
       "      <th>True</th>\n",
       "      <th></th>\n",
       "      <th></th>\n",
       "      <th></th>\n",
       "    </tr>\n",
       "  </thead>\n",
       "  <tbody>\n",
       "    <tr>\n",
       "      <td>0</td>\n",
       "      <td>244</td>\n",
       "      <td>52</td>\n",
       "      <td>296</td>\n",
       "    </tr>\n",
       "    <tr>\n",
       "      <td>1</td>\n",
       "      <td>45</td>\n",
       "      <td>269</td>\n",
       "      <td>314</td>\n",
       "    </tr>\n",
       "    <tr>\n",
       "      <td>All</td>\n",
       "      <td>289</td>\n",
       "      <td>321</td>\n",
       "      <td>610</td>\n",
       "    </tr>\n",
       "  </tbody>\n",
       "</table>\n",
       "</div>"
      ],
      "text/plain": [
       "Predicted    0    1  All\n",
       "True                    \n",
       "0          244   52  296\n",
       "1           45  269  314\n",
       "All        289  321  610"
      ]
     },
     "execution_count": 22,
     "metadata": {},
     "output_type": "execute_result"
    }
   ],
   "source": [
    "pd.crosstab(Y_test, predict_classes, rownames=['True'], colnames=['Predicted'], margins=True)"
   ]
  }
 ],
 "metadata": {
  "kernelspec": {
   "display_name": "Python 3",
   "language": "python",
   "name": "python3"
  },
  "language_info": {
   "codemirror_mode": {
    "name": "ipython",
    "version": 3
   },
   "file_extension": ".py",
   "mimetype": "text/x-python",
   "name": "python",
   "nbconvert_exporter": "python",
   "pygments_lexer": "ipython3",
   "version": "3.7.3"
  }
 },
 "nbformat": 4,
 "nbformat_minor": 2
}
