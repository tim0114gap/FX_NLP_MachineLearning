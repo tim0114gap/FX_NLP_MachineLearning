{
 "cells": [
  {
   "cell_type": "markdown",
   "metadata": {},
   "source": [
    "http://www.algo-fx-blog.com/lstm-fx-predict/"
   ]
  },
  {
   "cell_type": "code",
   "execution_count": 1,
   "metadata": {},
   "outputs": [
    {
     "name": "stderr",
     "output_type": "stream",
     "text": [
      "Using TensorFlow backend.\n"
     ]
    }
   ],
   "source": [
    "import datetime\n",
    "\n",
    "import numpy as np\n",
    "import pandas as pd\n",
    "from pandas import DataFrame\n",
    "import seaborn as sns\n",
    "import matplotlib.pyplot as plt\n",
    "\n",
    "%matplotlib inline\n",
    "\n",
    "from sklearn.model_selection import train_test_split\n",
    "\n",
    "import keras\n",
    "from keras.layers.recurrent import LSTM\n",
    "from keras.models import Sequential\n",
    "from keras.layers import Dense, Activation\n",
    "from keras.layers.core import Dropout\n",
    "from keras.optimizers import Adam\n",
    "from keras.callbacks import EarlyStopping\n",
    "\n",
    "from keras.utils import plot_model"
   ]
  },
  {
   "cell_type": "code",
   "execution_count": 2,
   "metadata": {},
   "outputs": [
    {
     "data": {
      "text/html": [
       "<div>\n",
       "<style scoped>\n",
       "    .dataframe tbody tr th:only-of-type {\n",
       "        vertical-align: middle;\n",
       "    }\n",
       "\n",
       "    .dataframe tbody tr th {\n",
       "        vertical-align: top;\n",
       "    }\n",
       "\n",
       "    .dataframe thead th {\n",
       "        text-align: right;\n",
       "    }\n",
       "</style>\n",
       "<table border=\"1\" class=\"dataframe\">\n",
       "  <thead>\n",
       "    <tr style=\"text-align: right;\">\n",
       "      <th></th>\n",
       "      <th>time</th>\n",
       "      <th>open</th>\n",
       "      <th>high</th>\n",
       "      <th>low</th>\n",
       "      <th>close</th>\n",
       "      <th>5mean</th>\n",
       "      <th>target</th>\n",
       "    </tr>\n",
       "  </thead>\n",
       "  <tbody>\n",
       "    <tr>\n",
       "      <td>0</td>\n",
       "      <td>2016-11-07 07:00:00</td>\n",
       "      <td>104.101</td>\n",
       "      <td>104.630</td>\n",
       "      <td>103.779</td>\n",
       "      <td>104.476</td>\n",
       "      <td>103.6076</td>\n",
       "      <td>0</td>\n",
       "    </tr>\n",
       "    <tr>\n",
       "      <td>1</td>\n",
       "      <td>2016-11-08 07:00:00</td>\n",
       "      <td>104.462</td>\n",
       "      <td>105.194</td>\n",
       "      <td>104.297</td>\n",
       "      <td>105.176</td>\n",
       "      <td>103.8124</td>\n",
       "      <td>1</td>\n",
       "    </tr>\n",
       "    <tr>\n",
       "      <td>2</td>\n",
       "      <td>2016-11-09 07:00:00</td>\n",
       "      <td>105.178</td>\n",
       "      <td>105.890</td>\n",
       "      <td>101.193</td>\n",
       "      <td>105.658</td>\n",
       "      <td>104.2828</td>\n",
       "      <td>1</td>\n",
       "    </tr>\n",
       "    <tr>\n",
       "      <td>3</td>\n",
       "      <td>2016-11-10 07:00:00</td>\n",
       "      <td>105.685</td>\n",
       "      <td>106.949</td>\n",
       "      <td>104.960</td>\n",
       "      <td>106.816</td>\n",
       "      <td>105.0504</td>\n",
       "      <td>1</td>\n",
       "    </tr>\n",
       "    <tr>\n",
       "      <td>4</td>\n",
       "      <td>2016-11-11 07:00:00</td>\n",
       "      <td>106.796</td>\n",
       "      <td>106.934</td>\n",
       "      <td>106.032</td>\n",
       "      <td>106.683</td>\n",
       "      <td>105.7618</td>\n",
       "      <td>1</td>\n",
       "    </tr>\n",
       "  </tbody>\n",
       "</table>\n",
       "</div>"
      ],
      "text/plain": [
       "                  time     open     high      low    close     5mean  target\n",
       "0  2016-11-07 07:00:00  104.101  104.630  103.779  104.476  103.6076       0\n",
       "1  2016-11-08 07:00:00  104.462  105.194  104.297  105.176  103.8124       1\n",
       "2  2016-11-09 07:00:00  105.178  105.890  101.193  105.658  104.2828       1\n",
       "3  2016-11-10 07:00:00  105.685  106.949  104.960  106.816  105.0504       1\n",
       "4  2016-11-11 07:00:00  106.796  106.934  106.032  106.683  105.7618       1"
      ]
     },
     "execution_count": 2,
     "metadata": {},
     "output_type": "execute_result"
    }
   ],
   "source": [
    "df = pd.read_csv('FX_MA_5days.csv', sep=',')\n",
    "df.head()"
   ]
  },
  {
   "cell_type": "code",
   "execution_count": 3,
   "metadata": {},
   "outputs": [
    {
     "name": "stdout",
     "output_type": "stream",
     "text": [
      "<class 'pandas.core.frame.DataFrame'>\n",
      "RangeIndex: 789 entries, 0 to 788\n",
      "Data columns (total 7 columns):\n",
      "time      789 non-null object\n",
      "open      789 non-null float64\n",
      "high      789 non-null float64\n",
      "low       789 non-null float64\n",
      "close     789 non-null float64\n",
      "5mean     789 non-null float64\n",
      "target    789 non-null int64\n",
      "dtypes: float64(5), int64(1), object(1)\n",
      "memory usage: 43.3+ KB\n"
     ]
    }
   ],
   "source": [
    "df.info()"
   ]
  },
  {
   "cell_type": "code",
   "execution_count": 4,
   "metadata": {},
   "outputs": [],
   "source": [
    "del df['5mean']\n",
    "del df['target']"
   ]
  },
  {
   "cell_type": "code",
   "execution_count": 5,
   "metadata": {},
   "outputs": [],
   "source": [
    "split_data = '2019-05-06 06:00:00'\n",
    "train, test = df[df['time'] < split_data], df[df['time'] >= split_data]\n",
    "del train['time']\n",
    "del test['time']"
   ]
  },
  {
   "cell_type": "code",
   "execution_count": 6,
   "metadata": {},
   "outputs": [
    {
     "data": {
      "text/plain": [
       "((650, 4), (139, 4))"
      ]
     },
     "execution_count": 6,
     "metadata": {},
     "output_type": "execute_result"
    }
   ],
   "source": [
    "train.shape, test.shape"
   ]
  },
  {
   "cell_type": "code",
   "execution_count": 7,
   "metadata": {},
   "outputs": [],
   "source": [
    "window_len = 5"
   ]
  },
  {
   "cell_type": "code",
   "execution_count": 8,
   "metadata": {},
   "outputs": [],
   "source": [
    "train_lstm_in = []\n",
    "for i in range(len(train) - window_len):\n",
    "    temp = train[i:(i + window_len)].copy()\n",
    "    for col in train:\n",
    "        temp.loc[:, col] = temp[col] / temp[col].iloc[0] - 1\n",
    "    train_lstm_in.append(temp)\n",
    "lstm_train_out = (train['close'][window_len:].values / train['close'][:-window_len].values)-1\n",
    " \n",
    "test_lstm_in = []\n",
    "for i in range(len(test) - window_len):\n",
    "    temp = test[i:(i + window_len)].copy()\n",
    "    for col in test:\n",
    "        temp.loc[:, col] = temp[col] / temp[col].iloc[0] - 1\n",
    "    test_lstm_in.append(temp)\n",
    "lstm_test_out = (test['close'][window_len:].values / test['close'][:-window_len].values)-1"
   ]
  },
  {
   "cell_type": "code",
   "execution_count": 9,
   "metadata": {},
   "outputs": [],
   "source": [
    "train_lstm_in = [np.array(train_lstm_input) for train_lstm_input in train_lstm_in]\n",
    "train_lstm_in = np.array(train_lstm_in)\n",
    "\n",
    "test_lstm_in = [np.array(test_lstm_input) for test_lstm_input in test_lstm_in]\n",
    "test_lstm_in = np.array(test_lstm_in)"
   ]
  },
  {
   "cell_type": "code",
   "execution_count": 10,
   "metadata": {},
   "outputs": [],
   "source": [
    "def build_model(inputs, output_size, neurons, activ_func=\"linear\",\n",
    "                dropout=0.25, loss=\"mae\", optimizer=\"adam\"):\n",
    "    model = Sequential()\n",
    " \n",
    "    model.add(LSTM(neurons, input_shape=(inputs.shape[1], inputs.shape[2])))\n",
    "    model.add(Dropout(dropout))\n",
    "    model.add(Dense(units=output_size))\n",
    "    model.add(Activation(activ_func))\n",
    " \n",
    "    model.compile(loss=loss, optimizer=optimizer, metrics=['acc'])\n",
    "    return model"
   ]
  },
  {
   "cell_type": "code",
   "execution_count": 11,
   "metadata": {},
   "outputs": [
    {
     "name": "stdout",
     "output_type": "stream",
     "text": [
      "WARNING:tensorflow:From /home/tim0114gap/anaconda3/lib/python3.7/site-packages/keras/backend/tensorflow_backend.py:74: The name tf.get_default_graph is deprecated. Please use tf.compat.v1.get_default_graph instead.\n",
      "\n",
      "WARNING:tensorflow:From /home/tim0114gap/anaconda3/lib/python3.7/site-packages/keras/backend/tensorflow_backend.py:517: The name tf.placeholder is deprecated. Please use tf.compat.v1.placeholder instead.\n",
      "\n",
      "WARNING:tensorflow:From /home/tim0114gap/anaconda3/lib/python3.7/site-packages/keras/backend/tensorflow_backend.py:4138: The name tf.random_uniform is deprecated. Please use tf.random.uniform instead.\n",
      "\n",
      "WARNING:tensorflow:From /home/tim0114gap/anaconda3/lib/python3.7/site-packages/keras/backend/tensorflow_backend.py:133: The name tf.placeholder_with_default is deprecated. Please use tf.compat.v1.placeholder_with_default instead.\n",
      "\n",
      "WARNING:tensorflow:From /home/tim0114gap/anaconda3/lib/python3.7/site-packages/keras/backend/tensorflow_backend.py:3445: calling dropout (from tensorflow.python.ops.nn_ops) with keep_prob is deprecated and will be removed in a future version.\n",
      "Instructions for updating:\n",
      "Please use `rate` instead of `keep_prob`. Rate should be set to `rate = 1 - keep_prob`.\n",
      "WARNING:tensorflow:From /home/tim0114gap/anaconda3/lib/python3.7/site-packages/keras/optimizers.py:790: The name tf.train.Optimizer is deprecated. Please use tf.compat.v1.train.Optimizer instead.\n",
      "\n",
      "WARNING:tensorflow:From /home/tim0114gap/anaconda3/lib/python3.7/site-packages/tensorflow/python/ops/math_grad.py:1250: add_dispatch_support.<locals>.wrapper (from tensorflow.python.ops.array_ops) is deprecated and will be removed in a future version.\n",
      "Instructions for updating:\n",
      "Use tf.where in 2.0, which has the same broadcast rule as np.where\n",
      "WARNING:tensorflow:From /home/tim0114gap/anaconda3/lib/python3.7/site-packages/keras/backend/tensorflow_backend.py:986: The name tf.assign_add is deprecated. Please use tf.compat.v1.assign_add instead.\n",
      "\n",
      "Epoch 1/50\n",
      " - 4s - loss: 0.0066 - acc: 0.0000e+00\n",
      "Epoch 2/50\n",
      " - 3s - loss: 0.0053 - acc: 0.0000e+00\n",
      "Epoch 3/50\n",
      " - 3s - loss: 0.0051 - acc: 0.0000e+00\n",
      "Epoch 4/50\n",
      " - 3s - loss: 0.0046 - acc: 0.0000e+00\n",
      "Epoch 5/50\n",
      " - 3s - loss: 0.0047 - acc: 0.0000e+00\n",
      "Epoch 6/50\n",
      " - 3s - loss: 0.0046 - acc: 0.0000e+00\n",
      "Epoch 7/50\n",
      " - 3s - loss: 0.0045 - acc: 0.0000e+00\n",
      "Epoch 8/50\n",
      " - 3s - loss: 0.0044 - acc: 0.0000e+00\n",
      "Epoch 9/50\n",
      " - 3s - loss: 0.0044 - acc: 0.0000e+00\n",
      "Epoch 10/50\n",
      " - 3s - loss: 0.0046 - acc: 0.0000e+00\n",
      "Epoch 11/50\n",
      " - 3s - loss: 0.0044 - acc: 0.0000e+00\n",
      "Epoch 12/50\n",
      " - 3s - loss: 0.0043 - acc: 0.0000e+00\n",
      "Epoch 13/50\n",
      " - 3s - loss: 0.0043 - acc: 0.0000e+00\n",
      "Epoch 14/50\n",
      " - 3s - loss: 0.0044 - acc: 0.0000e+00\n",
      "Epoch 15/50\n",
      " - 3s - loss: 0.0042 - acc: 0.0000e+00\n",
      "Epoch 16/50\n",
      " - 3s - loss: 0.0043 - acc: 0.0000e+00\n",
      "Epoch 17/50\n",
      " - 3s - loss: 0.0043 - acc: 0.0000e+00\n",
      "Epoch 18/50\n",
      " - 3s - loss: 0.0043 - acc: 0.0000e+00\n",
      "Epoch 19/50\n",
      " - 3s - loss: 0.0043 - acc: 0.0000e+00\n",
      "Epoch 20/50\n",
      " - 3s - loss: 0.0045 - acc: 0.0000e+00\n",
      "Epoch 21/50\n",
      " - 3s - loss: 0.0044 - acc: 0.0000e+00\n",
      "Epoch 22/50\n",
      " - 3s - loss: 0.0043 - acc: 0.0000e+00\n",
      "Epoch 23/50\n",
      " - 3s - loss: 0.0041 - acc: 0.0000e+00\n",
      "Epoch 24/50\n",
      " - 3s - loss: 0.0041 - acc: 0.0000e+00\n",
      "Epoch 25/50\n",
      " - 3s - loss: 0.0042 - acc: 0.0000e+00\n",
      "Epoch 26/50\n",
      " - 3s - loss: 0.0041 - acc: 0.0000e+00\n",
      "Epoch 27/50\n",
      " - 3s - loss: 0.0043 - acc: 0.0000e+00\n",
      "Epoch 28/50\n",
      " - 3s - loss: 0.0041 - acc: 0.0000e+00\n",
      "Epoch 29/50\n",
      " - 3s - loss: 0.0041 - acc: 0.0000e+00\n",
      "Epoch 30/50\n",
      " - 3s - loss: 0.0041 - acc: 0.0000e+00\n",
      "Epoch 31/50\n",
      " - 3s - loss: 0.0041 - acc: 0.0000e+00\n",
      "Epoch 32/50\n",
      " - 3s - loss: 0.0040 - acc: 0.0000e+00\n",
      "Epoch 33/50\n",
      " - 3s - loss: 0.0041 - acc: 0.0000e+00\n",
      "Epoch 34/50\n",
      " - 3s - loss: 0.0041 - acc: 0.0000e+00\n",
      "Epoch 35/50\n",
      " - 3s - loss: 0.0041 - acc: 0.0000e+00\n",
      "Epoch 36/50\n",
      " - 3s - loss: 0.0040 - acc: 0.0000e+00\n",
      "Epoch 37/50\n",
      " - 3s - loss: 0.0041 - acc: 0.0000e+00\n",
      "Epoch 38/50\n",
      " - 3s - loss: 0.0040 - acc: 0.0000e+00\n",
      "Epoch 39/50\n",
      " - 3s - loss: 0.0041 - acc: 0.0000e+00\n",
      "Epoch 40/50\n",
      " - 3s - loss: 0.0041 - acc: 0.0000e+00\n",
      "Epoch 41/50\n",
      " - 3s - loss: 0.0040 - acc: 0.0000e+00\n",
      "Epoch 42/50\n",
      " - 3s - loss: 0.0040 - acc: 0.0000e+00\n",
      "Epoch 43/50\n",
      " - 3s - loss: 0.0041 - acc: 0.0000e+00\n",
      "Epoch 44/50\n",
      " - 3s - loss: 0.0040 - acc: 0.0000e+00\n",
      "Epoch 45/50\n",
      " - 3s - loss: 0.0039 - acc: 0.0000e+00\n",
      "Epoch 46/50\n",
      " - 3s - loss: 0.0040 - acc: 0.0000e+00\n",
      "Epoch 47/50\n",
      " - 3s - loss: 0.0042 - acc: 0.0000e+00\n",
      "Epoch 48/50\n",
      " - 3s - loss: 0.0041 - acc: 0.0000e+00\n",
      "Epoch 49/50\n",
      " - 3s - loss: 0.0039 - acc: 0.0000e+00\n",
      "Epoch 50/50\n",
      " - 3s - loss: 0.0041 - acc: 0.0000e+00\n"
     ]
    }
   ],
   "source": [
    "np.random.seed(202)\n",
    " \n",
    "yen_model = build_model(train_lstm_in, output_size=1, neurons = 20)\n",
    " \n",
    "yen_history = yen_model.fit(train_lstm_in, lstm_train_out, \n",
    "                            epochs=50, batch_size=1, verbose=2, shuffle=True)"
   ]
  },
  {
   "cell_type": "code",
   "execution_count": 12,
   "metadata": {},
   "outputs": [
    {
     "data": {
      "text/plain": [
       "Text(0.5, 0, '# Epochs')"
      ]
     },
     "execution_count": 12,
     "metadata": {},
     "output_type": "execute_result"
    },
    {
     "data": {
      "image/png": "[encoded data removed]",
      "text/plain": [
       "<Figure size 432x288 with 1 Axes>"
      ]
     },
     "metadata": {
      "needs_background": "light"
     },
     "output_type": "display_data"
    }
   ],
   "source": [
    "fig, ax1 = plt.subplots(1,1)\n",
    " \n",
    "ax1.plot(yen_history.epoch, yen_history.history['loss'])\n",
    "ax1.set_title('TrainingError')\n",
    " \n",
    "if yen_model.loss == 'mae':\n",
    "    ax1.set_ylabel('Mean Absolute Error (MAE)',fontsize=12)\n",
    "else:\n",
    "    ax1.set_ylabel('Model Loss',fontsize=12)\n",
    "ax1.set_xlabel('# Epochs',fontsize=12)"
   ]
  },
  {
   "cell_type": "code",
   "execution_count": 13,
   "metadata": {},
   "outputs": [
    {
     "data": {
      "text/plain": [
       "[<matplotlib.lines.Line2D at 0x7ff144135358>]"
      ]
     },
     "execution_count": 13,
     "metadata": {},
     "output_type": "execute_result"
    },
    {
     "data": {
      "image/png": "[encoded data removed]",
      "text/plain": [
       "<Figure size 432x288 with 1 Axes>"
      ]
     },
     "metadata": {
      "needs_background": "light"
     },
     "output_type": "display_data"
    }
   ],
   "source": [
    "fig, ax1 = plt.subplots(1,1)\n",
    "ax1.plot(df[df['time']< split_data]['time'][window_len:],\n",
    "         train['close'][window_len:], label='Actual', color='blue')\n",
    "ax1.plot(df[df['time']< split_data]['time'][window_len:],\n",
    "         ((np.transpose(yen_model.predict(train_lstm_in))+1) * train['close'].values[:-window_len])[0], \n",
    "         label='Predicted', color='red')"
   ]
  },
  {
   "cell_type": "code",
   "execution_count": 14,
   "metadata": {},
   "outputs": [
    {
     "data": {
      "image/png": "[encoded data removed]",
      "text/plain": [
       "<Figure size 432x288 with 1 Axes>"
      ]
     },
     "metadata": {
      "needs_background": "light"
     },
     "output_type": "display_data"
    }
   ],
   "source": [
    "fig, ax1 = plt.subplots(1,1)\n",
    "ax1.plot(df[df['time']>= split_data]['time'][window_len:],\n",
    "         test['close'][window_len:], label='Actual', color='blue')\n",
    "ax1.plot(df[df['time']>= split_data]['time'][window_len:],\n",
    "         ((np.transpose(yen_model.predict(test_lstm_in))+1) * test['close'].values[:-window_len])[0], \n",
    "         label='Predicted', color='red')\n",
    "ax1.grid(True)"
   ]
  }
 ],
 "metadata": {
  "kernelspec": {
   "display_name": "Python 3",
   "language": "python",
   "name": "python3"
  },
  "language_info": {
   "codemirror_mode": {
    "name": "ipython",
    "version": 3
   },
   "file_extension": ".py",
   "mimetype": "text/x-python",
   "name": "python",
   "nbconvert_exporter": "python",
   "pygments_lexer": "ipython3",
   "version": "3.7.3"
  }
 },
 "nbformat": 4,
 "nbformat_minor": 2
}
