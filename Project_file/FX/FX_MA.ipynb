{
 "cells": [
  {
   "cell_type": "code",
   "execution_count": 1,
   "metadata": {},
   "outputs": [],
   "source": [
    "import numpy as np\n",
    "import pandas as pd\n",
    "from pandas import DataFrame\n",
    "import matplotlib.pyplot as plt\n",
    "\n",
    "%matplotlib inline"
   ]
  },
  {
   "cell_type": "code",
   "execution_count": 2,
   "metadata": {},
   "outputs": [
    {
     "data": {
      "text/html": [
       "<div>\n",
       "<style scoped>\n",
       "    .dataframe tbody tr th:only-of-type {\n",
       "        vertical-align: middle;\n",
       "    }\n",
       "\n",
       "    .dataframe tbody tr th {\n",
       "        vertical-align: top;\n",
       "    }\n",
       "\n",
       "    .dataframe thead th {\n",
       "        text-align: right;\n",
       "    }\n",
       "</style>\n",
       "<table border=\"1\" class=\"dataframe\">\n",
       "  <thead>\n",
       "    <tr style=\"text-align: right;\">\n",
       "      <th></th>\n",
       "      <th>time</th>\n",
       "      <th>open</th>\n",
       "      <th>high</th>\n",
       "      <th>low</th>\n",
       "      <th>close</th>\n",
       "      <th>amount</th>\n",
       "      <th>complete</th>\n",
       "    </tr>\n",
       "  </thead>\n",
       "  <tbody>\n",
       "    <tr>\n",
       "      <td>0</td>\n",
       "      <td>2018-12-31 07:00:00</td>\n",
       "      <td>110.292</td>\n",
       "      <td>110.476</td>\n",
       "      <td>109.561</td>\n",
       "      <td>109.590</td>\n",
       "      <td>17621.0</td>\n",
       "      <td>True</td>\n",
       "    </tr>\n",
       "    <tr>\n",
       "      <td>1</td>\n",
       "      <td>2019-01-02 07:00:00</td>\n",
       "      <td>109.590</td>\n",
       "      <td>109.726</td>\n",
       "      <td>108.710</td>\n",
       "      <td>108.887</td>\n",
       "      <td>30756.0</td>\n",
       "      <td>True</td>\n",
       "    </tr>\n",
       "    <tr>\n",
       "      <td>2</td>\n",
       "      <td>2019-01-03 07:00:00</td>\n",
       "      <td>108.861</td>\n",
       "      <td>108.915</td>\n",
       "      <td>104.819</td>\n",
       "      <td>107.662</td>\n",
       "      <td>62810.0</td>\n",
       "      <td>True</td>\n",
       "    </tr>\n",
       "    <tr>\n",
       "      <td>3</td>\n",
       "      <td>2019-01-04 07:00:00</td>\n",
       "      <td>107.672</td>\n",
       "      <td>108.589</td>\n",
       "      <td>107.516</td>\n",
       "      <td>108.516</td>\n",
       "      <td>49016.0</td>\n",
       "      <td>True</td>\n",
       "    </tr>\n",
       "    <tr>\n",
       "      <td>4</td>\n",
       "      <td>2019-01-07 07:00:00</td>\n",
       "      <td>108.520</td>\n",
       "      <td>108.749</td>\n",
       "      <td>108.023</td>\n",
       "      <td>108.716</td>\n",
       "      <td>28233.0</td>\n",
       "      <td>True</td>\n",
       "    </tr>\n",
       "  </tbody>\n",
       "</table>\n",
       "</div>"
      ],
      "text/plain": [
       "                  time     open     high      low    close   amount  complete\n",
       "0  2018-12-31 07:00:00  110.292  110.476  109.561  109.590  17621.0      True\n",
       "1  2019-01-02 07:00:00  109.590  109.726  108.710  108.887  30756.0      True\n",
       "2  2019-01-03 07:00:00  108.861  108.915  104.819  107.662  62810.0      True\n",
       "3  2019-01-04 07:00:00  107.672  108.589  107.516  108.516  49016.0      True\n",
       "4  2019-01-07 07:00:00  108.520  108.749  108.023  108.716  28233.0      True"
      ]
     },
     "execution_count": 2,
     "metadata": {},
     "output_type": "execute_result"
    }
   ],
   "source": [
    "fileName = \"fx2019.csv\"\n",
    "\n",
    "df = pd.read_csv(fileName)\n",
    "df.head()"
   ]
  },
  {
   "cell_type": "code",
   "execution_count": 3,
   "metadata": {},
   "outputs": [],
   "source": [
    "del df['complete']\n",
    "del df['amount']"
   ]
  },
  {
   "cell_type": "code",
   "execution_count": 4,
   "metadata": {},
   "outputs": [],
   "source": [
    "df.head()\n",
    "df5 = df.copy()\n",
    "df25 = df.copy()\n",
    "df100 = df.copy()"
   ]
  },
  {
   "cell_type": "code",
   "execution_count": 5,
   "metadata": {},
   "outputs": [],
   "source": [
    "# 5日移動平均\n",
    "df5['5mean'] = df['close'].rolling(5).mean()\n",
    "\n",
    "# 25日移動平均\n",
    "df25['25mean'] = df['close'].rolling(25).mean()\n",
    "\n",
    "# 100日移動平均\n",
    "df100['100mean'] = df['close'].rolling(100).mean()"
   ]
  },
  {
   "cell_type": "code",
   "execution_count": 6,
   "metadata": {},
   "outputs": [
    {
     "data": {
      "text/html": [
       "<div>\n",
       "<style scoped>\n",
       "    .dataframe tbody tr th:only-of-type {\n",
       "        vertical-align: middle;\n",
       "    }\n",
       "\n",
       "    .dataframe tbody tr th {\n",
       "        vertical-align: top;\n",
       "    }\n",
       "\n",
       "    .dataframe thead th {\n",
       "        text-align: right;\n",
       "    }\n",
       "</style>\n",
       "<table border=\"1\" class=\"dataframe\">\n",
       "  <thead>\n",
       "    <tr style=\"text-align: right;\">\n",
       "      <th></th>\n",
       "      <th>time</th>\n",
       "      <th>open</th>\n",
       "      <th>high</th>\n",
       "      <th>low</th>\n",
       "      <th>close</th>\n",
       "      <th>5mean</th>\n",
       "    </tr>\n",
       "  </thead>\n",
       "  <tbody>\n",
       "    <tr>\n",
       "      <td>0</td>\n",
       "      <td>2018-12-31 07:00:00</td>\n",
       "      <td>110.292</td>\n",
       "      <td>110.476</td>\n",
       "      <td>109.561</td>\n",
       "      <td>109.590</td>\n",
       "      <td>NaN</td>\n",
       "    </tr>\n",
       "    <tr>\n",
       "      <td>1</td>\n",
       "      <td>2019-01-02 07:00:00</td>\n",
       "      <td>109.590</td>\n",
       "      <td>109.726</td>\n",
       "      <td>108.710</td>\n",
       "      <td>108.887</td>\n",
       "      <td>NaN</td>\n",
       "    </tr>\n",
       "    <tr>\n",
       "      <td>2</td>\n",
       "      <td>2019-01-03 07:00:00</td>\n",
       "      <td>108.861</td>\n",
       "      <td>108.915</td>\n",
       "      <td>104.819</td>\n",
       "      <td>107.662</td>\n",
       "      <td>NaN</td>\n",
       "    </tr>\n",
       "    <tr>\n",
       "      <td>3</td>\n",
       "      <td>2019-01-04 07:00:00</td>\n",
       "      <td>107.672</td>\n",
       "      <td>108.589</td>\n",
       "      <td>107.516</td>\n",
       "      <td>108.516</td>\n",
       "      <td>NaN</td>\n",
       "    </tr>\n",
       "    <tr>\n",
       "      <td>4</td>\n",
       "      <td>2019-01-07 07:00:00</td>\n",
       "      <td>108.520</td>\n",
       "      <td>108.749</td>\n",
       "      <td>108.023</td>\n",
       "      <td>108.716</td>\n",
       "      <td>108.6742</td>\n",
       "    </tr>\n",
       "  </tbody>\n",
       "</table>\n",
       "</div>"
      ],
      "text/plain": [
       "                  time     open     high      low    close     5mean\n",
       "0  2018-12-31 07:00:00  110.292  110.476  109.561  109.590       NaN\n",
       "1  2019-01-02 07:00:00  109.590  109.726  108.710  108.887       NaN\n",
       "2  2019-01-03 07:00:00  108.861  108.915  104.819  107.662       NaN\n",
       "3  2019-01-04 07:00:00  107.672  108.589  107.516  108.516       NaN\n",
       "4  2019-01-07 07:00:00  108.520  108.749  108.023  108.716  108.6742"
      ]
     },
     "execution_count": 6,
     "metadata": {},
     "output_type": "execute_result"
    }
   ],
   "source": [
    "df5.head()"
   ]
  },
  {
   "cell_type": "code",
   "execution_count": 7,
   "metadata": {},
   "outputs": [
    {
     "data": {
      "text/plain": [
       "[<matplotlib.lines.Line2D at 0x7ff09438d6d8>]"
      ]
     },
     "execution_count": 7,
     "metadata": {},
     "output_type": "execute_result"
    },
    {
     "data": {
      "image/png": "[encoded data removed]",
      "text/plain": [
       "<Figure size 432x288 with 1 Axes>"
      ]
     },
     "metadata": {
      "needs_background": "light"
     },
     "output_type": "display_data"
    }
   ],
   "source": [
    "plt.plot(df5.index, df5['5mean'])"
   ]
  },
  {
   "cell_type": "code",
   "execution_count": 8,
   "metadata": {},
   "outputs": [
    {
     "data": {
      "text/html": [
       "<div>\n",
       "<style scoped>\n",
       "    .dataframe tbody tr th:only-of-type {\n",
       "        vertical-align: middle;\n",
       "    }\n",
       "\n",
       "    .dataframe tbody tr th {\n",
       "        vertical-align: top;\n",
       "    }\n",
       "\n",
       "    .dataframe thead th {\n",
       "        text-align: right;\n",
       "    }\n",
       "</style>\n",
       "<table border=\"1\" class=\"dataframe\">\n",
       "  <thead>\n",
       "    <tr style=\"text-align: right;\">\n",
       "      <th></th>\n",
       "      <th>time</th>\n",
       "      <th>open</th>\n",
       "      <th>high</th>\n",
       "      <th>low</th>\n",
       "      <th>close</th>\n",
       "      <th>25mean</th>\n",
       "    </tr>\n",
       "  </thead>\n",
       "  <tbody>\n",
       "    <tr>\n",
       "      <td>0</td>\n",
       "      <td>2018-12-31 07:00:00</td>\n",
       "      <td>110.292</td>\n",
       "      <td>110.476</td>\n",
       "      <td>109.561</td>\n",
       "      <td>109.590</td>\n",
       "      <td>NaN</td>\n",
       "    </tr>\n",
       "    <tr>\n",
       "      <td>1</td>\n",
       "      <td>2019-01-02 07:00:00</td>\n",
       "      <td>109.590</td>\n",
       "      <td>109.726</td>\n",
       "      <td>108.710</td>\n",
       "      <td>108.887</td>\n",
       "      <td>NaN</td>\n",
       "    </tr>\n",
       "    <tr>\n",
       "      <td>2</td>\n",
       "      <td>2019-01-03 07:00:00</td>\n",
       "      <td>108.861</td>\n",
       "      <td>108.915</td>\n",
       "      <td>104.819</td>\n",
       "      <td>107.662</td>\n",
       "      <td>NaN</td>\n",
       "    </tr>\n",
       "    <tr>\n",
       "      <td>3</td>\n",
       "      <td>2019-01-04 07:00:00</td>\n",
       "      <td>107.672</td>\n",
       "      <td>108.589</td>\n",
       "      <td>107.516</td>\n",
       "      <td>108.516</td>\n",
       "      <td>NaN</td>\n",
       "    </tr>\n",
       "    <tr>\n",
       "      <td>4</td>\n",
       "      <td>2019-01-07 07:00:00</td>\n",
       "      <td>108.520</td>\n",
       "      <td>108.749</td>\n",
       "      <td>108.023</td>\n",
       "      <td>108.716</td>\n",
       "      <td>NaN</td>\n",
       "    </tr>\n",
       "  </tbody>\n",
       "</table>\n",
       "</div>"
      ],
      "text/plain": [
       "                  time     open     high      low    close  25mean\n",
       "0  2018-12-31 07:00:00  110.292  110.476  109.561  109.590     NaN\n",
       "1  2019-01-02 07:00:00  109.590  109.726  108.710  108.887     NaN\n",
       "2  2019-01-03 07:00:00  108.861  108.915  104.819  107.662     NaN\n",
       "3  2019-01-04 07:00:00  107.672  108.589  107.516  108.516     NaN\n",
       "4  2019-01-07 07:00:00  108.520  108.749  108.023  108.716     NaN"
      ]
     },
     "execution_count": 8,
     "metadata": {},
     "output_type": "execute_result"
    }
   ],
   "source": [
    "df25.head()"
   ]
  },
  {
   "cell_type": "code",
   "execution_count": 9,
   "metadata": {
    "scrolled": true
   },
   "outputs": [
    {
     "data": {
      "text/plain": [
       "[<matplotlib.lines.Line2D at 0x7ff0942b3390>]"
      ]
     },
     "execution_count": 9,
     "metadata": {},
     "output_type": "execute_result"
    },
    {
     "data": {
      "image/png": "[encoded data removed]",
      "text/plain": [
       "<Figure size 432x288 with 1 Axes>"
      ]
     },
     "metadata": {
      "needs_background": "light"
     },
     "output_type": "display_data"
    }
   ],
   "source": [
    "plt.plot(df25.index, df25['25mean'])"
   ]
  },
  {
   "cell_type": "code",
   "execution_count": 10,
   "metadata": {},
   "outputs": [
    {
     "data": {
      "text/html": [
       "<div>\n",
       "<style scoped>\n",
       "    .dataframe tbody tr th:only-of-type {\n",
       "        vertical-align: middle;\n",
       "    }\n",
       "\n",
       "    .dataframe tbody tr th {\n",
       "        vertical-align: top;\n",
       "    }\n",
       "\n",
       "    .dataframe thead th {\n",
       "        text-align: right;\n",
       "    }\n",
       "</style>\n",
       "<table border=\"1\" class=\"dataframe\">\n",
       "  <thead>\n",
       "    <tr style=\"text-align: right;\">\n",
       "      <th></th>\n",
       "      <th>time</th>\n",
       "      <th>open</th>\n",
       "      <th>high</th>\n",
       "      <th>low</th>\n",
       "      <th>close</th>\n",
       "      <th>100mean</th>\n",
       "    </tr>\n",
       "  </thead>\n",
       "  <tbody>\n",
       "    <tr>\n",
       "      <td>0</td>\n",
       "      <td>2018-12-31 07:00:00</td>\n",
       "      <td>110.292</td>\n",
       "      <td>110.476</td>\n",
       "      <td>109.561</td>\n",
       "      <td>109.590</td>\n",
       "      <td>NaN</td>\n",
       "    </tr>\n",
       "    <tr>\n",
       "      <td>1</td>\n",
       "      <td>2019-01-02 07:00:00</td>\n",
       "      <td>109.590</td>\n",
       "      <td>109.726</td>\n",
       "      <td>108.710</td>\n",
       "      <td>108.887</td>\n",
       "      <td>NaN</td>\n",
       "    </tr>\n",
       "    <tr>\n",
       "      <td>2</td>\n",
       "      <td>2019-01-03 07:00:00</td>\n",
       "      <td>108.861</td>\n",
       "      <td>108.915</td>\n",
       "      <td>104.819</td>\n",
       "      <td>107.662</td>\n",
       "      <td>NaN</td>\n",
       "    </tr>\n",
       "    <tr>\n",
       "      <td>3</td>\n",
       "      <td>2019-01-04 07:00:00</td>\n",
       "      <td>107.672</td>\n",
       "      <td>108.589</td>\n",
       "      <td>107.516</td>\n",
       "      <td>108.516</td>\n",
       "      <td>NaN</td>\n",
       "    </tr>\n",
       "    <tr>\n",
       "      <td>4</td>\n",
       "      <td>2019-01-07 07:00:00</td>\n",
       "      <td>108.520</td>\n",
       "      <td>108.749</td>\n",
       "      <td>108.023</td>\n",
       "      <td>108.716</td>\n",
       "      <td>NaN</td>\n",
       "    </tr>\n",
       "  </tbody>\n",
       "</table>\n",
       "</div>"
      ],
      "text/plain": [
       "                  time     open     high      low    close  100mean\n",
       "0  2018-12-31 07:00:00  110.292  110.476  109.561  109.590      NaN\n",
       "1  2019-01-02 07:00:00  109.590  109.726  108.710  108.887      NaN\n",
       "2  2019-01-03 07:00:00  108.861  108.915  104.819  107.662      NaN\n",
       "3  2019-01-04 07:00:00  107.672  108.589  107.516  108.516      NaN\n",
       "4  2019-01-07 07:00:00  108.520  108.749  108.023  108.716      NaN"
      ]
     },
     "execution_count": 10,
     "metadata": {},
     "output_type": "execute_result"
    }
   ],
   "source": [
    "df100.head()"
   ]
  },
  {
   "cell_type": "code",
   "execution_count": 11,
   "metadata": {},
   "outputs": [
    {
     "data": {
      "text/plain": [
       "[<matplotlib.lines.Line2D at 0x7ff094295630>]"
      ]
     },
     "execution_count": 11,
     "metadata": {},
     "output_type": "execute_result"
    },
    {
     "data": {
      "image/png": "[encoded data removed]",
      "text/plain": [
       "<Figure size 432x288 with 1 Axes>"
      ]
     },
     "metadata": {
      "needs_background": "light"
     },
     "output_type": "display_data"
    }
   ],
   "source": [
    "plt.plot(df100.index, df100['100mean'])"
   ]
  },
  {
   "cell_type": "code",
   "execution_count": 12,
   "metadata": {},
   "outputs": [
    {
     "data": {
      "text/plain": [
       "[<matplotlib.lines.Line2D at 0x7ff094206a20>]"
      ]
     },
     "execution_count": 12,
     "metadata": {},
     "output_type": "execute_result"
    },
    {
     "data": {
      "image/png": "[encoded data removed]",
      "text/plain": [
       "<Figure size 432x288 with 1 Axes>"
      ]
     },
     "metadata": {
      "needs_background": "light"
     },
     "output_type": "display_data"
    }
   ],
   "source": [
    "plt.plot(df5.index, df5['5mean'])\n",
    "plt.plot(df25.index, df25['25mean'])\n",
    "plt.plot(df100.index, df100['100mean'], c='m', alpha=0.5)"
   ]
  },
  {
   "cell_type": "code",
   "execution_count": 13,
   "metadata": {},
   "outputs": [],
   "source": [
    "df5['target'] = 0\n",
    "df25['target'] = 0\n",
    "df100['target'] = 0"
   ]
  },
  {
   "cell_type": "code",
   "execution_count": 14,
   "metadata": {},
   "outputs": [
    {
     "name": "stderr",
     "output_type": "stream",
     "text": [
      "/home/tim0114gap/anaconda3/lib/python3.7/site-packages/ipykernel_launcher.py:5: SettingWithCopyWarning: \n",
      "A value is trying to be set on a copy of a slice from a DataFrame\n",
      "\n",
      "See the caveats in the documentation: http://pandas.pydata.org/pandas-docs/stable/user_guide/indexing.html#returning-a-view-versus-a-copy\n",
      "  \"\"\"\n"
     ]
    }
   ],
   "source": [
    "df5['diff5'] = df5['5mean'].diff()\n",
    "df5['booldiff5'] = df5.diff5 > 0\n",
    "df5 = df5.dropna()\n",
    "df5.target[df5.booldiff5 == True] = 1\n",
    "df5.target[df5.booldiff5 == False] = 0\n",
    "del df5['booldiff5']\n",
    "del df5['diff5']\n",
    "df5 = df5.set_index('time')\n",
    "df5.index = pd.to_datetime(df5.index)"
   ]
  },
  {
   "cell_type": "code",
   "execution_count": 15,
   "metadata": {},
   "outputs": [
    {
     "name": "stderr",
     "output_type": "stream",
     "text": [
      "/home/tim0114gap/anaconda3/lib/python3.7/site-packages/ipykernel_launcher.py:5: SettingWithCopyWarning: \n",
      "A value is trying to be set on a copy of a slice from a DataFrame\n",
      "\n",
      "See the caveats in the documentation: http://pandas.pydata.org/pandas-docs/stable/user_guide/indexing.html#returning-a-view-versus-a-copy\n",
      "  \"\"\"\n"
     ]
    }
   ],
   "source": [
    "df25['diff25'] = df25['25mean'].diff()\n",
    "df25['booldiff25'] = df25.diff25 > 0\n",
    "df25 = df25.dropna()\n",
    "df25.target[df25.booldiff25 == True] = 1\n",
    "df25.target[df25.booldiff25 == False] = 0\n",
    "del df25['booldiff25']\n",
    "del df25['diff25']\n",
    "df25 = df25.set_index('time')\n",
    "df25.index = pd.to_datetime(df25.index)"
   ]
  },
  {
   "cell_type": "code",
   "execution_count": 16,
   "metadata": {},
   "outputs": [
    {
     "name": "stderr",
     "output_type": "stream",
     "text": [
      "/home/tim0114gap/anaconda3/lib/python3.7/site-packages/ipykernel_launcher.py:5: SettingWithCopyWarning: \n",
      "A value is trying to be set on a copy of a slice from a DataFrame\n",
      "\n",
      "See the caveats in the documentation: http://pandas.pydata.org/pandas-docs/stable/user_guide/indexing.html#returning-a-view-versus-a-copy\n",
      "  \"\"\"\n"
     ]
    }
   ],
   "source": [
    "df100['diff100'] = df100['100mean'].diff()\n",
    "df100['booldiff100'] = df100.diff100 > 0\n",
    "df100 = df100.dropna()\n",
    "df100.target[df100.booldiff100 == True] = 1\n",
    "df100.target[df100.booldiff100 == False] = 0\n",
    "del df100['booldiff100']\n",
    "del df100['diff100']\n",
    "df100 = df100.set_index('time')\n",
    "df100.index = pd.to_datetime(df100.index)"
   ]
  },
  {
   "cell_type": "code",
   "execution_count": 17,
   "metadata": {},
   "outputs": [
    {
     "data": {
      "text/plain": [
       "1    127\n",
       "0    113\n",
       "Name: target, dtype: int64"
      ]
     },
     "execution_count": 17,
     "metadata": {},
     "output_type": "execute_result"
    }
   ],
   "source": [
    "df5.target.value_counts()"
   ]
  },
  {
   "cell_type": "code",
   "execution_count": 18,
   "metadata": {},
   "outputs": [
    {
     "data": {
      "text/plain": [
       "1    121\n",
       "0     99\n",
       "Name: target, dtype: int64"
      ]
     },
     "execution_count": 18,
     "metadata": {},
     "output_type": "execute_result"
    }
   ],
   "source": [
    "df25.target.value_counts()"
   ]
  },
  {
   "cell_type": "code",
   "execution_count": 19,
   "metadata": {},
   "outputs": [
    {
     "data": {
      "text/plain": [
       "0    111\n",
       "1     34\n",
       "Name: target, dtype: int64"
      ]
     },
     "execution_count": 19,
     "metadata": {},
     "output_type": "execute_result"
    }
   ],
   "source": [
    "df100.target.value_counts()"
   ]
  },
  {
   "cell_type": "code",
   "execution_count": 21,
   "metadata": {},
   "outputs": [],
   "source": [
    "df5.to_csv(\"FX_MA_5days.csv\",index=True)\n",
    "df25.to_csv(\"FX_MA_25days.csv\",index=True)\n",
    "df100.to_csv(\"FX_MA_100days.csv\",index=True)"
   ]
  }
 ],
 "metadata": {
  "kernelspec": {
   "display_name": "Python 3",
   "language": "python",
   "name": "python3"
  },
  "language_info": {
   "codemirror_mode": {
    "name": "ipython",
    "version": 3
   },
   "file_extension": ".py",
   "mimetype": "text/x-python",
   "name": "python",
   "nbconvert_exporter": "python",
   "pygments_lexer": "ipython3",
   "version": "3.7.3"
  }
 },
 "nbformat": 4,
 "nbformat_minor": 2
}
