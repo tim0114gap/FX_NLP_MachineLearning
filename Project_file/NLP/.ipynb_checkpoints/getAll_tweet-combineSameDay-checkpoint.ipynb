{
 "cells": [
  {
   "cell_type": "markdown",
   "metadata": {},
   "source": [
    "https://yukituna.com/2260/"
   ]
  },
  {
   "cell_type": "code",
   "execution_count": 1,
   "metadata": {},
   "outputs": [],
   "source": [
    "import tweepy"
   ]
  },
  {
   "cell_type": "code",
   "execution_count": 2,
   "metadata": {},
   "outputs": [],
   "source": [
    "ck = \"73SL2jVh2Puw7edSRP5JZceS1\"\n",
    "cs = \"QFB3x8XYsQMNUYk6u0et3ky2k3taCmdpU7zNJX1RtMjuWf2mn2\"\n",
    "at = \"2592817850-T7SjlwRhI4ij2E8jpYKpgl7jfA6S5NRPqexVxJ4\"\n",
    "ats = \"oDc9bdqwKrQzV8y2pdgGyfQSqFudxsllAgEcB8nB1M9Aw\"\n",
    "auth = tweepy.OAuthHandler(ck, cs)\n",
    "auth.set_access_token(at, ats)\n",
    "api = tweepy.API(auth)"
   ]
  },
  {
   "cell_type": "code",
   "execution_count": 3,
   "metadata": {},
   "outputs": [],
   "source": [
    "data = []\n",
    "date = []\n",
    "befordate = \"2019-01-01\"\n",
    "word = \"\"\n",
    "isfirst = False\n",
    "\n",
    "pages = [x for x in range(20)]\n",
    "for page in pages:\n",
    "    results = api.user_timeline(screen_name=\"realDonaldTrump\", count=200, page=page)\n",
    "    for r in results:\n",
    "        if(isfirst):\n",
    "            if befordate != str(r.created_at)[:10]:\n",
    "                date.append(befordate)\n",
    "                data.append(word)\n",
    "                word = \"\"\n",
    "            else:\n",
    "                word += (\" \" + r.text)\n",
    "        befordate = str(r.created_at)[:10]\n",
    "        isfirst = True"
   ]
  },
  {
   "cell_type": "code",
   "execution_count": 4,
   "metadata": {},
   "outputs": [
    {
     "data": {
      "text/plain": [
       "(132, 132)"
      ]
     },
     "execution_count": 4,
     "metadata": {},
     "output_type": "execute_result"
    }
   ],
   "source": [
    "len(data), len(date)"
   ]
  },
  {
   "cell_type": "code",
   "execution_count": 5,
   "metadata": {},
   "outputs": [],
   "source": [
    "from pandas import DataFrame\n",
    "import pandas as pd"
   ]
  },
  {
   "cell_type": "code",
   "execution_count": 6,
   "metadata": {
    "scrolled": true
   },
   "outputs": [
    {
     "data": {
      "text/html": [
       "<div>\n",
       "<style scoped>\n",
       "    .dataframe tbody tr th:only-of-type {\n",
       "        vertical-align: middle;\n",
       "    }\n",
       "\n",
       "    .dataframe tbody tr th {\n",
       "        vertical-align: top;\n",
       "    }\n",
       "\n",
       "    .dataframe thead th {\n",
       "        text-align: right;\n",
       "    }\n",
       "</style>\n",
       "<table border=\"1\" class=\"dataframe\">\n",
       "  <thead>\n",
       "    <tr style=\"text-align: right;\">\n",
       "      <th></th>\n",
       "      <th>date</th>\n",
       "      <th>tweet</th>\n",
       "    </tr>\n",
       "  </thead>\n",
       "  <tbody>\n",
       "    <tr>\n",
       "      <td>0</td>\n",
       "      <td>2019-11-15</td>\n",
       "      <td>Democrats must apologize to USA: Ukrainian Fo...</td>\n",
       "    </tr>\n",
       "    <tr>\n",
       "      <td>1</td>\n",
       "      <td>2019-11-14</td>\n",
       "      <td>We continue to monitor the terrible events at...</td>\n",
       "    </tr>\n",
       "    <tr>\n",
       "      <td>2</td>\n",
       "      <td>2019-11-13</td>\n",
       "      <td>RT @RepMarkMeadows: Listen to @Jim_Jordan rev...</td>\n",
       "    </tr>\n",
       "    <tr>\n",
       "      <td>3</td>\n",
       "      <td>2019-11-12</td>\n",
       "      <td>RT @TeamTrump: President @realDonaldTrump tel...</td>\n",
       "    </tr>\n",
       "    <tr>\n",
       "      <td>4</td>\n",
       "      <td>2019-11-11</td>\n",
       "      <td>“The President has until September 30th to gi...</td>\n",
       "    </tr>\n",
       "    <tr>\n",
       "      <td>...</td>\n",
       "      <td>...</td>\n",
       "      <td>...</td>\n",
       "    </tr>\n",
       "    <tr>\n",
       "      <td>127</td>\n",
       "      <td>2019-07-18</td>\n",
       "      <td>This should have been taken care of years ago...</td>\n",
       "    </tr>\n",
       "    <tr>\n",
       "      <td>128</td>\n",
       "      <td>2019-07-17</td>\n",
       "      <td>The United States House of Representatives ha...</td>\n",
       "    </tr>\n",
       "    <tr>\n",
       "      <td>129</td>\n",
       "      <td>2019-07-16</td>\n",
       "      <td>Looking forward to tomorrow night’s rally in ...</td>\n",
       "    </tr>\n",
       "    <tr>\n",
       "      <td>130</td>\n",
       "      <td>2019-07-15</td>\n",
       "      <td>The Obama Administration built the Cages, not...</td>\n",
       "    </tr>\n",
       "    <tr>\n",
       "      <td>131</td>\n",
       "      <td>2019-07-14</td>\n",
       "      <td>https://t.co/YaiCXrxYQq .....Sorry, can’t let...</td>\n",
       "    </tr>\n",
       "  </tbody>\n",
       "</table>\n",
       "<p>132 rows × 2 columns</p>\n",
       "</div>"
      ],
      "text/plain": [
       "           date                                              tweet\n",
       "0    2019-11-15   Democrats must apologize to USA: Ukrainian Fo...\n",
       "1    2019-11-14   We continue to monitor the terrible events at...\n",
       "2    2019-11-13   RT @RepMarkMeadows: Listen to @Jim_Jordan rev...\n",
       "3    2019-11-12   RT @TeamTrump: President @realDonaldTrump tel...\n",
       "4    2019-11-11   “The President has until September 30th to gi...\n",
       "..          ...                                                ...\n",
       "127  2019-07-18   This should have been taken care of years ago...\n",
       "128  2019-07-17   The United States House of Representatives ha...\n",
       "129  2019-07-16   Looking forward to tomorrow night’s rally in ...\n",
       "130  2019-07-15   The Obama Administration built the Cages, not...\n",
       "131  2019-07-14   https://t.co/YaiCXrxYQq .....Sorry, can’t let...\n",
       "\n",
       "[132 rows x 2 columns]"
      ]
     },
     "execution_count": 6,
     "metadata": {},
     "output_type": "execute_result"
    }
   ],
   "source": [
    "df = DataFrame({\"date\":date,\"tweet\":data})\n",
    "#df = df.set_index(\"date\")\n",
    "df"
   ]
  },
  {
   "cell_type": "code",
   "execution_count": 7,
   "metadata": {
    "scrolled": true
   },
   "outputs": [
    {
     "data": {
      "text/html": [
       "<div>\n",
       "<style scoped>\n",
       "    .dataframe tbody tr th:only-of-type {\n",
       "        vertical-align: middle;\n",
       "    }\n",
       "\n",
       "    .dataframe tbody tr th {\n",
       "        vertical-align: top;\n",
       "    }\n",
       "\n",
       "    .dataframe thead th {\n",
       "        text-align: right;\n",
       "    }\n",
       "</style>\n",
       "<table border=\"1\" class=\"dataframe\">\n",
       "  <thead>\n",
       "    <tr style=\"text-align: right;\">\n",
       "      <th></th>\n",
       "      <th>date</th>\n",
       "      <th>tweet</th>\n",
       "    </tr>\n",
       "  </thead>\n",
       "  <tbody>\n",
       "    <tr>\n",
       "      <td>131</td>\n",
       "      <td>2019-07-14</td>\n",
       "      <td>https://t.co/YaiCXrxYQq .....Sorry, can’t let...</td>\n",
       "    </tr>\n",
       "    <tr>\n",
       "      <td>130</td>\n",
       "      <td>2019-07-15</td>\n",
       "      <td>The Obama Administration built the Cages, not...</td>\n",
       "    </tr>\n",
       "    <tr>\n",
       "      <td>129</td>\n",
       "      <td>2019-07-16</td>\n",
       "      <td>Looking forward to tomorrow night’s rally in ...</td>\n",
       "    </tr>\n",
       "    <tr>\n",
       "      <td>128</td>\n",
       "      <td>2019-07-17</td>\n",
       "      <td>The United States House of Representatives ha...</td>\n",
       "    </tr>\n",
       "    <tr>\n",
       "      <td>127</td>\n",
       "      <td>2019-07-18</td>\n",
       "      <td>This should have been taken care of years ago...</td>\n",
       "    </tr>\n",
       "  </tbody>\n",
       "</table>\n",
       "</div>"
      ],
      "text/plain": [
       "           date                                              tweet\n",
       "131  2019-07-14   https://t.co/YaiCXrxYQq .....Sorry, can’t let...\n",
       "130  2019-07-15   The Obama Administration built the Cages, not...\n",
       "129  2019-07-16   Looking forward to tomorrow night’s rally in ...\n",
       "128  2019-07-17   The United States House of Representatives ha...\n",
       "127  2019-07-18   This should have been taken care of years ago..."
      ]
     },
     "execution_count": 7,
     "metadata": {},
     "output_type": "execute_result"
    }
   ],
   "source": [
    "df = df.sort_values('date')\n",
    "#df = df.reset_index(drop=True)\n",
    "df.head()"
   ]
  },
  {
   "cell_type": "code",
   "execution_count": 8,
   "metadata": {
    "scrolled": true
   },
   "outputs": [
    {
     "name": "stdout",
     "output_type": "stream",
     "text": [
      "<class 'pandas.core.frame.DataFrame'>\n",
      "Int64Index: 132 entries, 131 to 0\n",
      "Data columns (total 2 columns):\n",
      "date     132 non-null object\n",
      "tweet    132 non-null object\n",
      "dtypes: object(2)\n",
      "memory usage: 3.1+ KB\n"
     ]
    }
   ],
   "source": [
    "df.info()"
   ]
  },
  {
   "cell_type": "code",
   "execution_count": 9,
   "metadata": {},
   "outputs": [],
   "source": [
    "df.to_csv(\"trumptweep.csv\",index=True)"
   ]
  }
 ],
 "metadata": {
  "kernelspec": {
   "display_name": "Python 3",
   "language": "python",
   "name": "python3"
  },
  "language_info": {
   "codemirror_mode": {
    "name": "ipython",
    "version": 3
   },
   "file_extension": ".py",
   "mimetype": "text/x-python",
   "name": "python",
   "nbconvert_exporter": "python",
   "pygments_lexer": "ipython3",
   "version": "3.7.3"
  }
 },
 "nbformat": 4,
 "nbformat_minor": 2
}
