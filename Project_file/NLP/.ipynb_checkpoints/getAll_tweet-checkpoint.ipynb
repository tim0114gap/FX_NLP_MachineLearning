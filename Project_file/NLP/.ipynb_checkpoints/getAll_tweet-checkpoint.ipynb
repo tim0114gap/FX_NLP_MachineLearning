{
 "cells": [
  {
   "cell_type": "markdown",
   "metadata": {},
   "source": [
    "https://yukituna.com/2260/"
   ]
  },
  {
   "cell_type": "code",
   "execution_count": 1,
   "metadata": {},
   "outputs": [],
   "source": [
    "import tweepy"
   ]
  },
  {
   "cell_type": "code",
   "execution_count": 2,
   "metadata": {},
   "outputs": [],
   "source": [
    "ck = \"73SL2jVh2Puw7edSRP5JZceS1\"\n",
    "cs = \"QFB3x8XYsQMNUYk6u0et3ky2k3taCmdpU7zNJX1RtMjuWf2mn2\"\n",
    "at = \"2592817850-T7SjlwRhI4ij2E8jpYKpgl7jfA6S5NRPqexVxJ4\"\n",
    "ats = \"oDc9bdqwKrQzV8y2pdgGyfQSqFudxsllAgEcB8nB1M9Aw\"\n",
    "auth = tweepy.OAuthHandler(ck, cs)\n",
    "auth.set_access_token(at, ats)\n",
    "api = tweepy.API(auth)"
   ]
  },
  {
   "cell_type": "code",
   "execution_count": 3,
   "metadata": {},
   "outputs": [],
   "source": [
    "data = []\n",
    "date = []\n",
    "\n",
    "pages = [1,2,3,4,5,6,7,8,9,10,11]\n",
    "for page in pages:\n",
    "    results = api.user_timeline(screen_name=\"realDonaldTrump\", count=200, page=page)\n",
    "    for r in results:\n",
    "        data.append(r.text)\n",
    "        date.append(r.created_at)"
   ]
  },
  {
   "cell_type": "code",
   "execution_count": 4,
   "metadata": {},
   "outputs": [],
   "source": [
    "from pandas import DataFrame\n",
    "import pandas as pd"
   ]
  },
  {
   "cell_type": "code",
   "execution_count": 5,
   "metadata": {},
   "outputs": [
    {
     "data": {
      "text/html": [
       "<div>\n",
       "<style scoped>\n",
       "    .dataframe tbody tr th:only-of-type {\n",
       "        vertical-align: middle;\n",
       "    }\n",
       "\n",
       "    .dataframe tbody tr th {\n",
       "        vertical-align: top;\n",
       "    }\n",
       "\n",
       "    .dataframe thead th {\n",
       "        text-align: right;\n",
       "    }\n",
       "</style>\n",
       "<table border=\"1\" class=\"dataframe\">\n",
       "  <thead>\n",
       "    <tr style=\"text-align: right;\">\n",
       "      <th></th>\n",
       "      <th>tweet</th>\n",
       "    </tr>\n",
       "    <tr>\n",
       "      <th>date</th>\n",
       "      <th></th>\n",
       "    </tr>\n",
       "  </thead>\n",
       "  <tbody>\n",
       "    <tr>\n",
       "      <td>2019-11-06 23:56:46</td>\n",
       "      <td>A great evening last night in Kentucky and Mis...</td>\n",
       "    </tr>\n",
       "    <tr>\n",
       "      <td>2019-11-06 23:27:00</td>\n",
       "      <td>RT @RepDougCollins: Here’s Ambassador Taylor t...</td>\n",
       "    </tr>\n",
       "    <tr>\n",
       "      <td>2019-11-06 22:46:59</td>\n",
       "      <td>RT @realDonaldTrump: Stock Markets (all three)...</td>\n",
       "    </tr>\n",
       "    <tr>\n",
       "      <td>2019-11-06 21:54:02</td>\n",
       "      <td>Thanks to many of you here today, my Administr...</td>\n",
       "    </tr>\n",
       "    <tr>\n",
       "      <td>2019-11-06 20:15:58</td>\n",
       "      <td>....Also talked about their Border with Syria,...</td>\n",
       "    </tr>\n",
       "  </tbody>\n",
       "</table>\n",
       "</div>"
      ],
      "text/plain": [
       "                                                                 tweet\n",
       "date                                                                  \n",
       "2019-11-06 23:56:46  A great evening last night in Kentucky and Mis...\n",
       "2019-11-06 23:27:00  RT @RepDougCollins: Here’s Ambassador Taylor t...\n",
       "2019-11-06 22:46:59  RT @realDonaldTrump: Stock Markets (all three)...\n",
       "2019-11-06 21:54:02  Thanks to many of you here today, my Administr...\n",
       "2019-11-06 20:15:58  ....Also talked about their Border with Syria,..."
      ]
     },
     "execution_count": 5,
     "metadata": {},
     "output_type": "execute_result"
    }
   ],
   "source": [
    "df = DataFrame({\"date\":date,\"tweet\":data})\n",
    "df = df.set_index(\"date\")\n",
    "df.head()"
   ]
  },
  {
   "cell_type": "code",
   "execution_count": 6,
   "metadata": {},
   "outputs": [
    {
     "data": {
      "text/html": [
       "<div>\n",
       "<style scoped>\n",
       "    .dataframe tbody tr th:only-of-type {\n",
       "        vertical-align: middle;\n",
       "    }\n",
       "\n",
       "    .dataframe tbody tr th {\n",
       "        vertical-align: top;\n",
       "    }\n",
       "\n",
       "    .dataframe thead th {\n",
       "        text-align: right;\n",
       "    }\n",
       "</style>\n",
       "<table border=\"1\" class=\"dataframe\">\n",
       "  <thead>\n",
       "    <tr style=\"text-align: right;\">\n",
       "      <th></th>\n",
       "      <th>tweet</th>\n",
       "    </tr>\n",
       "  </thead>\n",
       "  <tbody>\n",
       "    <tr>\n",
       "      <td>0</td>\n",
       "      <td>RT @Jim_Jordan: Business owners and hard-worki...</td>\n",
       "    </tr>\n",
       "    <tr>\n",
       "      <td>1</td>\n",
       "      <td>RT @TomFitton: BREAKING: FBI 302 reports of Br...</td>\n",
       "    </tr>\n",
       "    <tr>\n",
       "      <td>2</td>\n",
       "      <td>RT @SaraCarterDC: Talking about the BREAKING r...</td>\n",
       "    </tr>\n",
       "    <tr>\n",
       "      <td>3</td>\n",
       "      <td>RT @TomFitton: Biggest story anti-@realDonaldT...</td>\n",
       "    </tr>\n",
       "    <tr>\n",
       "      <td>4</td>\n",
       "      <td>RT @MZHemingway: EXCITING NEWS: I've written a...</td>\n",
       "    </tr>\n",
       "  </tbody>\n",
       "</table>\n",
       "</div>"
      ],
      "text/plain": [
       "                                               tweet\n",
       "0  RT @Jim_Jordan: Business owners and hard-worki...\n",
       "1  RT @TomFitton: BREAKING: FBI 302 reports of Br...\n",
       "2  RT @SaraCarterDC: Talking about the BREAKING r...\n",
       "3  RT @TomFitton: Biggest story anti-@realDonaldT...\n",
       "4  RT @MZHemingway: EXCITING NEWS: I've written a..."
      ]
     },
     "execution_count": 6,
     "metadata": {},
     "output_type": "execute_result"
    }
   ],
   "source": [
    "df2 = df.sort_values('date')\n",
    "df2 = df.reset_index(drop=True)\n",
    "df2.head()"
   ]
  },
  {
   "cell_type": "code",
   "execution_count": 6,
   "metadata": {
    "scrolled": true
   },
   "outputs": [
    {
     "name": "stdout",
     "output_type": "stream",
     "text": [
      "<class 'pandas.core.frame.DataFrame'>\n",
      "DatetimeIndex: 2196 entries, 2019-11-01 14:08:56 to 2019-08-16 15:57:04\n",
      "Data columns (total 1 columns):\n",
      "tweet    2196 non-null object\n",
      "dtypes: object(1)\n",
      "memory usage: 34.3+ KB\n"
     ]
    }
   ],
   "source": [
    "df.info()"
   ]
  },
  {
   "cell_type": "code",
   "execution_count": 8,
   "metadata": {},
   "outputs": [],
   "source": [
    "df.to_csv(\"trumptweep.csv\",index=True)"
   ]
  }
 ],
 "metadata": {
  "kernelspec": {
   "display_name": "Python 3",
   "language": "python",
   "name": "python3"
  },
  "language_info": {
   "codemirror_mode": {
    "name": "ipython",
    "version": 3
   },
   "file_extension": ".py",
   "mimetype": "text/x-python",
   "name": "python",
   "nbconvert_exporter": "python",
   "pygments_lexer": "ipython3",
   "version": "3.7.3"
  }
 },
 "nbformat": 4,
 "nbformat_minor": 2
}
