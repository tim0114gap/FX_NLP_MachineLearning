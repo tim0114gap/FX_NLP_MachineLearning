{
 "cells": [
  {
   "cell_type": "code",
   "execution_count": 1,
   "metadata": {},
   "outputs": [],
   "source": [
    "import urllib3\n",
    "from bs4 import BeautifulSoup\n",
    "import certifi"
   ]
  },
  {
   "cell_type": "code",
   "execution_count": 2,
   "metadata": {},
   "outputs": [
    {
     "data": {
      "text/plain": [
       "\"the corrective forces through dollar/yen were held up a touch on friday with mixed data points positive payrolls but disappointing ism daily market outlook on major. update time: 04 nov 2019 09:30gmt. usd/jpy - 108.37. dollar's selloff from last wednesday's high at usd/jpy had a very bearish last week. the pair produced an engulfing bearish weekly candle at the resistance of a double top. the recent although global risk headlines have been quite a few over the weekend, usd/jpy fails to extend its bounce off 100-day ema amid the initial the usd/jpy was closed at 108.169 after placing a high of 108.322 and a low of 107.884. overall movement for the pair remained bullish that intra-day market moving news and views update time: 04 nov 2019 04:30gmt usd/jpy - 108.23.. dollar moves narrowly in holiday-thinned the usd/jpy pair lost 50 pips last week and started to retrace its drop on monday. as of writing, the pair was trading at fresh session highs at following an upside breakout of a large head and shoulders bottom pattern several weeks ago, the usd/jpy pulled back to test support of the the usd/jpy pair fell last week to finish it at 108.16, having recovered just modestly on friday after bottoming at 107.88. it found support on a based on last week's price action and the close at 108.191, the direction of the usd/jpy this week is likely to be determined by trader reaction to a support usd/jpy has been looking for a new direction after a tumultuous week that saw ups and downs. where next for this major pair? the technical with this, the usd/jpy pair takes the bids to 108.75 by the press time of tokyo open on tuesday. not only trade-positive comments from the us the usd/jpy pair has posted a robust comeback this monday, reaching the 108.60 during the us afternoon, as wall street surged, with the the usd/jpy pair lost 50 pips last week and started to retrace its drop on monday. as of writing, the pair was trading at fresh session highs at the usd/jpy pair continued gaining positive traction for the third consecutive session on tuesday and is currently placed at multi-day tops, the corrective forces through dollar/yen were held up a touch on friday with mixed data points positive payrolls but disappointing ism according to fx strategists at uob group, usd/jpy carries the potential to re-visit the mid-107.00s in the near term.usd/jpy had a very bearish last week. the pair produced an engulfing bearish weekly candle at the resistance of a double top. the recent although global risk headlines have been quite a few over the weekend, usd/jpy fails to extend its bounce off 100-day ema amid the initial the usd/jpy pair spiked to 109 after the federal open market committee fomc announced that it lowered the policy rate by 25 basis points looking at the chart below, there is a rising wedge formation which usd/jpy is heading to the top of. on friday there was a decent sell-off but usd/jpy has been looking for a new direction after a tumultuous week that saw ups and downs. where next for this major pair? the technical the dollar bulls look rattled after the fomc decision last week, but have managed to pick themselves up and string together two positive daily market outlook on major. update time: 05 nov 2019 09:30gmt. usd/jpy - 108.82. despite dollar's retreat to 107.90 in asia on following the recent price action, usd/jpy is still seen navigating within a sideline theme, suggested fx strategists at uob group.the pair built on last week's late rebound from sub-108.00 levels and continued gaining some positive traction for the third consecutive session usd/jpy continues to gain altitude amid the us-china trade optimism and the uptick in the equities. the pair is currently trading at session the usd/jpy pair rose further during the american session and printed a fresh daily high at 108.50. the greenback is rising for the the usd/jpy pair has extended its recovery to 108.89, as risk appetite continued to dominate the financial sphere. asian equities followed the the pair rallies for the third straight day, boosted by fresh hopes on us/china trade deal that prompted investors into riskier assets. last week's the usd/jpy pair rallied around 50 pips in the last hour and refreshed session tops in the last hour, with bulls looking to extend the momentum usd/jpy - 108.90.. dlr finally cut its recent winning streak n edged lower to 108.92 in asia wed on profit taking due to falling u.s. yields.usd/jpy is currently trading at 108.74, representing a 24-pip loss on the daily open of 108.98. the currency pair is losing altitude amid the the usd/jpy made a bearish bounce at the previous top and has broken below the support trend line dotted blue, which could indicate a optimistic news on us/china trade issue prompted investors into riskier assets and pushed the pair back above 200dma 109.02.usd/jpy struggles to extend the latest pullback after japanese manufacturers turn the most pessimistic since 2013. upbeat trade/brexit the usd/jpy pair has retreated from a weekly high of 109.23, extending its intraday slide to 108.81 following us-china trade news, as, after spending the majority of the day moving sideways near the 109 handle, the usd/jpy pair came under strong bearish pressure in the last the up move in usd/jpy is seen meeting a tough barrier at 109.75 in the short-term horizon, in opinion of fx strategists at uob group.usd/jpy is challenging the 109.00 handle and the 200-day simple moving average sma on the daily chart. in both september and october, safe-haven assets are on the rise, with usd/jpy falling off the highs. aud/usd has extended its falls, amid the risk-off mood. here is the move the u.s. dollar continues to dominate the major currencies in this week's performance up by 1.09% also reaching 109.485 against the yen its retracement zone at 108.434 to 109.371 is currently being tested. this retracement zone is clearly controlling the longer-term direction of the usd/jpy.the usd/jpy pair edged higher in the early trading hours of the american session but couldn't gather enough momentum to break above the usd/jpy is seeing little action in the asian session, as an upbeat japanese data is struggling to put a bid under jpy, possibly due to risk-on in usd/jpy could break above 109.75 – uob  at uob group do not rule out a move above the 109.75 level in usd/jpy the next weeks.the usd/jpy pair consolidates weekly gains in the 109.30 price zone, having eased just modestly from a fresh multi-month high of 109.48.daily market outlook on major. update time: 08 nov 2019 09:30gmt. usd/jpy - 109.28. dollar's firm break of october's high at 109.28 usd/jpy is trading above the 109.00 handle and the 200-day simple moving average sma on the daily chart. in the last two months the the usd/jpy pair seesawed between tepid gains/minor losses through the asian session on friday and is currently placed in the neutral the usd/jpy pair stalls its recovery from six-day lows of 108.65 and holds its range around 108.80 region, as the renewed us-china trade elliott wave view on usdjpy suggests the rally from october 3 low is unfolding as a leading diagonal. a leading diagonal is one form of a 5 usd/jpy is trading just below the 109.00 handle and the 200-day simple moving average dma on the daily chart. in both september and the usd/jpy pair came under renewed bearish pressure on wednesday as the risk-off atmosphere allowed safe-havens to find demand.in opinion of fx strategists at uob group, usd/jpy could have charted a short-term top in the mid-109.00s.usd/jpy - 108.78.. dlr fell initially below mon's 108.90 low to 108.88 at asian open on wed, despite rebounding to 109.14 in europe, price as we can see in the h4 chart, usd/jpy has rebounded from the resistance at 8/8. in this case, the price may break 7/8 and then continue daily market outlook on major update time: 13 nov 2019 09:53 gmt. usd/jpy - 109.13. despite dollar's retreat from last thursday's usd/jpy succeeded in pushing above the 200-day sma last week, and while it then dropped back slightly, the short-term move higher is intact.despite the influence of the u.s. cpi consumer inflation figures and powell's statement, i don't believe usd/jpy will be disturbed by anything the usd/jpy pair has extended its decline to 108.56 so far this thursday, hurt by mounting tensions between the us and china. according to the usd/jpy pair came under renewed bearish pressure during the american trading hours and slumped to its lowest level in ten days at the usd/jpy overnight rebound extends in friday's asian trades, as the bulls regain the 108.50 after the risk-recovery gathered steam on as of writing, the usd/jpy pair, which touched a fresh weekly low of 108.57 earlier in the session, was trading at 108.65, losing 0.15% on a a recent run of neutral to negative candlesticks has once more questioned the ability of the bulls to drive a breakout forward. the failure to usd/jpy - 108.78.. dlr fell initially below mon's 108.90 low to 108.88 at asian open on wed, despite rebounding to 109.14 in europe, price the us dollar has pulled back a bit against the japanese yen, in what would be thought of as a “risk off” type of situation. that being said, this the usd/jpy pair extended its recent pullback from multi-month tops and remained under some selling pressure for the fifth consecutive escalating protests in hong kong and uncertainty surrounding the us-china trade deal exert downside pressure on the usd/jpy pair as it the us dollar has rallied towards the 61.8% fibonacci retracement level again against the japanese yen. at this point, the market is very likely to continue to the usd/jpy pair came under renewed bearish pressure during the american trading hours and slumped to its lowest level in ten days at the usd/jpy overnight rebound extends in friday's asian trades, as the bulls regain the 108.50 after the risk-recovery gathered steam on the usd/jpy pair has extended its decline to 108.56 so far this thursday, hurt by mounting tensions between the us and china. according to the usd/jpy currency pair hit the bullish track and rose by 30-pips while reached on 108.70, mainly due to uncertainty eased between the as of writing, the usd/jpy pair, which touched a fresh weekly low of 108.57 earlier in the session, was trading at 108.65, losing 0.15% on a the usd/jpy pair recovered from a daily low of 108.23 and trades around 108.65, former relevant support, as the market´s mood stabilised the us dollar has rallied towards the 61.8% fibonacci retracement level again against the japanese yen. at this point, the market is very likely to continue to the usd/jpy pair has finished friday with modest losses, but firmly up for the week at around 109.20. the pair lost momentum in the last usd/jpy - 108.78.. dlr fell initially below mon's 108.90 low to 108.88 at asian open on wed, despite rebounding to 109.14 in europe, price a recent run of neutral to negative candlesticks has once more questioned the ability of the bulls to drive a breakout forward. the failure to \""
      ]
     },
     "execution_count": 2,
     "metadata": {},
     "output_type": "execute_result"
    }
   ],
   "source": [
    "path = \"news.txt\"\n",
    "with open(path) as f:\n",
    "    s = f.read()\n",
    "s"
   ]
  },
  {
   "cell_type": "code",
   "execution_count": 3,
   "metadata": {},
   "outputs": [],
   "source": [
    "#アクセスするURL\n",
    "url = \"https://www.google.com/search?rlz=1C6GCEA_enKR868KR868&sxsrf=ACYBGNQoU_oqPa3Z2AM7zVFXIAxh8Sy4Ug:1571052415874&q=USD/JPY+news&tbm=nws&source=univ&tbo=u&sa=X&ved=2ahUKEwjAva-p0pvlAhVsHKYKHbE2Ar0Qt8YBKAF6BAgFEA4&biw=1440&bih=789\""
   ]
  },
  {
   "cell_type": "code",
   "execution_count": 4,
   "metadata": {},
   "outputs": [
    {
     "name": "stderr",
     "output_type": "stream",
     "text": [
      "/home/tim0114gap/anaconda3/lib/python3.7/site-packages/urllib3/connectionpool.py:847: InsecureRequestWarning: Unverified HTTPS request is being made. Adding certificate verification is strongly advised. See: https://urllib3.readthedocs.io/en/latest/advanced-usage.html#ssl-warnings\n",
      "  InsecureRequestWarning)\n"
     ]
    }
   ],
   "source": [
    "# httpsの証明書検証を実行している\n",
    "http = urllib3.PoolManager()\n",
    "r = http.request('GET', url)"
   ]
  },
  {
   "cell_type": "code",
   "execution_count": 5,
   "metadata": {},
   "outputs": [],
   "source": [
    "soup = BeautifulSoup(r.data, 'html.parser')\n",
    "soup2 = BeautifulSoup(r.data, 'html.parser')"
   ]
  },
  {
   "cell_type": "code",
   "execution_count": 6,
   "metadata": {},
   "outputs": [
    {
     "name": "stdout",
     "output_type": "stream",
     "text": [
      "<title>USD/JPY news - Google 검색</title>\n",
      "USD/JPY news - Google 검색\n"
     ]
    }
   ],
   "source": [
    "# タイトル取得\n",
    "title_tag = soup.title\n",
    "print(title_tag)\n",
    "\n",
    "# 要素の文字列を取得\n",
    "title = title_tag.string\n",
    "print(title)"
   ]
  },
  {
   "cell_type": "code",
   "execution_count": 7,
   "metadata": {},
   "outputs": [
    {
     "name": "stdout",
     "output_type": "stream",
     "text": [
      "[]\n"
     ]
    }
   ],
   "source": [
    "span = soup.find_all(class_=\"st\")\n",
    "print(span)"
   ]
  },
  {
   "cell_type": "code",
   "execution_count": 8,
   "metadata": {},
   "outputs": [],
   "source": [
    "lst = ['<div class=\"st\">',\"</div>\",\"<b>\",\"</b>\",\"...\",\"(\",\")\"]\n",
    "# corpus = []\n",
    "# [corpus.append(list(i)) for i in span]\n",
    "\n",
    "word = \"\"\n",
    "for text in span:\n",
    "    text = str(text)\n",
    "    for x in lst:\n",
    "        text = text.replace(x,\"\")\n",
    "        text = text.lower()\n",
    "    word += text"
   ]
  },
  {
   "cell_type": "code",
   "execution_count": 9,
   "metadata": {
    "scrolled": true
   },
   "outputs": [
    {
     "data": {
      "text/plain": [
       "''"
      ]
     },
     "execution_count": 9,
     "metadata": {},
     "output_type": "execute_result"
    }
   ],
   "source": [
    "word = word.replace(\"\\xa0\", \" \")\n",
    "word"
   ]
  },
  {
   "cell_type": "code",
   "execution_count": 10,
   "metadata": {},
   "outputs": [],
   "source": [
    "path = \"news.txt\"\n",
    "with open(path, mode='w') as f:\n",
    "    f.write(s+word)"
   ]
  }
 ],
 "metadata": {
  "kernelspec": {
   "display_name": "Python 3",
   "language": "python",
   "name": "python3"
  },
  "language_info": {
   "codemirror_mode": {
    "name": "ipython",
    "version": 3
   },
   "file_extension": ".py",
   "mimetype": "text/x-python",
   "name": "python",
   "nbconvert_exporter": "python",
   "pygments_lexer": "ipython3",
   "version": "3.7.4"
  }
 },
 "nbformat": 4,
 "nbformat_minor": 2
}
