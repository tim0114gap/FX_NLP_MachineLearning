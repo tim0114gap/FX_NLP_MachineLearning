{
 "cells": [
  {
   "cell_type": "code",
   "execution_count": 1,
   "metadata": {},
   "outputs": [
    {
     "name": "stderr",
     "output_type": "stream",
     "text": [
      "Using TensorFlow backend.\n"
     ]
    }
   ],
   "source": [
    "import numpy as np\n",
    "import pandas as pd\n",
    "from pandas import DataFrame\n",
    "import matplotlib.pyplot as plt\n",
    "import seaborn as sns\n",
    "\n",
    "from sklearn.model_selection import train_test_split\n",
    "from sklearn.preprocessing import MinMaxScaler\n",
    "\n",
    "import keras\n",
    "from keras.layers.recurrent import LSTM\n",
    "from keras.models import Sequential\n",
    "from keras.layers import Dense, Activation\n",
    "from keras.layers.core import Dropout\n",
    "from keras.optimizers import Adam\n",
    "from keras.callbacks import EarlyStopping\n",
    "\n",
    "from keras.utils import plot_model, to_categorical"
   ]
  },
  {
   "cell_type": "code",
   "execution_count": 2,
   "metadata": {},
   "outputs": [],
   "source": [
    "pd.options.display.float_format = '{:0.2f}'.format"
   ]
  },
  {
   "cell_type": "code",
   "execution_count": 3,
   "metadata": {},
   "outputs": [
    {
     "data": {
      "text/html": [
       "<div>\n",
       "<style scoped>\n",
       "    .dataframe tbody tr th:only-of-type {\n",
       "        vertical-align: middle;\n",
       "    }\n",
       "\n",
       "    .dataframe tbody tr th {\n",
       "        vertical-align: top;\n",
       "    }\n",
       "\n",
       "    .dataframe thead th {\n",
       "        text-align: right;\n",
       "    }\n",
       "</style>\n",
       "<table border=\"1\" class=\"dataframe\">\n",
       "  <thead>\n",
       "    <tr style=\"text-align: right;\">\n",
       "      <th></th>\n",
       "      <th>time</th>\n",
       "      <th>open</th>\n",
       "      <th>high</th>\n",
       "      <th>low</th>\n",
       "      <th>close</th>\n",
       "      <th>5mean</th>\n",
       "      <th>target</th>\n",
       "    </tr>\n",
       "  </thead>\n",
       "  <tbody>\n",
       "    <tr>\n",
       "      <td>0</td>\n",
       "      <td>2015-01-08 07:00:00</td>\n",
       "      <td>119.24</td>\n",
       "      <td>119.96</td>\n",
       "      <td>119.16</td>\n",
       "      <td>119.66</td>\n",
       "      <td>119.49</td>\n",
       "      <td>0</td>\n",
       "    </tr>\n",
       "    <tr>\n",
       "      <td>1</td>\n",
       "      <td>2015-01-09 07:00:00</td>\n",
       "      <td>119.69</td>\n",
       "      <td>119.88</td>\n",
       "      <td>118.42</td>\n",
       "      <td>118.54</td>\n",
       "      <td>119.10</td>\n",
       "      <td>0</td>\n",
       "    </tr>\n",
       "    <tr>\n",
       "      <td>2</td>\n",
       "      <td>2015-01-12 07:00:00</td>\n",
       "      <td>118.34</td>\n",
       "      <td>119.32</td>\n",
       "      <td>118.10</td>\n",
       "      <td>118.35</td>\n",
       "      <td>118.84</td>\n",
       "      <td>0</td>\n",
       "    </tr>\n",
       "    <tr>\n",
       "      <td>3</td>\n",
       "      <td>2015-01-13 07:00:00</td>\n",
       "      <td>118.36</td>\n",
       "      <td>118.85</td>\n",
       "      <td>117.54</td>\n",
       "      <td>117.92</td>\n",
       "      <td>118.75</td>\n",
       "      <td>0</td>\n",
       "    </tr>\n",
       "    <tr>\n",
       "      <td>4</td>\n",
       "      <td>2015-01-14 07:00:00</td>\n",
       "      <td>117.92</td>\n",
       "      <td>117.96</td>\n",
       "      <td>116.07</td>\n",
       "      <td>117.33</td>\n",
       "      <td>118.36</td>\n",
       "      <td>0</td>\n",
       "    </tr>\n",
       "  </tbody>\n",
       "</table>\n",
       "</div>"
      ],
      "text/plain": [
       "                  time   open   high    low  close  5mean  target\n",
       "0  2015-01-08 07:00:00 119.24 119.96 119.16 119.66 119.49       0\n",
       "1  2015-01-09 07:00:00 119.69 119.88 118.42 118.54 119.10       0\n",
       "2  2015-01-12 07:00:00 118.34 119.32 118.10 118.35 118.84       0\n",
       "3  2015-01-13 07:00:00 118.36 118.85 117.54 117.92 118.75       0\n",
       "4  2015-01-14 07:00:00 117.92 117.96 116.07 117.33 118.36       0"
      ]
     },
     "execution_count": 3,
     "metadata": {},
     "output_type": "execute_result"
    }
   ],
   "source": [
    "df = pd.read_csv(\"FX_MA_5days.csv\")\n",
    "df.head()"
   ]
  },
  {
   "cell_type": "code",
   "execution_count": 4,
   "metadata": {},
   "outputs": [
    {
     "name": "stdout",
     "output_type": "stream",
     "text": [
      "<class 'pandas.core.frame.DataFrame'>\n",
      "RangeIndex: 515 entries, 0 to 514\n",
      "Data columns (total 7 columns):\n",
      "time      515 non-null object\n",
      "open      515 non-null float64\n",
      "high      515 non-null float64\n",
      "low       515 non-null float64\n",
      "close     515 non-null float64\n",
      "5mean     515 non-null float64\n",
      "target    515 non-null int64\n",
      "dtypes: float64(5), int64(1), object(1)\n",
      "memory usage: 28.3+ KB\n"
     ]
    }
   ],
   "source": [
    "df.info()"
   ]
  },
  {
   "cell_type": "code",
   "execution_count": 5,
   "metadata": {},
   "outputs": [
    {
     "data": {
      "text/plain": [
       "1    268\n",
       "0    247\n",
       "Name: target, dtype: int64"
      ]
     },
     "execution_count": 5,
     "metadata": {},
     "output_type": "execute_result"
    }
   ],
   "source": [
    "df['target'].value_counts()"
   ]
  },
  {
   "cell_type": "code",
   "execution_count": 6,
   "metadata": {},
   "outputs": [],
   "source": [
    "# 時間表記スライシング\n",
    "def timechange(time):\n",
    "    time = \"\".join(str(time)[:10])\n",
    "    return time"
   ]
  },
  {
   "cell_type": "code",
   "execution_count": 7,
   "metadata": {},
   "outputs": [
    {
     "data": {
      "text/html": [
       "<div>\n",
       "<style scoped>\n",
       "    .dataframe tbody tr th:only-of-type {\n",
       "        vertical-align: middle;\n",
       "    }\n",
       "\n",
       "    .dataframe tbody tr th {\n",
       "        vertical-align: top;\n",
       "    }\n",
       "\n",
       "    .dataframe thead th {\n",
       "        text-align: right;\n",
       "    }\n",
       "</style>\n",
       "<table border=\"1\" class=\"dataframe\">\n",
       "  <thead>\n",
       "    <tr style=\"text-align: right;\">\n",
       "      <th></th>\n",
       "      <th>date</th>\n",
       "      <th>open</th>\n",
       "      <th>high</th>\n",
       "      <th>low</th>\n",
       "      <th>close</th>\n",
       "      <th>5mean</th>\n",
       "      <th>target</th>\n",
       "    </tr>\n",
       "  </thead>\n",
       "  <tbody>\n",
       "    <tr>\n",
       "      <td>0</td>\n",
       "      <td>2015-01-08</td>\n",
       "      <td>119.24</td>\n",
       "      <td>119.96</td>\n",
       "      <td>119.16</td>\n",
       "      <td>119.66</td>\n",
       "      <td>119.49</td>\n",
       "      <td>0</td>\n",
       "    </tr>\n",
       "    <tr>\n",
       "      <td>1</td>\n",
       "      <td>2015-01-09</td>\n",
       "      <td>119.69</td>\n",
       "      <td>119.88</td>\n",
       "      <td>118.42</td>\n",
       "      <td>118.54</td>\n",
       "      <td>119.10</td>\n",
       "      <td>0</td>\n",
       "    </tr>\n",
       "    <tr>\n",
       "      <td>2</td>\n",
       "      <td>2015-01-12</td>\n",
       "      <td>118.34</td>\n",
       "      <td>119.32</td>\n",
       "      <td>118.10</td>\n",
       "      <td>118.35</td>\n",
       "      <td>118.84</td>\n",
       "      <td>0</td>\n",
       "    </tr>\n",
       "    <tr>\n",
       "      <td>3</td>\n",
       "      <td>2015-01-13</td>\n",
       "      <td>118.36</td>\n",
       "      <td>118.85</td>\n",
       "      <td>117.54</td>\n",
       "      <td>117.92</td>\n",
       "      <td>118.75</td>\n",
       "      <td>0</td>\n",
       "    </tr>\n",
       "    <tr>\n",
       "      <td>4</td>\n",
       "      <td>2015-01-14</td>\n",
       "      <td>117.92</td>\n",
       "      <td>117.96</td>\n",
       "      <td>116.07</td>\n",
       "      <td>117.33</td>\n",
       "      <td>118.36</td>\n",
       "      <td>0</td>\n",
       "    </tr>\n",
       "  </tbody>\n",
       "</table>\n",
       "</div>"
      ],
      "text/plain": [
       "         date   open   high    low  close  5mean  target\n",
       "0  2015-01-08 119.24 119.96 119.16 119.66 119.49       0\n",
       "1  2015-01-09 119.69 119.88 118.42 118.54 119.10       0\n",
       "2  2015-01-12 118.34 119.32 118.10 118.35 118.84       0\n",
       "3  2015-01-13 118.36 118.85 117.54 117.92 118.75       0\n",
       "4  2015-01-14 117.92 117.96 116.07 117.33 118.36       0"
      ]
     },
     "execution_count": 7,
     "metadata": {},
     "output_type": "execute_result"
    }
   ],
   "source": [
    "df['time'] = df['time'].apply(lambda x: timechange(x))\n",
    "df = df.rename(columns={'time':'date'})\n",
    "df.head()"
   ]
  },
  {
   "cell_type": "code",
   "execution_count": 8,
   "metadata": {},
   "outputs": [
    {
     "data": {
      "text/html": [
       "<div>\n",
       "<style scoped>\n",
       "    .dataframe tbody tr th:only-of-type {\n",
       "        vertical-align: middle;\n",
       "    }\n",
       "\n",
       "    .dataframe tbody tr th {\n",
       "        vertical-align: top;\n",
       "    }\n",
       "\n",
       "    .dataframe thead th {\n",
       "        text-align: right;\n",
       "    }\n",
       "</style>\n",
       "<table border=\"1\" class=\"dataframe\">\n",
       "  <thead>\n",
       "    <tr style=\"text-align: right;\">\n",
       "      <th></th>\n",
       "      <th>date</th>\n",
       "      <th>tweet</th>\n",
       "    </tr>\n",
       "  </thead>\n",
       "  <tbody>\n",
       "    <tr>\n",
       "      <td>0</td>\n",
       "      <td>2015-07-17</td>\n",
       "      <td>RT @Krause_Don: @realDonaldTrump You have bee...</td>\n",
       "    </tr>\n",
       "    <tr>\n",
       "      <td>1</td>\n",
       "      <td>2015-07-18</td>\n",
       "      <td>Via @fitsnews: Donald Trump: John McCain Is A...</td>\n",
       "    </tr>\n",
       "    <tr>\n",
       "      <td>2</td>\n",
       "      <td>2015-07-19</td>\n",
       "      <td>The Republican Party must get tougher and sma...</td>\n",
       "    </tr>\n",
       "    <tr>\n",
       "      <td>3</td>\n",
       "      <td>2015-07-20</td>\n",
       "      <td>RT @DanScavino: #Breaking\\n#ABC #NEWS ۢ #Wash...</td>\n",
       "    </tr>\n",
       "    <tr>\n",
       "      <td>4</td>\n",
       "      <td>2015-07-21</td>\n",
       "      <td>My response to the failing Des Moines Registe...</td>\n",
       "    </tr>\n",
       "  </tbody>\n",
       "</table>\n",
       "</div>"
      ],
      "text/plain": [
       "         date                                              tweet\n",
       "0  2015-07-17   RT @Krause_Don: @realDonaldTrump You have bee...\n",
       "1  2015-07-18   Via @fitsnews: Donald Trump: John McCain Is A...\n",
       "2  2015-07-19   The Republican Party must get tougher and sma...\n",
       "3  2015-07-20   RT @DanScavino: #Breaking\\n#ABC #NEWS ۢ #Wash...\n",
       "4  2015-07-21   My response to the failing Des Moines Registe..."
      ]
     },
     "execution_count": 8,
     "metadata": {},
     "output_type": "execute_result"
    }
   ],
   "source": [
    "#　Twitterデータ取得\n",
    "tweet = pd.read_csv('trumptweep2015~.csv')\n",
    "del tweet['Unnamed: 0']\n",
    "tweet.head()"
   ]
  },
  {
   "cell_type": "code",
   "execution_count": 9,
   "metadata": {},
   "outputs": [
    {
     "data": {
      "text/html": [
       "<div>\n",
       "<style scoped>\n",
       "    .dataframe tbody tr th:only-of-type {\n",
       "        vertical-align: middle;\n",
       "    }\n",
       "\n",
       "    .dataframe tbody tr th {\n",
       "        vertical-align: top;\n",
       "    }\n",
       "\n",
       "    .dataframe thead th {\n",
       "        text-align: right;\n",
       "    }\n",
       "</style>\n",
       "<table border=\"1\" class=\"dataframe\">\n",
       "  <thead>\n",
       "    <tr style=\"text-align: right;\">\n",
       "      <th></th>\n",
       "      <th>date</th>\n",
       "      <th>open</th>\n",
       "      <th>high</th>\n",
       "      <th>low</th>\n",
       "      <th>close</th>\n",
       "      <th>5mean</th>\n",
       "      <th>target</th>\n",
       "      <th>tweet</th>\n",
       "    </tr>\n",
       "  </thead>\n",
       "  <tbody>\n",
       "    <tr>\n",
       "      <td>0</td>\n",
       "      <td>2015-07-17</td>\n",
       "      <td>124.13</td>\n",
       "      <td>124.23</td>\n",
       "      <td>123.92</td>\n",
       "      <td>124.06</td>\n",
       "      <td>123.76</td>\n",
       "      <td>1.00</td>\n",
       "      <td>RT @Krause_Don: @realDonaldTrump You have bee...</td>\n",
       "    </tr>\n",
       "    <tr>\n",
       "      <td>1</td>\n",
       "      <td>2015-07-20</td>\n",
       "      <td>124.03</td>\n",
       "      <td>124.38</td>\n",
       "      <td>124.01</td>\n",
       "      <td>124.28</td>\n",
       "      <td>123.93</td>\n",
       "      <td>1.00</td>\n",
       "      <td>RT @DanScavino: #Breaking\\n#ABC #NEWS ۢ #Wash...</td>\n",
       "    </tr>\n",
       "    <tr>\n",
       "      <td>2</td>\n",
       "      <td>2015-07-21</td>\n",
       "      <td>124.31</td>\n",
       "      <td>124.48</td>\n",
       "      <td>123.76</td>\n",
       "      <td>123.89</td>\n",
       "      <td>124.03</td>\n",
       "      <td>1.00</td>\n",
       "      <td>My response to the failing Des Moines Registe...</td>\n",
       "    </tr>\n",
       "    <tr>\n",
       "      <td>3</td>\n",
       "      <td>2015-07-22</td>\n",
       "      <td>123.87</td>\n",
       "      <td>124.15</td>\n",
       "      <td>123.57</td>\n",
       "      <td>123.97</td>\n",
       "      <td>124.07</td>\n",
       "      <td>1.00</td>\n",
       "      <td>RT @CNNPolitics: .@realdonaldtrump: \"The poli...</td>\n",
       "    </tr>\n",
       "    <tr>\n",
       "      <td>4</td>\n",
       "      <td>2015-07-23</td>\n",
       "      <td>123.97</td>\n",
       "      <td>124.19</td>\n",
       "      <td>123.68</td>\n",
       "      <td>123.91</td>\n",
       "      <td>124.02</td>\n",
       "      <td>0.00</td>\n",
       "      <td>RT @DRUDGE_REPORT: I think Ill get the nomina...</td>\n",
       "    </tr>\n",
       "  </tbody>\n",
       "</table>\n",
       "</div>"
      ],
      "text/plain": [
       "         date   open   high    low  close  5mean  target  \\\n",
       "0  2015-07-17 124.13 124.23 123.92 124.06 123.76    1.00   \n",
       "1  2015-07-20 124.03 124.38 124.01 124.28 123.93    1.00   \n",
       "2  2015-07-21 124.31 124.48 123.76 123.89 124.03    1.00   \n",
       "3  2015-07-22 123.87 124.15 123.57 123.97 124.07    1.00   \n",
       "4  2015-07-23 123.97 124.19 123.68 123.91 124.02    0.00   \n",
       "\n",
       "                                               tweet  \n",
       "0   RT @Krause_Don: @realDonaldTrump You have bee...  \n",
       "1   RT @DanScavino: #Breaking\\n#ABC #NEWS ۢ #Wash...  \n",
       "2   My response to the failing Des Moines Registe...  \n",
       "3   RT @CNNPolitics: .@realdonaldtrump: \"The poli...  \n",
       "4   RT @DRUDGE_REPORT: I think Ill get the nomina...  "
      ]
     },
     "execution_count": 9,
     "metadata": {},
     "output_type": "execute_result"
    }
   ],
   "source": [
    "#　右にJoinする\n",
    "data = pd.merge(df, tweet, on='date', how='right')\n",
    "data = data.dropna()\n",
    "data.head()"
   ]
  },
  {
   "cell_type": "code",
   "execution_count": 10,
   "metadata": {},
   "outputs": [
    {
     "name": "stdout",
     "output_type": "stream",
     "text": [
      "<class 'pandas.core.frame.DataFrame'>\n",
      "Int64Index: 339 entries, 0 to 341\n",
      "Data columns (total 7 columns):\n",
      "date      339 non-null object\n",
      "open      339 non-null float64\n",
      "high      339 non-null float64\n",
      "low       339 non-null float64\n",
      "close     339 non-null float64\n",
      "5mean     339 non-null float64\n",
      "target    339 non-null float64\n",
      "dtypes: float64(6), object(1)\n",
      "memory usage: 21.2+ KB\n"
     ]
    }
   ],
   "source": [
    "del data['tweet']\n",
    "data.info()"
   ]
  },
  {
   "cell_type": "code",
   "execution_count": 11,
   "metadata": {},
   "outputs": [],
   "source": [
    "#　全体を8:2で等割\n",
    "split_data = '2016-08-05'\n",
    "train, test = data[data['date'] < split_data], data[data['date'] >= split_data]"
   ]
  },
  {
   "cell_type": "code",
   "execution_count": 12,
   "metadata": {},
   "outputs": [],
   "source": [
    "train = train.set_index('date')\n",
    "test = test.set_index('date')"
   ]
  },
  {
   "cell_type": "code",
   "execution_count": 13,
   "metadata": {},
   "outputs": [],
   "source": [
    "X_train = train.iloc[:,:5]\n",
    "Y_train = train['target']\n",
    "\n",
    "X_test = test.iloc[:,:5]\n",
    "Y_test = test['target']"
   ]
  },
  {
   "cell_type": "code",
   "execution_count": 14,
   "metadata": {},
   "outputs": [
    {
     "name": "stdout",
     "output_type": "stream",
     "text": [
      "[[124.129  124.23   123.92   124.064  123.7586]\n",
      " [124.031  124.384  124.007  124.282  123.929 ]\n",
      " [124.309  124.477  123.762  123.89   124.03  ]\n",
      " ...\n",
      " [102.422  102.832  100.68   100.89   103.201 ]\n",
      " [100.878  101.572  100.75   101.24   102.3706]\n",
      " [101.222  101.668  100.865  101.223  101.5628]]\n",
      "Data len:  269\n",
      "[[124.129  124.23   123.92   124.064  123.7586]\n",
      " [124.031  124.384  124.007  124.282  123.929 ]\n",
      " [124.309  124.477  123.762  123.89   124.03  ]\n",
      " ...\n",
      " [102.422  102.832  100.68   100.89   103.201 ]\n",
      " [100.878  101.572  100.75   101.24   102.3706]\n",
      " [101.222  101.668  100.865  101.223  101.5628]]\n",
      "Data len:  70\n"
     ]
    },
    {
     "name": "stderr",
     "output_type": "stream",
     "text": [
      "/home/tim0114gap/anaconda3/lib/python3.7/site-packages/ipykernel_launcher.py:1: FutureWarning: Method .as_matrix will be removed in a future version. Use .values instead.\n",
      "  \"\"\"Entry point for launching an IPython kernel.\n",
      "/home/tim0114gap/anaconda3/lib/python3.7/site-packages/ipykernel_launcher.py:5: FutureWarning: Method .as_matrix will be removed in a future version. Use .values instead.\n",
      "  \"\"\"\n"
     ]
    }
   ],
   "source": [
    "X_train = X_train.as_matrix()\n",
    "print(X_train)\n",
    "print(\"Data len: \",len(X_train))\n",
    "\n",
    "X_test = X_test.as_matrix()\n",
    "print(X_train)\n",
    "print(\"Data len: \",len(X_test))\n",
    "\n",
    "# 正規化\n",
    "ms = MinMaxScaler()\n",
    "X_train = ms.fit_transform(X_train)\n",
    "\n",
    "ms = MinMaxScaler()\n",
    "X_test = ms.fit_transform(X_test)"
   ]
  },
  {
   "cell_type": "code",
   "execution_count": 15,
   "metadata": {},
   "outputs": [
    {
     "name": "stdout",
     "output_type": "stream",
     "text": [
      "Y_train Target len:  269\n",
      "Y_train Target len:  70\n"
     ]
    }
   ],
   "source": [
    "c = np.array(Y_train)\n",
    "print(\"Y_train Target len: \",len(Y_train))\n",
    "\n",
    "Y_test = np.array(Y_test)\n",
    "print(\"Y_train Target len: \",len(Y_test))"
   ]
  },
  {
   "cell_type": "code",
   "execution_count": 16,
   "metadata": {},
   "outputs": [],
   "source": [
    "maxlen = 5\n",
    "dataTrain = []\n",
    "targetTrain = []\n",
    "for i in range(0, len(X_train) - maxlen):\n",
    "    dataTrain.append(X_train[i: i + maxlen])\n",
    "    targetTrain.append(Y_train[i + maxlen])\n",
    "\n",
    "dataTest = []\n",
    "targetTest = []\n",
    "for i in range(0, len(X_test) - maxlen):\n",
    "    dataTest.append(X_test[i: i + maxlen])\n",
    "    targetTest.append(Y_test[i + maxlen])"
   ]
  },
  {
   "cell_type": "code",
   "execution_count": 17,
   "metadata": {},
   "outputs": [
    {
     "name": "stdout",
     "output_type": "stream",
     "text": [
      "(264, 5, 5)\n",
      "(264,)\n",
      "(65, 5, 5)\n",
      "(65,)\n"
     ]
    }
   ],
   "source": [
    "X_train = np.array(dataTrain)\n",
    "Y_train = np.array(targetTrain)\n",
    "\n",
    "X_test = np.array(dataTest)\n",
    "Y_test = np.array(targetTest)\n",
    "print(X_train.shape)\n",
    "print(Y_train.shape)\n",
    "print(X_test.shape)\n",
    "print(Y_test.shape)"
   ]
  },
  {
   "cell_type": "code",
   "execution_count": 18,
   "metadata": {},
   "outputs": [],
   "source": [
    "# Y_train = Y_train.reshape(len(Y_train), 1)\n",
    "# Y_test = Y_test.reshape(len(Y_test), 1)\n",
    "\n",
    "Y_train = to_categorical(Y_train)\n",
    "Y_test = to_categorical(Y_test)"
   ]
  },
  {
   "cell_type": "code",
   "execution_count": 19,
   "metadata": {},
   "outputs": [
    {
     "name": "stdout",
     "output_type": "stream",
     "text": [
      "(264, 5, 5)\n",
      "(264, 2)\n",
      "(65, 5, 5)\n",
      "(65, 2)\n"
     ]
    }
   ],
   "source": [
    "print(X_train.shape)\n",
    "print(Y_train.shape)\n",
    "print(X_test.shape)\n",
    "print(Y_test.shape)"
   ]
  },
  {
   "cell_type": "code",
   "execution_count": 20,
   "metadata": {},
   "outputs": [
    {
     "name": "stdout",
     "output_type": "stream",
     "text": [
      "WARNING:tensorflow:From /home/tim0114gap/anaconda3/lib/python3.7/site-packages/keras/backend/tensorflow_backend.py:74: The name tf.get_default_graph is deprecated. Please use tf.compat.v1.get_default_graph instead.\n",
      "\n",
      "WARNING:tensorflow:From /home/tim0114gap/anaconda3/lib/python3.7/site-packages/keras/backend/tensorflow_backend.py:517: The name tf.placeholder is deprecated. Please use tf.compat.v1.placeholder instead.\n",
      "\n",
      "WARNING:tensorflow:From /home/tim0114gap/anaconda3/lib/python3.7/site-packages/keras/backend/tensorflow_backend.py:4138: The name tf.random_uniform is deprecated. Please use tf.random.uniform instead.\n",
      "\n",
      "WARNING:tensorflow:From /home/tim0114gap/anaconda3/lib/python3.7/site-packages/keras/backend/tensorflow_backend.py:133: The name tf.placeholder_with_default is deprecated. Please use tf.compat.v1.placeholder_with_default instead.\n",
      "\n",
      "WARNING:tensorflow:From /home/tim0114gap/anaconda3/lib/python3.7/site-packages/keras/backend/tensorflow_backend.py:3445: calling dropout (from tensorflow.python.ops.nn_ops) with keep_prob is deprecated and will be removed in a future version.\n",
      "Instructions for updating:\n",
      "Please use `rate` instead of `keep_prob`. Rate should be set to `rate = 1 - keep_prob`.\n"
     ]
    }
   ],
   "source": [
    "'''\n",
    "モデル設定\n",
    "'''\n",
    "length_of_sequence = X_train.shape[1]  # 入力層 = 5\n",
    "in_out_neurons = 2                     # 出力層 = 2\n",
    "n_hidden = 100                         # 隠れ層 = 100\n",
    "\n",
    "model = Sequential()\n",
    "model.add(LSTM(n_hidden, batch_input_shape=(None, length_of_sequence, 5), return_sequences=False))\n",
    "model.add(Dropout(0.25))\n",
    "model.add(Dense(50))\n",
    "model.add(Activation(\"sigmoid\"))\n",
    "model.add(Dense(in_out_neurons))\n",
    "model.add(Activation(\"softmax\"))"
   ]
  },
  {
   "cell_type": "code",
   "execution_count": 21,
   "metadata": {},
   "outputs": [
    {
     "name": "stdout",
     "output_type": "stream",
     "text": [
      "WARNING:tensorflow:From /home/tim0114gap/anaconda3/lib/python3.7/site-packages/keras/optimizers.py:790: The name tf.train.Optimizer is deprecated. Please use tf.compat.v1.train.Optimizer instead.\n",
      "\n",
      "WARNING:tensorflow:From /home/tim0114gap/anaconda3/lib/python3.7/site-packages/keras/backend/tensorflow_backend.py:3295: The name tf.log is deprecated. Please use tf.math.log instead.\n",
      "\n"
     ]
    }
   ],
   "source": [
    "optimizer = Adam(lr = 0.001, beta_1 = 0.9, beta_2 = 0.999)\n",
    "model.compile(loss=\"categorical_crossentropy\", \n",
    "              optimizer=optimizer, metrics=['acc'])"
   ]
  },
  {
   "cell_type": "code",
   "execution_count": 22,
   "metadata": {},
   "outputs": [
    {
     "name": "stdout",
     "output_type": "stream",
     "text": [
      "_________________________________________________________________\n",
      "Layer (type)                 Output Shape              Param #   \n",
      "=================================================================\n",
      "lstm_1 (LSTM)                (None, 100)               42400     \n",
      "_________________________________________________________________\n",
      "dropout_1 (Dropout)          (None, 100)               0         \n",
      "_________________________________________________________________\n",
      "dense_1 (Dense)              (None, 50)                5050      \n",
      "_________________________________________________________________\n",
      "activation_1 (Activation)    (None, 50)                0         \n",
      "_________________________________________________________________\n",
      "dense_2 (Dense)              (None, 2)                 102       \n",
      "_________________________________________________________________\n",
      "activation_2 (Activation)    (None, 2)                 0         \n",
      "=================================================================\n",
      "Total params: 47,552\n",
      "Trainable params: 47,552\n",
      "Non-trainable params: 0\n",
      "_________________________________________________________________\n"
     ]
    }
   ],
   "source": [
    "#plot_model(model, to_file='model.png')\n",
    "model.summary()"
   ]
  },
  {
   "cell_type": "code",
   "execution_count": 23,
   "metadata": {},
   "outputs": [
    {
     "name": "stdout",
     "output_type": "stream",
     "text": [
      "WARNING:tensorflow:From /home/tim0114gap/anaconda3/lib/python3.7/site-packages/tensorflow/python/ops/math_grad.py:1250: add_dispatch_support.<locals>.wrapper (from tensorflow.python.ops.array_ops) is deprecated and will be removed in a future version.\n",
      "Instructions for updating:\n",
      "Use tf.where in 2.0, which has the same broadcast rule as np.where\n",
      "Train on 211 samples, validate on 53 samples\n",
      "Epoch 1/200\n",
      "211/211 [==============================] - 1s 6ms/step - loss: 0.7319 - acc: 0.4502 - val_loss: 0.7110 - val_acc: 0.4340\n",
      "Epoch 2/200\n",
      "211/211 [==============================] - 0s 566us/step - loss: 0.6937 - acc: 0.5640 - val_loss: 0.7070 - val_acc: 0.4340\n",
      "Epoch 3/200\n",
      "211/211 [==============================] - 0s 586us/step - loss: 0.7030 - acc: 0.4313 - val_loss: 0.7183 - val_acc: 0.4340\n",
      "Epoch 4/200\n",
      "211/211 [==============================] - 0s 576us/step - loss: 0.6937 - acc: 0.4976 - val_loss: 0.7090 - val_acc: 0.4340\n",
      "Epoch 5/200\n",
      "211/211 [==============================] - 0s 581us/step - loss: 0.6908 - acc: 0.5213 - val_loss: 0.7057 - val_acc: 0.4340\n",
      "Epoch 6/200\n",
      "211/211 [==============================] - 0s 579us/step - loss: 0.6892 - acc: 0.5592 - val_loss: 0.7009 - val_acc: 0.3962\n",
      "Epoch 7/200\n",
      "211/211 [==============================] - 0s 572us/step - loss: 0.6928 - acc: 0.5592 - val_loss: 0.7021 - val_acc: 0.4340\n",
      "Epoch 8/200\n",
      "211/211 [==============================] - 0s 572us/step - loss: 0.6917 - acc: 0.5403 - val_loss: 0.7045 - val_acc: 0.4340\n",
      "Epoch 9/200\n",
      "211/211 [==============================] - 0s 570us/step - loss: 0.6912 - acc: 0.5355 - val_loss: 0.7044 - val_acc: 0.4340\n",
      "Epoch 10/200\n",
      "211/211 [==============================] - 0s 571us/step - loss: 0.6910 - acc: 0.5403 - val_loss: 0.7028 - val_acc: 0.4340\n",
      "Epoch 11/200\n",
      "211/211 [==============================] - 0s 568us/step - loss: 0.6933 - acc: 0.5166 - val_loss: 0.6993 - val_acc: 0.4151\n",
      "Epoch 12/200\n",
      "211/211 [==============================] - 0s 564us/step - loss: 0.6906 - acc: 0.5213 - val_loss: 0.7030 - val_acc: 0.4340\n",
      "Epoch 13/200\n",
      "211/211 [==============================] - 0s 574us/step - loss: 0.6892 - acc: 0.5924 - val_loss: 0.6987 - val_acc: 0.4151\n",
      "Epoch 14/200\n",
      "211/211 [==============================] - 0s 611us/step - loss: 0.6908 - acc: 0.5782 - val_loss: 0.6996 - val_acc: 0.4151\n",
      "Epoch 15/200\n",
      "211/211 [==============================] - 0s 568us/step - loss: 0.6864 - acc: 0.5924 - val_loss: 0.6969 - val_acc: 0.4151\n",
      "Epoch 16/200\n",
      "211/211 [==============================] - 0s 573us/step - loss: 0.6940 - acc: 0.5450 - val_loss: 0.7088 - val_acc: 0.4340\n",
      "Epoch 17/200\n",
      "211/211 [==============================] - 0s 587us/step - loss: 0.6974 - acc: 0.4882 - val_loss: 0.7050 - val_acc: 0.4340\n",
      "Epoch 18/200\n",
      "211/211 [==============================] - 0s 585us/step - loss: 0.6907 - acc: 0.5450 - val_loss: 0.6917 - val_acc: 0.5472\n",
      "Epoch 19/200\n",
      "211/211 [==============================] - 0s 566us/step - loss: 0.6893 - acc: 0.5498 - val_loss: 0.7020 - val_acc: 0.4340\n",
      "Epoch 20/200\n",
      "211/211 [==============================] - 0s 573us/step - loss: 0.6967 - acc: 0.4550 - val_loss: 0.7099 - val_acc: 0.4340\n",
      "Epoch 21/200\n",
      "211/211 [==============================] - 0s 570us/step - loss: 0.6884 - acc: 0.5450 - val_loss: 0.6983 - val_acc: 0.4717\n",
      "Epoch 22/200\n",
      "211/211 [==============================] - 0s 576us/step - loss: 0.6908 - acc: 0.5545 - val_loss: 0.6936 - val_acc: 0.3962\n",
      "Epoch 23/200\n",
      "211/211 [==============================] - 0s 570us/step - loss: 0.6893 - acc: 0.5403 - val_loss: 0.7015 - val_acc: 0.4340\n",
      "Epoch 24/200\n",
      "211/211 [==============================] - 0s 571us/step - loss: 0.6932 - acc: 0.4976 - val_loss: 0.6988 - val_acc: 0.4151\n",
      "Epoch 25/200\n",
      "211/211 [==============================] - 0s 569us/step - loss: 0.6895 - acc: 0.5355 - val_loss: 0.6916 - val_acc: 0.4340\n",
      "Epoch 26/200\n",
      "211/211 [==============================] - 0s 568us/step - loss: 0.6957 - acc: 0.5071 - val_loss: 0.7071 - val_acc: 0.4340\n",
      "Epoch 27/200\n",
      "211/211 [==============================] - 0s 571us/step - loss: 0.6845 - acc: 0.5829 - val_loss: 0.6993 - val_acc: 0.4528\n",
      "Epoch 28/200\n",
      "211/211 [==============================] - 0s 581us/step - loss: 0.7082 - acc: 0.5403 - val_loss: 0.7005 - val_acc: 0.4528\n",
      "Epoch 29/200\n",
      "211/211 [==============================] - 0s 579us/step - loss: 0.6994 - acc: 0.5024 - val_loss: 0.7221 - val_acc: 0.4340\n",
      "Epoch 30/200\n",
      "211/211 [==============================] - 0s 609us/step - loss: 0.6854 - acc: 0.5545 - val_loss: 0.6926 - val_acc: 0.3962\n",
      "Epoch 31/200\n",
      "211/211 [==============================] - 0s 577us/step - loss: 0.6965 - acc: 0.5308 - val_loss: 0.6917 - val_acc: 0.4151\n",
      "Epoch 32/200\n",
      "211/211 [==============================] - 0s 602us/step - loss: 0.6801 - acc: 0.5877 - val_loss: 0.7167 - val_acc: 0.4340\n",
      "Epoch 33/200\n",
      "211/211 [==============================] - 0s 575us/step - loss: 0.6967 - acc: 0.4692 - val_loss: 0.7075 - val_acc: 0.4340\n",
      "Epoch 34/200\n",
      "211/211 [==============================] - 0s 583us/step - loss: 0.6898 - acc: 0.5735 - val_loss: 0.6905 - val_acc: 0.4340\n",
      "Epoch 35/200\n",
      "211/211 [==============================] - 0s 577us/step - loss: 0.6858 - acc: 0.5545 - val_loss: 0.6990 - val_acc: 0.4340\n",
      "Epoch 36/200\n",
      "211/211 [==============================] - 0s 573us/step - loss: 0.6897 - acc: 0.5545 - val_loss: 0.7029 - val_acc: 0.4340\n",
      "Epoch 37/200\n",
      "211/211 [==============================] - 0s 576us/step - loss: 0.6840 - acc: 0.5592 - val_loss: 0.6964 - val_acc: 0.4906\n",
      "Epoch 38/200\n",
      "211/211 [==============================] - 0s 579us/step - loss: 0.6869 - acc: 0.5782 - val_loss: 0.6960 - val_acc: 0.4528\n",
      "Epoch 39/200\n",
      "211/211 [==============================] - 0s 583us/step - loss: 0.6922 - acc: 0.5545 - val_loss: 0.7052 - val_acc: 0.4340\n",
      "Epoch 40/200\n",
      "211/211 [==============================] - 0s 569us/step - loss: 0.6835 - acc: 0.5545 - val_loss: 0.7123 - val_acc: 0.4340\n",
      "Epoch 41/200\n",
      "211/211 [==============================] - 0s 568us/step - loss: 0.6837 - acc: 0.5308 - val_loss: 0.6983 - val_acc: 0.4906\n",
      "Epoch 42/200\n",
      "211/211 [==============================] - 0s 579us/step - loss: 0.6871 - acc: 0.5782 - val_loss: 0.7006 - val_acc: 0.4717\n",
      "Epoch 43/200\n",
      "211/211 [==============================] - 0s 565us/step - loss: 0.6871 - acc: 0.5213 - val_loss: 0.7182 - val_acc: 0.4340\n",
      "Epoch 44/200\n",
      "211/211 [==============================] - 0s 571us/step - loss: 0.6828 - acc: 0.5545 - val_loss: 0.6918 - val_acc: 0.3774\n",
      "Epoch 45/200\n",
      "211/211 [==============================] - 0s 570us/step - loss: 0.6764 - acc: 0.5972 - val_loss: 0.7089 - val_acc: 0.4340\n",
      "Epoch 46/200\n",
      "211/211 [==============================] - 0s 587us/step - loss: 0.6884 - acc: 0.5213 - val_loss: 0.7049 - val_acc: 0.4340\n",
      "Epoch 47/200\n",
      "211/211 [==============================] - 0s 592us/step - loss: 0.6852 - acc: 0.5687 - val_loss: 0.6920 - val_acc: 0.4528\n",
      "Epoch 48/200\n",
      "211/211 [==============================] - 0s 573us/step - loss: 0.6741 - acc: 0.6256 - val_loss: 0.7005 - val_acc: 0.4340\n",
      "Epoch 49/200\n",
      "211/211 [==============================] - 0s 574us/step - loss: 0.6782 - acc: 0.6161 - val_loss: 0.6985 - val_acc: 0.4717\n",
      "Epoch 50/200\n",
      "211/211 [==============================] - 0s 580us/step - loss: 0.6748 - acc: 0.6303 - val_loss: 0.7044 - val_acc: 0.4340\n",
      "Epoch 51/200\n",
      "211/211 [==============================] - 0s 577us/step - loss: 0.6789 - acc: 0.5782 - val_loss: 0.7034 - val_acc: 0.4717\n",
      "Epoch 52/200\n",
      "211/211 [==============================] - 0s 578us/step - loss: 0.6734 - acc: 0.5924 - val_loss: 0.7070 - val_acc: 0.4528\n",
      "Epoch 53/200\n",
      "211/211 [==============================] - 0s 563us/step - loss: 0.6666 - acc: 0.6351 - val_loss: 0.7005 - val_acc: 0.4717\n",
      "Epoch 54/200\n",
      "211/211 [==============================] - 0s 577us/step - loss: 0.6762 - acc: 0.5829 - val_loss: 0.7419 - val_acc: 0.4340\n"
     ]
    }
   ],
   "source": [
    "# コールバック指定（https://qiita.com/yukiB/items/f45f0f71bc9739830002）\n",
    "early_stopping = EarlyStopping(monitor='val_loss', \n",
    "                               mode='auto', patience=20)\n",
    "history = model.fit(X_train, Y_train,\n",
    "                  batch_size = 16, # 論文で使われるのが1, 32, 128, 256, 512\n",
    "                  epochs=200,\n",
    "                  validation_split=0.2,\n",
    "                  callbacks=[early_stopping])"
   ]
  },
  {
   "cell_type": "code",
   "execution_count": 24,
   "metadata": {},
   "outputs": [
    {
     "data": {
      "image/png": "[encoded data removed]",
      "text/plain": [
       "<Figure size 432x288 with 1 Axes>"
      ]
     },
     "metadata": {
      "needs_background": "light"
     },
     "output_type": "display_data"
    }
   ],
   "source": [
    "epochs = range(1, len(history.history['acc']) + 1)\n",
    "plt.plot(epochs, history.history['loss'])\n",
    "plt.plot(epochs, history.history['val_loss'])\n",
    "plt.title('model loss')\n",
    "plt.ylabel('loss')\n",
    "plt.xlabel('epoch')\n",
    "plt.legend(['train', 'val'], loc='upper left')\n",
    "plt.show()"
   ]
  },
  {
   "cell_type": "code",
   "execution_count": 25,
   "metadata": {},
   "outputs": [
    {
     "data": {
      "text/plain": [
       "<matplotlib.legend.Legend at 0x7fe0dc79ee80>"
      ]
     },
     "execution_count": 25,
     "metadata": {},
     "output_type": "execute_result"
    },
    {
     "data": {
      "image/png": "[encoded data removed]",
      "text/plain": [
       "<Figure size 432x288 with 1 Axes>"
      ]
     },
     "metadata": {
      "needs_background": "light"
     },
     "output_type": "display_data"
    }
   ],
   "source": [
    "#acc, val_accのプロット\n",
    "plt.plot(history.history[\"acc\"], label=\"acc\", ls=\"-\", marker=\"o\")\n",
    "plt.plot(history.history[\"val_acc\"], label=\"val_acc\", ls=\"-\", marker=\"x\")\n",
    "plt.ylabel(\"accuracy\")\n",
    "plt.xlabel(\"epoch\")\n",
    "plt.legend(loc=\"best\")\n",
    "#Final.pngという名前で、結果を保存\n",
    "# plt.savefig('Final.png')\n",
    "# plt.show()"
   ]
  },
  {
   "cell_type": "code",
   "execution_count": 26,
   "metadata": {},
   "outputs": [
    {
     "name": "stdout",
     "output_type": "stream",
     "text": [
      "65/65 [==============================] - 0s 130us/step\n",
      "Test accuracy: 0.6462\n"
     ]
    }
   ],
   "source": [
    "print(\"Test accuracy: %.4f\" % (model.evaluate(X_test, Y_test)[1]))"
   ]
  },
  {
   "cell_type": "code",
   "execution_count": 27,
   "metadata": {},
   "outputs": [],
   "source": [
    "predict_classes = model.predict_classes(X_test)"
   ]
  },
  {
   "cell_type": "code",
   "execution_count": 28,
   "metadata": {},
   "outputs": [],
   "source": [
    "Y_test = np.array([np.argmax(x) for x in Y_test])"
   ]
  },
  {
   "cell_type": "code",
   "execution_count": 29,
   "metadata": {},
   "outputs": [
    {
     "data": {
      "text/html": [
       "<div>\n",
       "<style scoped>\n",
       "    .dataframe tbody tr th:only-of-type {\n",
       "        vertical-align: middle;\n",
       "    }\n",
       "\n",
       "    .dataframe tbody tr th {\n",
       "        vertical-align: top;\n",
       "    }\n",
       "\n",
       "    .dataframe thead th {\n",
       "        text-align: right;\n",
       "    }\n",
       "</style>\n",
       "<table border=\"1\" class=\"dataframe\">\n",
       "  <thead>\n",
       "    <tr style=\"text-align: right;\">\n",
       "      <th>Predicted</th>\n",
       "      <th>0</th>\n",
       "      <th>1</th>\n",
       "      <th>All</th>\n",
       "    </tr>\n",
       "    <tr>\n",
       "      <th>True</th>\n",
       "      <th></th>\n",
       "      <th></th>\n",
       "      <th></th>\n",
       "    </tr>\n",
       "  </thead>\n",
       "  <tbody>\n",
       "    <tr>\n",
       "      <td>0</td>\n",
       "      <td>6</td>\n",
       "      <td>23</td>\n",
       "      <td>29</td>\n",
       "    </tr>\n",
       "    <tr>\n",
       "      <td>1</td>\n",
       "      <td>0</td>\n",
       "      <td>36</td>\n",
       "      <td>36</td>\n",
       "    </tr>\n",
       "    <tr>\n",
       "      <td>All</td>\n",
       "      <td>6</td>\n",
       "      <td>59</td>\n",
       "      <td>65</td>\n",
       "    </tr>\n",
       "  </tbody>\n",
       "</table>\n",
       "</div>"
      ],
      "text/plain": [
       "Predicted  0   1  All\n",
       "True                 \n",
       "0          6  23   29\n",
       "1          0  36   36\n",
       "All        6  59   65"
      ]
     },
     "execution_count": 29,
     "metadata": {},
     "output_type": "execute_result"
    }
   ],
   "source": [
    "pd.crosstab(Y_test, predict_classes, rownames=['True'], colnames=['Predicted'], margins=True)"
   ]
  }
 ],
 "metadata": {
  "kernelspec": {
   "display_name": "Python 3",
   "language": "python",
   "name": "python3"
  },
  "language_info": {
   "codemirror_mode": {
    "name": "ipython",
    "version": 3
   },
   "file_extension": ".py",
   "mimetype": "text/x-python",
   "name": "python",
   "nbconvert_exporter": "python",
   "pygments_lexer": "ipython3",
   "version": "3.7.3"
  }
 },
 "nbformat": 4,
 "nbformat_minor": 2
}
