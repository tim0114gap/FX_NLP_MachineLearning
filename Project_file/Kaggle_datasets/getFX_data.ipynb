{
 "cells": [
  {
   "cell_type": "code",
   "execution_count": 1,
   "metadata": {},
   "outputs": [],
   "source": [
    "from oandapyV20 import API\n",
    "import oandapyV20.endpoints.instruments as instruments\n",
    "import pandas as pd\n",
    "from datetime import datetime\n",
    "from time import sleep"
   ]
  },
  {
   "cell_type": "code",
   "execution_count": 2,
   "metadata": {},
   "outputs": [],
   "source": [
    "# start～endまでのデータ取得\n",
    "def get_period_data(start, end, minute, instrument='USD_JPY'):\n",
    "    timestamp = start.timestamp()\n",
    "    concats = []\n",
    "    count = 5000\n",
    "    while True:\n",
    "        df, last_timestamp = send_api(count, timestamp, minute, instrument)\n",
    "        concats.append(df)\n",
    "        if last_timestamp > end.timestamp() or len(df) < count:\n",
    "            break\n",
    "        timestamp = last_timestamp + (60 * minute)\n",
    "    df = pd.concat(concats)\n",
    "    if end is None:\n",
    "        return df\n",
    "    else: \n",
    "        return df[df.index < end]"
   ]
  },
  {
   "cell_type": "code",
   "execution_count": 3,
   "metadata": {},
   "outputs": [],
   "source": [
    "# 時間足のdfを取得\n",
    "def send_api(count, start, minute, instrument):\n",
    "    # oandaへのリクエストの送信\n",
    "    api_key = '***********************'\n",
    "    api = API(access_token=api_key, environment=\"practice\", headers={\"Accept-Datetime-Format\":\"Unix\"})\n",
    "    if minute == 0.5:\n",
    "        granularity = 'S5'\n",
    "    elif minute == 1:\n",
    "        granularity = 'M1'\n",
    "    elif minute == 5:\n",
    "        granularity = 'M5'\n",
    "    elif minute == 15:\n",
    "        granularity = 'M15'\n",
    "    elif minute == 60:\n",
    "        granularity = 'H1'\n",
    "    elif minute == 60 * 12:\n",
    "        granularity = 'D'\n",
    "    params = {\n",
    "        'count': count,\n",
    "        'granularity': granularity,\n",
    "    }\n",
    "    if start is not None:\n",
    "        params['from'] = start\n",
    "    r = instruments.InstrumentsCandles(instrument=instrument, params=params)\n",
    "    response = api.request(r)\n",
    "    \n",
    "    def join_json(candle):\n",
    "        tmp = candle['mid']\n",
    "        tmp['time'] = candle['time']\n",
    "        tmp['v'] = candle['volume']\n",
    "        tmp['complete'] = candle['complete']\n",
    "        return tmp\n",
    "    data_list = [join_json(candle) for candle in response['candles']]\n",
    "    df = pd.DataFrame(data_list)\n",
    "    last_timestamp = int(float(df.iloc[-1]['time']))\n",
    "    \n",
    "    # 型変更\n",
    "    df['time'] = df['time'].astype('float64')\n",
    "    df['o'] = df['o'].astype('float64')\n",
    "    df['h'] = df['h'].astype('float64')\n",
    "    df['l'] = df['l'].astype('float64')\n",
    "    df['c'] = df['c'].astype('float64')\n",
    "    df['v'] = df['v'].astype('float64')\n",
    "    \n",
    "    # タイムゾーンの変更、インデックス化\n",
    "    df['time'] = pd.to_datetime(df['time'], unit='s')\n",
    "    df['time'] = df['time'] + pd.Timedelta('09:00:00') # 日本時間へ変換\n",
    "    df.set_index('time', inplace=True)                 # 時間をインデックスにする\n",
    "    df = df.loc[:,['o','h','l', 'c', 'v', 'complete']] # 列の順番変更\n",
    "    df = df.rename(columns={'o': 'open', 'h': 'high', 'l': 'low', 'c': 'close', 'v': 'amount'})\n",
    "    \n",
    "    return df, last_timestamp"
   ]
  },
  {
   "cell_type": "code",
   "execution_count": 4,
   "metadata": {},
   "outputs": [],
   "source": [
    "minute = 60 * 12\n",
    "# isfirst = True\n",
    "# if isfirst:\n",
    "#     start = datetime.now()\n",
    "#     sleep(59)\n",
    "#     isfirst = False\n",
    "start = datetime.strptime('2015-01-01 00:00:00', '%Y-%m-%d %H:%M:%S')\n",
    "end = datetime.strptime('2017-01-01 00:00:00', '%Y-%m-%d %H:%M:%S')\n",
    "df = get_period_data(start, end, minute, instrument='USD_JPY')\n",
    "df.to_csv(\"fx2015~2016.csv\")"
   ]
  }
 ],
 "metadata": {
  "kernelspec": {
   "display_name": "Python 3",
   "language": "python",
   "name": "python3"
  },
  "language_info": {
   "codemirror_mode": {
    "name": "ipython",
    "version": 3
   },
   "file_extension": ".py",
   "mimetype": "text/x-python",
   "name": "python",
   "nbconvert_exporter": "python",
   "pygments_lexer": "ipython3",
   "version": "3.7.4"
  }
 },
 "nbformat": 4,
 "nbformat_minor": 2
}
