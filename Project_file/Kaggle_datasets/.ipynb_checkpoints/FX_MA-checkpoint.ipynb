{
 "cells": [
  {
   "cell_type": "code",
   "execution_count": 1,
   "metadata": {},
   "outputs": [],
   "source": [
    "import numpy as np\n",
    "import pandas as pd\n",
    "from pandas import DataFrame\n",
    "import matplotlib.pyplot as plt\n",
    "\n",
    "%matplotlib inline"
   ]
  },
  {
   "cell_type": "code",
   "execution_count": 2,
   "metadata": {},
   "outputs": [
    {
     "data": {
      "text/html": [
       "<div>\n",
       "<style scoped>\n",
       "    .dataframe tbody tr th:only-of-type {\n",
       "        vertical-align: middle;\n",
       "    }\n",
       "\n",
       "    .dataframe tbody tr th {\n",
       "        vertical-align: top;\n",
       "    }\n",
       "\n",
       "    .dataframe thead th {\n",
       "        text-align: right;\n",
       "    }\n",
       "</style>\n",
       "<table border=\"1\" class=\"dataframe\">\n",
       "  <thead>\n",
       "    <tr style=\"text-align: right;\">\n",
       "      <th></th>\n",
       "      <th>time</th>\n",
       "      <th>open</th>\n",
       "      <th>high</th>\n",
       "      <th>low</th>\n",
       "      <th>close</th>\n",
       "      <th>amount</th>\n",
       "      <th>complete</th>\n",
       "    </tr>\n",
       "  </thead>\n",
       "  <tbody>\n",
       "    <tr>\n",
       "      <td>0</td>\n",
       "      <td>2014-12-31 07:00:00</td>\n",
       "      <td>119.472</td>\n",
       "      <td>119.940</td>\n",
       "      <td>119.253</td>\n",
       "      <td>119.884</td>\n",
       "      <td>13163.0</td>\n",
       "      <td>True</td>\n",
       "    </tr>\n",
       "    <tr>\n",
       "      <td>1</td>\n",
       "      <td>2015-01-02 07:00:00</td>\n",
       "      <td>119.746</td>\n",
       "      <td>120.742</td>\n",
       "      <td>119.726</td>\n",
       "      <td>120.494</td>\n",
       "      <td>24090.0</td>\n",
       "      <td>True</td>\n",
       "    </tr>\n",
       "    <tr>\n",
       "      <td>2</td>\n",
       "      <td>2015-01-05 07:00:00</td>\n",
       "      <td>120.509</td>\n",
       "      <td>120.647</td>\n",
       "      <td>119.374</td>\n",
       "      <td>119.636</td>\n",
       "      <td>40813.0</td>\n",
       "      <td>True</td>\n",
       "    </tr>\n",
       "    <tr>\n",
       "      <td>3</td>\n",
       "      <td>2015-01-06 07:00:00</td>\n",
       "      <td>119.610</td>\n",
       "      <td>119.635</td>\n",
       "      <td>118.054</td>\n",
       "      <td>118.384</td>\n",
       "      <td>61074.0</td>\n",
       "      <td>True</td>\n",
       "    </tr>\n",
       "    <tr>\n",
       "      <td>4</td>\n",
       "      <td>2015-01-07 07:00:00</td>\n",
       "      <td>118.447</td>\n",
       "      <td>119.646</td>\n",
       "      <td>118.431</td>\n",
       "      <td>119.253</td>\n",
       "      <td>52882.0</td>\n",
       "      <td>True</td>\n",
       "    </tr>\n",
       "  </tbody>\n",
       "</table>\n",
       "</div>"
      ],
      "text/plain": [
       "                  time     open     high      low    close   amount  complete\n",
       "0  2014-12-31 07:00:00  119.472  119.940  119.253  119.884  13163.0      True\n",
       "1  2015-01-02 07:00:00  119.746  120.742  119.726  120.494  24090.0      True\n",
       "2  2015-01-05 07:00:00  120.509  120.647  119.374  119.636  40813.0      True\n",
       "3  2015-01-06 07:00:00  119.610  119.635  118.054  118.384  61074.0      True\n",
       "4  2015-01-07 07:00:00  118.447  119.646  118.431  119.253  52882.0      True"
      ]
     },
     "execution_count": 2,
     "metadata": {},
     "output_type": "execute_result"
    }
   ],
   "source": [
    "fileName = \"fx2015~2016.csv\"\n",
    "\n",
    "df = pd.read_csv(fileName)\n",
    "df.head()"
   ]
  },
  {
   "cell_type": "code",
   "execution_count": 3,
   "metadata": {},
   "outputs": [],
   "source": [
    "del df['complete']\n",
    "del df['amount']"
   ]
  },
  {
   "cell_type": "code",
   "execution_count": 4,
   "metadata": {},
   "outputs": [],
   "source": [
    "df.head()\n",
    "df5 = df.copy()\n",
    "df25 = df.copy()\n",
    "df100 = df.copy()"
   ]
  },
  {
   "cell_type": "code",
   "execution_count": 5,
   "metadata": {},
   "outputs": [],
   "source": [
    "# 5日移動平均\n",
    "df5['5mean'] = df['close'].rolling(5).mean()\n",
    "\n",
    "# 25日移動平均\n",
    "df25['25mean'] = df['close'].rolling(25).mean()\n",
    "\n",
    "# 100日移動平均\n",
    "df100['100mean'] = df['close'].rolling(100).mean()"
   ]
  },
  {
   "cell_type": "code",
   "execution_count": 6,
   "metadata": {},
   "outputs": [
    {
     "data": {
      "text/html": [
       "<div>\n",
       "<style scoped>\n",
       "    .dataframe tbody tr th:only-of-type {\n",
       "        vertical-align: middle;\n",
       "    }\n",
       "\n",
       "    .dataframe tbody tr th {\n",
       "        vertical-align: top;\n",
       "    }\n",
       "\n",
       "    .dataframe thead th {\n",
       "        text-align: right;\n",
       "    }\n",
       "</style>\n",
       "<table border=\"1\" class=\"dataframe\">\n",
       "  <thead>\n",
       "    <tr style=\"text-align: right;\">\n",
       "      <th></th>\n",
       "      <th>time</th>\n",
       "      <th>open</th>\n",
       "      <th>high</th>\n",
       "      <th>low</th>\n",
       "      <th>close</th>\n",
       "      <th>5mean</th>\n",
       "    </tr>\n",
       "  </thead>\n",
       "  <tbody>\n",
       "    <tr>\n",
       "      <td>0</td>\n",
       "      <td>2014-12-31 07:00:00</td>\n",
       "      <td>119.472</td>\n",
       "      <td>119.940</td>\n",
       "      <td>119.253</td>\n",
       "      <td>119.884</td>\n",
       "      <td>NaN</td>\n",
       "    </tr>\n",
       "    <tr>\n",
       "      <td>1</td>\n",
       "      <td>2015-01-02 07:00:00</td>\n",
       "      <td>119.746</td>\n",
       "      <td>120.742</td>\n",
       "      <td>119.726</td>\n",
       "      <td>120.494</td>\n",
       "      <td>NaN</td>\n",
       "    </tr>\n",
       "    <tr>\n",
       "      <td>2</td>\n",
       "      <td>2015-01-05 07:00:00</td>\n",
       "      <td>120.509</td>\n",
       "      <td>120.647</td>\n",
       "      <td>119.374</td>\n",
       "      <td>119.636</td>\n",
       "      <td>NaN</td>\n",
       "    </tr>\n",
       "    <tr>\n",
       "      <td>3</td>\n",
       "      <td>2015-01-06 07:00:00</td>\n",
       "      <td>119.610</td>\n",
       "      <td>119.635</td>\n",
       "      <td>118.054</td>\n",
       "      <td>118.384</td>\n",
       "      <td>NaN</td>\n",
       "    </tr>\n",
       "    <tr>\n",
       "      <td>4</td>\n",
       "      <td>2015-01-07 07:00:00</td>\n",
       "      <td>118.447</td>\n",
       "      <td>119.646</td>\n",
       "      <td>118.431</td>\n",
       "      <td>119.253</td>\n",
       "      <td>119.5302</td>\n",
       "    </tr>\n",
       "  </tbody>\n",
       "</table>\n",
       "</div>"
      ],
      "text/plain": [
       "                  time     open     high      low    close     5mean\n",
       "0  2014-12-31 07:00:00  119.472  119.940  119.253  119.884       NaN\n",
       "1  2015-01-02 07:00:00  119.746  120.742  119.726  120.494       NaN\n",
       "2  2015-01-05 07:00:00  120.509  120.647  119.374  119.636       NaN\n",
       "3  2015-01-06 07:00:00  119.610  119.635  118.054  118.384       NaN\n",
       "4  2015-01-07 07:00:00  118.447  119.646  118.431  119.253  119.5302"
      ]
     },
     "execution_count": 6,
     "metadata": {},
     "output_type": "execute_result"
    }
   ],
   "source": [
    "df5.head()"
   ]
  },
  {
   "cell_type": "code",
   "execution_count": 7,
   "metadata": {},
   "outputs": [
    {
     "data": {
      "text/plain": [
       "[<matplotlib.lines.Line2D at 0x7f697f53d5c0>]"
      ]
     },
     "execution_count": 7,
     "metadata": {},
     "output_type": "execute_result"
    },
    {
     "data": {
      "image/png": "[encoded data removed]",
      "text/plain": [
       "<Figure size 432x288 with 1 Axes>"
      ]
     },
     "metadata": {
      "needs_background": "light"
     },
     "output_type": "display_data"
    }
   ],
   "source": [
    "plt.plot(df5.index, df5['5mean'])"
   ]
  },
  {
   "cell_type": "code",
   "execution_count": 8,
   "metadata": {},
   "outputs": [
    {
     "data": {
      "text/html": [
       "<div>\n",
       "<style scoped>\n",
       "    .dataframe tbody tr th:only-of-type {\n",
       "        vertical-align: middle;\n",
       "    }\n",
       "\n",
       "    .dataframe tbody tr th {\n",
       "        vertical-align: top;\n",
       "    }\n",
       "\n",
       "    .dataframe thead th {\n",
       "        text-align: right;\n",
       "    }\n",
       "</style>\n",
       "<table border=\"1\" class=\"dataframe\">\n",
       "  <thead>\n",
       "    <tr style=\"text-align: right;\">\n",
       "      <th></th>\n",
       "      <th>time</th>\n",
       "      <th>open</th>\n",
       "      <th>high</th>\n",
       "      <th>low</th>\n",
       "      <th>close</th>\n",
       "      <th>25mean</th>\n",
       "    </tr>\n",
       "  </thead>\n",
       "  <tbody>\n",
       "    <tr>\n",
       "      <td>0</td>\n",
       "      <td>2014-12-31 07:00:00</td>\n",
       "      <td>119.472</td>\n",
       "      <td>119.940</td>\n",
       "      <td>119.253</td>\n",
       "      <td>119.884</td>\n",
       "      <td>NaN</td>\n",
       "    </tr>\n",
       "    <tr>\n",
       "      <td>1</td>\n",
       "      <td>2015-01-02 07:00:00</td>\n",
       "      <td>119.746</td>\n",
       "      <td>120.742</td>\n",
       "      <td>119.726</td>\n",
       "      <td>120.494</td>\n",
       "      <td>NaN</td>\n",
       "    </tr>\n",
       "    <tr>\n",
       "      <td>2</td>\n",
       "      <td>2015-01-05 07:00:00</td>\n",
       "      <td>120.509</td>\n",
       "      <td>120.647</td>\n",
       "      <td>119.374</td>\n",
       "      <td>119.636</td>\n",
       "      <td>NaN</td>\n",
       "    </tr>\n",
       "    <tr>\n",
       "      <td>3</td>\n",
       "      <td>2015-01-06 07:00:00</td>\n",
       "      <td>119.610</td>\n",
       "      <td>119.635</td>\n",
       "      <td>118.054</td>\n",
       "      <td>118.384</td>\n",
       "      <td>NaN</td>\n",
       "    </tr>\n",
       "    <tr>\n",
       "      <td>4</td>\n",
       "      <td>2015-01-07 07:00:00</td>\n",
       "      <td>118.447</td>\n",
       "      <td>119.646</td>\n",
       "      <td>118.431</td>\n",
       "      <td>119.253</td>\n",
       "      <td>NaN</td>\n",
       "    </tr>\n",
       "  </tbody>\n",
       "</table>\n",
       "</div>"
      ],
      "text/plain": [
       "                  time     open     high      low    close  25mean\n",
       "0  2014-12-31 07:00:00  119.472  119.940  119.253  119.884     NaN\n",
       "1  2015-01-02 07:00:00  119.746  120.742  119.726  120.494     NaN\n",
       "2  2015-01-05 07:00:00  120.509  120.647  119.374  119.636     NaN\n",
       "3  2015-01-06 07:00:00  119.610  119.635  118.054  118.384     NaN\n",
       "4  2015-01-07 07:00:00  118.447  119.646  118.431  119.253     NaN"
      ]
     },
     "execution_count": 8,
     "metadata": {},
     "output_type": "execute_result"
    }
   ],
   "source": [
    "df25.head()"
   ]
  },
  {
   "cell_type": "code",
   "execution_count": 9,
   "metadata": {
    "scrolled": true
   },
   "outputs": [
    {
     "data": {
      "text/plain": [
       "[<matplotlib.lines.Line2D at 0x7f697f44bbe0>]"
      ]
     },
     "execution_count": 9,
     "metadata": {},
     "output_type": "execute_result"
    },
    {
     "data": {
      "image/png": "[encoded data removed]",
      "text/plain": [
       "<Figure size 432x288 with 1 Axes>"
      ]
     },
     "metadata": {
      "needs_background": "light"
     },
     "output_type": "display_data"
    }
   ],
   "source": [
    "plt.plot(df25.index, df25['25mean'])"
   ]
  },
  {
   "cell_type": "code",
   "execution_count": 10,
   "metadata": {},
   "outputs": [
    {
     "data": {
      "text/html": [
       "<div>\n",
       "<style scoped>\n",
       "    .dataframe tbody tr th:only-of-type {\n",
       "        vertical-align: middle;\n",
       "    }\n",
       "\n",
       "    .dataframe tbody tr th {\n",
       "        vertical-align: top;\n",
       "    }\n",
       "\n",
       "    .dataframe thead th {\n",
       "        text-align: right;\n",
       "    }\n",
       "</style>\n",
       "<table border=\"1\" class=\"dataframe\">\n",
       "  <thead>\n",
       "    <tr style=\"text-align: right;\">\n",
       "      <th></th>\n",
       "      <th>time</th>\n",
       "      <th>open</th>\n",
       "      <th>high</th>\n",
       "      <th>low</th>\n",
       "      <th>close</th>\n",
       "      <th>100mean</th>\n",
       "    </tr>\n",
       "  </thead>\n",
       "  <tbody>\n",
       "    <tr>\n",
       "      <td>0</td>\n",
       "      <td>2014-12-31 07:00:00</td>\n",
       "      <td>119.472</td>\n",
       "      <td>119.940</td>\n",
       "      <td>119.253</td>\n",
       "      <td>119.884</td>\n",
       "      <td>NaN</td>\n",
       "    </tr>\n",
       "    <tr>\n",
       "      <td>1</td>\n",
       "      <td>2015-01-02 07:00:00</td>\n",
       "      <td>119.746</td>\n",
       "      <td>120.742</td>\n",
       "      <td>119.726</td>\n",
       "      <td>120.494</td>\n",
       "      <td>NaN</td>\n",
       "    </tr>\n",
       "    <tr>\n",
       "      <td>2</td>\n",
       "      <td>2015-01-05 07:00:00</td>\n",
       "      <td>120.509</td>\n",
       "      <td>120.647</td>\n",
       "      <td>119.374</td>\n",
       "      <td>119.636</td>\n",
       "      <td>NaN</td>\n",
       "    </tr>\n",
       "    <tr>\n",
       "      <td>3</td>\n",
       "      <td>2015-01-06 07:00:00</td>\n",
       "      <td>119.610</td>\n",
       "      <td>119.635</td>\n",
       "      <td>118.054</td>\n",
       "      <td>118.384</td>\n",
       "      <td>NaN</td>\n",
       "    </tr>\n",
       "    <tr>\n",
       "      <td>4</td>\n",
       "      <td>2015-01-07 07:00:00</td>\n",
       "      <td>118.447</td>\n",
       "      <td>119.646</td>\n",
       "      <td>118.431</td>\n",
       "      <td>119.253</td>\n",
       "      <td>NaN</td>\n",
       "    </tr>\n",
       "  </tbody>\n",
       "</table>\n",
       "</div>"
      ],
      "text/plain": [
       "                  time     open     high      low    close  100mean\n",
       "0  2014-12-31 07:00:00  119.472  119.940  119.253  119.884      NaN\n",
       "1  2015-01-02 07:00:00  119.746  120.742  119.726  120.494      NaN\n",
       "2  2015-01-05 07:00:00  120.509  120.647  119.374  119.636      NaN\n",
       "3  2015-01-06 07:00:00  119.610  119.635  118.054  118.384      NaN\n",
       "4  2015-01-07 07:00:00  118.447  119.646  118.431  119.253      NaN"
      ]
     },
     "execution_count": 10,
     "metadata": {},
     "output_type": "execute_result"
    }
   ],
   "source": [
    "df100.head()"
   ]
  },
  {
   "cell_type": "code",
   "execution_count": 11,
   "metadata": {},
   "outputs": [
    {
     "data": {
      "text/plain": [
       "[<matplotlib.lines.Line2D at 0x7f697f42ff28>]"
      ]
     },
     "execution_count": 11,
     "metadata": {},
     "output_type": "execute_result"
    },
    {
     "data": {
      "image/png": "[encoded data removed]",
      "text/plain": [
       "<Figure size 432x288 with 1 Axes>"
      ]
     },
     "metadata": {
      "needs_background": "light"
     },
     "output_type": "display_data"
    }
   ],
   "source": [
    "plt.plot(df100.index, df100['100mean'])"
   ]
  },
  {
   "cell_type": "code",
   "execution_count": 12,
   "metadata": {},
   "outputs": [
    {
     "data": {
      "text/plain": [
       "[<matplotlib.lines.Line2D at 0x7f697f39fe48>]"
      ]
     },
     "execution_count": 12,
     "metadata": {},
     "output_type": "execute_result"
    },
    {
     "data": {
      "image/png": "[encoded data removed]",
      "text/plain": [
       "<Figure size 432x288 with 1 Axes>"
      ]
     },
     "metadata": {
      "needs_background": "light"
     },
     "output_type": "display_data"
    }
   ],
   "source": [
    "plt.plot(df5.index, df5['5mean'])\n",
    "plt.plot(df25.index, df25['25mean'])\n",
    "plt.plot(df100.index, df100['100mean'], c='m', alpha=0.5)"
   ]
  },
  {
   "cell_type": "code",
   "execution_count": 13,
   "metadata": {},
   "outputs": [],
   "source": [
    "df5['target'] = 0\n",
    "df25['target'] = 0\n",
    "df100['target'] = 0"
   ]
  },
  {
   "cell_type": "code",
   "execution_count": 14,
   "metadata": {},
   "outputs": [
    {
     "name": "stderr",
     "output_type": "stream",
     "text": [
      "/home/tim0114gap/anaconda3/lib/python3.7/site-packages/ipykernel_launcher.py:5: SettingWithCopyWarning: \n",
      "A value is trying to be set on a copy of a slice from a DataFrame\n",
      "\n",
      "See the caveats in the documentation: http://pandas.pydata.org/pandas-docs/stable/user_guide/indexing.html#returning-a-view-versus-a-copy\n",
      "  \"\"\"\n"
     ]
    }
   ],
   "source": [
    "df5['diff5'] = df5['5mean'].diff()\n",
    "df5['booldiff5'] = df5.diff5 > 0\n",
    "df5 = df5.dropna()\n",
    "df5.target[df5.booldiff5 == True] = 1\n",
    "df5.target[df5.booldiff5 == False] = 0\n",
    "del df5['booldiff5']\n",
    "del df5['diff5']\n",
    "df5 = df5.set_index('time')\n",
    "df5.index = pd.to_datetime(df5.index)"
   ]
  },
  {
   "cell_type": "code",
   "execution_count": 15,
   "metadata": {},
   "outputs": [
    {
     "name": "stderr",
     "output_type": "stream",
     "text": [
      "/home/tim0114gap/anaconda3/lib/python3.7/site-packages/ipykernel_launcher.py:5: SettingWithCopyWarning: \n",
      "A value is trying to be set on a copy of a slice from a DataFrame\n",
      "\n",
      "See the caveats in the documentation: http://pandas.pydata.org/pandas-docs/stable/user_guide/indexing.html#returning-a-view-versus-a-copy\n",
      "  \"\"\"\n"
     ]
    }
   ],
   "source": [
    "df25['diff25'] = df25['25mean'].diff()\n",
    "df25['booldiff25'] = df25.diff25 > 0\n",
    "df25 = df25.dropna()\n",
    "df25.target[df25.booldiff25 == True] = 1\n",
    "df25.target[df25.booldiff25 == False] = 0\n",
    "del df25['booldiff25']\n",
    "del df25['diff25']\n",
    "df25 = df25.set_index('time')\n",
    "df25.index = pd.to_datetime(df25.index)"
   ]
  },
  {
   "cell_type": "code",
   "execution_count": 16,
   "metadata": {},
   "outputs": [
    {
     "name": "stderr",
     "output_type": "stream",
     "text": [
      "/home/tim0114gap/anaconda3/lib/python3.7/site-packages/ipykernel_launcher.py:5: SettingWithCopyWarning: \n",
      "A value is trying to be set on a copy of a slice from a DataFrame\n",
      "\n",
      "See the caveats in the documentation: http://pandas.pydata.org/pandas-docs/stable/user_guide/indexing.html#returning-a-view-versus-a-copy\n",
      "  \"\"\"\n"
     ]
    }
   ],
   "source": [
    "df100['diff100'] = df100['100mean'].diff()\n",
    "df100['booldiff100'] = df100.diff100 > 0\n",
    "df100 = df100.dropna()\n",
    "df100.target[df100.booldiff100 == True] = 1\n",
    "df100.target[df100.booldiff100 == False] = 0\n",
    "del df100['booldiff100']\n",
    "del df100['diff100']\n",
    "df100 = df100.set_index('time')\n",
    "df100.index = pd.to_datetime(df100.index)"
   ]
  },
  {
   "cell_type": "code",
   "execution_count": 17,
   "metadata": {},
   "outputs": [
    {
     "data": {
      "text/plain": [
       "1    268\n",
       "0    247\n",
       "Name: target, dtype: int64"
      ]
     },
     "execution_count": 17,
     "metadata": {},
     "output_type": "execute_result"
    }
   ],
   "source": [
    "df5.target.value_counts()"
   ]
  },
  {
   "cell_type": "code",
   "execution_count": 18,
   "metadata": {},
   "outputs": [
    {
     "data": {
      "text/plain": [
       "1    250\n",
       "0    245\n",
       "Name: target, dtype: int64"
      ]
     },
     "execution_count": 18,
     "metadata": {},
     "output_type": "execute_result"
    }
   ],
   "source": [
    "df25.target.value_counts()"
   ]
  },
  {
   "cell_type": "code",
   "execution_count": 19,
   "metadata": {},
   "outputs": [
    {
     "data": {
      "text/plain": [
       "0    281\n",
       "1    139\n",
       "Name: target, dtype: int64"
      ]
     },
     "execution_count": 19,
     "metadata": {},
     "output_type": "execute_result"
    }
   ],
   "source": [
    "df100.target.value_counts()"
   ]
  },
  {
   "cell_type": "code",
   "execution_count": 20,
   "metadata": {},
   "outputs": [],
   "source": [
    "df5.to_csv(\"FX_MA_5days.csv\",index=True)\n",
    "df25.to_csv(\"FX_MA_25days.csv\",index=True)\n",
    "df100.to_csv(\"FX_MA_100days.csv\",index=True)"
   ]
  }
 ],
 "metadata": {
  "kernelspec": {
   "display_name": "Python 3",
   "language": "python",
   "name": "python3"
  },
  "language_info": {
   "codemirror_mode": {
    "name": "ipython",
    "version": 3
   },
   "file_extension": ".py",
   "mimetype": "text/x-python",
   "name": "python",
   "nbconvert_exporter": "python",
   "pygments_lexer": "ipython3",
   "version": "3.7.3"
  }
 },
 "nbformat": 4,
 "nbformat_minor": 2
}
