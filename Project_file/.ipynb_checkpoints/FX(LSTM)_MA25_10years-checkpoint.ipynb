{
 "cells": [
  {
   "cell_type": "code",
   "execution_count": 1,
   "metadata": {},
   "outputs": [
    {
     "name": "stderr",
     "output_type": "stream",
     "text": [
      "Using TensorFlow backend.\n"
     ]
    }
   ],
   "source": [
    "import numpy as np\n",
    "import pandas as pd\n",
    "from pandas import DataFrame\n",
    "import seaborn as sns\n",
    "\n",
    "from sklearn.model_selection import train_test_split\n",
    "from sklearn.preprocessing import MinMaxScaler\n",
    "\n",
    "import keras\n",
    "from keras.layers.recurrent import LSTM\n",
    "from keras.models import Sequential\n",
    "from keras.layers import Dense, Activation\n",
    "from keras.layers.core import Dropout\n",
    "from keras.optimizers import Adam\n",
    "from keras.callbacks import EarlyStopping\n",
    "\n",
    "from keras.utils import plot_model, to_categorical"
   ]
  },
  {
   "cell_type": "code",
   "execution_count": 2,
   "metadata": {},
   "outputs": [
    {
     "data": {
      "text/html": [
       "<div>\n",
       "<style scoped>\n",
       "    .dataframe tbody tr th:only-of-type {\n",
       "        vertical-align: middle;\n",
       "    }\n",
       "\n",
       "    .dataframe tbody tr th {\n",
       "        vertical-align: top;\n",
       "    }\n",
       "\n",
       "    .dataframe thead th {\n",
       "        text-align: right;\n",
       "    }\n",
       "</style>\n",
       "<table border=\"1\" class=\"dataframe\">\n",
       "  <thead>\n",
       "    <tr style=\"text-align: right;\">\n",
       "      <th></th>\n",
       "      <th>time</th>\n",
       "      <th>open</th>\n",
       "      <th>high</th>\n",
       "      <th>low</th>\n",
       "      <th>close</th>\n",
       "      <th>5mean</th>\n",
       "      <th>target</th>\n",
       "    </tr>\n",
       "  </thead>\n",
       "  <tbody>\n",
       "    <tr>\n",
       "      <td>0</td>\n",
       "      <td>2009-01-06 07:00:00</td>\n",
       "      <td>93.420</td>\n",
       "      <td>94.637</td>\n",
       "      <td>92.838</td>\n",
       "      <td>93.646</td>\n",
       "      <td>92.3158</td>\n",
       "      <td>1</td>\n",
       "    </tr>\n",
       "    <tr>\n",
       "      <td>1</td>\n",
       "      <td>2009-01-07 07:00:00</td>\n",
       "      <td>93.656</td>\n",
       "      <td>94.158</td>\n",
       "      <td>92.338</td>\n",
       "      <td>92.650</td>\n",
       "      <td>92.6958</td>\n",
       "      <td>1</td>\n",
       "    </tr>\n",
       "    <tr>\n",
       "      <td>2</td>\n",
       "      <td>2009-01-08 07:00:00</td>\n",
       "      <td>92.650</td>\n",
       "      <td>92.932</td>\n",
       "      <td>90.827</td>\n",
       "      <td>91.202</td>\n",
       "      <td>92.5706</td>\n",
       "      <td>0</td>\n",
       "    </tr>\n",
       "    <tr>\n",
       "      <td>3</td>\n",
       "      <td>2009-01-09 07:00:00</td>\n",
       "      <td>91.202</td>\n",
       "      <td>91.666</td>\n",
       "      <td>90.156</td>\n",
       "      <td>90.388</td>\n",
       "      <td>92.2612</td>\n",
       "      <td>0</td>\n",
       "    </tr>\n",
       "    <tr>\n",
       "      <td>4</td>\n",
       "      <td>2009-01-10 07:00:00</td>\n",
       "      <td>90.398</td>\n",
       "      <td>90.398</td>\n",
       "      <td>90.398</td>\n",
       "      <td>90.398</td>\n",
       "      <td>91.6568</td>\n",
       "      <td>0</td>\n",
       "    </tr>\n",
       "  </tbody>\n",
       "</table>\n",
       "</div>"
      ],
      "text/plain": [
       "                  time    open    high     low   close    5mean  target\n",
       "0  2009-01-06 07:00:00  93.420  94.637  92.838  93.646  92.3158       1\n",
       "1  2009-01-07 07:00:00  93.656  94.158  92.338  92.650  92.6958       1\n",
       "2  2009-01-08 07:00:00  92.650  92.932  90.827  91.202  92.5706       0\n",
       "3  2009-01-09 07:00:00  91.202  91.666  90.156  90.388  92.2612       0\n",
       "4  2009-01-10 07:00:00  90.398  90.398  90.398  90.398  91.6568       0"
      ]
     },
     "execution_count": 2,
     "metadata": {},
     "output_type": "execute_result"
    }
   ],
   "source": [
    "df = pd.read_csv(\"FX_MA_5days_10years.csv\")\n",
    "df.head()"
   ]
  },
  {
   "cell_type": "code",
   "execution_count": 3,
   "metadata": {},
   "outputs": [
    {
     "name": "stdout",
     "output_type": "stream",
     "text": [
      "<class 'pandas.core.frame.DataFrame'>\n",
      "RangeIndex: 3185 entries, 0 to 3184\n",
      "Data columns (total 7 columns):\n",
      "time      3185 non-null object\n",
      "open      3185 non-null float64\n",
      "high      3185 non-null float64\n",
      "low       3185 non-null float64\n",
      "close     3185 non-null float64\n",
      "5mean     3185 non-null float64\n",
      "target    3185 non-null int64\n",
      "dtypes: float64(5), int64(1), object(1)\n",
      "memory usage: 174.3+ KB\n"
     ]
    }
   ],
   "source": [
    "df.info()"
   ]
  },
  {
   "cell_type": "code",
   "execution_count": 6,
   "metadata": {},
   "outputs": [
    {
     "data": {
      "text/plain": [
       "time      2017-06-15 06:00:00\n",
       "open                  109.587\n",
       "high                  110.981\n",
       "low                   109.273\n",
       "close                 110.946\n",
       "5mean                 110.162\n",
       "target                      1\n",
       "Name: 2550, dtype: object"
      ]
     },
     "execution_count": 6,
     "metadata": {},
     "output_type": "execute_result"
    }
   ],
   "source": [
    "# 7 : 3\n",
    "df.iloc[2550]"
   ]
  },
  {
   "cell_type": "code",
   "execution_count": 7,
   "metadata": {},
   "outputs": [],
   "source": [
    "split_data = '2017-06-15 06:00:00'\n",
    "train, test = df[df['time'] < split_data], df[df['time'] >= split_data]"
   ]
  },
  {
   "cell_type": "code",
   "execution_count": 8,
   "metadata": {},
   "outputs": [],
   "source": [
    "train = train.set_index('time')\n",
    "test = test.set_index('time')"
   ]
  },
  {
   "cell_type": "code",
   "execution_count": 9,
   "metadata": {},
   "outputs": [],
   "source": [
    "X_train = train.iloc[:,:5]\n",
    "Y_train = train['target']\n",
    "\n",
    "X_test = test.iloc[:,:5]\n",
    "Y_test = test['target']"
   ]
  },
  {
   "cell_type": "code",
   "execution_count": 10,
   "metadata": {},
   "outputs": [
    {
     "name": "stdout",
     "output_type": "stream",
     "text": [
      "[[ 93.42    94.637   92.838   93.646   92.3158]\n",
      " [ 93.656   94.158   92.338   92.65    92.6958]\n",
      " [ 92.65    92.932   90.827   91.202   92.5706]\n",
      " ...\n",
      " [110.342  110.44   109.632  109.941  109.8938]\n",
      " [109.938  110.27   109.815  110.066  110.0238]\n",
      " [110.054  110.342  108.815  109.564  109.9722]]\n",
      "Data len:  2550\n",
      "[[ 93.42    94.637   92.838   93.646   92.3158]\n",
      " [ 93.656   94.158   92.338   92.65    92.6958]\n",
      " [ 92.65    92.932   90.827   91.202   92.5706]\n",
      " ...\n",
      " [110.342  110.44   109.632  109.941  109.8938]\n",
      " [109.938  110.27   109.815  110.066  110.0238]\n",
      " [110.054  110.342  108.815  109.564  109.9722]]\n",
      "Data len:  635\n"
     ]
    },
    {
     "name": "stderr",
     "output_type": "stream",
     "text": [
      "/home/tim0114gap/anaconda3/lib/python3.7/site-packages/ipykernel_launcher.py:1: FutureWarning: Method .as_matrix will be removed in a future version. Use .values instead.\n",
      "  \"\"\"Entry point for launching an IPython kernel.\n",
      "/home/tim0114gap/anaconda3/lib/python3.7/site-packages/ipykernel_launcher.py:5: FutureWarning: Method .as_matrix will be removed in a future version. Use .values instead.\n",
      "  \"\"\"\n"
     ]
    }
   ],
   "source": [
    "X_train = X_train.as_matrix()\n",
    "print(X_train)\n",
    "print(\"Data len: \",len(X_train))\n",
    "\n",
    "X_test = X_test.as_matrix()\n",
    "print(X_train)\n",
    "print(\"Data len: \",len(X_test))\n",
    "\n",
    "# 正規化\n",
    "ms = MinMaxScaler()\n",
    "X_train = ms.fit_transform(X_train)\n",
    "\n",
    "ms = MinMaxScaler()\n",
    "X_test = ms.fit_transform(X_test)"
   ]
  },
  {
   "cell_type": "code",
   "execution_count": 11,
   "metadata": {},
   "outputs": [
    {
     "name": "stdout",
     "output_type": "stream",
     "text": [
      "Y_train Target len:  2550\n",
      "Y_train Target len:  635\n"
     ]
    }
   ],
   "source": [
    "c = np.array(Y_train)\n",
    "print(\"Y_train Target len: \",len(Y_train))\n",
    "\n",
    "Y_test = np.array(Y_test)\n",
    "print(\"Y_train Target len: \",len(Y_test))"
   ]
  },
  {
   "cell_type": "code",
   "execution_count": 12,
   "metadata": {},
   "outputs": [],
   "source": [
    "maxlen = 5\n",
    "dataTrain = []\n",
    "targetTrain = []\n",
    "for i in range(0, len(X_train) - maxlen):\n",
    "    dataTrain.append(X_train[i: i + maxlen])\n",
    "    targetTrain.append(Y_train[i + maxlen])\n",
    "\n",
    "dataTest = []\n",
    "targetTest = []\n",
    "for i in range(0, len(X_test) - maxlen):\n",
    "    dataTest.append(X_test[i: i + maxlen])\n",
    "    targetTest.append(Y_test[i + maxlen])"
   ]
  },
  {
   "cell_type": "code",
   "execution_count": 13,
   "metadata": {},
   "outputs": [
    {
     "name": "stdout",
     "output_type": "stream",
     "text": [
      "(2545, 5, 5)\n",
      "(2545,)\n",
      "(630, 5, 5)\n",
      "(630,)\n"
     ]
    }
   ],
   "source": [
    "X_train = np.array(dataTrain)\n",
    "Y_train = np.array(targetTrain)\n",
    "\n",
    "X_test = np.array(dataTest)\n",
    "Y_test = np.array(targetTest)\n",
    "print(X_train.shape)\n",
    "print(Y_train.shape)\n",
    "print(X_test.shape)\n",
    "print(Y_test.shape)"
   ]
  },
  {
   "cell_type": "code",
   "execution_count": 14,
   "metadata": {},
   "outputs": [],
   "source": [
    "# Y_train = Y_train.reshape(len(Y_train), 1)\n",
    "# Y_test = Y_test.reshape(len(Y_test), 1)\n",
    "\n",
    "Y_train = to_categorical(Y_train)\n",
    "Y_test = to_categorical(Y_test)"
   ]
  },
  {
   "cell_type": "code",
   "execution_count": 15,
   "metadata": {},
   "outputs": [
    {
     "name": "stdout",
     "output_type": "stream",
     "text": [
      "(2545, 5, 5)\n",
      "(2545, 2)\n",
      "(630, 5, 5)\n",
      "(630, 2)\n"
     ]
    }
   ],
   "source": [
    "print(X_train.shape)\n",
    "print(Y_train.shape)\n",
    "print(X_test.shape)\n",
    "print(Y_test.shape)"
   ]
  },
  {
   "cell_type": "code",
   "execution_count": 16,
   "metadata": {},
   "outputs": [
    {
     "name": "stdout",
     "output_type": "stream",
     "text": [
      "WARNING:tensorflow:From /home/tim0114gap/anaconda3/lib/python3.7/site-packages/keras/backend/tensorflow_backend.py:74: The name tf.get_default_graph is deprecated. Please use tf.compat.v1.get_default_graph instead.\n",
      "\n",
      "WARNING:tensorflow:From /home/tim0114gap/anaconda3/lib/python3.7/site-packages/keras/backend/tensorflow_backend.py:517: The name tf.placeholder is deprecated. Please use tf.compat.v1.placeholder instead.\n",
      "\n",
      "WARNING:tensorflow:From /home/tim0114gap/anaconda3/lib/python3.7/site-packages/keras/backend/tensorflow_backend.py:4138: The name tf.random_uniform is deprecated. Please use tf.random.uniform instead.\n",
      "\n",
      "WARNING:tensorflow:From /home/tim0114gap/anaconda3/lib/python3.7/site-packages/keras/backend/tensorflow_backend.py:133: The name tf.placeholder_with_default is deprecated. Please use tf.compat.v1.placeholder_with_default instead.\n",
      "\n",
      "WARNING:tensorflow:From /home/tim0114gap/anaconda3/lib/python3.7/site-packages/keras/backend/tensorflow_backend.py:3445: calling dropout (from tensorflow.python.ops.nn_ops) with keep_prob is deprecated and will be removed in a future version.\n",
      "Instructions for updating:\n",
      "Please use `rate` instead of `keep_prob`. Rate should be set to `rate = 1 - keep_prob`.\n"
     ]
    }
   ],
   "source": [
    "'''\n",
    "モデル設定\n",
    "'''\n",
    "length_of_sequence = X_train.shape[1]  # 入力層 = 5\n",
    "in_out_neurons = 2                     # 出力層 = 2\n",
    "n_hidden = 100                         # 隠れ層 = 100\n",
    "\n",
    "model = Sequential()\n",
    "model.add(LSTM(n_hidden, batch_input_shape=(None, length_of_sequence, 5), return_sequences=False))\n",
    "model.add(Dropout(0.25))\n",
    "model.add(Dense(50))\n",
    "model.add(Activation(\"sigmoid\"))\n",
    "model.add(Dense(in_out_neurons))\n",
    "model.add(Activation(\"softmax\"))"
   ]
  },
  {
   "cell_type": "code",
   "execution_count": 17,
   "metadata": {},
   "outputs": [
    {
     "name": "stdout",
     "output_type": "stream",
     "text": [
      "WARNING:tensorflow:From /home/tim0114gap/anaconda3/lib/python3.7/site-packages/keras/optimizers.py:790: The name tf.train.Optimizer is deprecated. Please use tf.compat.v1.train.Optimizer instead.\n",
      "\n",
      "WARNING:tensorflow:From /home/tim0114gap/anaconda3/lib/python3.7/site-packages/keras/backend/tensorflow_backend.py:3295: The name tf.log is deprecated. Please use tf.math.log instead.\n",
      "\n"
     ]
    }
   ],
   "source": [
    "optimizer = Adam(lr = 0.001, beta_1 = 0.9, beta_2 = 0.999)\n",
    "model.compile(loss=\"categorical_crossentropy\", \n",
    "              optimizer=optimizer, metrics=['acc'])"
   ]
  },
  {
   "cell_type": "code",
   "execution_count": 18,
   "metadata": {},
   "outputs": [
    {
     "name": "stdout",
     "output_type": "stream",
     "text": [
      "_________________________________________________________________\n",
      "Layer (type)                 Output Shape              Param #   \n",
      "=================================================================\n",
      "lstm_1 (LSTM)                (None, 100)               42400     \n",
      "_________________________________________________________________\n",
      "dropout_1 (Dropout)          (None, 100)               0         \n",
      "_________________________________________________________________\n",
      "dense_1 (Dense)              (None, 50)                5050      \n",
      "_________________________________________________________________\n",
      "activation_1 (Activation)    (None, 50)                0         \n",
      "_________________________________________________________________\n",
      "dense_2 (Dense)              (None, 2)                 102       \n",
      "_________________________________________________________________\n",
      "activation_2 (Activation)    (None, 2)                 0         \n",
      "=================================================================\n",
      "Total params: 47,552\n",
      "Trainable params: 47,552\n",
      "Non-trainable params: 0\n",
      "_________________________________________________________________\n"
     ]
    }
   ],
   "source": [
    "#plot_model(model, to_file='model.png')\n",
    "model.summary()"
   ]
  },
  {
   "cell_type": "code",
   "execution_count": 19,
   "metadata": {},
   "outputs": [
    {
     "name": "stdout",
     "output_type": "stream",
     "text": [
      "WARNING:tensorflow:From /home/tim0114gap/anaconda3/lib/python3.7/site-packages/tensorflow/python/ops/math_grad.py:1250: add_dispatch_support.<locals>.wrapper (from tensorflow.python.ops.array_ops) is deprecated and will be removed in a future version.\n",
      "Instructions for updating:\n",
      "Use tf.where in 2.0, which has the same broadcast rule as np.where\n",
      "Train on 2290 samples, validate on 255 samples\n",
      "Epoch 1/100\n",
      "2290/2290 [==============================] - 2s 1ms/step - loss: 0.6953 - acc: 0.4943 - val_loss: 0.7045 - val_acc: 0.5059\n",
      "Epoch 2/100\n",
      "2290/2290 [==============================] - 1s 528us/step - loss: 0.6941 - acc: 0.5017 - val_loss: 0.6956 - val_acc: 0.5059\n",
      "Epoch 3/100\n",
      "2290/2290 [==============================] - 1s 522us/step - loss: 0.6948 - acc: 0.5022 - val_loss: 0.6932 - val_acc: 0.5098\n",
      "Epoch 4/100\n",
      "2290/2290 [==============================] - 1s 525us/step - loss: 0.6952 - acc: 0.4934 - val_loss: 0.6933 - val_acc: 0.5059\n",
      "Epoch 5/100\n",
      "2290/2290 [==============================] - 1s 531us/step - loss: 0.6935 - acc: 0.5236 - val_loss: 0.6933 - val_acc: 0.5059\n",
      "Epoch 6/100\n",
      "2290/2290 [==============================] - 1s 524us/step - loss: 0.6924 - acc: 0.5175 - val_loss: 0.6933 - val_acc: 0.4941\n",
      "Epoch 7/100\n",
      "2290/2290 [==============================] - 1s 524us/step - loss: 0.6962 - acc: 0.4895 - val_loss: 0.6925 - val_acc: 0.5020\n",
      "Epoch 8/100\n",
      "2290/2290 [==============================] - 1s 527us/step - loss: 0.6933 - acc: 0.5122 - val_loss: 0.6920 - val_acc: 0.5059\n",
      "Epoch 9/100\n",
      "2290/2290 [==============================] - 1s 528us/step - loss: 0.6915 - acc: 0.5319 - val_loss: 0.7040 - val_acc: 0.4941\n",
      "Epoch 10/100\n",
      "2290/2290 [==============================] - 1s 539us/step - loss: 0.6952 - acc: 0.5118 - val_loss: 0.6987 - val_acc: 0.5059\n",
      "Epoch 11/100\n",
      "2290/2290 [==============================] - 1s 528us/step - loss: 0.6928 - acc: 0.5140 - val_loss: 0.6915 - val_acc: 0.4941\n",
      "Epoch 12/100\n",
      "2290/2290 [==============================] - 1s 525us/step - loss: 0.6924 - acc: 0.5227 - val_loss: 0.6867 - val_acc: 0.5882\n",
      "Epoch 13/100\n",
      "2290/2290 [==============================] - 1s 525us/step - loss: 0.6894 - acc: 0.5445 - val_loss: 0.6868 - val_acc: 0.5059\n",
      "Epoch 14/100\n",
      "2290/2290 [==============================] - 1s 527us/step - loss: 0.6880 - acc: 0.5419 - val_loss: 0.6858 - val_acc: 0.4941\n",
      "Epoch 15/100\n",
      "2290/2290 [==============================] - 1s 523us/step - loss: 0.6874 - acc: 0.5624 - val_loss: 0.6790 - val_acc: 0.5176\n",
      "Epoch 16/100\n",
      "2290/2290 [==============================] - 1s 529us/step - loss: 0.6825 - acc: 0.5607 - val_loss: 0.6754 - val_acc: 0.5725\n",
      "Epoch 17/100\n",
      "2290/2290 [==============================] - 1s 526us/step - loss: 0.6749 - acc: 0.5856 - val_loss: 0.7241 - val_acc: 0.5059\n",
      "Epoch 18/100\n",
      "2290/2290 [==============================] - 1s 526us/step - loss: 0.6715 - acc: 0.6179 - val_loss: 0.7125 - val_acc: 0.4941\n",
      "Epoch 19/100\n",
      "2290/2290 [==============================] - 1s 527us/step - loss: 0.6705 - acc: 0.6083 - val_loss: 0.6508 - val_acc: 0.6784\n",
      "Epoch 20/100\n",
      "2290/2290 [==============================] - 1s 525us/step - loss: 0.6622 - acc: 0.6127 - val_loss: 0.6419 - val_acc: 0.5961\n",
      "Epoch 21/100\n",
      "2290/2290 [==============================] - 1s 549us/step - loss: 0.6561 - acc: 0.6288 - val_loss: 0.6225 - val_acc: 0.8392\n",
      "Epoch 22/100\n",
      "2290/2290 [==============================] - 1s 527us/step - loss: 0.6491 - acc: 0.6524 - val_loss: 0.6256 - val_acc: 0.6980\n",
      "Epoch 23/100\n",
      "2290/2290 [==============================] - 1s 524us/step - loss: 0.6371 - acc: 0.6611 - val_loss: 0.6831 - val_acc: 0.5176\n",
      "Epoch 24/100\n",
      "2290/2290 [==============================] - 1s 525us/step - loss: 0.6266 - acc: 0.6642 - val_loss: 0.5877 - val_acc: 0.7373\n",
      "Epoch 25/100\n",
      "2290/2290 [==============================] - 1s 527us/step - loss: 0.6217 - acc: 0.6694 - val_loss: 0.5751 - val_acc: 0.7725\n",
      "Epoch 26/100\n",
      "2290/2290 [==============================] - 1s 528us/step - loss: 0.6108 - acc: 0.6834 - val_loss: 0.5505 - val_acc: 0.7765\n",
      "Epoch 27/100\n",
      "2290/2290 [==============================] - 1s 527us/step - loss: 0.6013 - acc: 0.6782 - val_loss: 0.6662 - val_acc: 0.5608\n",
      "Epoch 28/100\n",
      "2290/2290 [==============================] - 1s 531us/step - loss: 0.5843 - acc: 0.7048 - val_loss: 0.5228 - val_acc: 0.7765\n",
      "Epoch 29/100\n",
      "2290/2290 [==============================] - 1s 524us/step - loss: 0.5690 - acc: 0.6991 - val_loss: 0.5732 - val_acc: 0.6549\n",
      "Epoch 30/100\n",
      "2290/2290 [==============================] - 1s 528us/step - loss: 0.5549 - acc: 0.7131 - val_loss: 0.6524 - val_acc: 0.5765\n",
      "Epoch 31/100\n",
      "2290/2290 [==============================] - 1s 523us/step - loss: 0.5517 - acc: 0.7192 - val_loss: 0.5691 - val_acc: 0.6314\n",
      "Epoch 32/100\n",
      "2290/2290 [==============================] - 1s 527us/step - loss: 0.5656 - acc: 0.7118 - val_loss: 0.6389 - val_acc: 0.5608\n",
      "Epoch 33/100\n",
      "2290/2290 [==============================] - 1s 528us/step - loss: 0.5582 - acc: 0.7109 - val_loss: 0.5063 - val_acc: 0.7529\n",
      "Epoch 34/100\n",
      "2290/2290 [==============================] - 1s 521us/step - loss: 0.5403 - acc: 0.7245 - val_loss: 0.6721 - val_acc: 0.5961\n",
      "Epoch 35/100\n",
      "2290/2290 [==============================] - 1s 523us/step - loss: 0.5399 - acc: 0.7341 - val_loss: 0.5108 - val_acc: 0.7137\n",
      "Epoch 36/100\n",
      "2290/2290 [==============================] - 1s 523us/step - loss: 0.5237 - acc: 0.7341 - val_loss: 0.4389 - val_acc: 0.8431\n",
      "Epoch 37/100\n",
      "2290/2290 [==============================] - 1s 525us/step - loss: 0.5119 - acc: 0.7397 - val_loss: 0.4786 - val_acc: 0.7529\n",
      "Epoch 38/100\n",
      "2290/2290 [==============================] - 1s 520us/step - loss: 0.5172 - acc: 0.7310 - val_loss: 0.4735 - val_acc: 0.7608\n",
      "Epoch 39/100\n",
      "2290/2290 [==============================] - 1s 519us/step - loss: 0.4846 - acc: 0.7747 - val_loss: 0.5431 - val_acc: 0.6824\n",
      "Epoch 40/100\n",
      "2290/2290 [==============================] - 1s 523us/step - loss: 0.5368 - acc: 0.7284 - val_loss: 0.4664 - val_acc: 0.7725\n",
      "Epoch 41/100\n",
      "2290/2290 [==============================] - 1s 519us/step - loss: 0.4988 - acc: 0.7528 - val_loss: 0.4361 - val_acc: 0.8235\n",
      "Epoch 42/100\n",
      "2290/2290 [==============================] - 1s 528us/step - loss: 0.5095 - acc: 0.7415 - val_loss: 0.4652 - val_acc: 0.7647\n",
      "Epoch 43/100\n",
      "2290/2290 [==============================] - 1s 524us/step - loss: 0.4939 - acc: 0.7533 - val_loss: 0.5133 - val_acc: 0.6980\n",
      "Epoch 44/100\n",
      "2290/2290 [==============================] - 1s 525us/step - loss: 0.4905 - acc: 0.7620 - val_loss: 0.4428 - val_acc: 0.7922\n",
      "Epoch 45/100\n",
      "2290/2290 [==============================] - 1s 519us/step - loss: 0.4885 - acc: 0.7559 - val_loss: 0.4004 - val_acc: 0.8275\n",
      "Epoch 46/100\n",
      "2290/2290 [==============================] - 1s 528us/step - loss: 0.5083 - acc: 0.7520 - val_loss: 0.4208 - val_acc: 0.8235\n",
      "Epoch 47/100\n",
      "2290/2290 [==============================] - 1s 528us/step - loss: 0.4915 - acc: 0.7528 - val_loss: 0.5100 - val_acc: 0.7255\n",
      "Epoch 48/100\n",
      "2290/2290 [==============================] - 1s 527us/step - loss: 0.4754 - acc: 0.7703 - val_loss: 0.4413 - val_acc: 0.7922\n",
      "Epoch 49/100\n",
      "2290/2290 [==============================] - 1s 525us/step - loss: 0.4845 - acc: 0.7603 - val_loss: 0.4935 - val_acc: 0.7255\n",
      "Epoch 50/100\n",
      "2290/2290 [==============================] - 1s 522us/step - loss: 0.4652 - acc: 0.7725 - val_loss: 0.4150 - val_acc: 0.8157\n",
      "Epoch 51/100\n",
      "2290/2290 [==============================] - 1s 530us/step - loss: 0.4757 - acc: 0.7672 - val_loss: 0.4243 - val_acc: 0.8000\n",
      "Epoch 52/100\n",
      "2290/2290 [==============================] - 1s 529us/step - loss: 0.4718 - acc: 0.7633 - val_loss: 0.4117 - val_acc: 0.8196\n",
      "Epoch 53/100\n",
      "2290/2290 [==============================] - 1s 529us/step - loss: 0.4769 - acc: 0.7703 - val_loss: 0.6047 - val_acc: 0.6706\n",
      "Epoch 54/100\n",
      "2290/2290 [==============================] - 1s 529us/step - loss: 0.4625 - acc: 0.7799 - val_loss: 0.4202 - val_acc: 0.8039\n",
      "Epoch 55/100\n",
      "2290/2290 [==============================] - 1s 526us/step - loss: 0.4680 - acc: 0.7734 - val_loss: 0.4691 - val_acc: 0.7686\n",
      "Epoch 56/100\n",
      "2290/2290 [==============================] - 1s 522us/step - loss: 0.4718 - acc: 0.7668 - val_loss: 0.4577 - val_acc: 0.7922\n",
      "Epoch 57/100\n"
     ]
    },
    {
     "name": "stdout",
     "output_type": "stream",
     "text": [
      "2290/2290 [==============================] - 1s 527us/step - loss: 0.4817 - acc: 0.7672 - val_loss: 0.4062 - val_acc: 0.8275\n",
      "Epoch 58/100\n",
      "2290/2290 [==============================] - 1s 523us/step - loss: 0.4699 - acc: 0.7624 - val_loss: 0.4801 - val_acc: 0.7294\n",
      "Epoch 59/100\n",
      "2290/2290 [==============================] - 1s 529us/step - loss: 0.4754 - acc: 0.7690 - val_loss: 0.3910 - val_acc: 0.8314\n",
      "Epoch 60/100\n",
      "2290/2290 [==============================] - 1s 537us/step - loss: 0.4622 - acc: 0.7690 - val_loss: 0.5666 - val_acc: 0.6980\n",
      "Epoch 61/100\n",
      "2290/2290 [==============================] - 1s 526us/step - loss: 0.4791 - acc: 0.7694 - val_loss: 0.4014 - val_acc: 0.8196\n",
      "Epoch 62/100\n",
      "2290/2290 [==============================] - 1s 529us/step - loss: 0.4670 - acc: 0.7734 - val_loss: 0.5257 - val_acc: 0.7176\n",
      "Epoch 63/100\n",
      "2290/2290 [==============================] - 1s 522us/step - loss: 0.4635 - acc: 0.7721 - val_loss: 0.4273 - val_acc: 0.8078\n",
      "Epoch 64/100\n",
      "2290/2290 [==============================] - 1s 531us/step - loss: 0.4532 - acc: 0.7834 - val_loss: 0.4064 - val_acc: 0.8235\n",
      "Epoch 65/100\n",
      "2290/2290 [==============================] - 1s 531us/step - loss: 0.4637 - acc: 0.7703 - val_loss: 0.5278 - val_acc: 0.7294\n",
      "Epoch 66/100\n",
      "2290/2290 [==============================] - 1s 529us/step - loss: 0.4806 - acc: 0.7598 - val_loss: 0.4054 - val_acc: 0.8275\n",
      "Epoch 67/100\n",
      "2290/2290 [==============================] - 1s 523us/step - loss: 0.4632 - acc: 0.7721 - val_loss: 0.4152 - val_acc: 0.8196\n",
      "Epoch 68/100\n",
      "2290/2290 [==============================] - 1s 529us/step - loss: 0.4493 - acc: 0.7786 - val_loss: 0.4299 - val_acc: 0.7961\n",
      "Epoch 69/100\n",
      "2290/2290 [==============================] - 1s 529us/step - loss: 0.4624 - acc: 0.7747 - val_loss: 0.3966 - val_acc: 0.8314\n",
      "Epoch 70/100\n",
      "2290/2290 [==============================] - 1s 534us/step - loss: 0.4536 - acc: 0.7825 - val_loss: 0.4792 - val_acc: 0.7412\n",
      "Epoch 71/100\n",
      "2290/2290 [==============================] - 1s 526us/step - loss: 0.4521 - acc: 0.7886 - val_loss: 0.3814 - val_acc: 0.8392\n",
      "Epoch 72/100\n",
      "2290/2290 [==============================] - 1s 527us/step - loss: 0.4414 - acc: 0.7895 - val_loss: 0.3877 - val_acc: 0.8431\n",
      "Epoch 73/100\n",
      "2290/2290 [==============================] - 1s 522us/step - loss: 0.4540 - acc: 0.7856 - val_loss: 0.3763 - val_acc: 0.8392\n",
      "Epoch 74/100\n",
      "2290/2290 [==============================] - 1s 528us/step - loss: 0.4443 - acc: 0.7843 - val_loss: 0.3993 - val_acc: 0.8118\n",
      "Epoch 75/100\n",
      "2290/2290 [==============================] - 1s 530us/step - loss: 0.4515 - acc: 0.7777 - val_loss: 0.4353 - val_acc: 0.8039\n",
      "Epoch 76/100\n",
      "2290/2290 [==============================] - 1s 522us/step - loss: 0.4697 - acc: 0.7690 - val_loss: 0.3840 - val_acc: 0.8392\n",
      "Epoch 77/100\n",
      "2290/2290 [==============================] - 1s 527us/step - loss: 0.4494 - acc: 0.7821 - val_loss: 0.3710 - val_acc: 0.8471\n",
      "Epoch 78/100\n",
      "2290/2290 [==============================] - 1s 533us/step - loss: 0.4448 - acc: 0.7834 - val_loss: 0.3715 - val_acc: 0.8431\n",
      "Epoch 79/100\n",
      "2290/2290 [==============================] - 1s 521us/step - loss: 0.4467 - acc: 0.7878 - val_loss: 0.4851 - val_acc: 0.7529\n",
      "Epoch 80/100\n",
      "2290/2290 [==============================] - 1s 527us/step - loss: 0.4541 - acc: 0.7808 - val_loss: 0.3994 - val_acc: 0.8392\n",
      "Epoch 81/100\n",
      "2290/2290 [==============================] - 1s 526us/step - loss: 0.4466 - acc: 0.7878 - val_loss: 0.4743 - val_acc: 0.7451\n",
      "Epoch 82/100\n",
      "2290/2290 [==============================] - 1s 526us/step - loss: 0.4442 - acc: 0.7856 - val_loss: 0.5035 - val_acc: 0.7294\n",
      "Epoch 83/100\n",
      "2290/2290 [==============================] - 1s 529us/step - loss: 0.4560 - acc: 0.7773 - val_loss: 0.5992 - val_acc: 0.6863\n",
      "Epoch 84/100\n",
      "2290/2290 [==============================] - 1s 526us/step - loss: 0.4462 - acc: 0.7799 - val_loss: 0.4107 - val_acc: 0.8196\n",
      "Epoch 85/100\n",
      "2290/2290 [==============================] - 1s 531us/step - loss: 0.4514 - acc: 0.7764 - val_loss: 0.3932 - val_acc: 0.8314\n",
      "Epoch 86/100\n",
      "2290/2290 [==============================] - 1s 524us/step - loss: 0.4505 - acc: 0.7830 - val_loss: 0.4206 - val_acc: 0.8118\n",
      "Epoch 87/100\n",
      "2290/2290 [==============================] - 1s 522us/step - loss: 0.4334 - acc: 0.8009 - val_loss: 0.3673 - val_acc: 0.8353\n",
      "Epoch 88/100\n",
      "2290/2290 [==============================] - 1s 527us/step - loss: 0.4457 - acc: 0.7808 - val_loss: 0.3965 - val_acc: 0.8353\n",
      "Epoch 89/100\n",
      "2290/2290 [==============================] - 1s 525us/step - loss: 0.4539 - acc: 0.7799 - val_loss: 0.4242 - val_acc: 0.7922\n",
      "Epoch 90/100\n",
      "2290/2290 [==============================] - 1s 523us/step - loss: 0.4621 - acc: 0.7677 - val_loss: 0.3782 - val_acc: 0.8471\n",
      "Epoch 91/100\n",
      "2290/2290 [==============================] - 1s 526us/step - loss: 0.4399 - acc: 0.7817 - val_loss: 0.5279 - val_acc: 0.7098\n",
      "Epoch 92/100\n",
      "2290/2290 [==============================] - 1s 532us/step - loss: 0.4554 - acc: 0.7812 - val_loss: 0.3688 - val_acc: 0.8471\n",
      "Epoch 93/100\n",
      "2290/2290 [==============================] - 1s 530us/step - loss: 0.4335 - acc: 0.7934 - val_loss: 0.4752 - val_acc: 0.7490\n",
      "Epoch 94/100\n",
      "2290/2290 [==============================] - 1s 524us/step - loss: 0.4317 - acc: 0.7969 - val_loss: 0.4419 - val_acc: 0.8039\n",
      "Epoch 95/100\n",
      "2290/2290 [==============================] - 1s 528us/step - loss: 0.4332 - acc: 0.7934 - val_loss: 0.3804 - val_acc: 0.8392\n",
      "Epoch 96/100\n",
      "2290/2290 [==============================] - 1s 525us/step - loss: 0.4259 - acc: 0.7900 - val_loss: 0.3563 - val_acc: 0.8549\n",
      "Epoch 97/100\n",
      "2290/2290 [==============================] - 1s 519us/step - loss: 0.4471 - acc: 0.7873 - val_loss: 0.4367 - val_acc: 0.7961\n",
      "Epoch 98/100\n",
      "2290/2290 [==============================] - 1s 524us/step - loss: 0.4506 - acc: 0.7760 - val_loss: 0.5865 - val_acc: 0.6941\n",
      "Epoch 99/100\n",
      "2290/2290 [==============================] - 1s 526us/step - loss: 0.4449 - acc: 0.7882 - val_loss: 0.4657 - val_acc: 0.7804\n",
      "Epoch 100/100\n",
      "2290/2290 [==============================] - 1s 529us/step - loss: 0.4347 - acc: 0.7891 - val_loss: 0.3626 - val_acc: 0.8392\n"
     ]
    }
   ],
   "source": [
    "# コールバック指定（https://qiita.com/yukiB/items/f45f0f71bc9739830002）\n",
    "early_stopping = EarlyStopping(monitor='val_loss', \n",
    "                               mode='auto', patience=20)\n",
    "history = model.fit(X_train, Y_train,\n",
    "                  batch_size = 16, # 論文で使われるのが1, 32, 128, 256, 512\n",
    "                  epochs=100,\n",
    "                  validation_split=0.1,\n",
    "                  callbacks=[early_stopping])"
   ]
  },
  {
   "cell_type": "code",
   "execution_count": 20,
   "metadata": {},
   "outputs": [
    {
     "data": {
      "text/plain": [
       "array([1, 1, 0, 1, 1, 1, 1, 1, 1, 1, 1, 1, 1, 1, 1, 0, 0, 0, 0, 0, 0, 0,\n",
       "       0, 0, 0, 1, 1, 0, 0, 0, 0, 0, 1, 1, 1, 0, 0, 0, 0, 1, 1, 1, 0, 0,\n",
       "       0, 0, 1, 1, 1, 1, 1, 1, 1, 1, 0, 0, 0, 0, 0, 1, 1, 1, 1, 1, 1, 1,\n",
       "       1, 1, 0, 0, 1, 1, 1, 1, 1, 1, 0, 0, 0, 0, 0, 0, 0, 0, 0, 0, 1, 1,\n",
       "       1, 1, 1, 1, 1, 1, 1, 0, 0, 1, 1, 1, 1, 0, 0, 0, 0, 0, 0, 0, 0, 0,\n",
       "       0, 0, 0, 0, 0, 0, 1, 1, 1, 1, 1, 1, 0, 1, 1, 1, 1, 0, 0, 0, 0, 1,\n",
       "       1, 1, 1, 1, 0, 0, 0, 0, 0, 0, 1, 1, 1, 0, 0, 0, 0, 0, 0, 1, 1, 1,\n",
       "       0, 0, 0, 0, 0, 0, 1, 1, 1, 1, 1, 0, 0, 0, 0, 0, 0, 0, 0, 0, 1, 1,\n",
       "       1, 1, 0, 0, 1, 0, 0, 0, 0, 1, 1, 1, 1, 1, 1, 0, 0, 0, 0, 1, 0, 0,\n",
       "       0, 0, 1, 1, 1, 1, 0, 0, 1, 1, 1, 1, 0, 1, 1, 1, 1, 0, 0, 1, 1, 1,\n",
       "       1, 1, 1, 1, 1, 1, 1, 0, 0, 0, 1, 1, 1, 1, 1, 1, 1, 1, 1, 1, 0, 0,\n",
       "       0, 0, 0, 0, 0, 1, 1, 1, 1, 1, 0, 0, 1, 1, 1, 1, 1, 0, 0, 0, 0, 0,\n",
       "       0, 1, 1, 1, 1, 1, 0, 0, 0, 1, 1, 1, 1, 1, 1, 1, 1, 1, 0, 0, 0, 0,\n",
       "       0, 0, 1, 1, 1, 1, 1, 0, 0, 0, 0, 0, 0, 0, 1, 1, 0, 0, 0, 0, 1, 1,\n",
       "       1, 1, 1, 1, 0, 0, 0, 1, 1, 0, 0, 1, 1, 1, 1, 1, 1, 1, 1, 1, 1, 1,\n",
       "       1, 1, 1, 1, 1, 1, 1, 0, 0, 0, 0, 0, 0, 0, 0, 1, 1, 1, 1, 1, 0, 0,\n",
       "       0, 0, 1, 1, 1, 1, 1, 1, 1, 1, 1, 1, 1, 0, 0, 0, 0, 0, 0, 1, 1, 1,\n",
       "       1, 1, 1, 0, 0, 0, 0, 0, 0, 0, 1, 1, 1, 1, 1, 0, 0, 0, 0, 0, 0, 0,\n",
       "       0, 0, 0, 0, 0, 0, 0, 1, 1, 1, 0, 0, 1, 1, 1, 1, 1, 1, 1, 0, 1, 0,\n",
       "       0, 0, 0, 0, 1, 1, 1, 1, 0, 1, 1, 1, 1, 1, 0, 0, 1, 1, 1, 1, 1, 1,\n",
       "       1, 1, 1, 1, 1, 0, 0, 0, 0, 0, 1, 1, 1, 1, 0, 0, 0, 0, 0, 0, 0, 1,\n",
       "       1, 1, 1, 1, 1, 1, 1, 1, 0, 0, 0, 1, 1, 1, 1, 0, 0, 0, 0, 1, 0, 0,\n",
       "       0, 0, 0, 0, 0, 0, 0, 0, 0, 0, 0, 0, 0, 0, 1, 1, 1, 1, 1, 1, 0, 0,\n",
       "       0, 0, 0, 1, 0, 0, 0, 0, 1, 1, 1, 1, 1, 1, 1, 0, 1, 1, 0, 0, 0, 0,\n",
       "       0, 1, 1, 1, 1, 1, 1, 0, 0, 0, 1, 1, 1, 1, 0, 0, 0, 0, 0, 1, 0, 0,\n",
       "       0, 1, 1, 1, 1, 1, 1, 1, 0, 0, 0, 0, 0, 0, 0, 0, 0, 0, 1, 1, 1, 1,\n",
       "       1, 1, 1, 1, 1, 0, 0, 0, 0, 1, 1, 1, 1, 1, 0, 0, 1, 1, 1, 1, 1, 1,\n",
       "       1, 1, 1, 0, 1, 1, 0, 0, 0, 0, 0, 1, 1, 1, 1, 0, 0, 0, 0, 1, 1, 1,\n",
       "       1, 1, 1, 1, 1, 1, 1, 0, 0, 0, 1, 1, 1, 1])"
      ]
     },
     "execution_count": 20,
     "metadata": {},
     "output_type": "execute_result"
    }
   ],
   "source": [
    "predict_classes = model.predict_classes(X_test)\n",
    "predict_classes"
   ]
  },
  {
   "cell_type": "code",
   "execution_count": 21,
   "metadata": {},
   "outputs": [
    {
     "data": {
      "text/plain": [
       "((630,), (630, 2))"
      ]
     },
     "execution_count": 21,
     "metadata": {},
     "output_type": "execute_result"
    }
   ],
   "source": [
    "predict_classes.shape, Y_test.shape"
   ]
  },
  {
   "cell_type": "code",
   "execution_count": 22,
   "metadata": {},
   "outputs": [],
   "source": [
    "Y_test = np.array([np.argmax(x) for x in Y_test])"
   ]
  },
  {
   "cell_type": "code",
   "execution_count": 23,
   "metadata": {},
   "outputs": [
    {
     "data": {
      "text/html": [
       "<div>\n",
       "<style scoped>\n",
       "    .dataframe tbody tr th:only-of-type {\n",
       "        vertical-align: middle;\n",
       "    }\n",
       "\n",
       "    .dataframe tbody tr th {\n",
       "        vertical-align: top;\n",
       "    }\n",
       "\n",
       "    .dataframe thead th {\n",
       "        text-align: right;\n",
       "    }\n",
       "</style>\n",
       "<table border=\"1\" class=\"dataframe\">\n",
       "  <thead>\n",
       "    <tr style=\"text-align: right;\">\n",
       "      <th>Predicted</th>\n",
       "      <th>0</th>\n",
       "      <th>1</th>\n",
       "      <th>All</th>\n",
       "    </tr>\n",
       "    <tr>\n",
       "      <th>True</th>\n",
       "      <th></th>\n",
       "      <th></th>\n",
       "      <th></th>\n",
       "    </tr>\n",
       "  </thead>\n",
       "  <tbody>\n",
       "    <tr>\n",
       "      <td>0</td>\n",
       "      <td>245</td>\n",
       "      <td>52</td>\n",
       "      <td>297</td>\n",
       "    </tr>\n",
       "    <tr>\n",
       "      <td>1</td>\n",
       "      <td>47</td>\n",
       "      <td>286</td>\n",
       "      <td>333</td>\n",
       "    </tr>\n",
       "    <tr>\n",
       "      <td>All</td>\n",
       "      <td>292</td>\n",
       "      <td>338</td>\n",
       "      <td>630</td>\n",
       "    </tr>\n",
       "  </tbody>\n",
       "</table>\n",
       "</div>"
      ],
      "text/plain": [
       "Predicted    0    1  All\n",
       "True                    \n",
       "0          245   52  297\n",
       "1           47  286  333\n",
       "All        292  338  630"
      ]
     },
     "execution_count": 23,
     "metadata": {},
     "output_type": "execute_result"
    }
   ],
   "source": [
    "pd.crosstab(Y_test, predict_classes, rownames=['True'], colnames=['Predicted'], margins=True)"
   ]
  }
 ],
 "metadata": {
  "kernelspec": {
   "display_name": "Python 3",
   "language": "python",
   "name": "python3"
  },
  "language_info": {
   "codemirror_mode": {
    "name": "ipython",
    "version": 3
   },
   "file_extension": ".py",
   "mimetype": "text/x-python",
   "name": "python",
   "nbconvert_exporter": "python",
   "pygments_lexer": "ipython3",
   "version": "3.7.3"
  }
 },
 "nbformat": 4,
 "nbformat_minor": 2
}
